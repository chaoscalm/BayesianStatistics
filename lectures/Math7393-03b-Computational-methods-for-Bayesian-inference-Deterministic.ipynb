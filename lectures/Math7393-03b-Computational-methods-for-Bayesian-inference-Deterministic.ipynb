{
  "cells": [
    {
      "cell_type": "markdown",
      "metadata": {},
      "source": [
        "# Computational methods for Bayesian inference\n",
        "\n",
        "Joshua French\n",
        "\n",
        "To open this information in an interactive Colab notebook, click the\n",
        "Open in Colab graphic below.\n",
        "\n",
        "<a href=\"https://colab.research.google.com/github/jfrench/BayesianStatistics/blob/master/lectures/Math7393-03b-Computational-methods-for-Bayesian-inference-Deterministic.ipynb\">\n",
        "<img src=\"https://colab.research.google.com/assets/colab-badge.svg\">\n",
        "</a>\n",
        "\n",
        "------------------------------------------------------------------------"
      ],
      "id": "71f2dfb0-b1a4-480a-a486-bb8362ec2c51"
    },
    {
      "cell_type": "code",
      "execution_count": null,
      "metadata": {},
      "outputs": [],
      "source": [
        "# check to see if necessary packages are installed\n",
        "if(!require(mvtnorm, quietly = TRUE)) {\n",
        "  # install and load packages if necessary\n",
        "  install.packages(\"mvtnorm\", repos = \"https://cran.rstudio.com/\")\n",
        "  library(mvtnorm)\n",
        "}\n",
        "if(!require(cubature, quietly = TRUE)) {\n",
        "  install.packages(\"cubature\", repos = \"https://cran.rstudio.com/\")\n",
        "  library(cubature)\n",
        "}"
      ],
      "id": "0615dd19-33bb-415c-b7be-b6f770ec49a5"
    },
    {
      "cell_type": "markdown",
      "metadata": {},
      "source": [
        "# Deterministic methods\n",
        "\n",
        "## MAP estimation\n",
        "\n",
        "The *maximum a posteriori* estimator, $\\hat{\\theta}_{\\textrm{MAP}}$,\n",
        "summarizes the posterior with the parameter values that maximize the\n",
        "posterior distribution, i.e.,\n",
        "$$\\hat{\\theta}_{\\textrm{MAP}} = \\text{argmax}_{\\theta} \\ln p(\\theta | y) = \\text{argmax}_{\\theta} \\ln p(y | \\theta ) + \\ln p(\\theta).$$\n",
        "\n",
        "**MAP Example 1**\n",
        "\n",
        "*Data distribution*\n",
        "\n",
        "$y_1, \\ldots, y_n \\mid \\theta \\stackrel{i.i.d.}{\\sim} \\text{Poisson}(\\theta)$\n",
        "\n",
        "pdf:\n",
        "\n",
        "<br>  \n",
        "<br>\n",
        "\n",
        "*Prior distribution*\n",
        "\n",
        "$\\theta \\sim \\text{Exp}(1)$\n",
        "\n",
        "pdf:\n",
        "\n",
        "<br>  \n",
        "<br>\n",
        "\n",
        "*Posterior distribution*\n",
        "\n",
        "pdf:\n",
        "\n",
        "<br>  \n",
        "<br>\n",
        "\n",
        "$\\ln p(\\theta \\mid y) \\propto \\text{const} - (n - 1) \\theta + \\sum y_i \\ln(\\theta)$\n",
        "\n",
        "Let’s start by generating some data."
      ],
      "id": "18d9a37a-2504-47ba-9a31-732305427f8b"
    },
    {
      "cell_type": "code",
      "execution_count": null,
      "metadata": {},
      "outputs": [],
      "source": [
        "# Generate some synthetic data from a Poisson(0.5)\n",
        "set.seed(8)\n",
        "y <- rpois(10, lambda = 0.5)"
      ],
      "id": "93a34e54-7421-4e48-a93a-586e91a8118f"
    },
    {
      "cell_type": "markdown",
      "metadata": {},
      "source": [
        "Now, we create a function to compute the log of the unnormalized\n",
        "posterior."
      ],
      "id": "3b2293e9-8591-466a-80bd-5ae7b728a646"
    },
    {
      "cell_type": "code",
      "execution_count": null,
      "metadata": {},
      "outputs": [],
      "source": [
        "# create function for log unnormalized posterior\n",
        "# theta = estimand\n",
        "# sumy = sum(y)\n",
        "# n = sample size\n",
        "lup <- function(theta, sumy, n) {\n",
        "  -(n + 1) * theta + sumy * log(theta)\n",
        "}"
      ],
      "id": "ec936ec7-847b-4dd1-b96b-6534512d89f7"
    },
    {
      "cell_type": "markdown",
      "metadata": {},
      "source": [
        "We now use the `optimize` function to optimize the objective function,\n",
        "`lup`, between 0 and 1.\n",
        "\n",
        "-   We start our search `interval` just above 0 to avoid numerical\n",
        "    issues.\n",
        "-   We set `maximum` to `TRUE` to find the parameter that maximizes the\n",
        "    objection function, `lup`."
      ],
      "id": "82824b58-5586-4078-b4b5-51064dac7acb"
    },
    {
      "cell_type": "code",
      "execution_count": null,
      "metadata": {},
      "outputs": [],
      "source": [
        "(map <- optimize(\n",
        "  f = lup, interval = c(0.0001, 10),\n",
        "  maximum = TRUE,\n",
        "  sumy = sum(y), n = length(y)\n",
        "))\n",
        "# maximum occurs at theta = 0.64"
      ],
      "id": "4877afbe-1a73-4f2e-813b-d781df023d0c"
    },
    {
      "cell_type": "markdown",
      "metadata": {},
      "source": [
        "We plot our results to double-check accuracy."
      ],
      "id": "8df9aec0-7965-4a18-a577-b9d6a7465ce3"
    },
    {
      "cell_type": "code",
      "execution_count": null,
      "metadata": {},
      "outputs": [],
      "source": [
        "# domain of plot\n",
        "mytheta <- seq(0.0001, 1, length = 1000)\n",
        "# plot function\n",
        "plot(mytheta, lup(mytheta, sumy = sum(y), n = length(y)),\n",
        "  type = \"l\",\n",
        "  xlab = \"theta\", ylab = \"propto log posterior\"\n",
        ")\n",
        "# show maximum\n",
        "abline(v = map$maximum)"
      ],
      "id": "fd28261a-9582-49df-95ba-fbaf1412590d"
    },
    {
      "cell_type": "markdown",
      "metadata": {},
      "source": [
        "We now use a different approach that doesn’t simplify ahead of time.\n",
        "Note that\n",
        "\n",
        "$$\n",
        "\\begin{aligned}\n",
        "\\ln [p(y\\mid \\theta)p(\\theta)] &= \\ln p(y\\mid \\theta) + \\ln p(\\theta) \\\\\n",
        "&= \\ln \\left(\\prod_{i=1}^n p(y_i\\mid\\theta)\\right) + \\ln p(\\theta) \\\\\n",
        "&= \\sum_{i=1}^n \\ln p(y_i\\mid\\theta) + \\ln p(\\theta).\n",
        "\\end{aligned}\n",
        "$$"
      ],
      "id": "181752f0-3bd7-43ed-9670-5f871f44b52a"
    },
    {
      "cell_type": "code",
      "execution_count": null,
      "metadata": {},
      "outputs": [],
      "source": [
        "# second version of log unnormalized posterior\n",
        "lup2 <- function(theta, y) {\n",
        "  sum(dpois(y, lambda = theta, log = TRUE)) +\n",
        "    dexp(theta, rate = 1, log = TRUE)\n",
        "}\n",
        "\n",
        "# same results!\n",
        "optimize(\n",
        "  f = lup2, interval = c(0.0001, 10), maximum = TRUE,\n",
        "  y = y\n",
        ")"
      ],
      "id": "61024192-37de-43ed-8c69-8f856acce606"
    },
    {
      "cell_type": "markdown",
      "metadata": {},
      "source": [
        "**MAP Example 2 (2 parameter)**\n",
        "\n",
        "*Data distribution*\n",
        "\n",
        "$y_1, ..., y_n \\mid \\mu, \\sigma^2 \\stackrel{i.i.d.}{\\sim} N(\\mu, \\sigma^2)$\n",
        "\n",
        "pdf:\n",
        "\n",
        "<br>  \n",
        "<br>\n",
        "\n",
        "*Prior distribution*\n",
        "\n",
        "$\\mu \\sim U(10, 15)$\n",
        "\n",
        "pdf:\n",
        "\n",
        "<br>  \n",
        "<br>\n",
        "\n",
        "$p(\\sigma^2) \\propto N(0.5, 0.5^2) I_{(0,\\infty)}(\\sigma^2)$\n",
        "\n",
        "pdf:\n",
        "\n",
        "<br>  \n",
        "<br>\n",
        "\n",
        "This is essentially a truncated normal with a different scaling\n",
        "constant.\n",
        "\n",
        "We start by generating some fake data."
      ],
      "id": "97e6bc83-e7b4-4e8e-910e-ae52984c77c8"
    },
    {
      "cell_type": "code",
      "execution_count": null,
      "metadata": {},
      "outputs": [],
      "source": [
        "# Generate some synthetic data\n",
        "# Normal with mean 11 and sd = 0.47\n",
        "set.seed(7)\n",
        "y <- rnorm(10, mean = 11, sd = 0.47)"
      ],
      "id": "9f6e3392-df99-441a-a404-f7ea922b8657"
    },
    {
      "cell_type": "markdown",
      "metadata": {},
      "source": [
        "We program the negative log of the unnormalized posterior density.\n",
        "\n",
        "-   The function takes $\\theta = (\\mu, \\sigma^2)$.\n",
        "-   We *don’t* constrain $\\mu$ to be between 10 and 15 and $\\sigma^2$ to\n",
        "    be positive only because we will do this constraint in our\n",
        "    optimization.\n",
        "-   We multiply the log posterior by -1 so that instead of trying to\n",
        "    maximize the log unnormalized posterior, we minimize the negative\n",
        "    log unnormalized posterior."
      ],
      "id": "cf83cc03-51ba-4c09-80f8-d34847740411"
    },
    {
      "cell_type": "code",
      "execution_count": null,
      "metadata": {},
      "outputs": [],
      "source": [
        "nlup <- function(theta, y) {\n",
        "  mu <- theta[1]\n",
        "  sigma <- sqrt(theta[2])\n",
        "  obj <- sum(dnorm(y, mean = mu, sd = sigma, log = TRUE)) +\n",
        "    dunif(mu, 10, 15, log = TRUE) +\n",
        "    dnorm(sigma^2, mean = 0.5, sd = 0.5, log = TRUE)\n",
        "  -obj\n",
        "}"
      ],
      "id": "d45b108d-a1a3-4640-8a1a-1fc65e250a83"
    },
    {
      "cell_type": "markdown",
      "metadata": {},
      "source": [
        "We now use the `optim` function to perform multi-dimensional\n",
        "optimization.\n",
        "\n",
        "-   `par`: vector of starting values\n",
        "-   `f`: function to MINIMIZE. The first argument must be the argument\n",
        "    you want to optimize over.\n",
        "-   `lower`: the constraints on the lower bound\n",
        "-   `upper`: the constraints on the upper bound\n",
        "-   `method`: the optimization method. `\"L-BFGS-B\"` allows use to\n",
        "    specify constraints.\n",
        "-   `control`: list of optional tuning parameters.\n",
        "-   The remaining arguments are the arguments that must be supplied to\n",
        "    `f`."
      ],
      "id": "2338b4df-1de1-42df-894f-e5f42fec4427"
    },
    {
      "cell_type": "code",
      "execution_count": null,
      "metadata": {},
      "outputs": [],
      "source": [
        "optim(\n",
        "  par = c(12.5, 1),\n",
        "  f = nlup,\n",
        "  lower = c(10.0001, 0.05),\n",
        "  upper = c(14.9999, 2),\n",
        "  method = \"L-BFGS-B\",\n",
        "  y = y\n",
        ")"
      ],
      "id": "353f2803-81a2-4661-bf2c-12dd00e55a1a"
    },
    {
      "cell_type": "markdown",
      "metadata": {},
      "source": [
        "`nlminb` is an alternative optimizer that is more robust (from my\n",
        "personal experience.)\n",
        "\n",
        "-   The arguments are self-explanatory."
      ],
      "id": "e8a2294e-4045-42b6-96ba-f57a87b77d41"
    },
    {
      "cell_type": "code",
      "execution_count": null,
      "metadata": {},
      "outputs": [],
      "source": [
        "(map <- nlminb(\n",
        "  start = c(12.5, 1),\n",
        "  objective = nlup,\n",
        "  lower = c(10.0001, 0.0001),\n",
        "  upper = c(14.9999, 2),\n",
        "  y = y\n",
        "))"
      ],
      "id": "10b5b4e2-4852-4e01-9a8e-74e184b9e668"
    },
    {
      "cell_type": "markdown",
      "metadata": {},
      "source": [
        "Let’s plot our results."
      ],
      "id": "038ec02f-b780-461e-9f40-3f594c7e6dd1"
    },
    {
      "cell_type": "code",
      "execution_count": null,
      "metadata": {},
      "outputs": [],
      "source": [
        "# create sequence of values for mu and sigmasq\n",
        "mymu <- seq(10.8, 11.2, length = 200)\n",
        "mysigmasq <- seq(0.15, 0.45, length = 200)\n",
        "# create grid\n",
        "mytheta <- expand.grid(mymu, mysigmasq)\n",
        "# for each row of mytheta, plug it into nlup function\n",
        "z <- apply(mytheta, 1, function(theta) {\n",
        "  nlup(theta, y = y)\n",
        "})\n",
        "# convert z to matrix for plotting\n",
        "zmat <- matrix(z, nrow = length(mymu))\n",
        "# create heat map of objective surface\n",
        "image(mymu, mysigmasq, zmat,\n",
        "  col = hcl.colors(64, rev = TRUE),\n",
        "  xlab = expression(mu), ylab = expression(sigma^2)\n",
        ")\n",
        "# add contours\n",
        "contour(mymu, mysigmasq, zmat, add = TRUE)\n",
        "# place point for posterior mode\n",
        "points(map$par[1], map$par[2], pch = 20)\n",
        "title(\"log posterior density (unnormalized)\")"
      ],
      "id": "999d0416-f744-4dbd-a125-89cf5c25f486"
    },
    {
      "cell_type": "markdown",
      "metadata": {},
      "source": [
        "## Cubature methods\n",
        "\n",
        "Cubature methods approximate an integral by evaluating a function at a\n",
        "finite number of points and aggregating the results. (We won’t discuss\n",
        "specifics.)\n",
        "\n",
        "**Cubature method example (Beta-Binomial)**\n",
        "\n",
        "*Data distribution*\n",
        "\n",
        "$y \\mid \\theta \\sim \\text{Bin}(n, \\theta)$.\n",
        "\n",
        "Let’s assume $n=980$ and $y=437$.\n",
        "\n",
        "*Prior distribution*\n",
        "\n",
        "$\\theta \\sim \\text{Beta}(\\alpha, \\beta)$.\n",
        "\n",
        "Let’s assume $\\alpha=\\beta=1$.\n",
        "\n",
        "*Posterior distribution*\n",
        "\n",
        "$\\theta \\mid y \\sim \\text{Beta}(y + \\alpha, n - y + \\beta)$.\n",
        "\n",
        "This has posterior mean $\\frac{y + \\alpha}{n + \\alpha + \\beta}$.\n",
        "\n",
        "Based on our assumptions above,\n",
        "$\\theta \\mid y \\sim \\text{Beta}(438, 544)$.\n",
        "\n",
        "*Posterior predictive distribution*\n",
        "\n",
        "$P(\\tilde{y} = 1 \\mid y) = \\frac{y + \\alpha}{n + \\alpha + \\beta}$.\n",
        "\n",
        "Based on previous assumptions,\n",
        "$P(\\tilde{y} = 1 \\mid y) = 448/(438 + 544) \\approx 0.446$.\n",
        "\n",
        "Let’s use the cubature method to approximate some of these.\n",
        "\n",
        "We start by defining the posterior density with a generic normalizing\n",
        "constant."
      ],
      "id": "73274e80-993e-41c4-8c60-4d10fd76a051"
    },
    {
      "cell_type": "code",
      "execution_count": null,
      "metadata": {},
      "outputs": [],
      "source": [
        "# unnormalized posterior\n",
        "dpost <- function(theta, const = 1) {\n",
        "  dbinom(x = 437, size = 980, prob = theta) *\n",
        "    dbeta(theta, shape1 = 1, shape2 = 1) /\n",
        "    const\n",
        "}"
      ],
      "id": "b0845456-c811-48a3-b2ca-e20ca101d3ce"
    },
    {
      "cell_type": "markdown",
      "metadata": {},
      "source": [
        "We determine the normalizing constant."
      ],
      "id": "b61e2b11-645d-49fa-80ca-6843a82c516c"
    },
    {
      "cell_type": "code",
      "execution_count": null,
      "metadata": {},
      "outputs": [],
      "source": [
        "(nconst <- integrate(dpost, lower = 0, upper = 1)$value)"
      ],
      "id": "c1ba8a74-c4c7-4c91-955c-f40a901c0dd4"
    },
    {
      "cell_type": "markdown",
      "metadata": {},
      "source": [
        "Now, we define the function $\\theta p(\\theta \\mid y)$."
      ],
      "id": "df903d43-f106-41e1-83f9-04e9ede4bb9a"
    },
    {
      "cell_type": "code",
      "execution_count": null,
      "metadata": {},
      "outputs": [],
      "source": [
        "# theta * posterior\n",
        "mean_target <- function(theta, const) {\n",
        "  theta * dpost(theta, const)\n",
        "}"
      ],
      "id": "449758ce-bc87-4d26-87f3-5ffe4f1acc62"
    },
    {
      "cell_type": "markdown",
      "metadata": {},
      "source": [
        "We integrate $\\theta p(\\theta \\mid y)$ for $\\theta \\in [0, 1]$."
      ],
      "id": "64a462b3-9ed2-42f6-bf16-630b637ff55e"
    },
    {
      "cell_type": "code",
      "execution_count": null,
      "metadata": {},
      "outputs": [],
      "source": [
        "# compute posterior mean using cubature\n",
        "integrate(mean_target, lower = 0, upper = 1, const = nconst)"
      ],
      "id": "edb5b513-76c2-4df7-8b94-e38f2d751308"
    },
    {
      "cell_type": "markdown",
      "metadata": {},
      "source": [
        "Next, we define the function that evaluates\n",
        "$P(\\tilde{y} = 1 \\mid \\theta) p(\\theta \\mid y)$."
      ],
      "id": "022f0d4a-8c22-4707-964d-5d86a06a6dc4"
    },
    {
      "cell_type": "code",
      "execution_count": null,
      "metadata": {},
      "outputs": [],
      "source": [
        "# pytilde * ptarget\n",
        "pytilde_target <- function(theta, const) {\n",
        "  dbinom(x = 1, size = 1, prob = theta) *\n",
        "    dpost(theta, const)\n",
        "}"
      ],
      "id": "980b685c-6820-4806-bf6d-744cdc75282f"
    },
    {
      "cell_type": "markdown",
      "metadata": {},
      "source": [
        "Lastly, we integrate that function to compute\n",
        "$P(\\tilde{y} = 1 \\mid \\theta)$."
      ],
      "id": "38d95613-d4ef-44b4-924a-2440ab3a1c39"
    },
    {
      "cell_type": "code",
      "execution_count": null,
      "metadata": {},
      "outputs": [],
      "source": [
        "# posterior predictive probability\n",
        "integrate(pytilde_target, lower = 0, upper = 1, const = nconst)"
      ],
      "id": "996463a3-37e3-4641-a6cf-1445467fa920"
    },
    {
      "cell_type": "markdown",
      "metadata": {},
      "source": [
        "## Bayesian CLT for $N(\\mu,\\sigma^2)$\n",
        "\n",
        "**Example 1**\n",
        "\n",
        "*Data distribution*\n",
        "\n",
        "$y_1, ..., y_n \\mid \\theta \\stackrel{i.i.d}{\\sim} \\text{Poisson}(\\theta)$\n",
        "\n",
        "*Prior distribution*\n",
        "\n",
        "$\\theta \\sim \\text{Exp}(1)$\n",
        "\n",
        "*Negative Hessian,* $-H(\\theta)$\n",
        "\n",
        "$-\\frac{d^2}{d\\theta^2} \\ln p(y \\mid \\theta) = \\frac{\\sum y_i}{\\theta^2}$.\n",
        "\n",
        "*Approximate posterior distribution*\n",
        "\n",
        "For a large sample of data,\n",
        "$p(\\theta \\mid y) \\approx N(\\hat{\\theta}, \\hat{\\theta}^2/\\sum y_i)$.\n",
        "\n",
        "We start be generating a small data set."
      ],
      "id": "d14b04b2-1183-4b89-8c63-fea004534721"
    },
    {
      "cell_type": "code",
      "execution_count": null,
      "metadata": {},
      "outputs": [],
      "source": [
        "# Generate some synthetic data\n",
        "# Poisson with mean of 0.5\n",
        "set.seed(3) # for reproducibility\n",
        "y <- rpois(10, lambda = 0.5)"
      ],
      "id": "97c66acf-d1da-420f-a93a-57b0e9557acd"
    },
    {
      "cell_type": "markdown",
      "metadata": {},
      "source": [
        "We now define the posterior density with a generic normalizing constant."
      ],
      "id": "df1fd53b-4b12-4064-9379-63bd872bb61f"
    },
    {
      "cell_type": "code",
      "execution_count": null,
      "metadata": {},
      "outputs": [],
      "source": [
        "dpost <- function(theta, y, const = 1) {\n",
        "  log_pdata <- sum(dpois(y, lambda = theta, log = TRUE))\n",
        "  log_pprior <- dexp(theta, rate = 1, log = TRUE)\n",
        "  exp(log_pdata + log_pprior - log(const))\n",
        "}"
      ],
      "id": "f1ae7162-bb6f-4694-a4e5-239913e54bce"
    },
    {
      "cell_type": "markdown",
      "metadata": {},
      "source": [
        "Let’s try plotting this function to help us determine what we should be\n",
        "maximizing over."
      ],
      "id": "527c049a-e587-4b03-9705-bb91b8dd8548"
    },
    {
      "cell_type": "code",
      "execution_count": null,
      "metadata": {},
      "outputs": [],
      "source": [
        "# plot dpost to determine what to maximize over\n",
        "x <- seq(0.001, 10, len = 1000)\n",
        "plot(x, dpost(theta = x, y = y), type = \"l\", )"
      ],
      "id": "1d8cac18-f33c-4335-b2c9-858c6fc18583"
    },
    {
      "cell_type": "markdown",
      "metadata": {},
      "source": [
        "We’re getting weird results because `dpost` is trying to evaluate\n",
        "`dpois` with a vector `y` and a vector `theta` whose dimensions are\n",
        "incompatible.\n",
        "\n",
        "We want to evaluate `dpois(y, ...)` for *each* value of `theta`.\n",
        "\n",
        "We can use the `Vectorize` function to vectorize a function with respect\n",
        "to a certain argument."
      ],
      "id": "077b87ff-141f-40ab-8db4-d6f2fd88d08a"
    },
    {
      "cell_type": "code",
      "execution_count": null,
      "metadata": {},
      "outputs": [],
      "source": [
        "vdpost <- Vectorize(dpost, vectorize.args = \"theta\")"
      ],
      "id": "63501dce-3b87-45ec-a60e-6c173e6a806b"
    },
    {
      "cell_type": "markdown",
      "metadata": {},
      "source": [
        "Now, we try our plot again."
      ],
      "id": "605169cb-9d5f-4e77-9eb1-5fa7d5ef0ad3"
    },
    {
      "cell_type": "code",
      "execution_count": null,
      "metadata": {},
      "outputs": [],
      "source": [
        "# plot vectorized dpost to determine what to maximize over\n",
        "plot(x, vdpost(theta = x, y = y), type = \"l\",\n",
        "     ylab = \"unnormalized density\")"
      ],
      "id": "df39965c-807e-4bb1-b6c9-3ed3170b1f3b"
    },
    {
      "cell_type": "markdown",
      "metadata": {},
      "source": [
        "We can determine $\\hat{\\theta}_{\\text{MAP}}$ over the interval $[0, 2]$."
      ],
      "id": "f16dfa2b-fc81-4821-a0e6-8df6d55a6e8e"
    },
    {
      "cell_type": "code",
      "execution_count": null,
      "metadata": {},
      "outputs": [],
      "source": [
        "# determine MAP\n",
        "(map <- optimize(vdpost, interval = c(0, 2), y = y, maximum = TRUE)$maximum)"
      ],
      "id": "7b491128-7c8d-43f5-a83b-83cb06479565"
    },
    {
      "cell_type": "markdown",
      "metadata": {},
      "source": [
        "$\\hat{\\theta}_{MAP}\\approx 0.18$. Thus, our posterior approximation is\n",
        "$N(0.18, 0.18^2/\\sum y_i)$.\n",
        "\n",
        "Let’s plot the “truth” versus the approximation. In order to do that, we\n",
        "need to figure out the “true” distribution. We do this to illustrate the\n",
        "effectiveness of the approximation. We wouldn’t normally do this.\n",
        "\n",
        "We find our normalizing constant."
      ],
      "id": "d9ba3559-7d52-4016-a624-c73f619acc30"
    },
    {
      "cell_type": "code",
      "execution_count": null,
      "metadata": {},
      "outputs": [],
      "source": [
        "# determine normalizing constant\n",
        "(nconst <- integrate(f = vdpost, lower = 0, upper = 10, y = y)$value)"
      ],
      "id": "cce62736-880d-44f9-af6e-8e28fd785d79"
    },
    {
      "cell_type": "markdown",
      "metadata": {},
      "source": [
        "We double-check that the posterior is proper!"
      ],
      "id": "54f33286-9c32-401d-a527-8b55893c7a74"
    },
    {
      "cell_type": "code",
      "execution_count": null,
      "metadata": {},
      "outputs": [],
      "source": [
        "integrate(vdpost, lower = 0, upper = 10, y = y, const = nconst)"
      ],
      "id": "7aa69b98-d8e8-4b2e-aeba-2548b2ca52d4"
    },
    {
      "cell_type": "markdown",
      "metadata": {},
      "source": [
        "We define a function to evaluate our approximate posterior distribution."
      ],
      "id": "c7168445-b193-45ed-9885-caf7cdb73974"
    },
    {
      "cell_type": "code",
      "execution_count": null,
      "metadata": {},
      "outputs": [],
      "source": [
        "# normal approximation posterior\n",
        "dpapprox <- function(theta, y, thetahat) {\n",
        "  dnorm(theta, mean = thetahat, sd = sqrt(thetahat^2 / sum(y)))\n",
        "}"
      ],
      "id": "2cb5ea4e-aefa-41c0-b87a-a38746894b7b"
    },
    {
      "cell_type": "markdown",
      "metadata": {},
      "source": [
        "Now, we plot the “true” posterior density versus the approximate\n",
        "posterior density."
      ],
      "id": "2a7eb811-2724-48a5-a8ee-6d5810bbfe32"
    },
    {
      "cell_type": "code",
      "execution_count": null,
      "metadata": {},
      "outputs": [],
      "source": [
        "# range of theta values\n",
        "theta <- seq(0, 2, length = 1000)\n",
        "# plot true density\n",
        "plot(theta, vdpost(theta, y, nconst),\n",
        "     ylab = \"density\", type = \"l\", col = \"orange\")\n",
        "# plot normal approximation\n",
        "lines(theta, dpapprox(theta, y, thetahat = map),\n",
        "      col = \"blue\")\n",
        "legend(\"topright\",\n",
        "  legend = c(\"truth\", \"approximation\"),\n",
        "  col = c(\"orange\", \"blue\"), lty = 1\n",
        ")"
      ],
      "id": "6d2e4f70-66ec-4339-8685-d9865aaef5a7"
    },
    {
      "cell_type": "markdown",
      "metadata": {},
      "source": [
        "Our approximation isn’t great because our sample size is small. Let’s\n",
        "perform the same approximation with a larger sample size.\n",
        "\n",
        "We generate 100 i.i.d. observations from a Poisson(0.5) distribution."
      ],
      "id": "dde4caff-3683-4893-bbf0-554213007bdd"
    },
    {
      "cell_type": "code",
      "execution_count": null,
      "metadata": {},
      "outputs": [],
      "source": [
        "set.seed(3) # for reproducibility\n",
        "y100 <- rpois(100, lambda = 0.5)"
      ],
      "id": "7a862add-bea4-40d5-970e-17532de99f21"
    },
    {
      "cell_type": "markdown",
      "metadata": {},
      "source": [
        "We once again plot the unnormalized posterior to determine the range of\n",
        "`theta` to optimize over."
      ],
      "id": "0674ae33-0a83-41b3-a63a-e0fb28488b01"
    },
    {
      "cell_type": "code",
      "execution_count": null,
      "metadata": {},
      "outputs": [],
      "source": [
        "plot(x, vdpost(theta = x, y = y100),\n",
        "  type = \"l\",\n",
        "  xlab = \"theta\", ylab = \"unnormalized density\"\n",
        ")"
      ],
      "id": "e0ddccbc-7d23-40de-9e2c-9798482a93d0"
    },
    {
      "cell_type": "markdown",
      "metadata": {},
      "source": [
        "We determine $\\hat{\\theta}_{\\text{MAP}}$."
      ],
      "id": "abd85fc5-bf27-431e-b1cb-b4f61e528c4b"
    },
    {
      "cell_type": "code",
      "execution_count": null,
      "metadata": {},
      "outputs": [],
      "source": [
        "(map100 <- optimize(vdpost, interval = c(0, 2),\n",
        "                    y = y100, maximum = TRUE)$maximum)"
      ],
      "id": "856778da-a992-4246-83f9-9113372ca64f"
    },
    {
      "cell_type": "markdown",
      "metadata": {},
      "source": [
        "$\\hat{\\theta}_{\\text{MAP}}\\approx 0.42$. Thus, our posterior\n",
        "approximation is $N(0.42, 0.42^2/\\sum y_i)$.\n",
        "\n",
        "Let’s plot the “truth” versus the approximation.\n",
        "\n",
        "We compute the normalizing constant for our posterior."
      ],
      "id": "4d64627b-2493-4f92-b339-8f4e1a648067"
    },
    {
      "cell_type": "code",
      "execution_count": null,
      "metadata": {},
      "outputs": [],
      "source": [
        "# determine normalizing constant\n",
        "(nconst100 <- integrate(f = vdpost, lower = 0, upper = 10, y = y100)$value)"
      ],
      "id": "0430e9c9-ad66-411f-8ed9-089857dc83bf"
    },
    {
      "cell_type": "markdown",
      "metadata": {},
      "source": [
        "We double-check that posterior is proper."
      ],
      "id": "21350117-6d37-45da-b6f1-fc4d0fc90bde"
    },
    {
      "cell_type": "code",
      "execution_count": null,
      "metadata": {},
      "outputs": [],
      "source": [
        "integrate(vdpost, lower = 0, upper = 10, y = y100, const = nconst100)"
      ],
      "id": "8de5dafd-da4d-40c8-aa06-12bd4290ac9e"
    },
    {
      "cell_type": "markdown",
      "metadata": {},
      "source": [
        "We have a big issue! Our (numerical) integral is no longer integrating\n",
        "to 1. Why? Computational underflow!\n",
        "\n",
        "When we evaluate our unnormalized posterior, all of the values are close\n",
        "to zero.\n",
        "\n",
        "We need to shift the unnormalized posterior vertically so that some of\n",
        "the values are higher. I choose to make the largest value 1 by using the\n",
        "trick below.\n",
        "\n",
        "-   Evaluate the log unnormalized density over the range of the\n",
        "    $\\theta$.\n",
        "-   Subtract the LARGEST number you get from the log unnormalized\n",
        "    density.\n",
        "-   Convert back to the original scale using $\\exp$."
      ],
      "id": "4f8eff18-3ae3-4d6c-bb55-7f9d9ccfe1e8"
    },
    {
      "cell_type": "code",
      "execution_count": null,
      "metadata": {},
      "outputs": [],
      "source": [
        "lqpost <- function(theta, y) {\n",
        "  log_pdata <- sum(dpois(y, lambda = theta, log = TRUE))\n",
        "  log_pprior <- dexp(theta, rate = 1, log = TRUE)\n",
        "  log_pdata + log_pprior\n",
        "}\n",
        "vlqpost <- Vectorize(lqpost, vectorize.args = \"theta\")\n",
        "range(vlqpost(x, y = y100))"
      ],
      "id": "8c608aa2-681e-4074-b43f-65a245259a70"
    },
    {
      "cell_type": "markdown",
      "metadata": {},
      "source": [
        "We create a “robust” version of the unnormalized density."
      ],
      "id": "9836e325-d28c-4576-b2a8-1d0a801348a0"
    },
    {
      "cell_type": "code",
      "execution_count": null,
      "metadata": {},
      "outputs": [],
      "source": [
        "qpost_robust <- function(theta, y) {\n",
        "  log_pdata <- sum(dpois(y, lambda = theta, log = TRUE))\n",
        "  log_pprior <- dexp(theta, rate = 1, log = TRUE)\n",
        "  exp(log_pdata + log_pprior + 84.11288)\n",
        "}\n",
        "# vectorize\n",
        "vqpost_robust <- Vectorize(qpost_robust,\n",
        "  vectorize.args = \"theta\"\n",
        ")"
      ],
      "id": "75cc5d66-1c6a-4835-8665-b018b97277b3"
    },
    {
      "cell_type": "markdown",
      "metadata": {},
      "source": [
        "The new unnormalized density has a maximum of 1."
      ],
      "id": "703f33e4-a5ae-4b11-9c57-0690d45f2dfc"
    },
    {
      "cell_type": "code",
      "execution_count": null,
      "metadata": {},
      "outputs": [],
      "source": [
        "plot(x, vqpost_robust(x, y = y100),\n",
        "  xlab = \"theta\", ylab = \"unnormalized density\",\n",
        "  type = \"l\"\n",
        ")"
      ],
      "id": "cbdc2aec-cbbe-4002-a642-0924d349ca9f"
    },
    {
      "cell_type": "markdown",
      "metadata": {},
      "source": [
        "Now, we determine the normalizing constant of our robust unnormalized\n",
        "density."
      ],
      "id": "6740ce7e-aaca-476b-a45d-074dbda2fcf9"
    },
    {
      "cell_type": "code",
      "execution_count": null,
      "metadata": {},
      "outputs": [],
      "source": [
        "# determine normalizing constant\n",
        "(nconst100 <- integrate(f = vqpost_robust, lower = 0, upper = 10, y = y100)$value)"
      ],
      "id": "0541266f-d11f-4e32-8762-5bebba813d6c"
    },
    {
      "cell_type": "markdown",
      "metadata": {},
      "source": [
        "We now create a robust version of our posterior density."
      ],
      "id": "e8ac7cd2-fc73-4edf-8c89-04c033ba7bae"
    },
    {
      "cell_type": "code",
      "execution_count": null,
      "metadata": {},
      "outputs": [],
      "source": [
        "# posterior density function\n",
        "dpost_robust <- function(theta, y, const) {\n",
        "  qpost_robust(theta, y) / const\n",
        "}\n",
        "# vectorized version of dpost_robust for integrate function\n",
        "vdpost_robust <- Vectorize(dpost_robust,\n",
        "  vectorize.args = \"theta\"\n",
        ")"
      ],
      "id": "29e2fe15-7d81-4fb2-9831-e67c31f7dd6c"
    },
    {
      "cell_type": "markdown",
      "metadata": {},
      "source": [
        "We double-check that our robust posterior density is proper."
      ],
      "id": "58bcfe1b-a092-42d1-b634-1a112edbe13e"
    },
    {
      "cell_type": "code",
      "execution_count": null,
      "metadata": {},
      "outputs": [],
      "source": [
        "integrate(vdpost_robust,\n",
        "  lower = 0, upper = 10,\n",
        "  y = y100, const = nconst100\n",
        ")"
      ],
      "id": "542b9e2e-59ec-4737-a67b-6adc15e9173b"
    },
    {
      "cell_type": "markdown",
      "metadata": {},
      "source": [
        "Finally, we create a plots to compare our true density versus our normal\n",
        "approximation."
      ],
      "id": "9f850631-5eab-4290-b944-132217af9655"
    },
    {
      "cell_type": "code",
      "execution_count": null,
      "metadata": {},
      "outputs": [],
      "source": [
        "# plot true density\n",
        "plot(theta, vdpost_robust(theta, y100, nconst100),\n",
        "     ylab = \"density\", type = \"l\", col = \"orange\")\n",
        "# plot normal approximation\n",
        "lines(theta, dpapprox(theta, y100, thetahat = map100), col = \"blue\")\n",
        "legend(\"topright\",\n",
        "  legend = c(\"truth\", \"approximation\"),\n",
        "  col = c(\"orange\", \"blue\"), lty = 1\n",
        ")"
      ],
      "id": "0e8bd033-cc2c-4d38-b0b6-f725166e6dec"
    },
    {
      "cell_type": "markdown",
      "metadata": {},
      "source": [
        "**Bayesian CLT Example (Two parameter)**\n",
        "\n",
        "*Data distribution*\n",
        "\n",
        "$y_1, y_2, \\ldots, y_n | \\mu, \\sigma^2 \\stackrel{i.i.d.}{\\sim} N(\\mu, \\sigma^2)$\n",
        "\n",
        "*Prior distribution*\n",
        "\n",
        "$\\mu \\sim U(10, 15)$,\n",
        "$p(\\sigma^2) \\propto N(0.5, 0.5^2) I_{(0, \\infty)}(\\sigma^2)$\n",
        "\n",
        "*Posterior distribution (Bayesian CLT)*\n",
        "\n",
        "Assuming $n$ is large, $\\theta = (\\mu, \\sigma^2)$, and\n",
        "$\\hat{\\theta} = \\hat{\\theta}_{MAP}$,\n",
        "$\\theta | y \\sim N(\\hat{\\theta}, I(\\hat{\\theta})^{-1}).$\n",
        "\n",
        "Let’s determine $I(\\hat{\\theta})^{-1}$.\n",
        "\n",
        "</br>  \n",
        "</br>  \n",
        "</br>  \n",
        "</br>  \n",
        "</br>  \n",
        "</br>  \n",
        "</br>  \n",
        "</br>  \n",
        "</br>  \n",
        "</br>  \n",
        "</br>  \n",
        "</br>  \n",
        "</br>  \n",
        "</br>  \n",
        "</br>  \n",
        "</br>  \n",
        "</br>  \n",
        "</br>  \n",
        "</br>  \n",
        "</br>  \n",
        "</br>\n",
        "\n",
        "Let’s generate some data."
      ],
      "id": "50d8fd6f-44bb-499d-831e-950571f28c40"
    },
    {
      "cell_type": "code",
      "execution_count": null,
      "metadata": {},
      "outputs": [],
      "source": [
        "# Generate some synthetic data\n",
        "# in practice, we just have some data\n",
        "set.seed(7)\n",
        "y <- rnorm(100, mean = 11, sd = 0.47)"
      ],
      "id": "45570482-906b-40e2-b1ae-a040491e362e"
    },
    {
      "cell_type": "markdown",
      "metadata": {},
      "source": [
        "Now we create functions related to the true posterior density. This\n",
        "wouldn’t normally be needed, but we want to assess how good our\n",
        "approximation is.\n",
        "\n",
        "We create a density function with a built-in correction to address the\n",
        "numerical underflow issue. The function takes:\n",
        "\n",
        "-   `theta`: a vector parameterized as $\\theta = (\\mu, \\sigma^2)$.\n",
        "-   `y`: data vector.\n",
        "-   `const`: the normalizing constant, which we don’t yet know. We use\n",
        "    1."
      ],
      "id": "f844b94e-7959-4edd-87f9-466af47e091c"
    },
    {
      "cell_type": "code",
      "execution_count": null,
      "metadata": {},
      "outputs": [],
      "source": [
        "dpost <- function(theta, y, const = 1) {\n",
        "  mu <- theta[1]\n",
        "  sigma <- sqrt(theta[2])\n",
        "  log_pdata <- sum(dnorm(y, mean = mu, sd = sigma, log = TRUE))\n",
        "  log_pmu <- dunif(mu, 10, 15, log = TRUE)\n",
        "  log_psigmasq <- dnorm(sigma^2, mean = 0.5, sd = 0.5, log = TRUE)\n",
        "  log_qtheta <- log_pdata + log_pmu + log_psigmasq\n",
        "  exp(log_qtheta + 70)/const\n",
        "}"
      ],
      "id": "14d9e026-286b-44d4-83a5-129672d3b893"
    },
    {
      "cell_type": "markdown",
      "metadata": {},
      "source": [
        "We determine the normalizing constant over the interval\n",
        "$\\mu \\in [10, 15]$ and $\\sigma^2\\in[0, 2]$."
      ],
      "id": "35248cb6-08b5-4b30-ab7b-1b8742a8cf29"
    },
    {
      "cell_type": "code",
      "execution_count": null,
      "metadata": {},
      "outputs": [],
      "source": [
        "(const <- cubintegrate(\n",
        "  f = dpost,\n",
        "  lower = c(10, 0),\n",
        "  upper = c(15, 2),\n",
        "  y = y\n",
        ")$integral)"
      ],
      "id": "79b7d861-b848-40e8-8ff6-96917ead97df"
    },
    {
      "cell_type": "markdown",
      "metadata": {},
      "source": [
        "Now, let’s determine our MAP estimate.\n",
        "\n",
        "We first define a function to evaluate the log unnormalized posterior."
      ],
      "id": "f4e6a219-dee4-49d3-94fc-52466507e5a0"
    },
    {
      "cell_type": "code",
      "execution_count": null,
      "metadata": {},
      "outputs": [],
      "source": [
        "log_qtheta <- function(theta, y) {\n",
        "  mu <- theta[1]\n",
        "  sigma <- sqrt(theta[2])\n",
        "  log_pdata <- sum(dnorm(y, mean = mu, sd = sigma, log = TRUE))\n",
        "  log_pmu <- dunif(mu, 10, 15, log = TRUE)\n",
        "  log_psigmasq <- dnorm(sigma^2, mean = 0.5, sd = 0.5, log = TRUE)\n",
        "  log_pdata + log_pmu + log_psigmasq\n",
        "}"
      ],
      "id": "1f227694-7573-4d5f-8bc8-4a45f9af24a0"
    },
    {
      "cell_type": "markdown",
      "metadata": {},
      "source": [
        "We now use the `optim` function to maximize the objective function.\n",
        "\n",
        "-   We use `fnscale = -1` to make `optim` perform maximization instead\n",
        "    of minimization"
      ],
      "id": "d3b8db11-d16b-4d59-a77f-1b18fba2f3d5"
    },
    {
      "cell_type": "code",
      "execution_count": null,
      "metadata": {},
      "outputs": [],
      "source": [
        "(map <- optim(\n",
        "  par = c(12.5, 1),\n",
        "  f = log_qtheta,\n",
        "  lower = c(10.0001, 0.05),\n",
        "  upper = c(14.9999, 2),\n",
        "  method = \"L-BFGS-B\",\n",
        "  y = y,\n",
        "  control = list(fnscale = -1)\n",
        "))"
      ],
      "id": "290ede6c-039f-4e0d-9bea-610a6aeb6bed"
    },
    {
      "cell_type": "markdown",
      "metadata": {},
      "source": [
        "Now, we build a function that returns the inverse of the observation\n",
        "information matrix."
      ],
      "id": "7d051f17-cb15-4b7f-9a42-52b94843cd96"
    },
    {
      "cell_type": "code",
      "execution_count": null,
      "metadata": {},
      "outputs": [],
      "source": [
        "# return the inverse of the observed information matrix\n",
        "inv_ihat <- function(thetahat, n) {\n",
        "  mu <- thetahat[1]\n",
        "  sigma <- sqrt(thetahat[2])\n",
        "  # 2nd derivative of log likelihood w/r to mu\n",
        "  d2dmu2 <- -n / sigma^2\n",
        "  # derivative of log likelihood w/r to mu and sigmasq\n",
        "  d2dmudsigmasq <- -sum((y - mu)) / sigma^4\n",
        "  # 2nd derivative of log likelihood w/r to sigmasq\n",
        "  d2dsigmasq2 <- n / (2 * sigma^4) - 1 / sigma^6 * sum((y - mu)^2)\n",
        "  #\n",
        "  H <- cbind(c(d2dmu2, d2dmudsigmasq), c(d2dmudsigmasq, d2dsigmasq2))\n",
        "  solve(-H)\n",
        "}"
      ],
      "id": "32a10d86-906f-4530-94bf-9b6e57c83792"
    },
    {
      "cell_type": "markdown",
      "metadata": {},
      "source": [
        "Now, we create a function that evaluates the bivariate normal\n",
        "approximation of the true density with respect to $\\theta$."
      ],
      "id": "6fe4cb85-d7fa-4698-bbf8-554aef42a70a"
    },
    {
      "cell_type": "code",
      "execution_count": null,
      "metadata": {},
      "outputs": [],
      "source": [
        "# posterior approximation\n",
        "dpapprox <- function(theta, thetahat, vhat) {\n",
        "  mvtnorm::dmvnorm(x = theta, mean = thetahat, sigma = vhat)\n",
        "}"
      ],
      "id": "ec2b969f-99fd-4b4a-9bdc-0d284f4f6bc1"
    },
    {
      "cell_type": "markdown",
      "metadata": {},
      "source": [
        "Finally, we visually compare the results."
      ],
      "id": "e03b837b-60c8-4f7d-946c-7513d63dbf8e"
    },
    {
      "cell_type": "code",
      "execution_count": null,
      "metadata": {},
      "outputs": [],
      "source": [
        "# create sequence of values for mu and sigmasq\n",
        "mymu <- seq(10.95, 11.2, length = 200)\n",
        "mysigmasq <- seq(0.14, 0.29, length = 200)\n",
        "# create grid\n",
        "mytheta <- expand.grid(mymu, mysigmasq)\n",
        "\n",
        "# for each row of mytheta, plug it into dpost function\n",
        "z <- apply(mytheta, 1, function(theta) {\n",
        "  dpost(theta, y = y, const = const)\n",
        "})\n",
        "\n",
        "# convert z to matrix for plotting\n",
        "zmat <- matrix(z, nrow = length(mymu))\n",
        "\n",
        "# compute observed Information outside of loop\n",
        "vhat <- inv_ihat(map$par, length(y))\n",
        "zhat <- mvtnorm::dmvnorm(\n",
        "  x = mytheta,\n",
        "  mean = map$par,\n",
        "  sigma = vhat\n",
        ")\n",
        "# convert z to matrix for plotting\n",
        "zhatmat <- matrix(zhat, nrow = length(mymu))\n",
        "\n",
        "# side-by-side results\n",
        "par(mfrow = c(1, 2))\n",
        "\n",
        "# create heat map of objective surface\n",
        "image(mymu, mysigmasq, zmat,\n",
        "  col = hcl.colors(64, rev = TRUE),\n",
        "  xlab = expression(mu),\n",
        "  ylab = expression(sigma^2),\n",
        "  zlim = range(c(z, zhat))\n",
        ")\n",
        "# add contours\n",
        "contour(mymu, mysigmasq, zmat,\n",
        "  add = TRUE\n",
        ")\n",
        "title(\"true posterior\")\n",
        "\n",
        "# create heat map of approximation surface\n",
        "image(mymu, mysigmasq, zhatmat,\n",
        "  col = hcl.colors(64, rev = TRUE),\n",
        "  xlab = expression(mu),\n",
        "  ylab = expression(sigma^2),\n",
        "  zlim = c(range(c(z, zhat)))\n",
        ")\n",
        "# add contours\n",
        "contour(mymu, mysigmasq, zhatmat, add = TRUE)\n",
        "title(\"normal approximation\")\n",
        "par(mfrow = c(1, 1))"
      ],
      "id": "adca91ef-4174-4f89-9b8a-eb2d1cce1dcf"
    }
  ],
  "nbformat": 4,
  "nbformat_minor": 5,
  "metadata": {
    "kernelspec": {
      "name": "ir",
      "display_name": "R",
      "language": "R"
    }
  }
}