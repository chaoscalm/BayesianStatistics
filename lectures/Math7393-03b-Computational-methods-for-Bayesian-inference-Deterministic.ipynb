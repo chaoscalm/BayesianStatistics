{
  "cells": [
    {
      "cell_type": "markdown",
      "metadata": {},
      "source": [
        "# Computational methods for Bayesian inference\n",
        "\n",
        "Joshua French\n",
        "\n",
        "To open this information in an interactive Colab notebook, click the\n",
        "Colab graphic below.\n",
        "\n",
        "<a href=\"https://colab.research.google.com/github/jfrench/BayesianStatistics/blob/master/lectures/Math7393-03b-Computational-methods-for-Bayesian-inference-Deterministic.ipynb\">\n",
        "<img src=\"https://colab.research.google.com/assets/colab-badge.svg\">\n",
        "</a>\n",
        "\n",
        "------------------------------------------------------------------------\n",
        "\n",
        "We start by installing needed packages, if necessary, and then loading\n",
        "them."
      ],
      "id": "e261cea7-19c3-4784-87e4-4df4d1dcb471"
    },
    {
      "cell_type": "code",
      "execution_count": null,
      "metadata": {},
      "outputs": [],
      "source": [
        "if(!require(mvtnorm, quietly = TRUE)) {\n",
        "  install.packages(\"mvtnorm\", repos = \"https://cran.rstudio.com/\")\n",
        "}\n",
        "if(!require(cubature, quietly = TRUE)) {\n",
        "  install.packages(\"cubature\", repos = \"https://cran.rstudio.com/\")\n",
        "}\n",
        "library(mvtnorm)\n",
        "library(cubature)"
      ],
      "id": "c0b2f962-49df-4bd8-98ae-c74f350c7687"
    },
    {
      "cell_type": "markdown",
      "metadata": {},
      "source": [
        "# Deterministic methods\n",
        "\n",
        "## MAP estimation\n",
        "\n",
        "The *maximum a posteriori* estimator, $\\hat{\\theta}_{\\textrm{MAP}}$,\n",
        "summarizes the posterior with the parameter values that maximize the\n",
        "posterior distribution, i.e.,\n",
        "$$\\hat{\\theta}_{\\textrm{MAP}} = \\text{argmax}_{\\theta} \\ln p(\\theta | y) = \\text{argmax}_{\\theta} \\ln p(y | \\theta ) + \\ln p(\\theta).$$\n",
        "\n",
        "**MAP Example 1**\n",
        "\n",
        "*Data distribution*\n",
        "\n",
        "$y_1, \\ldots, y_n \\mid \\theta \\stackrel{i.i.d.}{\\sim} \\text{Poisson}(\\theta)$\n",
        "\n",
        "pdf:\n",
        "\n",
        "<br>  \n",
        "<br>\n",
        "\n",
        "*Prior distribution*\n",
        "\n",
        "$\\theta \\sim \\text{Exp}(1)$\n",
        "\n",
        "pdf:\n",
        "\n",
        "<br>  \n",
        "<br>\n",
        "\n",
        "*Posterior distribution*\n",
        "\n",
        "pdf:\n",
        "\n",
        "<br>  \n",
        "<br>\n",
        "\n",
        "$\\ln p(\\theta \\mid y) \\propto \\text{const} - (n - 1) \\theta + \\sum y_i \\ln(\\theta)$\n",
        "\n",
        "Let’s start by generating some data."
      ],
      "id": "72111be2-3a80-45ab-ac7d-13d7cd38a51e"
    },
    {
      "cell_type": "code",
      "execution_count": null,
      "metadata": {},
      "outputs": [],
      "source": [
        "# Generate some synthetic data from a Poisson(0.5)\n",
        "set.seed(8)\n",
        "y <- rpois(10, lambda = 0.5)"
      ],
      "id": "76a91b37-f4de-4a68-abae-3ada973166b6"
    },
    {
      "cell_type": "markdown",
      "metadata": {},
      "source": [
        "Now, we create a function to compute the log of the unnormalized\n",
        "posterior."
      ],
      "id": "92829929-2568-412b-9eff-8ba0b2d96448"
    },
    {
      "cell_type": "code",
      "execution_count": null,
      "metadata": {},
      "outputs": [],
      "source": [
        "# create function for log unnormalized posterior\n",
        "# theta = estimand\n",
        "# sumy = sum(y)\n",
        "# n = sample size\n",
        "lup <- function(theta, sumy, n) {\n",
        "  -(n + 1) * theta + sumy * log(theta)\n",
        "}"
      ],
      "id": "da1be2f9-ed25-47fe-8917-f6e3c5ad96c6"
    },
    {
      "cell_type": "markdown",
      "metadata": {},
      "source": [
        "We now use the `optimize` function to optimize the objective function,\n",
        "`lup`, between 0 and 1.\n",
        "\n",
        "-   We start our search `interval` just above 0 to avoid numerical\n",
        "    issues.\n",
        "-   We set `maximum` to `TRUE` to find the parameter that maximizes the\n",
        "    objection function, `lup`."
      ],
      "id": "7b54e22a-0a1d-43d9-98c7-0245444c3721"
    },
    {
      "cell_type": "code",
      "execution_count": null,
      "metadata": {},
      "outputs": [
        {
          "output_type": "stream",
          "name": "stdout",
          "text": [
            "$maximum\n",
            "[1] 0.6363705\n",
            "\n",
            "$objective\n",
            "[1] -10.1639"
          ]
        }
      ],
      "source": [
        "(map <- optimize(\n",
        "  f = lup, interval = c(0.0001, 10),\n",
        "  maximum = TRUE,\n",
        "  sumy = sum(y), n = length(y)\n",
        "))"
      ],
      "id": "d266408b-573c-4c29-a1e3-c70535cd97fe"
    },
    {
      "cell_type": "markdown",
      "metadata": {},
      "source": [
        "We plot our results to double-check accuracy."
      ],
      "id": "67f6baa9-a80a-4b5d-8d07-6cdcc1ac906c"
    },
    {
      "cell_type": "code",
      "execution_count": null,
      "metadata": {},
      "outputs": [
        {
          "output_type": "display_data",
          "metadata": {},
          "data": {
            "image/png": "[encoded data removed]"
          }
        }
      ],
      "source": [
        "# domain of plot\n",
        "mytheta <- seq(0.0001, 1, length = 1000)\n",
        "# plot function\n",
        "plot(mytheta, lup(mytheta, sumy = sum(y), n = length(y)),\n",
        "  type = \"l\",\n",
        "  xlab = \"theta\", ylab = \"propto log posterior\"\n",
        ")\n",
        "# show maximum\n",
        "abline(v = map$maximum)"
      ],
      "id": "296d3187-d87a-4702-aa89-e25ea1b3c89d"
    },
    {
      "cell_type": "markdown",
      "metadata": {},
      "source": [
        "We now use a different approach that doesn’t simplify ahead of time.\n",
        "Note that\n",
        "\n",
        "$$\n",
        "\\begin{aligned}\n",
        "\\ln [p(y\\mid \\theta)p(\\theta)] &= \\ln p(y\\mid \\theta) + \\ln p(\\theta) \\\\\n",
        "&= \\ln \\left(\\prod_{i=1}^n p(y_i\\mid\\theta)\\right) + \\ln p(\\theta) \\\\\n",
        "&= \\sum_{i=1}^n \\ln p(y_i\\mid\\theta) + \\ln p(\\theta).\n",
        "\\end{aligned}\n",
        "$$"
      ],
      "id": "65d045e0-ad18-4104-a6ec-efb72683916f"
    },
    {
      "cell_type": "code",
      "execution_count": null,
      "metadata": {},
      "outputs": [
        {
          "output_type": "stream",
          "name": "stdout",
          "text": [
            "$maximum\n",
            "[1] 0.6363705\n",
            "\n",
            "$objective\n",
            "[1] -10.85704"
          ]
        }
      ],
      "source": [
        "# second version of log unnormalized posterior\n",
        "lup2 <- function(theta, y) {\n",
        "  sum(dpois(y, lambda = theta, log = TRUE)) +\n",
        "    dexp(theta, rate = 1, log = TRUE)\n",
        "}\n",
        "\n",
        "# same results!\n",
        "optimize(\n",
        "  f = lup2, interval = c(0.0001, 10), maximum = TRUE,\n",
        "  y = y\n",
        ")"
      ],
      "id": "c4cd7d81-fad3-4ec9-8cb7-243bae696da6"
    },
    {
      "cell_type": "markdown",
      "metadata": {},
      "source": [
        "**MAP Example 2 (2 parameter)**\n",
        "\n",
        "*Data distribution*\n",
        "\n",
        "$y_1, ..., y_n \\mid \\mu, \\sigma^2 \\stackrel{i.i.d.}{\\sim} N(\\mu, \\sigma^2)$\n",
        "\n",
        "pdf:\n",
        "\n",
        "<br>  \n",
        "<br>\n",
        "\n",
        "*Prior distribution*\n",
        "\n",
        "$\\mu \\sim U(10, 15)$\n",
        "\n",
        "pdf:\n",
        "\n",
        "<br>  \n",
        "<br>\n",
        "\n",
        "$\\sigma^2 \\sim N(0.5, 0.25) I_{(0,\\infty)}(\\sigma^2)$\n",
        "\n",
        "pdf:\n",
        "\n",
        "<br>  \n",
        "<br>\n",
        "\n",
        "This is essentially a truncated normal with a different scaling\n",
        "constant.\n",
        "\n",
        "We start by generating some fake data."
      ],
      "id": "23fbcdad-f3c3-4d7b-8792-409fa5ad5ee0"
    },
    {
      "cell_type": "code",
      "execution_count": null,
      "metadata": {},
      "outputs": [],
      "source": [
        "# Generate some synthetic data\n",
        "# Normal with mean 11 and sd = 0.47\n",
        "set.seed(7)\n",
        "y <- rnorm(10, mean = 11, sd = 0.47)"
      ],
      "id": "a73bb73a-b28c-48af-b70d-34db349d0285"
    },
    {
      "cell_type": "markdown",
      "metadata": {},
      "source": [
        "We program the negative log of the unnormalized posterior density.\n",
        "\n",
        "-   The function takes $\\theta = (\\mu, \\sigma^2)$.\n",
        "-   We *don’t* constrain $\\mu$ to be between 10 and 15 and $\\sigma^2$ to\n",
        "    be positive only because we will do this constraint in our\n",
        "    optimization.\n",
        "-   We multiply the log posterior by -1 so that instead of trying to\n",
        "    maximize the log unnormalized posterior, we minimize the negative\n",
        "    log unnormalized posterior."
      ],
      "id": "f8082f93-d800-4620-887d-01041ff5e5bb"
    },
    {
      "cell_type": "code",
      "execution_count": null,
      "metadata": {},
      "outputs": [],
      "source": [
        "nlup <- function(theta, y) {\n",
        "  mu <- theta[1]\n",
        "  sigma <- sqrt(theta[2])\n",
        "  obj <- sum(dnorm(y, mean = mu, sd = sigma, log = TRUE)) +\n",
        "    dunif(mu, 10, 15, log = TRUE) +\n",
        "    dnorm(sigma^2, mean = 0.5, sd = 0.5, log = TRUE)\n",
        "  -obj\n",
        "}"
      ],
      "id": "2722f39d-f286-4a45-9ca2-ceec438c0719"
    },
    {
      "cell_type": "markdown",
      "metadata": {},
      "source": [
        "We now use the `optim` function to perform multi-dimensional\n",
        "optimization.\n",
        "\n",
        "-   `par`: vector of starting values\n",
        "-   `f`: function to MINIMIZE. The first argument must be the argument\n",
        "    you want to optimize over.\n",
        "-   `lower`: the constraints on the lower bound\n",
        "-   `upper`: the constraints on the upper bound\n",
        "-   `method`: the optimization method. `\"L-BFGS-B\"` allows use to\n",
        "    specify constraints.\n",
        "-   `control`: list of optional tuning parameters.\n",
        "-   The remaining arguments are the arguments that must be supplied to\n",
        "    `f`."
      ],
      "id": "d56d3f5b-e83e-466a-951b-8e276d3b8b26"
    },
    {
      "cell_type": "code",
      "execution_count": null,
      "metadata": {},
      "outputs": [
        {
          "output_type": "stream",
          "name": "stdout",
          "text": [
            "$par\n",
            "[1] 11.0488686  0.3337946\n",
            "\n",
            "$value\n",
            "[1] 10.37177\n",
            "\n",
            "$counts\n",
            "function gradient \n",
            "      16       16 \n",
            "\n",
            "$convergence\n",
            "[1] 0\n",
            "\n",
            "$message\n",
            "[1] \"CONVERGENCE: REL_REDUCTION_OF_F <= FACTR*EPSMCH\""
          ]
        }
      ],
      "source": [
        "optim(\n",
        "  par = c(12.5, 1),\n",
        "  f = nlup,\n",
        "  lower = c(10.0001, 0.05),\n",
        "  upper = c(14.9999, 2),\n",
        "  method = \"L-BFGS-B\",\n",
        "  y = y\n",
        ")"
      ],
      "id": "c3a76c10-d450-4bce-bf8f-1585e71fb9c8"
    },
    {
      "cell_type": "markdown",
      "metadata": {},
      "source": [
        "`nlminb` is an alternative optimizer that is more robust (from my\n",
        "personal experience.)\n",
        "\n",
        "-   The arguments are self-explanatory."
      ],
      "id": "245f314d-6bda-43da-ace0-35d0d8e5b039"
    },
    {
      "cell_type": "code",
      "execution_count": null,
      "metadata": {},
      "outputs": [
        {
          "output_type": "stream",
          "name": "stdout",
          "text": [
            "$par\n",
            "[1] 11.0488678  0.3337935\n",
            "\n",
            "$objective\n",
            "[1] 10.37177\n",
            "\n",
            "$convergence\n",
            "[1] 0\n",
            "\n",
            "$iterations\n",
            "[1] 11\n",
            "\n",
            "$evaluations\n",
            "function gradient \n",
            "      16       30 \n",
            "\n",
            "$message\n",
            "[1] \"relative convergence (4)\""
          ]
        }
      ],
      "source": [
        "(map <- nlminb(\n",
        "  start = c(12.5, 1),\n",
        "  objective = nlup,\n",
        "  lower = c(10.0001, 0.0001),\n",
        "  upper = c(14.9999, 2),\n",
        "  y = y\n",
        "))"
      ],
      "id": "622e6483-4007-496f-8a21-51302d32bfb4"
    },
    {
      "cell_type": "markdown",
      "metadata": {},
      "source": [
        "Let’s plot our results."
      ],
      "id": "e128d32a-0828-4dcb-8a70-aad12f9f050b"
    },
    {
      "cell_type": "code",
      "execution_count": null,
      "metadata": {},
      "outputs": [
        {
          "output_type": "display_data",
          "metadata": {},
          "data": {
            "image/png": "[encoded data removed]"
          }
        }
      ],
      "source": [
        "# create sequence of values for mu and sigmasq\n",
        "mymu <- seq(10.8, 11.2, length = 200)\n",
        "mysigmasq <- seq(0.15, 0.45, length = 200)\n",
        "# create grid\n",
        "mytheta <- expand.grid(mymu, mysigmasq)\n",
        "# for each row of mytheta, plug it into nlup function\n",
        "z <- apply(mytheta, 1, function(theta) {\n",
        "  nlup(theta, y = y)\n",
        "})\n",
        "# convert z to matrix for plotting\n",
        "zmat <- matrix(z, nrow = length(mymu))\n",
        "# create heat map of objective surface\n",
        "image(mymu, mysigmasq, zmat,\n",
        "  col = hcl.colors(64, rev = TRUE),\n",
        "  xlab = expression(mu), ylab = expression(sigma^2)\n",
        ")\n",
        "# add contours\n",
        "contour(mymu, mysigmasq, zmat, add = TRUE)\n",
        "# place point for posterior mode\n",
        "points(map$par[1], map$par[2], pch = 20)\n",
        "title(\"log posterior density (unnormalized)\")"
      ],
      "id": "d2ade249-d887-4dba-999f-2ca1cdaa6e10"
    },
    {
      "cell_type": "markdown",
      "metadata": {},
      "source": [
        "## Cubature methods\n",
        "\n",
        "Cubature methods approximate an integral by evaluating a function at a\n",
        "finite number of points and aggregating the results. (We won’t discuss\n",
        "specifics.)\n",
        "\n",
        "**Cubature method example (Beta-Binomial)**\n",
        "\n",
        "*Data distribution*\n",
        "\n",
        "$y \\mid \\theta \\sim \\text{Bin}(n, \\theta)$.\n",
        "\n",
        "Let’s assume $n=980$ and $y=437$.\n",
        "\n",
        "*Prior distribution*\n",
        "\n",
        "$\\theta \\sim \\text{Beta}(\\alpha, \\beta)$.\n",
        "\n",
        "Let’s assume $\\alpha=\\beta=1$.\n",
        "\n",
        "*Posterior distribution*\n",
        "\n",
        "$\\theta \\mid y \\sim \\text{Beta}(y + \\alpha, n - y + \\beta)$.\n",
        "\n",
        "This has posterior mean $\\frac{y + \\alpha}{n + \\alpha + \\beta}$.\n",
        "\n",
        "Based on our assumptions above,\n",
        "$\\theta \\mid y \\sim \\text{Beta}(438, 544)$.\n",
        "\n",
        "*Posterior predictive distribution*\n",
        "\n",
        "$P(\\tilde{y} = 1 \\mid y) = \\frac{y + \\alpha}{n + \\alpha + \\beta}$.\n",
        "\n",
        "Based on previous assumptions,\n",
        "$P(\\tilde{y} = 1 \\mid y) = 448/(438 + 544) \\approx 0.446$.\n",
        "\n",
        "Let’s use the cubature method to approximate some of these.\n",
        "\n",
        "We start by defining the posterior density with a generic normalizing\n",
        "constant."
      ],
      "id": "193696ff-b3de-4a01-9c16-1a6c6f32051d"
    },
    {
      "cell_type": "code",
      "execution_count": null,
      "metadata": {},
      "outputs": [],
      "source": [
        "# unnormalized posterior\n",
        "dpost <- function(theta, const = 1) {\n",
        "  dbinom(x = 437, size = 980, prob = theta) *\n",
        "    dbeta(theta, shape1 = 1, shape2 = 1) /\n",
        "    const\n",
        "}"
      ],
      "id": "5a0e2db9-f3b9-417d-978c-983e2009443a"
    },
    {
      "cell_type": "markdown",
      "metadata": {},
      "source": [
        "We determine the normalizing constant."
      ],
      "id": "11f9f996-bf50-41ed-9295-9e43b7e3c56a"
    },
    {
      "cell_type": "code",
      "execution_count": null,
      "metadata": {},
      "outputs": [
        {
          "output_type": "stream",
          "name": "stdout",
          "text": [
            "[1] 0.001019368"
          ]
        }
      ],
      "source": [
        "(nconst <- integrate(dpost, lower = 0, upper = 1)$value)"
      ],
      "id": "52b9a4c1-5572-495d-a571-60f8c3f6b3af"
    },
    {
      "cell_type": "markdown",
      "metadata": {},
      "source": [
        "Now, we define the function $\\theta p(\\theta \\mid y)$."
      ],
      "id": "f029fba9-7d2a-4619-a416-5d85a9fccf56"
    },
    {
      "cell_type": "code",
      "execution_count": null,
      "metadata": {},
      "outputs": [],
      "source": [
        "# theta * posterior\n",
        "mean_target <- function(theta, const) {\n",
        "  theta * dpost(theta, const)\n",
        "}"
      ],
      "id": "08d0efb6-b043-43be-a6aa-7570398a4993"
    },
    {
      "cell_type": "markdown",
      "metadata": {},
      "source": [
        "We integrate $\\theta p(\\theta \\mid y)$ for $\\theta \\in [0, 1]$."
      ],
      "id": "f35498e2-672c-42d4-a7d9-cd67a22b0da6"
    },
    {
      "cell_type": "code",
      "execution_count": null,
      "metadata": {},
      "outputs": [
        {
          "output_type": "stream",
          "name": "stdout",
          "text": [
            "0.4460285 with absolute error < 8.3e-05"
          ]
        }
      ],
      "source": [
        "# compute posterior mean using cubature\n",
        "integrate(mean_target, lower = 0, upper = 1, const = nconst)"
      ],
      "id": "e426a181-639c-47c9-9bd8-51a1152043a8"
    },
    {
      "cell_type": "markdown",
      "metadata": {},
      "source": [
        "Next, we define the function that evaluates\n",
        "$P(\\tilde{y} = 1 \\mid \\theta) p(\\theta \\mid y)$."
      ],
      "id": "d9a85bf4-49fc-4711-9c28-e64b4565ced2"
    },
    {
      "cell_type": "code",
      "execution_count": null,
      "metadata": {},
      "outputs": [],
      "source": [
        "# pytilde * ptarget\n",
        "pytilde_target <- function(theta, const) {\n",
        "  dbinom(x = 1, size = 1, prob = theta) *\n",
        "    dpost(theta, const)\n",
        "}"
      ],
      "id": "ac20d613-e2c9-42d9-b39d-c4541d8f359b"
    },
    {
      "cell_type": "markdown",
      "metadata": {},
      "source": [
        "Lastly, we integrate that function to compute\n",
        "$P(\\tilde{y} = 1 \\mid \\theta)$."
      ],
      "id": "74139d70-a709-47f1-88ab-f7ab77444810"
    },
    {
      "cell_type": "code",
      "execution_count": null,
      "metadata": {},
      "outputs": [
        {
          "output_type": "stream",
          "name": "stdout",
          "text": [
            "0.4460285 with absolute error < 8.3e-05"
          ]
        }
      ],
      "source": [
        "# posterior predictive probability\n",
        "integrate(pytilde_target, lower = 0, upper = 1, const = nconst)"
      ],
      "id": "51799fa1-06c1-4311-8b43-86955fd0a367"
    },
    {
      "cell_type": "markdown",
      "metadata": {},
      "source": [
        "## Bayesian CLT for $N(\\mu,\\sigma^2)$\n",
        "\n",
        "**Example 1**\n",
        "\n",
        "*Data distribution*\n",
        "\n",
        "$y_1, ..., y_n \\mid \\theta \\stackrel{i.i.d}{\\sim} \\text{Poisson}(\\theta)$\n",
        "\n",
        "*Prior distribution*\n",
        "\n",
        "$\\theta \\sim \\text{Exp}(1)$\n",
        "\n",
        "*Negative Hessian,* $-H(\\theta)$\n",
        "\n",
        "$-\\frac{d^2}{d\\theta^2} \\ln p(y \\mid \\theta) = \\frac{\\sum y_i}{\\theta^2}$.\n",
        "\n",
        "*Approximate posterior distribution*\n",
        "\n",
        "For a large sample of data,\n",
        "$p(\\theta \\mid y) \\approx N(\\hat{\\theta}, \\hat{\\theta}^2/\\sum y_i)$.\n",
        "\n",
        "We start be generating a small data set."
      ],
      "id": "a58d0238-c593-4718-80f0-4978c67618e7"
    },
    {
      "cell_type": "code",
      "execution_count": null,
      "metadata": {},
      "outputs": [],
      "source": [
        "# Generate some synthetic data\n",
        "# Poisson with mean of 0.5\n",
        "set.seed(3) # for reproducibility\n",
        "y <- rpois(10, lambda = 0.5)"
      ],
      "id": "7a9ea9d8-cc5b-42cc-b46f-6f29d8f380b7"
    },
    {
      "cell_type": "markdown",
      "metadata": {},
      "source": [
        "We now define the posterior density with a generic normalizing constant."
      ],
      "id": "56ef53d8-c392-4a64-ba11-b2fc197d5b3f"
    },
    {
      "cell_type": "code",
      "execution_count": null,
      "metadata": {},
      "outputs": [],
      "source": [
        "dpost <- function(theta, y, const = 1) {\n",
        "  log_pdata <- sum(dpois(y, lambda = theta, log = TRUE))\n",
        "  log_pprior <- dexp(theta, rate = 1, log = TRUE)\n",
        "  exp(log_pdata + log_pprior - log(const))\n",
        "}"
      ],
      "id": "3b71f58c-aa6a-47a9-8d29-4d01290c8b14"
    },
    {
      "cell_type": "markdown",
      "metadata": {},
      "source": [
        "Let’s try plotting this function to help us determine what we should be\n",
        "maximizing over."
      ],
      "id": "c40ad04f-fea3-45e7-a976-ae1199765f1b"
    },
    {
      "cell_type": "code",
      "execution_count": null,
      "metadata": {},
      "outputs": [
        {
          "output_type": "display_data",
          "metadata": {},
          "data": {
            "image/png": "[encoded data removed]"
          }
        }
      ],
      "source": [
        "# plot dpost to determine what to maximize over\n",
        "x <- seq(0.001, 10, len = 1000)\n",
        "plot(x, dpost(theta = x, y = y), type = \"l\", )"
      ],
      "id": "d70e9c89-21a6-4d16-a3ac-a7b162d9fb3c"
    },
    {
      "cell_type": "markdown",
      "metadata": {},
      "source": [
        "We’re getting weird results because `dpost` is trying to evaluate\n",
        "`dpois` with a vector `y` and a vector `theta` whose dimensions are\n",
        "incompatible.\n",
        "\n",
        "We want to evaluate `dpois(y, ...)` for *each* value of `theta`.\n",
        "\n",
        "We can use the `Vectorize` function to vectorize a function with respect\n",
        "to a certain argument."
      ],
      "id": "cdc42d3a-ba12-4fac-be64-d6c3110a5575"
    },
    {
      "cell_type": "code",
      "execution_count": null,
      "metadata": {},
      "outputs": [],
      "source": [
        "vdpost <- Vectorize(dpost, vectorize.args = \"theta\")"
      ],
      "id": "16860958-bfd3-467b-86bc-5febd9aebf73"
    },
    {
      "cell_type": "markdown",
      "metadata": {},
      "source": [
        "Now, we try our plot again."
      ],
      "id": "73c01966-c59b-4798-b579-5bf040528548"
    },
    {
      "cell_type": "code",
      "execution_count": null,
      "metadata": {},
      "outputs": [
        {
          "output_type": "display_data",
          "metadata": {},
          "data": {
            "image/png": "[encoded data removed]"
          }
        }
      ],
      "source": [
        "# plot vectorized dpost to determine what to maximize over\n",
        "plot(x, vdpost(theta = x, y = y), type = \"l\",\n",
        "     ylab = \"unnormalized density\")"
      ],
      "id": "255336c3-d2f4-4fd7-81c6-81835788374e"
    },
    {
      "cell_type": "markdown",
      "metadata": {},
      "source": [
        "We can determine $\\hat{\\theta}_{\\text{MAP}}$ over the interval $[0, 2]$."
      ],
      "id": "b007bd33-2b04-4976-a75d-92afef72bfb3"
    },
    {
      "cell_type": "code",
      "execution_count": null,
      "metadata": {},
      "outputs": [
        {
          "output_type": "stream",
          "name": "stdout",
          "text": [
            "[1] 0.1818248"
          ]
        }
      ],
      "source": [
        "# determine MAP\n",
        "(map <- optimize(vdpost, interval = c(0, 2), y = y, maximum = TRUE)$maximum)"
      ],
      "id": "3e2deedf-a8a7-41b1-9929-49ce4d6d87f3"
    },
    {
      "cell_type": "markdown",
      "metadata": {},
      "source": [
        "$\\hat{\\theta}_{MAP}\\approx 0.18$. Thus, our posterior approximation is\n",
        "$N(0.18, 0.18^2/\\sum y_i)$.\n",
        "\n",
        "Let’s plot the “truth” versus the approximation. In order to do that, we\n",
        "need to figure out the “true” distribution. We do this to illustrate the\n",
        "effectiveness of the approximation. We wouldn’t normally do this.\n",
        "\n",
        "We find our normalizing constant."
      ],
      "id": "dcdfc86c-7590-4d81-b9c8-d1fa63e34d5e"
    },
    {
      "cell_type": "code",
      "execution_count": null,
      "metadata": {},
      "outputs": [
        {
          "output_type": "stream",
          "name": "stdout",
          "text": [
            "[1] 0.00150263"
          ]
        }
      ],
      "source": [
        "# determine normalizing constant\n",
        "(nconst <- integrate(f = vdpost, lower = 0, upper = 10, y = y)$value)"
      ],
      "id": "56c7dc6e-6f46-448b-a8fe-a916a1f28701"
    },
    {
      "cell_type": "markdown",
      "metadata": {},
      "source": [
        "We double-check that the posterior is proper!"
      ],
      "id": "cd44fdc0-7b9c-41db-ba40-c797de554bcd"
    },
    {
      "cell_type": "code",
      "execution_count": null,
      "metadata": {},
      "outputs": [
        {
          "output_type": "stream",
          "name": "stdout",
          "text": [
            "1 with absolute error < 5.4e-08"
          ]
        }
      ],
      "source": [
        "integrate(vdpost, lower = 0, upper = 10, y = y, const = nconst)"
      ],
      "id": "99f232a7-4ff8-40a6-80cd-e21e94ff5200"
    },
    {
      "cell_type": "markdown",
      "metadata": {},
      "source": [
        "We define a function to evaluate our approximate posterior distribution."
      ],
      "id": "8ad01708-80c5-4f33-bf16-ce65119a5db6"
    },
    {
      "cell_type": "code",
      "execution_count": null,
      "metadata": {},
      "outputs": [],
      "source": [
        "# normal approximation posterior\n",
        "dpapprox <- function(theta, y, thetahat) {\n",
        "  dnorm(theta, mean = thetahat, sd = sqrt(thetahat^2 / sum(y)))\n",
        "}"
      ],
      "id": "22b61a25-ffc4-4ff1-b530-416a8686401f"
    },
    {
      "cell_type": "markdown",
      "metadata": {},
      "source": [
        "Now, we plot the “true” posterior density versus the approximate\n",
        "posterior density."
      ],
      "id": "8823927a-4b89-4a22-aa5f-4001ca6cc108"
    },
    {
      "cell_type": "code",
      "execution_count": null,
      "metadata": {},
      "outputs": [
        {
          "output_type": "display_data",
          "metadata": {},
          "data": {
            "image/png": "[encoded data removed]"
          }
        }
      ],
      "source": [
        "# range of theta values\n",
        "theta <- seq(0, 2, length = 1000)\n",
        "# plot true density\n",
        "plot(theta, vdpost(theta, y, nconst),\n",
        "     ylab = \"density\", type = \"l\", col = \"orange\")\n",
        "# plot normal approximation\n",
        "lines(theta, dpapprox(theta, y, thetahat = map),\n",
        "      col = \"blue\")\n",
        "legend(\"topright\",\n",
        "  legend = c(\"truth\", \"approximation\"),\n",
        "  col = c(\"orange\", \"blue\"), lty = 1\n",
        ")"
      ],
      "id": "faa54f58-a0c7-4a15-a437-2496f1867917"
    },
    {
      "cell_type": "markdown",
      "metadata": {},
      "source": [
        "Our approximation isn’t great because our sample size is small. Let’s\n",
        "perform the same approximation with a larger sample size.\n",
        "\n",
        "We generate 100 i.i.d. observations from a Poisson(0.5) distribution."
      ],
      "id": "941b168f-ef67-406f-8237-8c7eb91995bc"
    },
    {
      "cell_type": "code",
      "execution_count": null,
      "metadata": {},
      "outputs": [],
      "source": [
        "set.seed(3) # for reproducibility\n",
        "y100 <- rpois(100, lambda = 0.5)"
      ],
      "id": "786e6e18-6781-4b75-9045-9cb52ea09a98"
    },
    {
      "cell_type": "markdown",
      "metadata": {},
      "source": [
        "We once again plot the unnormalized posterior to determine the range of\n",
        "`theta` to optimize over."
      ],
      "id": "9b832a1b-1552-487b-aca3-636810070020"
    },
    {
      "cell_type": "code",
      "execution_count": null,
      "metadata": {},
      "outputs": [
        {
          "output_type": "display_data",
          "metadata": {},
          "data": {
            "image/png": "[encoded data removed]"
          }
        }
      ],
      "source": [
        "plot(x, vdpost(theta = x, y = y100),\n",
        "  type = \"l\",\n",
        "  xlab = \"theta\", ylab = \"unnormalized density\"\n",
        ")"
      ],
      "id": "cd9a793f-d425-4ed0-85a0-4a169aab9abc"
    },
    {
      "cell_type": "markdown",
      "metadata": {},
      "source": [
        "We determine $\\hat{\\theta}_{\\text{MAP}}$."
      ],
      "id": "6cddc6c8-36a9-4037-8a0a-0c71f09ed503"
    },
    {
      "cell_type": "code",
      "execution_count": null,
      "metadata": {},
      "outputs": [
        {
          "output_type": "stream",
          "name": "stdout",
          "text": [
            "[1] 0.4158462"
          ]
        }
      ],
      "source": [
        "(map100 <- optimize(vdpost, interval = c(0, 2),\n",
        "                    y = y100, maximum = TRUE)$maximum)"
      ],
      "id": "507df54d-93fc-47b0-a989-b1335decb517"
    },
    {
      "cell_type": "markdown",
      "metadata": {},
      "source": [
        "$\\hat{\\theta}_{\\text{MAP}}\\approx 0.42$. Thus, our posterior\n",
        "approximation is $N(0.42, 0.42^2/\\sum y_i)$.\n",
        "\n",
        "Let’s plot the “truth” versus the approximation.\n",
        "\n",
        "We compute the normalizing constant for our posterior."
      ],
      "id": "9899683d-a821-4a4c-aa0a-1f7ea0d0a722"
    },
    {
      "cell_type": "code",
      "execution_count": null,
      "metadata": {},
      "outputs": [
        {
          "output_type": "stream",
          "name": "stdout",
          "text": [
            "[1] 3.544304e-38"
          ]
        }
      ],
      "source": [
        "# determine normalizing constant\n",
        "(nconst100 <- integrate(f = vdpost, lower = 0, upper = 10, y = y100)$value)"
      ],
      "id": "49748fb2-1f0f-4bb7-9795-272755668cf4"
    },
    {
      "cell_type": "markdown",
      "metadata": {},
      "source": [
        "We double-check that posterior is proper."
      ],
      "id": "b1c27200-f0ce-48a9-8ab8-95f7f1ff873f"
    },
    {
      "cell_type": "code",
      "execution_count": null,
      "metadata": {},
      "outputs": [
        {
          "output_type": "stream",
          "name": "stdout",
          "text": [
            "1.345944 with absolute error < 6.6e-08"
          ]
        }
      ],
      "source": [
        "integrate(vdpost, lower = 0, upper = 10, y = y100, const = nconst100)"
      ],
      "id": "f93d85a0-f4af-4959-af7b-edf4f12b97b4"
    },
    {
      "cell_type": "markdown",
      "metadata": {},
      "source": [
        "We have a big issue! Our (numerical) integral is no longer integrating\n",
        "to 1. Why? Computational underflow!\n",
        "\n",
        "When we evaluate our unnormalized posterior, all of the values are close\n",
        "to zero.\n",
        "\n",
        "We need to shift the unnormalized posterior vertically so that some of\n",
        "the values are higher. I choose to make the largest value 1 by using the\n",
        "trick below.\n",
        "\n",
        "-   Evaluate the log unnormalized density over the range of the\n",
        "    $\\theta$.\n",
        "-   Subtract the LARGEST number you get from the log unnormalized\n",
        "    density.\n",
        "-   Convert back to the original scale using $\\exp$."
      ],
      "id": "cba41709-8695-422f-bc9c-044e46944678"
    },
    {
      "cell_type": "code",
      "execution_count": null,
      "metadata": {},
      "outputs": [
        {
          "output_type": "stream",
          "name": "stdout",
          "text": [
            "[1] -918.54892  -84.11288"
          ]
        }
      ],
      "source": [
        "lqpost <- function(theta, y) {\n",
        "  log_pdata <- sum(dpois(y, lambda = theta, log = TRUE))\n",
        "  log_pprior <- dexp(theta, rate = 1, log = TRUE)\n",
        "  log_pdata + log_pprior\n",
        "}\n",
        "vlqpost <- Vectorize(lqpost, vectorize.args = \"theta\")\n",
        "range(vlqpost(x, y = y100))"
      ],
      "id": "27ec5002-4037-454b-8dfd-548e64b6c200"
    },
    {
      "cell_type": "markdown",
      "metadata": {},
      "source": [
        "We create a “robust” version of the unnormalized density."
      ],
      "id": "0152d0e3-0570-4832-b967-3fb5e56cfda8"
    },
    {
      "cell_type": "code",
      "execution_count": null,
      "metadata": {},
      "outputs": [],
      "source": [
        "qpost_robust <- function(theta, y) {\n",
        "  log_pdata <- sum(dpois(y, lambda = theta, log = TRUE))\n",
        "  log_pprior <- dexp(theta, rate = 1, log = TRUE)\n",
        "  exp(log_pdata + log_pprior + 84.11288)\n",
        "}\n",
        "# vectorize\n",
        "vqpost_robust <- Vectorize(qpost_robust,\n",
        "  vectorize.args = \"theta\"\n",
        ")"
      ],
      "id": "cf011dac-b40b-4b73-987c-50818638bdb0"
    },
    {
      "cell_type": "markdown",
      "metadata": {},
      "source": [
        "The new unnormalized density has a maximum of 1."
      ],
      "id": "d40086d4-79e8-44ef-af91-b46991912e76"
    },
    {
      "cell_type": "code",
      "execution_count": null,
      "metadata": {},
      "outputs": [
        {
          "output_type": "display_data",
          "metadata": {},
          "data": {
            "image/png": "[encoded data removed]"
          }
        }
      ],
      "source": [
        "plot(x, vqpost_robust(x, y = y100),\n",
        "  xlab = \"theta\", ylab = \"unnormalized density\",\n",
        "  type = \"l\"\n",
        ")"
      ],
      "id": "bda00400-143a-416e-be06-218754f9c3c8"
    },
    {
      "cell_type": "markdown",
      "metadata": {},
      "source": [
        "Now, we determine the normalizing constant of our robust unnormalized\n",
        "density."
      ],
      "id": "a3e795a3-a338-4477-8a4a-c4812257bf64"
    },
    {
      "cell_type": "code",
      "execution_count": null,
      "metadata": {},
      "outputs": [
        {
          "output_type": "stream",
          "name": "stdout",
          "text": [
            "[1] 0.1615539"
          ]
        }
      ],
      "source": [
        "# determine normalizing constant\n",
        "(nconst100 <- integrate(f = vqpost_robust, lower = 0, upper = 10, y = y100)$value)"
      ],
      "id": "49db8145-36bb-4483-bb09-a3dbdbf4c125"
    },
    {
      "cell_type": "markdown",
      "metadata": {},
      "source": [
        "We now create a robust version of our posterior density."
      ],
      "id": "9a85986a-3725-4ae5-b211-34871d763651"
    },
    {
      "cell_type": "code",
      "execution_count": null,
      "metadata": {},
      "outputs": [],
      "source": [
        "# posterior density function\n",
        "dpost_robust <- function(theta, y, const) {\n",
        "  qpost_robust(theta, y) / const\n",
        "}\n",
        "# vectorized version of dpost_robust for integrate function\n",
        "vdpost_robust <- Vectorize(dpost_robust,\n",
        "  vectorize.args = \"theta\"\n",
        ")"
      ],
      "id": "5bd15286-77ca-4cec-b6b7-0426a21ee872"
    },
    {
      "cell_type": "markdown",
      "metadata": {},
      "source": [
        "We double-check that our robust posterior density is proper."
      ],
      "id": "6d317867-3ec1-4eff-aa6d-e376e3f250ab"
    },
    {
      "cell_type": "code",
      "execution_count": null,
      "metadata": {},
      "outputs": [
        {
          "output_type": "stream",
          "name": "stdout",
          "text": [
            "1 with absolute error < 4.9e-08"
          ]
        }
      ],
      "source": [
        "integrate(vdpost_robust,\n",
        "  lower = 0, upper = 10,\n",
        "  y = y100, const = nconst100\n",
        ")"
      ],
      "id": "c73789e6-e432-42e5-833c-ca46d8d5721f"
    },
    {
      "cell_type": "markdown",
      "metadata": {},
      "source": [
        "Finally, we create a plots to compare our true density versus our normal\n",
        "approximation."
      ],
      "id": "cbbb4311-c5e9-4b86-873e-2e62357228f4"
    },
    {
      "cell_type": "code",
      "execution_count": null,
      "metadata": {},
      "outputs": [
        {
          "output_type": "display_data",
          "metadata": {},
          "data": {
            "image/png": "[encoded data removed]"
          }
        }
      ],
      "source": [
        "# plot true density\n",
        "plot(theta, vdpost_robust(theta, y100, nconst100),\n",
        "     ylab = \"density\", type = \"l\", col = \"orange\")\n",
        "# plot normal approximation\n",
        "lines(theta, dpapprox(theta, y100, thetahat = map100), col = \"blue\")\n",
        "legend(\"topright\",\n",
        "  legend = c(\"truth\", \"approximation\"),\n",
        "  col = c(\"orange\", \"blue\"), lty = 1\n",
        ")"
      ],
      "id": "2f83ebfa-fa38-4c43-a510-0d0e4a3563a4"
    },
    {
      "cell_type": "markdown",
      "metadata": {},
      "source": [
        "**Bayesian CLT Example (Two parameter)**\n",
        "\n",
        "*Data distribution*\n",
        "\n",
        "$y_1, y_2, \\ldots, y_n | \\mu, \\sigma^2 \\stackrel{i.i.d.}{\\sim} N(\\mu, \\sigma^2)$\n",
        "\n",
        "*Prior distribution*\n",
        "\n",
        "$\\mu \\sim U(10, 15)$,\n",
        "$p(\\sigma^2) \\propto N(0.5, 0.5^2) I_{(0, \\infty)}(\\sigma^2)$\n",
        "\n",
        "*Posterior distribution (Bayesian CLT)*\n",
        "\n",
        "Assuming $n$ is large, $\\theta = (\\mu, \\sigma^2)$, and\n",
        "$\\hat{\\theta} = \\hat{\\theta}_{MAP}$,\n",
        "$\\theta | y \\sim N(\\hat{\\theta}, I(\\hat{\\theta})^{-1}).$\n",
        "\n",
        "The data density is\n",
        "\n",
        "$$\n",
        "\\begin{aligned}\n",
        "p(y|\\theta) &= \\prod_{i=1}^n \\frac{1}{\\sqrt{2\\pi\\sigma^2}}\\exp\\left(-\\frac{1}{2\\sigma^2}(y_i-\\mu)^2\\right) \\\\\n",
        " &= (2\\pi)^{-n/2}\\left(\\sigma^2\\right)^{-n/2}\\exp\\left(-\\frac{1}{2\\sigma^2}\\sum_{i=1}^n(y_i-\\mu)^2\\right)\n",
        "\\end{aligned}\n",
        "$$ and $$\n",
        "\\ln p(y|\\theta) = \\mathrm{const} - \\frac{n}{2} \\ln \\left(\\sigma^2\\right) -\\frac{1}{2\\sigma^2}\\sum_{i=1}^n(y_i-\\mu)^2.\n",
        "$$\n",
        "\n",
        "The first partial derivatives of $\\ln p(y|\\theta)$ are\n",
        "$$\\frac{\\partial}{\\partial \\mu} \\ln p(y|\\theta) = \\frac{1}{\\sigma^2}\\sum_{i=1}^n(y_i-\\mu)$$\n",
        "and\n",
        "$$\\frac{\\partial}{\\partial \\sigma^2} \\ln p(y|\\theta) = -\\frac{n}{2\\sigma^2} +\\frac{1}{\\left(2\\sigma^2\\right)^2}\\sum_{i=1}^n(y_i-\\mu)^2.$$\n",
        "\n",
        "The second partial derivatives of $\\ln p(y|\\theta)$ are\n",
        "$$\\frac{\\partial^2}{\\partial \\mu^2} \\ln p(y|\\theta) = -\\frac{n}{\\sigma^2}$$\n",
        "and\n",
        "$$\\frac{\\partial^2}{\\partial \\left(\\sigma^2\\right)^2} \\ln p(y|\\theta) = \\frac{n}{2\\left(\\sigma^2\\right)^2} -\\frac{1}{\\left(\\sigma^2\\right)^3}\\sum_{i=1}^n(y_i-\\mu)^2$$\n",
        "and\n",
        "\n",
        "$$\\frac{\\partial^2}{\\partial \\mu \\partial \\sigma^2} \\ln p(y|\\theta) = -\\frac{1}{\\left(\\sigma^2\\right)^2}\\sum_{i=1}^n(y_i-\\mu)$$\n",
        "\n",
        "Thus, if $\\hat{\\theta} = (\\hat{\\mu}, \\hat{\\sigma}^2)$ is the MAP\n",
        "estimate of $\\theta = (\\mu, \\sigma^2)$, then the Bayesian CLT\n",
        "approximation of the posterior is\n",
        "$\\theta | y \\approx N(\\hat{\\theta}, I(\\hat{\\theta})^{-1})$, where\n",
        "\n",
        "$$\n",
        "I(\\hat{\\theta})^{-1} = \\begin{bmatrix}\n",
        "\\frac{n}{\\hat{\\sigma}^2} & \\frac{1}{\\left(\\hat{\\sigma}^2\\right)^2}\\sum_{i=1}^n(y_i-\\hat{\\mu})\\\\\n",
        "\\frac{1}{\\left(\\hat{\\sigma}^2\\right)^2}\\sum_{i=1}^n(y_i-\\hat{\\mu}) & -\\frac{n}{2\\left(\\hat{\\sigma}^2\\right)^2} +\\frac{1}{\\left(\\hat{\\sigma}^2\\right)^3}\\sum_{i=1}^n(y_i-\\hat{\\mu})^2\n",
        "\\end{bmatrix}^{-1}.\n",
        "$$\n",
        "\n",
        "Let’s generate some data."
      ],
      "id": "5ba0d07f-9737-4890-bef7-f665d508748f"
    },
    {
      "cell_type": "code",
      "execution_count": null,
      "metadata": {},
      "outputs": [],
      "source": [
        "# Generate some synthetic data\n",
        "# in practice, we just have some data\n",
        "set.seed(7)\n",
        "y <- rnorm(100, mean = 11, sd = 0.47)"
      ],
      "id": "8a659356-dc74-445b-a345-2121ff974e76"
    },
    {
      "cell_type": "markdown",
      "metadata": {},
      "source": [
        "Now we create functions related to the true posterior density. This\n",
        "wouldn’t normally be needed, but we want to assess how good our\n",
        "approximation is.\n",
        "\n",
        "We create a density function with a built-in correction to address the\n",
        "numerical underflow issue. The function takes:\n",
        "\n",
        "-   `theta`: a vector parameterized as $\\theta = (\\mu, \\sigma^2)$.\n",
        "-   `y`: data vector.\n",
        "-   `const`: the normalizing constant, which we don’t yet know. We use\n",
        "    1."
      ],
      "id": "bc1a4338-1676-48de-bd69-32f79fc3b022"
    },
    {
      "cell_type": "code",
      "execution_count": null,
      "metadata": {},
      "outputs": [],
      "source": [
        "dpost <- function(theta, y, const = 1) {\n",
        "  mu <- theta[1]\n",
        "  sigma <- sqrt(theta[2])\n",
        "  log_pdata <- sum(dnorm(y, mean = mu, sd = sigma, log = TRUE))\n",
        "  log_pmu <- dunif(mu, 10, 15, log = TRUE)\n",
        "  log_psigmasq <- dnorm(sigma^2, mean = 0.5, sd = 0.5, log = TRUE)\n",
        "  log_qtheta <- log_pdata + log_pmu + log_psigmasq\n",
        "  exp(log_qtheta + 70)/const\n",
        "}"
      ],
      "id": "24bc0987-8c8c-4799-9e90-665efd547faa"
    },
    {
      "cell_type": "markdown",
      "metadata": {},
      "source": [
        "We determine the normalizing constant over the interval\n",
        "$\\mu \\in [10, 15]$ and $\\sigma^2\\in[0, 2]$."
      ],
      "id": "3fe221b1-b815-4309-bb5f-31bcce7da7aa"
    },
    {
      "cell_type": "code",
      "execution_count": null,
      "metadata": {},
      "outputs": [
        {
          "output_type": "stream",
          "name": "stdout",
          "text": [
            "[1] 4.605349"
          ]
        }
      ],
      "source": [
        "(const <- cubintegrate(\n",
        "  f = dpost,\n",
        "  lower = c(10, 0),\n",
        "  upper = c(15, 2),\n",
        "  y = y\n",
        ")$integral)"
      ],
      "id": "fb57b8ab-e543-4543-9036-a854078d01b7"
    },
    {
      "cell_type": "markdown",
      "metadata": {},
      "source": [
        "Now, let’s determine our MAP estimate.\n",
        "\n",
        "We first define a function to evaluate the log unnormalized posterior."
      ],
      "id": "a10ce086-e35a-44e8-a7f7-886b03b75dbc"
    },
    {
      "cell_type": "code",
      "execution_count": null,
      "metadata": {},
      "outputs": [],
      "source": [
        "log_qtheta <- function(theta, y) {\n",
        "  mu <- theta[1]\n",
        "  sigma <- sqrt(theta[2])\n",
        "  log_pdata <- sum(dnorm(y, mean = mu, sd = sigma, log = TRUE))\n",
        "  log_pmu <- dunif(mu, 10, 15, log = TRUE)\n",
        "  log_psigmasq <- dnorm(sigma^2, mean = 0.5, sd = 0.5, log = TRUE)\n",
        "  log_pdata + log_pmu + log_psigmasq\n",
        "}"
      ],
      "id": "6b7a459c-3e0b-43ee-ac48-68626426d24d"
    },
    {
      "cell_type": "markdown",
      "metadata": {},
      "source": [
        "We now use the `optim` function to maximize the objective function.\n",
        "\n",
        "-   We use `fnscale = -1` to make `optim` perform maximization instead\n",
        "    of minimization"
      ],
      "id": "48ad9ad1-b12b-40ca-bed9-855ae34e4bba"
    },
    {
      "cell_type": "code",
      "execution_count": null,
      "metadata": {},
      "outputs": [
        {
          "output_type": "stream",
          "name": "stdout",
          "text": [
            "$par\n",
            "[1] 11.0651873  0.2020212\n",
            "\n",
            "$value\n",
            "[1] -63.69593\n",
            "\n",
            "$counts\n",
            "function gradient \n",
            "      33       33 \n",
            "\n",
            "$convergence\n",
            "[1] 0\n",
            "\n",
            "$message\n",
            "[1] \"CONVERGENCE: REL_REDUCTION_OF_F <= FACTR*EPSMCH\""
          ]
        }
      ],
      "source": [
        "(map <- optim(\n",
        "  par = c(12.5, 1),\n",
        "  f = log_qtheta,\n",
        "  lower = c(10.0001, 0.05),\n",
        "  upper = c(14.9999, 2),\n",
        "  method = \"L-BFGS-B\",\n",
        "  y = y,\n",
        "  control = list(fnscale = -1)\n",
        "))"
      ],
      "id": "0f586fc4-20d3-44b9-8f0c-dfbedad7d591"
    },
    {
      "cell_type": "markdown",
      "metadata": {},
      "source": [
        "Now, we build a function that returns the inverse of the observation\n",
        "information matrix."
      ],
      "id": "258d28fa-e0aa-4607-8b42-cafcd88acfb0"
    },
    {
      "cell_type": "code",
      "execution_count": null,
      "metadata": {},
      "outputs": [],
      "source": [
        "# return the observed information matrix\n",
        "inv_ihat <- function(thetahat, n) {\n",
        "  mu <- thetahat[1]\n",
        "  sigma <- sqrt(thetahat[2])\n",
        "  # 2nd derivative of log likelihood w/r to mu\n",
        "  d2dmu2 <- -n / sigma^2\n",
        "  # derivative of log likelihood w/r to mu and sigmasq\n",
        "  d2dmudsigmasq <- -sum((y - mu)) / sigma^4\n",
        "  # 2nd derivative of log likelihood w/r to sigmasq\n",
        "  d2dsigmasq2 <- n / (2 * sigma^4) - 1 / sigma^6 * sum((y - mu)^2)\n",
        "  #\n",
        "  H <- cbind(c(d2dmu2, d2dmudsigmasq), c(d2dmudsigmasq, d2dsigmasq2))\n",
        "  solve(-H)\n",
        "}"
      ],
      "id": "7a04c77e-6f6f-4c98-af14-7e99a0dc0070"
    },
    {
      "cell_type": "markdown",
      "metadata": {},
      "source": [
        "Now, we create a function that evaluates the bivariate normal\n",
        "approximation of the true density with respect to $\\theta$."
      ],
      "id": "9befcbd9-5b9e-4b6e-a4be-0d074868b230"
    },
    {
      "cell_type": "code",
      "execution_count": null,
      "metadata": {},
      "outputs": [],
      "source": [
        "# posterior approximation\n",
        "dpapprox <- function(theta, thetahat, vhat) {\n",
        "  mvtnorm::dmvnorm(x = theta, mean = thetahat, sigma = vhat)\n",
        "}"
      ],
      "id": "c715c4ff-4257-41ff-a194-c43ae160dddb"
    },
    {
      "cell_type": "markdown",
      "metadata": {},
      "source": [
        "Finally, we visually compare the results."
      ],
      "id": "aad016a5-4ce2-4b39-aaca-6cf36ac69c76"
    },
    {
      "cell_type": "code",
      "execution_count": null,
      "metadata": {},
      "outputs": [
        {
          "output_type": "display_data",
          "metadata": {},
          "data": {
            "image/png": "[encoded data removed]"
          }
        }
      ],
      "source": [
        "# create sequence of values for mu and sigmasq\n",
        "mymu <- seq(10.95, 11.2, length = 200)\n",
        "mysigmasq <- seq(0.14, 0.29, length = 200)\n",
        "# create grid\n",
        "mytheta <- expand.grid(mymu, mysigmasq)\n",
        "\n",
        "# for each row of mytheta, plug it into dpost function\n",
        "z <- apply(mytheta, 1, function(theta) {\n",
        "  dpost(theta, y = y, const = const)\n",
        "})\n",
        "\n",
        "# convert z to matrix for plotting\n",
        "zmat <- matrix(z, nrow = length(mymu))\n",
        "\n",
        "# compute observed Information outside of loop\n",
        "vhat <- inv_ihat(map$par, length(y))\n",
        "zhat <- mvtnorm::dmvnorm(\n",
        "  x = mytheta,\n",
        "  mean = map$par,\n",
        "  sigma = vhat\n",
        ")\n",
        "# convert z to matrix for plotting\n",
        "zhatmat <- matrix(zhat, nrow = length(mymu))\n",
        "\n",
        "# side-by-side results\n",
        "par(mfrow = c(1, 2))\n",
        "\n",
        "# create heat map of objective surface\n",
        "image(mymu, mysigmasq, zmat,\n",
        "  col = hcl.colors(64, rev = TRUE),\n",
        "  xlab = expression(mu),\n",
        "  ylab = expression(sigma^2),\n",
        "  zlim = range(c(z, zhat))\n",
        ")\n",
        "# add contours\n",
        "contour(mymu, mysigmasq, zmat,\n",
        "  add = TRUE\n",
        ")\n",
        "title(\"true posterior\")\n",
        "\n",
        "# create heat map of approximation surface\n",
        "image(mymu, mysigmasq, zhatmat,\n",
        "  col = hcl.colors(64, rev = TRUE),\n",
        "  xlab = expression(mu),\n",
        "  ylab = expression(sigma^2),\n",
        "  zlim = c(range(c(z, zhat)))\n",
        ")\n",
        "# add contours\n",
        "contour(mymu, mysigmasq, zhatmat, add = TRUE)\n",
        "title(\"normal approximation\")"
      ],
      "id": "a2337531-a026-4753-b4df-6b02e01bbb70"
    }
  ],
  "nbformat": 4,
  "nbformat_minor": 5,
  "metadata": {
    "kernelspec": {
      "display_name": "Python 3",
      "language": "python",
      "name": "python3"
    }
  }
}