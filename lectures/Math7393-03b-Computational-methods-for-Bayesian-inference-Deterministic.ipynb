{
  "cells": [
    {
      "cell_type": "markdown",
      "id": "6c9fae34-0a9a-46c6-a83b-0b6273ec3f76",
      "metadata": {},
      "source": [
        "# Computational methods for Bayesian inference\n",
        "\n",
        "Joshua French\n",
        "\n",
        "We start by installing needed packages, if necessary, and then loading\n",
        "them."
      ]
    },
    {
      "cell_type": "code",
      "execution_count": null,
      "id": "1f894eba-3c35-4467-9310-5980507fd968",
      "metadata": {
        "vscode": {
          "languageId": "r"
        }
      },
      "outputs": [],
      "source": [
        "if(!require(mvtnorm, quietly = TRUE)) {\n",
        "  install.packages(\"mvtnorm\", repos = \"https://cran.rstudio.com/\")\n",
        "}\n",
        "if(!require(cubature, quietly = TRUE)) {\n",
        "  install.packages(\"cubature\", repos = \"https://cran.rstudio.com/\")\n",
        "}\n",
        "library(mvtnorm)\n",
        "library(cubature)"
      ]
    },
    {
      "attachments": {},
      "cell_type": "markdown",
      "id": "6d08e8b7-381d-45bd-a108-6bd7939e5b8e",
      "metadata": {},
      "source": [
        "# Deterministic methods\n",
        "\n",
        "## MAP estimation\n",
        "\n",
        "The *maximum a posteriori* estimator, $\\hat{\\theta}_{\\textrm{MAP}}$,\n",
        "summarizes the posterior with the parameter values that maximize the\n",
        "posterior distribution, i.e.,\n",
        "$$\\hat{\\theta}_{\\textrm{MAP}} = \\text{argmax}_{\\theta} \\ln p(\\theta | y) = \\text{argmax}_{\\theta} \\ln p(y | \\theta ) + \\ln p(\\theta).$$\n",
        "\n",
        "**MAP Example 1**\n",
        "\n",
        "*Data distribution*\n",
        "\n",
        "$y_1, \\ldots, y_n \\mid \\theta \\stackrel{i.i.d.}{\\sim} \\text{Poisson}(\\theta)$\n",
        "\n",
        "pdf:\n",
        "\n",
        "<br>  \n",
        "<br>\n",
        "\n",
        "*Prior distribution*\n",
        "\n",
        "$\\theta \\sim \\text{Exp}(1)$\n",
        "\n",
        "pdf:\n",
        "\n",
        "<br>  \n",
        "<br>\n",
        "\n",
        "*Posterior distribution*\n",
        "\n",
        "pdf:\n",
        "\n",
        "<br>  \n",
        "<br>\n",
        "\n",
        "$\\ln p(\\theta \\mid y) \\propto \\text{const} - (n + 1) \\theta + \\sum y_i \\ln(\\theta)$\n",
        "\n",
        "Let’s start by generating some data."
      ]
    },
    {
      "cell_type": "code",
      "execution_count": 5,
      "id": "b8fffb8c-cc13-4b85-b1d6-a7d54795da22",
      "metadata": {
        "vscode": {
          "languageId": "r"
        }
      },
      "outputs": [],
      "source": [
        "# Generate some synthetic data from a Poisson(0.5)\n",
        "set.seed(8)\n",
        "y <- rpois(10, lambda = 0.5)"
      ]
    },
    {
      "cell_type": "markdown",
      "id": "364867cc-0108-4ed4-ba28-b0dfee604b38",
      "metadata": {},
      "source": [
        "Now, we create a function to compute the log of the unnormalized\n",
        "posterior."
      ]
    },
    {
      "cell_type": "code",
      "execution_count": 6,
      "id": "d50f72c0-ef6c-4259-b106-8a8b69c8a28d",
      "metadata": {
        "vscode": {
          "languageId": "r"
        }
      },
      "outputs": [],
      "source": [
        "# create function for log unnormalized posterior\n",
        "# theta = estimand\n",
        "# sumy = sum(y)\n",
        "# n = sample size\n",
        "lup <- function(theta, sumy, n) {\n",
        "  -(n + 1) * theta + sumy * log(theta)\n",
        "}"
      ]
    },
    {
      "cell_type": "markdown",
      "id": "f535faef-20ce-461c-a862-92c17002c037",
      "metadata": {},
      "source": [
        "We now use the `optimize` function to optimize the objective function,\n",
        "`lup`, between 0 and 1.\n",
        "\n",
        "-   We start our search `interval` just above 0 to avoid numerical\n",
        "    issues.\n",
        "-   We set `maximum` to `TRUE` to find the parameter that maximizes the\n",
        "    objection function, `lup`."
      ]
    },
    {
      "cell_type": "code",
      "execution_count": 8,
      "id": "af102b1b-4e09-49a8-aade-e23bf69ae582",
      "metadata": {
        "vscode": {
          "languageId": "r"
        }
      },
      "outputs": [
        {
          "data": {
            "text/html": [
              "<dl>\n",
              "\t<dt>$maximum</dt>\n",
              "\t\t<dd>0.636370455717938</dd>\n",
              "\t<dt>$objective</dt>\n",
              "\t\t<dd>-10.1638958666033</dd>\n",
              "</dl>\n"
            ],
            "text/latex": [
              "\\begin{description}\n",
              "\\item[\\$maximum] 0.636370455717938\n",
              "\\item[\\$objective] -10.1638958666033\n",
              "\\end{description}\n"
            ],
            "text/markdown": [
              "$maximum\n",
              ":   0.636370455717938\n",
              "$objective\n",
              ":   -10.1638958666033\n",
              "\n",
              "\n"
            ],
            "text/plain": [
              "$maximum\n",
              "[1] 0.6363705\n",
              "\n",
              "$objective\n",
              "[1] -10.1639\n"
            ]
          },
          "metadata": {},
          "output_type": "display_data"
        }
      ],
      "source": [
        "(map <- optimize(\n",
        "  f = lup, interval = c(0.0001, 10),\n",
        "  maximum = TRUE,\n",
        "  sumy = sum(y), n = length(y)\n",
        "))"
      ]
    },
    {
      "cell_type": "markdown",
      "id": "3258f548-8d03-48c3-b270-da815e60e439",
      "metadata": {},
      "source": [
        "We plot our results to double-check accuracy."
      ]
    },
    {
      "cell_type": "code",
      "execution_count": 9,
      "id": "a66edcbb-4750-4b4f-8286-daac98ed029a",
      "metadata": {
        "vscode": {
          "languageId": "r"
        }
      },
      "outputs": [
        {
          "data": {
            "image/png": "[encoded data removed]",
            "text/plain": [
              "plot without title"
            ]
          },
          "metadata": {
            "image/png": {
              "height": 420,
              "width": 420
            }
          },
          "output_type": "display_data"
        }
      ],
      "source": [
        "# domain of plot\n",
        "mytheta <- seq(0.0001, 1, length = 1000)\n",
        "# plot function\n",
        "plot(mytheta, lup(mytheta, sumy = sum(y), n = length(y)),\n",
        "  type = \"l\",\n",
        "  xlab = \"theta\", ylab = \"propto log posterior\"\n",
        ")\n",
        "# show maximum\n",
        "abline(v = map$maximum)"
      ]
    },
    {
      "cell_type": "markdown",
      "id": "23ab899a-9aab-435d-8e42-d0509f1aa2c8",
      "metadata": {},
      "source": [
        "We now use a different approach that doesn’t simplify ahead of time.\n",
        "Note that\n",
        "\n",
        "$$\n",
        "\\begin{aligned}\n",
        "\\ln [p(y\\mid \\theta)p(\\theta)] &= \\ln p(y\\mid \\theta) + \\ln p(\\theta) \\\\\n",
        "&= \\ln \\left(\\prod_{i=1}^n p(y_i\\mid\\theta)\\right) + \\ln p(\\theta) \\\\\n",
        "&= \\sum_{i=1}^n \\ln p(y_i\\mid\\theta) + \\ln p(\\theta).\n",
        "\\end{aligned}\n",
        "$$"
      ]
    },
    {
      "cell_type": "code",
      "execution_count": 11,
      "id": "6772e60b-9cab-4b51-8379-503ef707e695",
      "metadata": {
        "vscode": {
          "languageId": "r"
        }
      },
      "outputs": [
        {
          "data": {
            "text/html": [
              "<dl>\n",
              "\t<dt>$maximum</dt>\n",
              "\t\t<dd>0.636370455717878</dd>\n",
              "\t<dt>$objective</dt>\n",
              "\t\t<dd>-10.8570430471633</dd>\n",
              "</dl>\n"
            ],
            "text/latex": [
              "\\begin{description}\n",
              "\\item[\\$maximum] 0.636370455717878\n",
              "\\item[\\$objective] -10.8570430471633\n",
              "\\end{description}\n"
            ],
            "text/markdown": [
              "$maximum\n",
              ":   0.636370455717878\n",
              "$objective\n",
              ":   -10.8570430471633\n",
              "\n",
              "\n"
            ],
            "text/plain": [
              "$maximum\n",
              "[1] 0.6363705\n",
              "\n",
              "$objective\n",
              "[1] -10.85704\n"
            ]
          },
          "metadata": {},
          "output_type": "display_data"
        }
      ],
      "source": [
        "# second version of log unnormalized posterior\n",
        "lup2 <- function(theta, y) {\n",
        "  sum(dpois(y, lambda = theta, log = TRUE)) +\n",
        "    dexp(theta, rate = 1, log = TRUE)\n",
        "}\n",
        "\n",
        "# same results!\n",
        "optimize(\n",
        "  f = lup2, interval = c(0.0001, 10), maximum = TRUE,\n",
        "  y = y\n",
        ")"
      ]
    },
    {
      "attachments": {},
      "cell_type": "markdown",
      "id": "b92437a9-82dd-4515-bb6f-aabb664cb6c8",
      "metadata": {},
      "source": [
        "**MAP Example 2 (2 parameter)**\n",
        "\n",
        "*Data distribution*\n",
        "\n",
        "$y_1, ..., y_n \\mid \\mu, \\sigma^2 \\stackrel{i.i.d.}{\\sim} N(\\mu, \\sigma^2)$\n",
        "\n",
        "pdf:\n",
        "\n",
        "<br>  \n",
        "<br>\n",
        "\n",
        "*Prior distribution*\n",
        "\n",
        "$\\mu \\sim U(10, 15)$\n",
        "\n",
        "pdf:\n",
        "\n",
        "<br>  \n",
        "<br>\n",
        "\n",
        "$\\sigma^2 \\sim N(0.5, 0.25) I_{(0,\\infty)}(\\sigma^2)$\n",
        "\n",
        "pdf:\n",
        "\n",
        "<br>  \n",
        "<br>\n",
        "\n",
        "This is essentially a truncated normal with a different scaling\n",
        "constant.\n",
        "\n",
        "We start by generating some fake data."
      ]
    },
    {
      "cell_type": "code",
      "execution_count": 12,
      "id": "9bc3d739-c18e-4899-8d28-df627ef5332b",
      "metadata": {
        "vscode": {
          "languageId": "r"
        }
      },
      "outputs": [],
      "source": [
        "# Generate some synthetic data\n",
        "# Normal with mean 11 and sd = 0.47\n",
        "set.seed(7)\n",
        "y <- rnorm(10, mean = 11, sd = 0.47)"
      ]
    },
    {
      "cell_type": "markdown",
      "id": "77f03575-005c-47b6-8a8c-373847bff4b1",
      "metadata": {},
      "source": [
        "We program the negative log of the unnormalized posterior density.\n",
        "\n",
        "-   The function takes $\\theta = (\\mu, \\sigma^2)$.\n",
        "-   We *don’t* constrain $\\mu$ to be between 10 and 15 and $\\sigma^2$ to\n",
        "    be positive only because we will do this constraint in our\n",
        "    optimization.\n",
        "-   We multiply the log posterior by -1 so that instead of trying to\n",
        "    maximize the log unnormalized posterior, we minimize the negative\n",
        "    log unnormalized posterior."
      ]
    },
    {
      "cell_type": "code",
      "execution_count": 14,
      "id": "f7853e4b-8629-471b-b20f-2b9a068d7b57",
      "metadata": {
        "vscode": {
          "languageId": "r"
        }
      },
      "outputs": [],
      "source": [
        "nlup <- function(theta, y) {\n",
        "  mu <- theta[1]\n",
        "  sigma <- sqrt(theta[2])\n",
        "  obj <- sum(dnorm(y, mean = mu, sd = sigma, log = TRUE)) +\n",
        "    dunif(mu, 10, 15, log = TRUE) +\n",
        "    dnorm(sigma^2, mean = 0.5, sd = 0.5, log = TRUE)\n",
        "  -obj\n",
        "}"
      ]
    },
    {
      "cell_type": "markdown",
      "id": "b2379d02-acec-430d-b2fc-67b2ede4c09b",
      "metadata": {},
      "source": [
        "We now use the `optim` function to perform multi-dimensional\n",
        "optimization.\n",
        "\n",
        "-   `par`: vector of starting values\n",
        "-   `f`: function to MINIMIZE. The first argument must be the argument\n",
        "    you want to optimize over.\n",
        "-   `lower`: the constraints on the lower bound\n",
        "-   `upper`: the constraints on the upper bound\n",
        "-   `method`: the optimization method. `\"L-BFGS-B\"` allows use to\n",
        "    specify constraints.\n",
        "-   `control`: list of optional tuning parameters.\n",
        "-   The remaining arguments are the arguments that must be supplied to\n",
        "    `f`."
      ]
    },
    {
      "cell_type": "code",
      "execution_count": 17,
      "id": "4eed25f6-05ac-49e7-ae50-7743a4b6fe57",
      "metadata": {
        "vscode": {
          "languageId": "r"
        }
      },
      "outputs": [
        {
          "data": {
            "text/html": [
              "<dl>\n",
              "\t<dt>$par</dt>\n",
              "\t\t<dd><style>\n",
              ".list-inline {list-style: none; margin:0; padding: 0}\n",
              ".list-inline>li {display: inline-block}\n",
              ".list-inline>li:not(:last-child)::after {content: \"\\00b7\"; padding: 0 .5ex}\n",
              "</style>\n",
              "<ol class=list-inline><li>11.0488685591226</li><li>0.333794553221279</li></ol>\n",
              "</dd>\n",
              "\t<dt>$value</dt>\n",
              "\t\t<dd>10.3717733516639</dd>\n",
              "\t<dt>$counts</dt>\n",
              "\t\t<dd><style>\n",
              ".dl-inline {width: auto; margin:0; padding: 0}\n",
              ".dl-inline>dt, .dl-inline>dd {float: none; width: auto; display: inline-block}\n",
              ".dl-inline>dt::after {content: \":\\0020\"; padding-right: .5ex}\n",
              ".dl-inline>dt:not(:first-of-type) {padding-left: .5ex}\n",
              "</style><dl class=dl-inline><dt>function</dt><dd>17</dd><dt>gradient</dt><dd>17</dd></dl>\n",
              "</dd>\n",
              "\t<dt>$convergence</dt>\n",
              "\t\t<dd>0</dd>\n",
              "\t<dt>$message</dt>\n",
              "\t\t<dd>'CONVERGENCE: REL_REDUCTION_OF_F &lt;= FACTR*EPSMCH'</dd>\n",
              "</dl>\n"
            ],
            "text/latex": [
              "\\begin{description}\n",
              "\\item[\\$par] \\begin{enumerate*}\n",
              "\\item 11.0488685591226\n",
              "\\item 0.333794553221279\n",
              "\\end{enumerate*}\n",
              "\n",
              "\\item[\\$value] 10.3717733516639\n",
              "\\item[\\$counts] \\begin{description*}\n",
              "\\item[function] 17\n",
              "\\item[gradient] 17\n",
              "\\end{description*}\n",
              "\n",
              "\\item[\\$convergence] 0\n",
              "\\item[\\$message] 'CONVERGENCE: REL\\_REDUCTION\\_OF\\_F <= FACTR*EPSMCH'\n",
              "\\end{description}\n"
            ],
            "text/markdown": [
              "$par\n",
              ":   1. 11.0488685591226\n",
              "2. 0.333794553221279\n",
              "\n",
              "\n",
              "\n",
              "$value\n",
              ":   10.3717733516639\n",
              "$counts\n",
              ":   function\n",
              ":   17gradient\n",
              ":   17\n",
              "\n",
              "\n",
              "$convergence\n",
              ":   0\n",
              "$message\n",
              ":   'CONVERGENCE: REL_REDUCTION_OF_F &lt;= FACTR*EPSMCH'\n",
              "\n",
              "\n"
            ],
            "text/plain": [
              "$par\n",
              "[1] 11.0488686  0.3337946\n",
              "\n",
              "$value\n",
              "[1] 10.37177\n",
              "\n",
              "$counts\n",
              "function gradient \n",
              "      17       17 \n",
              "\n",
              "$convergence\n",
              "[1] 0\n",
              "\n",
              "$message\n",
              "[1] \"CONVERGENCE: REL_REDUCTION_OF_F <= FACTR*EPSMCH\"\n"
            ]
          },
          "metadata": {},
          "output_type": "display_data"
        }
      ],
      "source": [
        "optim(\n",
        "  par = c(12.5, 1),\n",
        "  f = nlup,\n",
        "  lower = c(10.0001, 0.05),\n",
        "  upper = c(14.9999, 2),\n",
        "  method = \"L-BFGS-B\",\n",
        "  y = y\n",
        ")"
      ]
    },
    {
      "cell_type": "markdown",
      "id": "554a6d20-aeac-4206-981f-5187aa463944",
      "metadata": {},
      "source": [
        "`nlminb` is an alternative optimizer that is more robust (from my\n",
        "personal experience.)\n",
        "\n",
        "-   The arguments are self-explanatory."
      ]
    },
    {
      "cell_type": "code",
      "execution_count": 16,
      "id": "c078ce67-02e9-438f-b4e0-3ddbbb9619d8",
      "metadata": {
        "vscode": {
          "languageId": "r"
        }
      },
      "outputs": [
        {
          "data": {
            "text/html": [
              "<dl>\n",
              "\t<dt>$par</dt>\n",
              "\t\t<dd><style>\n",
              ".list-inline {list-style: none; margin:0; padding: 0}\n",
              ".list-inline>li {display: inline-block}\n",
              ".list-inline>li:not(:last-child)::after {content: \"\\00b7\"; padding: 0 .5ex}\n",
              "</style>\n",
              "<ol class=list-inline><li>11.0488677881752</li><li>0.333793546875569</li></ol>\n",
              "</dd>\n",
              "\t<dt>$objective</dt>\n",
              "\t\t<dd>10.3717733516113</dd>\n",
              "\t<dt>$convergence</dt>\n",
              "\t\t<dd>0</dd>\n",
              "\t<dt>$iterations</dt>\n",
              "\t\t<dd>11</dd>\n",
              "\t<dt>$evaluations</dt>\n",
              "\t\t<dd><style>\n",
              ".dl-inline {width: auto; margin:0; padding: 0}\n",
              ".dl-inline>dt, .dl-inline>dd {float: none; width: auto; display: inline-block}\n",
              ".dl-inline>dt::after {content: \":\\0020\"; padding-right: .5ex}\n",
              ".dl-inline>dt:not(:first-of-type) {padding-left: .5ex}\n",
              "</style><dl class=dl-inline><dt>function</dt><dd>16</dd><dt>gradient</dt><dd>30</dd></dl>\n",
              "</dd>\n",
              "\t<dt>$message</dt>\n",
              "\t\t<dd>'relative convergence (4)'</dd>\n",
              "</dl>\n"
            ],
            "text/latex": [
              "\\begin{description}\n",
              "\\item[\\$par] \\begin{enumerate*}\n",
              "\\item 11.0488677881752\n",
              "\\item 0.333793546875569\n",
              "\\end{enumerate*}\n",
              "\n",
              "\\item[\\$objective] 10.3717733516113\n",
              "\\item[\\$convergence] 0\n",
              "\\item[\\$iterations] 11\n",
              "\\item[\\$evaluations] \\begin{description*}\n",
              "\\item[function] 16\n",
              "\\item[gradient] 30\n",
              "\\end{description*}\n",
              "\n",
              "\\item[\\$message] 'relative convergence (4)'\n",
              "\\end{description}\n"
            ],
            "text/markdown": [
              "$par\n",
              ":   1. 11.0488677881752\n",
              "2. 0.333793546875569\n",
              "\n",
              "\n",
              "\n",
              "$objective\n",
              ":   10.3717733516113\n",
              "$convergence\n",
              ":   0\n",
              "$iterations\n",
              ":   11\n",
              "$evaluations\n",
              ":   function\n",
              ":   16gradient\n",
              ":   30\n",
              "\n",
              "\n",
              "$message\n",
              ":   'relative convergence (4)'\n",
              "\n",
              "\n"
            ],
            "text/plain": [
              "$par\n",
              "[1] 11.0488678  0.3337935\n",
              "\n",
              "$objective\n",
              "[1] 10.37177\n",
              "\n",
              "$convergence\n",
              "[1] 0\n",
              "\n",
              "$iterations\n",
              "[1] 11\n",
              "\n",
              "$evaluations\n",
              "function gradient \n",
              "      16       30 \n",
              "\n",
              "$message\n",
              "[1] \"relative convergence (4)\"\n"
            ]
          },
          "metadata": {},
          "output_type": "display_data"
        }
      ],
      "source": [
        "(map <- nlminb(\n",
        "  start = c(12.5, 1),\n",
        "  objective = nlup,\n",
        "  lower = c(10.0001, 0.0001),\n",
        "  upper = c(14.9999, 2),\n",
        "  y = y\n",
        "))"
      ]
    },
    {
      "cell_type": "markdown",
      "id": "dcade049-1876-4e01-a0ba-40dc6a026a0c",
      "metadata": {},
      "source": [
        "Let’s plot our results."
      ]
    },
    {
      "cell_type": "code",
      "execution_count": 18,
      "id": "c29b7454-fce2-4d72-8fd3-881282bf5e79",
      "metadata": {
        "vscode": {
          "languageId": "r"
        }
      },
      "outputs": [
        {
          "data": {
            "image/png": "[encoded data removed]",
            "text/plain": [
              "Plot with title \"log posterior density (unnormalized)\""
            ]
          },
          "metadata": {
            "image/png": {
              "height": 420,
              "width": 420
            }
          },
          "output_type": "display_data"
        }
      ],
      "source": [
        "# create sequence of values for mu and sigmasq\n",
        "mymu <- seq(10.8, 11.2, length = 200)\n",
        "mysigmasq <- seq(0.15, 0.45, length = 200)\n",
        "# create grid\n",
        "mytheta <- expand.grid(mymu, mysigmasq)\n",
        "# for each row of mytheta, plug it into nlup function\n",
        "z <- apply(mytheta, 1, function(theta) {\n",
        "  nlup(theta, y = y)\n",
        "})\n",
        "# convert z to matrix for plotting\n",
        "zmat <- matrix(z, nrow = length(mymu))\n",
        "# create heat map of objective surface\n",
        "image(mymu, mysigmasq, zmat,\n",
        "  col = hcl.colors(64, rev = TRUE),\n",
        "  xlab = expression(mu), ylab = expression(sigma^2)\n",
        ")\n",
        "# add contours\n",
        "contour(mymu, mysigmasq, zmat, add = TRUE)\n",
        "# place point for posterior mode\n",
        "points(map$par[1], map$par[2], pch = 20)\n",
        "title(\"log posterior density (unnormalized)\")"
      ]
    },
    {
      "cell_type": "markdown",
      "id": "e70b102d-fff2-46b0-bc9c-867eded3bcd9",
      "metadata": {},
      "source": [
        "## Cubature methods\n",
        "\n",
        "Cubature methods approximate an integral by evaluating a function at a\n",
        "finite number of points and aggregating the results. (We won’t discuss\n",
        "specifics.)\n",
        "\n",
        "**Cubature method example (Beta-Binomial)**\n",
        "\n",
        "*Data distribution*\n",
        "\n",
        "$y \\mid \\theta \\sim \\text{Bin}(n, \\theta)$.\n",
        "\n",
        "Let’s assume $n=980$ and $y=437$.\n",
        "\n",
        "*Prior distribution*\n",
        "\n",
        "$\\theta \\sim \\text{Beta}(\\alpha, \\beta)$.\n",
        "\n",
        "Let’s assume $\\alpha=\\beta=1$.\n",
        "\n",
        "*Posterior distribution*\n",
        "\n",
        "$\\theta \\mid y \\sim \\text{Beta}(y + \\alpha, n - y + \\beta)$.\n",
        "\n",
        "This has posterior mean $\\frac{y + \\alpha}{n + \\alpha + \\beta}$.\n",
        "\n",
        "Based on our assumptions above,\n",
        "$\\theta \\mid y \\sim \\text{Beta}(438, 544)$.\n",
        "\n",
        "*Posterior predictive distribution*\n",
        "\n",
        "$P(\\tilde{y} = 1 \\mid y) = \\frac{y + \\alpha}{n + \\alpha + \\beta}$.\n",
        "\n",
        "Based on previous assumptions,\n",
        "$P(\\tilde{y} = 1 \\mid y) = 448/(438 + 544) \\approx 0.446$.\n",
        "\n",
        "Let’s use the cubature method to approximate some of these.\n",
        "\n",
        "We start by defining the posterior density with a generic normalizing\n",
        "constant."
      ]
    },
    {
      "cell_type": "code",
      "execution_count": 19,
      "id": "36f74d3e-af08-47f4-85d2-918a9f162b75",
      "metadata": {
        "vscode": {
          "languageId": "r"
        }
      },
      "outputs": [],
      "source": [
        "# unnormalized posterior\n",
        "dpost <- function(theta, const = 1) {\n",
        "  dbinom(x = 437, size = 980, prob = theta) *\n",
        "    dbeta(theta, shape1 = 1, shape2 = 1) /\n",
        "    const\n",
        "}"
      ]
    },
    {
      "cell_type": "markdown",
      "id": "8931b733-425f-46df-9580-fc1c7f37bfc8",
      "metadata": {},
      "source": [
        "We determine the normalizing constant."
      ]
    },
    {
      "cell_type": "code",
      "execution_count": 20,
      "id": "17fb722d-4685-4b18-b4aa-729e21366546",
      "metadata": {
        "vscode": {
          "languageId": "r"
        }
      },
      "outputs": [
        {
          "data": {
            "text/html": [
              "0.00101936799151945"
            ],
            "text/latex": [
              "0.00101936799151945"
            ],
            "text/markdown": [
              "0.00101936799151945"
            ],
            "text/plain": [
              "[1] 0.001019368"
            ]
          },
          "metadata": {},
          "output_type": "display_data"
        }
      ],
      "source": [
        "(nconst <- integrate(dpost, lower = 0, upper = 1)$value)"
      ]
    },
    {
      "cell_type": "markdown",
      "id": "b3e379b2-2953-4ea0-a914-f4724bb4ff17",
      "metadata": {},
      "source": [
        "Now, we define the function $\\theta p(\\theta \\mid y)$."
      ]
    },
    {
      "cell_type": "code",
      "execution_count": 21,
      "id": "d8dc2dbc-2299-44b4-84cd-9bd16d724c29",
      "metadata": {
        "vscode": {
          "languageId": "r"
        }
      },
      "outputs": [],
      "source": [
        "# theta * posterior\n",
        "mean_target <- function(theta, const) {\n",
        "  theta * dpost(theta, const)\n",
        "}"
      ]
    },
    {
      "cell_type": "markdown",
      "id": "efd66e9b-82e7-477d-81e9-40af5ff2a90d",
      "metadata": {},
      "source": [
        "We integrate $\\theta p(\\theta \\mid y)$ for $\\theta \\in [0, 1]$."
      ]
    },
    {
      "cell_type": "code",
      "execution_count": 22,
      "id": "1135621e-60bd-4e9b-bcaa-06fbbab60f0f",
      "metadata": {
        "vscode": {
          "languageId": "r"
        }
      },
      "outputs": [
        {
          "data": {
            "text/plain": [
              "0.4460285 with absolute error < 8.3e-05"
            ]
          },
          "metadata": {},
          "output_type": "display_data"
        }
      ],
      "source": [
        "# compute posterior mean using cubature\n",
        "integrate(mean_target, lower = 0, upper = 1, const = nconst)"
      ]
    },
    {
      "cell_type": "markdown",
      "id": "595c5670-e39d-4593-a61a-c4777023440d",
      "metadata": {},
      "source": [
        "Next, we define the function that evaluates\n",
        "$P(\\tilde{y} = 1 \\mid \\theta) p(\\theta \\mid y)$."
      ]
    },
    {
      "cell_type": "code",
      "execution_count": 23,
      "id": "11b5528e-adef-4837-b260-c33015e1ca8f",
      "metadata": {
        "vscode": {
          "languageId": "r"
        }
      },
      "outputs": [],
      "source": [
        "# pytilde * ptarget\n",
        "pytilde_target <- function(theta, const) {\n",
        "  dbinom(x = 1, size = 1, prob = theta) *\n",
        "    dpost(theta, const)\n",
        "}"
      ]
    },
    {
      "cell_type": "markdown",
      "id": "20b4da5c-4dbb-4cea-9bce-f1bdb9c15b5a",
      "metadata": {},
      "source": [
        "Lastly, we integrate that function to compute\n",
        "$P(\\tilde{y} = 1 \\mid \\theta)$."
      ]
    },
    {
      "cell_type": "code",
      "execution_count": 24,
      "id": "acf0275d-3245-4bd5-bcea-a8bc24da2db2",
      "metadata": {
        "vscode": {
          "languageId": "r"
        }
      },
      "outputs": [
        {
          "data": {
            "text/plain": [
              "0.4460285 with absolute error < 8.3e-05"
            ]
          },
          "metadata": {},
          "output_type": "display_data"
        }
      ],
      "source": [
        "# posterior predictive probability\n",
        "integrate(pytilde_target, lower = 0, upper = 1, const = nconst)"
      ]
    },
    {
      "attachments": {},
      "cell_type": "markdown",
      "id": "1e752061-3df8-4b66-b38e-6eec1448ee3d",
      "metadata": {},
      "source": [
        "## Bayesian CLT for $N(\\mu,\\sigma^2)$\n",
        "\n",
        "**Example 1**\n",
        "\n",
        "*Data distribution*\n",
        "\n",
        "$y_1, ..., y_n \\mid \\theta \\stackrel{i.i.d}{\\sim} \\text{Poisson}(\\theta)$\n",
        "\n",
        "*Prior distribution*\n",
        "\n",
        "$\\theta \\sim \\text{Exp}(1)$\n",
        "\n",
        "*Negative Hessian,* $-H(\\theta)$\n",
        "\n",
        "$-\\frac{d^2}{d\\theta^2} \\ln p(y \\mid \\theta) = \\frac{\\sum y_i}{\\theta^2}$.\n",
        "\n",
        "*Approximate posterior distribution*\n",
        "\n",
        "For a large sample of data,\n",
        "$p(\\theta \\mid y) \\approx N(\\hat{\\theta}, \\hat{\\theta}^2/\\sum y_i)$.\n",
        "\n",
        "We start be generating a small data set."
      ]
    },
    {
      "cell_type": "code",
      "execution_count": 25,
      "id": "e2e2076d-a4b9-43be-b9e7-94bc934f16f9",
      "metadata": {
        "vscode": {
          "languageId": "r"
        }
      },
      "outputs": [],
      "source": [
        "# Generate some synthetic data\n",
        "# Poisson with mean of 0.5\n",
        "set.seed(3) # for reproducibility\n",
        "y <- rpois(10, lambda = 0.5)"
      ]
    },
    {
      "cell_type": "markdown",
      "id": "1bc776b2-9147-446a-b572-446dabb938f0",
      "metadata": {},
      "source": [
        "We now define the posterior density with a generic normalizing constant."
      ]
    },
    {
      "cell_type": "code",
      "execution_count": 26,
      "id": "fd659dd3-f4d0-44e3-8624-3219a579892a",
      "metadata": {
        "vscode": {
          "languageId": "r"
        }
      },
      "outputs": [],
      "source": [
        "dpost <- function(theta, y, const = 1) {\n",
        "  log_pdata <- sum(dpois(y, lambda = theta, log = TRUE))\n",
        "  log_pprior <- dexp(theta, rate = 1, log = TRUE)\n",
        "  exp(log_pdata + log_pprior - log(const))\n",
        "}"
      ]
    },
    {
      "cell_type": "markdown",
      "id": "a42af2e8-4464-4e3b-96df-6021db007ceb",
      "metadata": {},
      "source": [
        "Let’s try plotting this function to help us determine what we should be\n",
        "maximizing over."
      ]
    },
    {
      "cell_type": "code",
      "execution_count": 27,
      "id": "b1446cad-bb6e-414b-a20d-886959b8c1ee",
      "metadata": {
        "vscode": {
          "languageId": "r"
        }
      },
      "outputs": [
        {
          "data": {
            "image/png": "[encoded data removed]",
            "text/plain": [
              "plot without title"
            ]
          },
          "metadata": {
            "image/png": {
              "height": 420,
              "width": 420
            }
          },
          "output_type": "display_data"
        }
      ],
      "source": [
        "# plot dpost to determine what to maximize over\n",
        "x <- seq(0.001, 10, len = 1000)\n",
        "plot(x, dpost(theta = x, y = y), type = \"l\", )"
      ]
    },
    {
      "cell_type": "markdown",
      "id": "1aa83fb9-25e9-4810-828c-0c6c7b0c8e5e",
      "metadata": {},
      "source": [
        "We’re getting weird results because `dpost` is trying to evaluate\n",
        "`dpois` with a vector `y` and a vector `theta` whose dimensions are\n",
        "incompatible.\n",
        "\n",
        "We want to evaluate `dpois(y, ...)` for *each* value of `theta`.\n",
        "\n",
        "We can use the `Vectorize` function to vectorize a function with respect\n",
        "to a certain argument."
      ]
    },
    {
      "cell_type": "code",
      "execution_count": null,
      "id": "e3161a0f-eae2-49be-add6-c164d9e25c78",
      "metadata": {
        "vscode": {
          "languageId": "r"
        }
      },
      "outputs": [],
      "source": [
        "vdpost <- Vectorize(dpost, vectorize.args = \"theta\")"
      ]
    },
    {
      "cell_type": "markdown",
      "id": "e9ff7bd1-7fca-42bd-bdf1-279347bf8413",
      "metadata": {},
      "source": [
        "Now, we try our plot again."
      ]
    },
    {
      "cell_type": "code",
      "execution_count": null,
      "id": "6157b8e6-be5b-4146-b2e2-482e4ff18855",
      "metadata": {
        "vscode": {
          "languageId": "r"
        }
      },
      "outputs": [],
      "source": [
        "# plot vectorized dpost to determine what to maximize over\n",
        "plot(x, vdpost(theta = x, y = y), type = \"l\",\n",
        "     ylab = \"unnormalized density\")"
      ]
    },
    {
      "cell_type": "markdown",
      "id": "686e0c2e-906b-4af4-9c36-129d633d1bcd",
      "metadata": {},
      "source": [
        "We can determine $\\hat{\\theta}_{\\text{MAP}}$ over the interval $[0, 2]$."
      ]
    },
    {
      "cell_type": "code",
      "execution_count": null,
      "id": "fadbc7e0-5b45-4b2a-a21c-4bd6bc369dde",
      "metadata": {
        "vscode": {
          "languageId": "r"
        }
      },
      "outputs": [],
      "source": [
        "# determine MAP\n",
        "(map <- optimize(vdpost, interval = c(0, 2), y = y, maximum = TRUE)$maximum)"
      ]
    },
    {
      "cell_type": "markdown",
      "id": "f5f50d34-46cf-4380-9e8a-6e1ee1c014ec",
      "metadata": {},
      "source": [
        "$\\hat{\\theta}_{MAP}\\approx 0.18$. Thus, our posterior approximation is\n",
        "$N(0.18, 0.18^2/\\sum y_i)$.\n",
        "\n",
        "Let’s plot the “truth” versus the approximation. In order to do that, we\n",
        "need to figure out the “true” distribution. We do this to illustrate the\n",
        "effectiveness of the approximation. We wouldn’t normally do this.\n",
        "\n",
        "We find our normalizing constant."
      ]
    },
    {
      "cell_type": "code",
      "execution_count": null,
      "id": "a6735d08-a099-479f-8ac9-9252ffb56efb",
      "metadata": {
        "vscode": {
          "languageId": "r"
        }
      },
      "outputs": [],
      "source": [
        "# determine normalizing constant\n",
        "(nconst <- integrate(f = vdpost, lower = 0, upper = 10, y = y)$value)"
      ]
    },
    {
      "cell_type": "markdown",
      "id": "bec2a7cb-8d56-4e26-8890-8b5cd9fac9de",
      "metadata": {},
      "source": [
        "We double-check that the posterior is proper!"
      ]
    },
    {
      "cell_type": "code",
      "execution_count": null,
      "id": "c36939eb-d055-4603-bde9-90021f20fb72",
      "metadata": {
        "vscode": {
          "languageId": "r"
        }
      },
      "outputs": [],
      "source": [
        "integrate(vdpost, lower = 0, upper = 10, y = y, const = nconst)"
      ]
    },
    {
      "cell_type": "markdown",
      "id": "6a900e23-d508-42ad-8612-e23618139aa2",
      "metadata": {},
      "source": [
        "We define a function to evaluate our approximate posterior distribution."
      ]
    },
    {
      "cell_type": "code",
      "execution_count": null,
      "id": "ebd762cd-ead1-4a22-a40e-25037320eef7",
      "metadata": {
        "vscode": {
          "languageId": "r"
        }
      },
      "outputs": [],
      "source": [
        "# normal approximation posterior\n",
        "dpapprox <- function(theta, y, thetahat) {\n",
        "  dnorm(theta, mean = thetahat, sd = sqrt(thetahat^2 / sum(y)))\n",
        "}"
      ]
    },
    {
      "cell_type": "markdown",
      "id": "e7a466bf-e87d-4e50-9eb3-6a87ba44d596",
      "metadata": {},
      "source": [
        "Now, we plot the “true” posterior density versus the approximate\n",
        "posterior density."
      ]
    },
    {
      "cell_type": "code",
      "execution_count": null,
      "id": "a4340895-d544-4d7b-9df9-bec8449e3bd6",
      "metadata": {
        "vscode": {
          "languageId": "r"
        }
      },
      "outputs": [],
      "source": [
        "# range of theta values\n",
        "theta <- seq(0, 2, length = 1000)\n",
        "# plot true density\n",
        "plot(theta, vdpost(theta, y, nconst),\n",
        "     ylab = \"density\", type = \"l\", col = \"orange\")\n",
        "# plot normal approximation\n",
        "lines(theta, dpapprox(theta, y, thetahat = map),\n",
        "      col = \"blue\")\n",
        "legend(\"topright\",\n",
        "  legend = c(\"truth\", \"approximation\"),\n",
        "  col = c(\"orange\", \"blue\"), lty = 1\n",
        ")"
      ]
    },
    {
      "cell_type": "markdown",
      "id": "7d1d08c3-4f2d-4018-81ae-6238313e86a6",
      "metadata": {},
      "source": [
        "Our approximation isn’t great because our sample size is small. Let’s\n",
        "perform the same approximation with a larger sample size.\n",
        "\n",
        "We generate 100 i.i.d. observations from a Poisson(0.5) distribution."
      ]
    },
    {
      "cell_type": "code",
      "execution_count": null,
      "id": "b870442b-9e5a-405e-8c3a-8a74dcec7659",
      "metadata": {
        "vscode": {
          "languageId": "r"
        }
      },
      "outputs": [],
      "source": [
        "set.seed(3) # for reproducibility\n",
        "y100 <- rpois(100, lambda = 0.5)"
      ]
    },
    {
      "cell_type": "markdown",
      "id": "c3a2624a-00ea-4de4-ad00-00d46999e9c3",
      "metadata": {},
      "source": [
        "We once again plot the unnormalized posterior to determine the range of\n",
        "`theta` to optimize over."
      ]
    },
    {
      "cell_type": "code",
      "execution_count": null,
      "id": "895d1915-8b55-4641-9ab6-08a0568c47a4",
      "metadata": {
        "vscode": {
          "languageId": "r"
        }
      },
      "outputs": [],
      "source": [
        "plot(x, vdpost(theta = x, y = y100),\n",
        "  type = \"l\",\n",
        "  xlab = \"theta\", ylab = \"unnormalized density\"\n",
        ")"
      ]
    },
    {
      "cell_type": "markdown",
      "id": "1e20153b-e923-4960-922d-9d7a5229e820",
      "metadata": {},
      "source": [
        "We determine $\\hat{\\theta}_{\\text{MAP}}$."
      ]
    },
    {
      "cell_type": "code",
      "execution_count": null,
      "id": "fccd82a8-9db5-4a9b-9342-976b352d522c",
      "metadata": {
        "vscode": {
          "languageId": "r"
        }
      },
      "outputs": [],
      "source": [
        "(map100 <- optimize(vdpost, interval = c(0, 2),\n",
        "                    y = y100, maximum = TRUE)$maximum)"
      ]
    },
    {
      "cell_type": "markdown",
      "id": "18c2d310-3e44-49d7-b599-c19057e205cb",
      "metadata": {},
      "source": [
        "$\\hat{\\theta}_{\\text{MAP}}\\approx 0.42$. Thus, our posterior\n",
        "approximation is $N(0.42, 0.42^2/\\sum y_i)$.\n",
        "\n",
        "Let’s plot the “truth” versus the approximation.\n",
        "\n",
        "We compute the normalizing constant for our posterior."
      ]
    },
    {
      "cell_type": "code",
      "execution_count": null,
      "id": "289da07c-0d14-49c1-983e-9afe0b3df9a4",
      "metadata": {
        "vscode": {
          "languageId": "r"
        }
      },
      "outputs": [],
      "source": [
        "# determine normalizing constant\n",
        "(nconst100 <- integrate(f = vdpost, lower = 0, upper = 10, y = y100)$value)"
      ]
    },
    {
      "cell_type": "markdown",
      "id": "c96aca7c-c706-4c01-9142-cdfde283c979",
      "metadata": {},
      "source": [
        "We double-check that posterior is proper."
      ]
    },
    {
      "cell_type": "code",
      "execution_count": null,
      "id": "101dc027-9368-4b22-9b65-d47831a21193",
      "metadata": {
        "vscode": {
          "languageId": "r"
        }
      },
      "outputs": [],
      "source": [
        "integrate(vdpost, lower = 0, upper = 10, y = y100, const = nconst100)"
      ]
    },
    {
      "cell_type": "markdown",
      "id": "8f5c92ed-ec70-4169-af56-60c02bc5e3d2",
      "metadata": {},
      "source": [
        "We have a big issue! Our (numerical) integral is no longer integrating\n",
        "to 1. Why? Computational underflow!\n",
        "\n",
        "When we evaluate our unnormalized posterior, all of the values are close\n",
        "to zero.\n",
        "\n",
        "We need to shift the unnormalized posterior vertically so that some of\n",
        "the values are higher. I choose to make the largest value 1 by using the\n",
        "trick below.\n",
        "\n",
        "-   Evaluate the log unnormalized density over the range of the\n",
        "    $\\theta$.\n",
        "-   Subtract the LARGEST number you get from the log unnormalized\n",
        "    density.\n",
        "-   Convert back to the original scale using $\\exp$."
      ]
    },
    {
      "cell_type": "code",
      "execution_count": null,
      "id": "d12aa300-dc8e-4a0c-97f4-c6b77dbd14ab",
      "metadata": {
        "vscode": {
          "languageId": "r"
        }
      },
      "outputs": [],
      "source": [
        "lqpost <- function(theta, y) {\n",
        "  log_pdata <- sum(dpois(y, lambda = theta, log = TRUE))\n",
        "  log_pprior <- dexp(theta, rate = 1, log = TRUE)\n",
        "  log_pdata + log_pprior\n",
        "}\n",
        "vlqpost <- Vectorize(lqpost, vectorize.args = \"theta\")\n",
        "range(vlqpost(x, y = y100))"
      ]
    },
    {
      "cell_type": "markdown",
      "id": "0d2e54e1-b3b1-422e-beae-a3ee1a4ca251",
      "metadata": {},
      "source": [
        "We create a “robust” version of the unnormalized density."
      ]
    },
    {
      "cell_type": "code",
      "execution_count": null,
      "id": "47afdc23-07c5-44de-af8f-73d872ddebd5",
      "metadata": {
        "vscode": {
          "languageId": "r"
        }
      },
      "outputs": [],
      "source": [
        "qpost_robust <- function(theta, y) {\n",
        "  log_pdata <- sum(dpois(y, lambda = theta, log = TRUE))\n",
        "  log_pprior <- dexp(theta, rate = 1, log = TRUE)\n",
        "  exp(log_pdata + log_pprior + 84.11288)\n",
        "}\n",
        "# vectorize\n",
        "vqpost_robust <- Vectorize(qpost_robust,\n",
        "  vectorize.args = \"theta\"\n",
        ")"
      ]
    },
    {
      "cell_type": "markdown",
      "id": "03bfca1f-3c8d-42d6-acc9-bc7cb54a7861",
      "metadata": {},
      "source": [
        "The new unnormalized density has a maximum of 1."
      ]
    },
    {
      "cell_type": "code",
      "execution_count": null,
      "id": "b4d3eb2f-fbbd-44dd-ad14-802657158b7d",
      "metadata": {
        "vscode": {
          "languageId": "r"
        }
      },
      "outputs": [],
      "source": [
        "plot(x, vqpost_robust(x, y = y100),\n",
        "  xlab = \"theta\", ylab = \"unnormalized density\",\n",
        "  type = \"l\"\n",
        ")"
      ]
    },
    {
      "cell_type": "markdown",
      "id": "ac683111-3f09-47eb-9d81-4145c8f70900",
      "metadata": {},
      "source": [
        "Now, we determine the normalizing constant of our robust unnormalized\n",
        "density."
      ]
    },
    {
      "cell_type": "code",
      "execution_count": null,
      "id": "ece927a7-7fe6-456d-9fd6-3fe53945b138",
      "metadata": {
        "vscode": {
          "languageId": "r"
        }
      },
      "outputs": [],
      "source": [
        "# determine normalizing constant\n",
        "(nconst100 <- integrate(f = vqpost_robust, lower = 0, upper = 10, y = y100)$value)"
      ]
    },
    {
      "cell_type": "markdown",
      "id": "5112973c-090b-4d97-bb72-b10ffb2a3553",
      "metadata": {},
      "source": [
        "We now create a robust version of our posterior density."
      ]
    },
    {
      "cell_type": "code",
      "execution_count": null,
      "id": "f17f158c-d49f-495f-bbeb-065a27b8b2b2",
      "metadata": {
        "vscode": {
          "languageId": "r"
        }
      },
      "outputs": [],
      "source": [
        "# posterior density function\n",
        "dpost_robust <- function(theta, y, const) {\n",
        "  qpost_robust(theta, y) / const\n",
        "}\n",
        "# vectorized version of dpost_robust for integrate function\n",
        "vdpost_robust <- Vectorize(dpost_robust,\n",
        "  vectorize.args = \"theta\"\n",
        ")"
      ]
    },
    {
      "cell_type": "markdown",
      "id": "26d1ad51-13fc-48a5-889b-4a99a02423d8",
      "metadata": {},
      "source": [
        "We double-check that our robust posterior density is proper."
      ]
    },
    {
      "cell_type": "code",
      "execution_count": null,
      "id": "02f62d8e-46d5-4af3-b0a6-023ff4c0c582",
      "metadata": {
        "vscode": {
          "languageId": "r"
        }
      },
      "outputs": [],
      "source": [
        "integrate(vdpost_robust,\n",
        "  lower = 0, upper = 10,\n",
        "  y = y100, const = nconst100\n",
        ")"
      ]
    },
    {
      "cell_type": "markdown",
      "id": "058dc1b7-79c1-4ff4-91d3-3096ccb77347",
      "metadata": {},
      "source": [
        "Finally, we create a plots to compare our true density versus our normal\n",
        "approximation."
      ]
    },
    {
      "cell_type": "code",
      "execution_count": null,
      "id": "210ed191-9a21-4afa-923e-9e9370d4ad8f",
      "metadata": {
        "vscode": {
          "languageId": "r"
        }
      },
      "outputs": [],
      "source": [
        "# plot true density\n",
        "plot(theta, vdpost_robust(theta, y100, nconst100),\n",
        "     ylab = \"density\", type = \"l\", col = \"orange\")\n",
        "# plot normal approximation\n",
        "lines(theta, dpapprox(theta, y100, thetahat = map100), col = \"blue\")\n",
        "legend(\"topright\",\n",
        "  legend = c(\"truth\", \"approximation\"),\n",
        "  col = c(\"orange\", \"blue\"), lty = 1\n",
        ")"
      ]
    },
    {
      "cell_type": "markdown",
      "id": "5bbe6493-f9a0-4b0f-8989-fcb7e3ad6b6a",
      "metadata": {},
      "source": [
        "**Bayesian CLT Example (Two parameter)**\n",
        "\n",
        "*Data distribution*\n",
        "\n",
        "$y_1, y_2, \\ldots, y_n | \\mu, \\sigma^2 \\stackrel{i.i.d.}{\\sim} N(\\mu, \\sigma^2)$\n",
        "\n",
        "*Prior distribution*\n",
        "\n",
        "$\\mu \\sim U(10, 15)$,\n",
        "$p(\\sigma^2) \\propto N(0.5, 0.5^2) I_{(0, \\infty)}(\\sigma^2)$\n",
        "\n",
        "*Posterior distribution (Bayesian CLT)*\n",
        "\n",
        "Assuming $n$ is large, $\\theta = (\\mu, \\sigma^2)$, and\n",
        "$\\hat{\\theta} = \\hat{\\theta}_{MAP}$,\n",
        "$\\theta | y \\sim N(\\hat{\\theta}, I(\\hat{\\theta})^{-1}).$\n",
        "\n",
        "The data density is\n",
        "\n",
        "$$\n",
        "\\begin{aligned}\n",
        "p(y|\\theta) &= \\prod_{i=1}^n \\frac{1}{\\sqrt{2\\pi\\sigma^2}}\\exp\\left(-\\frac{1}{2\\sigma^2}(y_i-\\mu)^2\\right) \\\\\n",
        " &= (2\\pi)^{-n/2}\\left(\\sigma^2\\right)^{-n/2}\\exp\\left(-\\frac{1}{2\\sigma^2}\\sum_{i=1}^n(y_i-\\mu)^2\\right)\n",
        "\\end{aligned}\n",
        "$$ and $$\n",
        "\\ln p(y|\\theta) = \\mathrm{const} - \\frac{n}{2} \\ln \\left(\\sigma^2\\right) -\\frac{1}{2\\sigma^2}\\sum_{i=1}^n(y_i-\\mu)^2.\n",
        "$$\n",
        "\n",
        "The first partial derivatives of $\\ln p(y|\\theta)$ are\n",
        "$$\\frac{\\partial}{\\partial \\mu} \\ln p(y|\\theta) = \\frac{1}{\\sigma^2}\\sum_{i=1}^n(y_i-\\mu)$$\n",
        "and\n",
        "$$\\frac{\\partial}{\\partial \\sigma^2} \\ln p(y|\\theta) = -\\frac{n}{2\\sigma^2} +\\frac{1}{\\left(2\\sigma^2\\right)^2}\\sum_{i=1}^n(y_i-\\mu)^2.$$\n",
        "\n",
        "The second partial derivatives of $\\ln p(y|\\theta)$ are\n",
        "$$\\frac{\\partial^2}{\\partial \\mu^2} \\ln p(y|\\theta) = -\\frac{n}{\\sigma^2}$$\n",
        "and\n",
        "$$\\frac{\\partial^2}{\\partial \\left(\\sigma^2\\right)^2} \\ln p(y|\\theta) = \\frac{n}{2\\left(\\sigma^2\\right)^2} -\\frac{1}{\\left(\\sigma^2\\right)^3}\\sum_{i=1}^n(y_i-\\mu)^2$$\n",
        "and\n",
        "\n",
        "$$\\frac{\\partial^2}{\\partial \\mu \\partial \\sigma^2} \\ln p(y|\\theta) = -\\frac{1}{\\left(\\sigma^2\\right)^2}\\sum_{i=1}^n(y_i-\\mu)$$\n",
        "\n",
        "Thus, if $\\hat{\\theta} = (\\hat{\\mu}, \\hat{\\sigma}^2)$ is the MAP\n",
        "estimate of $\\theta = (\\mu, \\sigma^2)$, then the Bayesian CLT\n",
        "approximation of the posterior is\n",
        "$\\theta | y \\approx N(\\hat{\\theta}, I(\\hat{\\theta})^{-1})$, where\n",
        "\n",
        "$$\n",
        "I(\\hat{\\theta})^{-1} = \\begin{bmatrix}\n",
        "\\frac{n}{\\hat{\\sigma}^2} & \\frac{1}{\\left(\\hat{\\sigma}^2\\right)^2}\\sum_{i=1}^n(y_i-\\hat{\\mu})\\\\\n",
        "\\frac{1}{\\left(\\hat{\\sigma}^2\\right)^2}\\sum_{i=1}^n(y_i-\\hat{\\mu}) & -\\frac{n}{2\\left(\\hat{\\sigma}^2\\right)^2} +\\frac{1}{\\left(\\hat{\\sigma}^2\\right)^3}\\sum_{i=1}^n(y_i-\\hat{\\mu})^2\n",
        "\\end{bmatrix}^{-1}.\n",
        "$$\n",
        "\n",
        "Let’s generate some data."
      ]
    },
    {
      "cell_type": "code",
      "execution_count": null,
      "id": "8ad363fc-8214-4d66-aec1-c0c8a6076254",
      "metadata": {
        "vscode": {
          "languageId": "r"
        }
      },
      "outputs": [],
      "source": [
        "# Generate some synthetic data\n",
        "# in practice, we just have some data\n",
        "set.seed(7)\n",
        "y <- rnorm(100, mean = 11, sd = 0.47)"
      ]
    },
    {
      "cell_type": "markdown",
      "id": "52033488-08fe-4e6d-ac06-52cafd0ac41a",
      "metadata": {},
      "source": [
        "Now we create functions related to the true posterior density. This\n",
        "wouldn’t normally be needed, but we want to assess how good our\n",
        "approximation is.\n",
        "\n",
        "We create a density function with a built-in correction to address the\n",
        "numerical underflow issue. The function takes:\n",
        "\n",
        "-   `theta`: a vector parameterized as $\\theta = (\\mu, \\sigma^2)$.\n",
        "-   `y`: data vector.\n",
        "-   `const`: the normalizing constant, which we don’t yet know. We use\n",
        "    1."
      ]
    },
    {
      "cell_type": "code",
      "execution_count": null,
      "id": "668ff55b-77dc-46b4-b5f8-97f0fed56108",
      "metadata": {
        "vscode": {
          "languageId": "r"
        }
      },
      "outputs": [],
      "source": [
        "dpost <- function(theta, y, const = 1) {\n",
        "  mu <- theta[1]\n",
        "  sigma <- sqrt(theta[2])\n",
        "  log_pdata <- sum(dnorm(y, mean = mu, sd = sigma, log = TRUE))\n",
        "  log_pmu <- dunif(mu, 10, 15, log = TRUE)\n",
        "  log_psigmasq <- dnorm(sigma^2, mean = 0.5, sd = 0.5, log = TRUE)\n",
        "  log_qtheta <- log_pdata + log_pmu + log_psigmasq\n",
        "  exp(log_qtheta + 70)/const\n",
        "}"
      ]
    },
    {
      "cell_type": "markdown",
      "id": "bd60a1ba-e4c2-4125-a6d3-00cc3a4208c1",
      "metadata": {},
      "source": [
        "We determine the normalizing constant over the interval\n",
        "$\\mu \\in [10, 15]$ and $\\sigma^2\\in[0, 2]$."
      ]
    },
    {
      "cell_type": "code",
      "execution_count": null,
      "id": "ff65d34f-a487-4402-8b14-993f5ab0147d",
      "metadata": {
        "vscode": {
          "languageId": "r"
        }
      },
      "outputs": [],
      "source": [
        "(const <- cubintegrate(\n",
        "  f = dpost,\n",
        "  lower = c(10, 0),\n",
        "  upper = c(15, 2),\n",
        "  y = y\n",
        ")$integral)"
      ]
    },
    {
      "cell_type": "markdown",
      "id": "77dd36d7-7ea3-45ed-9185-ccc7eb0441a7",
      "metadata": {},
      "source": [
        "Now, let’s determine our MAP estimate.\n",
        "\n",
        "We first define a function to evaluate the log unnormalized posterior."
      ]
    },
    {
      "cell_type": "code",
      "execution_count": null,
      "id": "9c6f42a7-94ed-4f1b-be4c-c749eaef6809",
      "metadata": {
        "vscode": {
          "languageId": "r"
        }
      },
      "outputs": [],
      "source": [
        "log_qtheta <- function(theta, y) {\n",
        "  mu <- theta[1]\n",
        "  sigma <- sqrt(theta[2])\n",
        "  log_pdata <- sum(dnorm(y, mean = mu, sd = sigma, log = TRUE))\n",
        "  log_pmu <- dunif(mu, 10, 15, log = TRUE)\n",
        "  log_psigmasq <- dnorm(sigma^2, mean = 0.5, sd = 0.5, log = TRUE)\n",
        "  log_pdata + log_pmu + log_psigmasq\n",
        "}"
      ]
    },
    {
      "cell_type": "markdown",
      "id": "caa37661-f32b-4c92-916f-1a8915269187",
      "metadata": {},
      "source": [
        "We now use the `optim` function to maximize the objective function.\n",
        "\n",
        "-   We use `fnscale = -1` to make `optim` perform maximization instead\n",
        "    of minimization"
      ]
    },
    {
      "cell_type": "code",
      "execution_count": null,
      "id": "892e42af-e95c-43c0-ad3e-41f1b193719a",
      "metadata": {
        "vscode": {
          "languageId": "r"
        }
      },
      "outputs": [],
      "source": [
        "(map <- optim(\n",
        "  par = c(12.5, 1),\n",
        "  f = log_qtheta,\n",
        "  lower = c(10.0001, 0.05),\n",
        "  upper = c(14.9999, 2),\n",
        "  method = \"L-BFGS-B\",\n",
        "  y = y,\n",
        "  control = list(fnscale = -1)\n",
        "))"
      ]
    },
    {
      "cell_type": "markdown",
      "id": "49663c6e-c1e7-4443-9e36-94020e7de3ef",
      "metadata": {},
      "source": [
        "Now, we build a function that returns the inverse of the observation\n",
        "information matrix."
      ]
    },
    {
      "cell_type": "code",
      "execution_count": null,
      "id": "2222222d-806c-47fc-b34d-4a033ea4e783",
      "metadata": {
        "vscode": {
          "languageId": "r"
        }
      },
      "outputs": [],
      "source": [
        "# return the observed information matrix\n",
        "inv_ihat <- function(thetahat, n) {\n",
        "  mu <- thetahat[1]\n",
        "  sigma <- sqrt(thetahat[2])\n",
        "  # 2nd derivative of log likelihood w/r to mu\n",
        "  d2dmu2 <- -n / sigma^2\n",
        "  # derivative of log likelihood w/r to mu and sigmasq\n",
        "  d2dmudsigmasq <- -sum((y - mu)) / sigma^4\n",
        "  # 2nd derivative of log likelihood w/r to sigmasq\n",
        "  d2dsigmasq2 <- n / (2 * sigma^4) - 1 / sigma^6 * sum((y - mu)^2)\n",
        "  #\n",
        "  H <- cbind(c(d2dmu2, d2dmudsigmasq), c(d2dmudsigmasq, d2dsigmasq2))\n",
        "  solve(-H)\n",
        "}"
      ]
    },
    {
      "cell_type": "markdown",
      "id": "1548c72e-5c33-48c7-8134-56f6324c3d6e",
      "metadata": {},
      "source": [
        "Now, we create a function that evaluates the bivariate normal\n",
        "approximation of the true density with respect to $\\theta$."
      ]
    },
    {
      "cell_type": "code",
      "execution_count": null,
      "id": "bbd7c405-0bdd-463e-963e-2ebc35055d74",
      "metadata": {
        "vscode": {
          "languageId": "r"
        }
      },
      "outputs": [],
      "source": [
        "# posterior approximation\n",
        "dpapprox <- function(theta, thetahat, vhat) {\n",
        "  mvtnorm::dmvnorm(x = theta, mean = thetahat, sigma = vhat)\n",
        "}"
      ]
    },
    {
      "cell_type": "markdown",
      "id": "374bf800-9d3f-4aba-bee1-4cd781c0cb25",
      "metadata": {},
      "source": [
        "Finally, we visually compare the results."
      ]
    },
    {
      "cell_type": "code",
      "execution_count": null,
      "id": "835fc9a4-18dc-4fe2-8ecc-d0f631b10034",
      "metadata": {
        "vscode": {
          "languageId": "r"
        }
      },
      "outputs": [],
      "source": [
        "# create sequence of values for mu and sigmasq\n",
        "mymu <- seq(10.95, 11.2, length = 200)\n",
        "mysigmasq <- seq(0.14, 0.29, length = 200)\n",
        "# create grid\n",
        "mytheta <- expand.grid(mymu, mysigmasq)\n",
        "\n",
        "# for each row of mytheta, plug it into dpost function\n",
        "z <- apply(mytheta, 1, function(theta) {\n",
        "  dpost(theta, y = y, const = const)\n",
        "})\n",
        "\n",
        "# convert z to matrix for plotting\n",
        "zmat <- matrix(z, nrow = length(mymu))\n",
        "\n",
        "# compute observed Information outside of loop\n",
        "vhat <- inv_ihat(map$par, length(y))\n",
        "zhat <- mvtnorm::dmvnorm(\n",
        "  x = mytheta,\n",
        "  mean = map$par,\n",
        "  sigma = vhat\n",
        ")\n",
        "# convert z to matrix for plotting\n",
        "zhatmat <- matrix(zhat, nrow = length(mymu))\n",
        "\n",
        "# side-by-side results\n",
        "par(mfrow = c(1, 2))\n",
        "\n",
        "# create heat map of objective surface\n",
        "image(mymu, mysigmasq, zmat,\n",
        "  col = hcl.colors(64, rev = TRUE),\n",
        "  xlab = expression(mu),\n",
        "  ylab = expression(sigma^2),\n",
        "  zlim = range(c(z, zhat))\n",
        ")\n",
        "# add contours\n",
        "contour(mymu, mysigmasq, zmat,\n",
        "  add = TRUE\n",
        ")\n",
        "title(\"true posterior\")\n",
        "\n",
        "# create heat map of approximation surface\n",
        "image(mymu, mysigmasq, zhatmat,\n",
        "  col = hcl.colors(64, rev = TRUE),\n",
        "  xlab = expression(mu),\n",
        "  ylab = expression(sigma^2),\n",
        "  zlim = c(range(c(z, zhat)))\n",
        ")\n",
        "# add contours\n",
        "contour(mymu, mysigmasq, zhatmat, add = TRUE)\n",
        "title(\"normal approximation\")"
      ]
    }
  ],
  "metadata": {
    "kernelspec": {
      "display_name": "R",
      "language": "R",
      "name": "ir"
    },
    "language_info": {
      "codemirror_mode": "r",
      "file_extension": ".r",
      "mimetype": "text/x-r-source",
      "name": "R",
      "pygments_lexer": "r",
      "version": "4.2.2"
    }
  },
  "nbformat": 4,
  "nbformat_minor": 5
}
