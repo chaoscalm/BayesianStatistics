{
  "cells": [
    {
      "cell_type": "markdown",
      "metadata": {},
      "source": [
        "# Computational methods for Bayesian inference\n",
        "\n",
        "Joshua French\n",
        "\n",
        "To open this information in an interactive Colab notebook, click the\n",
        "Open in Colab graphic below.\n",
        "\n",
        "<a href=\"https://colab.research.google.com/github/jfrench/BayesianStatistics/blob/master/lectures/Math7393-03b-Computational-methods-for-Bayesian-inference-Deterministic.ipynb\">\n",
        "<img src=\"https://colab.research.google.com/assets/colab-badge.svg\">\n",
        "</a>\n",
        "\n",
        "------------------------------------------------------------------------"
      ],
      "id": "8b70b7ae-c752-4051-bdea-553894fa7984"
    },
    {
      "cell_type": "code",
      "execution_count": null,
      "metadata": {},
      "outputs": [],
      "source": [
        "# check to see if necessary packages are installed\n",
        "if(!require(mvtnorm, quietly = TRUE)) {\n",
        "  # install and load packages if necessary\n",
        "  install.packages(\"mvtnorm\", repos = \"https://cran.rstudio.com/\")\n",
        "  library(mvtnorm)\n",
        "}\n",
        "if(!require(cubature, quietly = TRUE)) {\n",
        "  install.packages(\"cubature\", repos = \"https://cran.rstudio.com/\")\n",
        "  library(cubature)\n",
        "}"
      ],
      "id": "47ea093c-0be5-47f5-87db-bc4d4f875889"
    },
    {
      "cell_type": "markdown",
      "metadata": {},
      "source": [
        "# Deterministic methods\n",
        "\n",
        "## MAP estimation\n",
        "\n",
        "The *maximum a posteriori* estimator, $\\hat{\\theta}_{\\textrm{MAP}}$,\n",
        "summarizes the posterior with the parameter values that maximize the\n",
        "posterior distribution, i.e.,\n",
        "$$\\hat{\\theta}_{\\textrm{MAP}} = \\text{argmax}_{\\theta} \\ln p(\\theta | y) = \\text{argmax}_{\\theta} \\ln p(y | \\theta ) + \\ln p(\\theta).$$\n",
        "\n",
        "**MAP Example 1**\n",
        "\n",
        "*Data distribution*\n",
        "\n",
        "$y_1, \\ldots, y_n \\mid \\theta \\stackrel{i.i.d.}{\\sim} \\text{Poisson}(\\theta)$\n",
        "\n",
        "pdf:\n",
        "\n",
        "<br>  \n",
        "<br>\n",
        "\n",
        "*Prior distribution*\n",
        "\n",
        "$\\theta \\sim \\text{Exp}(1)$\n",
        "\n",
        "pdf:\n",
        "\n",
        "<br>  \n",
        "<br>\n",
        "\n",
        "*Posterior distribution*\n",
        "\n",
        "pdf:\n",
        "\n",
        "<br>  \n",
        "<br>\n",
        "\n",
        "$\\ln p(\\theta \\mid y) \\propto \\text{const} - (n - 1) \\theta + \\sum y_i \\ln(\\theta)$\n",
        "\n",
        "Let’s start by generating some data."
      ],
      "id": "577abcb5-2222-4759-a8f4-2e5ff4fa2a0b"
    },
    {
      "cell_type": "code",
      "execution_count": null,
      "metadata": {},
      "outputs": [],
      "source": [
        "# Generate some synthetic data from a Poisson(0.5)\n",
        "set.seed(8)\n",
        "y <- rpois(10, lambda = 0.5)"
      ],
      "id": "47f68d77-bb41-4a14-93ce-4e1f97989a98"
    },
    {
      "cell_type": "markdown",
      "metadata": {},
      "source": [
        "Now, we create a function to compute the log of the unnormalized\n",
        "posterior."
      ],
      "id": "0ea63450-d5ae-4752-b066-e325af234d57"
    },
    {
      "cell_type": "code",
      "execution_count": null,
      "metadata": {},
      "outputs": [],
      "source": [
        "# create function for log unnormalized posterior\n",
        "# theta = estimand\n",
        "# sumy = sum(y)\n",
        "# n = sample size\n",
        "lup <- function(theta, sumy, n) {\n",
        "  -(n + 1) * theta + sumy * log(theta)\n",
        "}"
      ],
      "id": "eb340ff5-a678-4e50-b00a-55231e50ea54"
    },
    {
      "cell_type": "markdown",
      "metadata": {},
      "source": [
        "We now use the `optimize` function to optimize the objective function,\n",
        "`lup`, between 0 and 1.\n",
        "\n",
        "-   We start our search `interval` just above 0 to avoid numerical\n",
        "    issues.\n",
        "-   We set `maximum` to `TRUE` to find the parameter that maximizes the\n",
        "    objection function, `lup`."
      ],
      "id": "0e8c877d-a7e1-4777-8aaf-e05ec309fe81"
    },
    {
      "cell_type": "code",
      "execution_count": null,
      "metadata": {},
      "outputs": [],
      "source": [
        "(map <- optimize(\n",
        "  f = lup, interval = c(0.0001, 10),\n",
        "  maximum = TRUE,\n",
        "  sumy = sum(y), n = length(y)\n",
        "))\n",
        "# maximum occurs at theta = 0.64"
      ],
      "id": "c189f3d0-c982-49f3-b706-4c4b7aa86a13"
    },
    {
      "cell_type": "markdown",
      "metadata": {},
      "source": [
        "We plot our results to double-check accuracy."
      ],
      "id": "82b4062e-2ce4-41d3-b23d-1b63a1293bab"
    },
    {
      "cell_type": "code",
      "execution_count": null,
      "metadata": {},
      "outputs": [],
      "source": [
        "# domain of plot\n",
        "mytheta <- seq(0.0001, 1, length = 1000)\n",
        "# plot function\n",
        "plot(mytheta, lup(mytheta, sumy = sum(y), n = length(y)),\n",
        "  type = \"l\",\n",
        "  xlab = \"theta\", ylab = \"propto log posterior\"\n",
        ")\n",
        "# show maximum\n",
        "abline(v = map$maximum)"
      ],
      "id": "31aa2fb3-90d8-4a0a-b3f2-14cb0251e1fd"
    },
    {
      "cell_type": "markdown",
      "metadata": {},
      "source": [
        "We now use a different approach that doesn’t simplify ahead of time.\n",
        "Note that\n",
        "\n",
        "$$\n",
        "\\begin{aligned}\n",
        "\\ln [p(y\\mid \\theta)p(\\theta)] &= \\ln p(y\\mid \\theta) + \\ln p(\\theta) \\\\\n",
        "&= \\ln \\left(\\prod_{i=1}^n p(y_i\\mid\\theta)\\right) + \\ln p(\\theta) \\\\\n",
        "&= \\sum_{i=1}^n \\ln p(y_i\\mid\\theta) + \\ln p(\\theta).\n",
        "\\end{aligned}\n",
        "$$"
      ],
      "id": "c64a8c74-2b4b-4859-bf6f-b2af92049186"
    },
    {
      "cell_type": "code",
      "execution_count": null,
      "metadata": {},
      "outputs": [],
      "source": [
        "# second version of log unnormalized posterior\n",
        "lup2 <- function(theta, y) {\n",
        "  sum(dpois(y, lambda = theta, log = TRUE)) +\n",
        "    dexp(theta, rate = 1, log = TRUE)\n",
        "}\n",
        "\n",
        "# same results!\n",
        "optimize(\n",
        "  f = lup2, interval = c(0.0001, 10), maximum = TRUE,\n",
        "  y = y\n",
        ")"
      ],
      "id": "228796e5-f2fb-44db-bd01-cf540c525d41"
    },
    {
      "cell_type": "markdown",
      "metadata": {},
      "source": [
        "**MAP Example 2 (2 parameter)**\n",
        "\n",
        "*Data distribution*\n",
        "\n",
        "$y_1, ..., y_n \\mid \\mu, \\sigma^2 \\stackrel{i.i.d.}{\\sim} N(\\mu, \\sigma^2)$\n",
        "\n",
        "pdf:\n",
        "\n",
        "<br>  \n",
        "<br>\n",
        "\n",
        "*Prior distribution*\n",
        "\n",
        "$\\mu \\sim U(10, 15)$\n",
        "\n",
        "pdf:\n",
        "\n",
        "<br>  \n",
        "<br>\n",
        "\n",
        "$p(\\sigma^2) \\propto N(0.5, 0.5^2) I_{(0,\\infty)}(\\sigma^2)$\n",
        "\n",
        "pdf:\n",
        "\n",
        "<br>  \n",
        "<br>\n",
        "\n",
        "This is essentially a truncated normal with a different scaling\n",
        "constant.\n",
        "\n",
        "We start by generating some fake data."
      ],
      "id": "93ea47e6-f4c5-43c9-abd6-379a46d660e8"
    },
    {
      "cell_type": "code",
      "execution_count": null,
      "metadata": {},
      "outputs": [],
      "source": [
        "# Generate some synthetic data\n",
        "# Normal with mean 11 and sd = 0.47\n",
        "set.seed(7)\n",
        "y <- rnorm(10, mean = 11, sd = 0.47)"
      ],
      "id": "eabdce46-1a1d-4149-af42-ace5b106a916"
    },
    {
      "cell_type": "markdown",
      "metadata": {},
      "source": [
        "We program the negative log of the unnormalized posterior density.\n",
        "\n",
        "-   The function takes $\\theta = (\\mu, \\sigma^2)$.\n",
        "-   We *don’t* constrain $\\mu$ to be between 10 and 15 and $\\sigma^2$ to\n",
        "    be positive only because we will do this constraint in our\n",
        "    optimization.\n",
        "-   We multiply the log posterior by -1 so that instead of trying to\n",
        "    maximize the log unnormalized posterior, we minimize the negative\n",
        "    log unnormalized posterior."
      ],
      "id": "61afdc9f-4dcd-4844-b6b6-eb81622472e5"
    },
    {
      "cell_type": "code",
      "execution_count": null,
      "metadata": {},
      "outputs": [],
      "source": [
        "nlup <- function(theta, y) {\n",
        "  mu <- theta[1]\n",
        "  sigma <- sqrt(theta[2])\n",
        "  obj <- sum(dnorm(y, mean = mu, sd = sigma, log = TRUE)) +\n",
        "    dunif(mu, 10, 15, log = TRUE) +\n",
        "    dnorm(sigma^2, mean = 0.5, sd = 0.5, log = TRUE)\n",
        "  -obj\n",
        "}"
      ],
      "id": "e0cf2920-ad26-4f92-a653-74c0d7a4f55c"
    },
    {
      "cell_type": "markdown",
      "metadata": {},
      "source": [
        "We now use the `optim` function to perform multi-dimensional\n",
        "optimization.\n",
        "\n",
        "-   `par`: vector of starting values\n",
        "-   `f`: function to MINIMIZE. The first argument must be the argument\n",
        "    you want to optimize over.\n",
        "-   `lower`: the constraints on the lower bound\n",
        "-   `upper`: the constraints on the upper bound\n",
        "-   `method`: the optimization method. `\"L-BFGS-B\"` allows use to\n",
        "    specify constraints.\n",
        "-   `control`: list of optional tuning parameters.\n",
        "-   The remaining arguments are the arguments that must be supplied to\n",
        "    `f`."
      ],
      "id": "2d64532a-fe44-4798-be1f-840fc4129502"
    },
    {
      "cell_type": "code",
      "execution_count": null,
      "metadata": {},
      "outputs": [],
      "source": [
        "optim(\n",
        "  par = c(12.5, 1),\n",
        "  f = nlup,\n",
        "  lower = c(10.0001, 0.05),\n",
        "  upper = c(14.9999, 2),\n",
        "  method = \"L-BFGS-B\",\n",
        "  y = y\n",
        ")"
      ],
      "id": "ca261099-0e78-4772-b6ae-aacc73fba9bb"
    },
    {
      "cell_type": "markdown",
      "metadata": {},
      "source": [
        "`nlminb` is an alternative optimizer that is more robust (from my\n",
        "personal experience.)\n",
        "\n",
        "-   The arguments are self-explanatory."
      ],
      "id": "0026ff6f-cdfd-4cb3-92bb-88ceaf048fdc"
    },
    {
      "cell_type": "code",
      "execution_count": null,
      "metadata": {},
      "outputs": [],
      "source": [
        "(map <- nlminb(\n",
        "  start = c(12.5, 1),\n",
        "  objective = nlup,\n",
        "  lower = c(10.0001, 0.0001),\n",
        "  upper = c(14.9999, 2),\n",
        "  y = y\n",
        "))"
      ],
      "id": "8e4b2d89-c02f-4e5d-917c-d0e1f7e688a6"
    },
    {
      "cell_type": "markdown",
      "metadata": {},
      "source": [
        "Let’s plot our results."
      ],
      "id": "e1533c51-94e6-421a-a145-580000759075"
    },
    {
      "cell_type": "code",
      "execution_count": null,
      "metadata": {},
      "outputs": [],
      "source": [
        "# create sequence of values for mu and sigmasq\n",
        "mymu <- seq(10.8, 11.2, length = 200)\n",
        "mysigmasq <- seq(0.15, 0.45, length = 200)\n",
        "# create grid\n",
        "mytheta <- expand.grid(mymu, mysigmasq)\n",
        "# for each row of mytheta, plug it into nlup function\n",
        "z <- apply(mytheta, 1, function(theta) {\n",
        "  nlup(theta, y = y)\n",
        "})\n",
        "# convert z to matrix for plotting\n",
        "zmat <- matrix(z, nrow = length(mymu))\n",
        "# create heat map of objective surface\n",
        "image(mymu, mysigmasq, zmat,\n",
        "  col = hcl.colors(64, rev = TRUE),\n",
        "  xlab = expression(mu), ylab = expression(sigma^2)\n",
        ")\n",
        "# add contours\n",
        "contour(mymu, mysigmasq, zmat, add = TRUE)\n",
        "# place point for posterior mode\n",
        "points(map$par[1], map$par[2], pch = 20)\n",
        "title(\"log posterior density (unnormalized)\")"
      ],
      "id": "89c6c478-9ebe-44b7-a089-f52fda5a9278"
    },
    {
      "cell_type": "markdown",
      "metadata": {},
      "source": [
        "## Cubature methods\n",
        "\n",
        "Cubature methods approximate an integral by evaluating a function at a\n",
        "finite number of points and aggregating the results. (We won’t discuss\n",
        "specifics.)\n",
        "\n",
        "**Cubature method example (Beta-Binomial)**\n",
        "\n",
        "*Data distribution*\n",
        "\n",
        "$y \\mid \\theta \\sim \\text{Bin}(n, \\theta)$.\n",
        "\n",
        "Let’s assume $n=980$ and $y=437$.\n",
        "\n",
        "*Prior distribution*\n",
        "\n",
        "$\\theta \\sim \\text{Beta}(\\alpha, \\beta)$.\n",
        "\n",
        "Let’s assume $\\alpha=\\beta=1$.\n",
        "\n",
        "*Posterior distribution*\n",
        "\n",
        "$\\theta \\mid y \\sim \\text{Beta}(y + \\alpha, n - y + \\beta)$.\n",
        "\n",
        "This has posterior mean $\\frac{y + \\alpha}{n + \\alpha + \\beta}$.\n",
        "\n",
        "Based on our assumptions above,\n",
        "$\\theta \\mid y \\sim \\text{Beta}(438, 544)$.\n",
        "\n",
        "*Posterior predictive distribution*\n",
        "\n",
        "$P(\\tilde{y} = 1 \\mid y) = \\frac{y + \\alpha}{n + \\alpha + \\beta}$.\n",
        "\n",
        "Based on previous assumptions,\n",
        "$P(\\tilde{y} = 1 \\mid y) = 448/(438 + 544) \\approx 0.446$.\n",
        "\n",
        "Let’s use the cubature method to approximate some of these.\n",
        "\n",
        "We start by defining the posterior density with a generic normalizing\n",
        "constant."
      ],
      "id": "8b808ce6-230e-4573-a0a9-cb0f6427cc63"
    },
    {
      "cell_type": "code",
      "execution_count": null,
      "metadata": {},
      "outputs": [],
      "source": [
        "# unnormalized posterior\n",
        "dpost <- function(theta, const = 1) {\n",
        "  dbinom(x = 437, size = 980, prob = theta) *\n",
        "    dbeta(theta, shape1 = 1, shape2 = 1) /\n",
        "    const\n",
        "}"
      ],
      "id": "5e9aa73c-90ad-4d7f-a671-8ffe0a76863b"
    },
    {
      "cell_type": "markdown",
      "metadata": {},
      "source": [
        "We determine the normalizing constant."
      ],
      "id": "b4c260bf-8834-4e87-9b18-87bdb51c48f1"
    },
    {
      "cell_type": "code",
      "execution_count": null,
      "metadata": {},
      "outputs": [],
      "source": [
        "(nconst <- integrate(dpost, lower = 0, upper = 1)$value)"
      ],
      "id": "9e35573b-7435-4345-873e-5ab4a97517ef"
    },
    {
      "cell_type": "markdown",
      "metadata": {},
      "source": [
        "Now, we define the function $\\theta p(\\theta \\mid y)$."
      ],
      "id": "801132d0-1022-4230-bb0f-828650339fc6"
    },
    {
      "cell_type": "code",
      "execution_count": null,
      "metadata": {},
      "outputs": [],
      "source": [
        "# theta * posterior\n",
        "mean_target <- function(theta, const) {\n",
        "  theta * dpost(theta, const)\n",
        "}"
      ],
      "id": "6d7a82b1-9109-4be5-9759-683b8f55e2e4"
    },
    {
      "cell_type": "markdown",
      "metadata": {},
      "source": [
        "We integrate $\\theta p(\\theta \\mid y)$ for $\\theta \\in [0, 1]$."
      ],
      "id": "46b498f9-c523-4fe1-80d7-7648b088552b"
    },
    {
      "cell_type": "code",
      "execution_count": null,
      "metadata": {},
      "outputs": [],
      "source": [
        "# compute posterior mean using cubature\n",
        "integrate(mean_target, lower = 0, upper = 1, const = nconst)"
      ],
      "id": "6c673830-bc36-4006-a999-c827458f1f40"
    },
    {
      "cell_type": "markdown",
      "metadata": {},
      "source": [
        "Next, we define the function that evaluates\n",
        "$P(\\tilde{y} = 1 \\mid \\theta) p(\\theta \\mid y)$."
      ],
      "id": "c8382f79-e589-4b0c-af70-d2c84d08aa09"
    },
    {
      "cell_type": "code",
      "execution_count": null,
      "metadata": {},
      "outputs": [],
      "source": [
        "# pytilde * ptarget\n",
        "pytilde_target <- function(theta, const) {\n",
        "  dbinom(x = 1, size = 1, prob = theta) *\n",
        "    dpost(theta, const)\n",
        "}"
      ],
      "id": "d256aff4-f37c-47ff-a4d8-13490ce68db7"
    },
    {
      "cell_type": "markdown",
      "metadata": {},
      "source": [
        "Lastly, we integrate that function to compute\n",
        "$P(\\tilde{y} = 1 \\mid \\theta)$."
      ],
      "id": "389a3d5c-2d25-4bdb-826a-fbb010232558"
    },
    {
      "cell_type": "code",
      "execution_count": null,
      "metadata": {},
      "outputs": [],
      "source": [
        "# posterior predictive probability\n",
        "integrate(pytilde_target, lower = 0, upper = 1, const = nconst)"
      ],
      "id": "7fbd8879-cbab-4324-90ab-8fdfeac4badb"
    },
    {
      "cell_type": "markdown",
      "metadata": {},
      "source": [
        "## Bayesian CLT for $N(\\mu,\\sigma^2)$\n",
        "\n",
        "**Example 1**\n",
        "\n",
        "*Data distribution*\n",
        "\n",
        "$y_1, ..., y_n \\mid \\theta \\stackrel{i.i.d}{\\sim} \\text{Poisson}(\\theta)$\n",
        "\n",
        "*Prior distribution*\n",
        "\n",
        "$\\theta \\sim \\text{Exp}(1)$\n",
        "\n",
        "*Negative Hessian,* $-H(\\theta)$\n",
        "\n",
        "$-\\frac{d^2}{d\\theta^2} \\ln p(y \\mid \\theta) = \\frac{\\sum y_i}{\\theta^2}$.\n",
        "\n",
        "*Approximate posterior distribution*\n",
        "\n",
        "For a large sample of data,\n",
        "$p(\\theta \\mid y) \\approx N(\\hat{\\theta}, \\hat{\\theta}^2/\\sum y_i)$.\n",
        "\n",
        "We start be generating a small data set."
      ],
      "id": "421ec365-8e8b-4b69-8169-1ccfd9a092a1"
    },
    {
      "cell_type": "code",
      "execution_count": null,
      "metadata": {},
      "outputs": [],
      "source": [
        "# Generate some synthetic data\n",
        "# Poisson with mean of 0.5\n",
        "set.seed(3) # for reproducibility\n",
        "y <- rpois(10, lambda = 0.5)"
      ],
      "id": "4a77da89-c043-4c10-bb80-3acdaf1237b6"
    },
    {
      "cell_type": "markdown",
      "metadata": {},
      "source": [
        "We now define the posterior density with a generic normalizing constant."
      ],
      "id": "c0247d45-195a-4719-987b-0523a2115cf2"
    },
    {
      "cell_type": "code",
      "execution_count": null,
      "metadata": {},
      "outputs": [],
      "source": [
        "dpost <- function(theta, y, const = 1) {\n",
        "  log_pdata <- sum(dpois(y, lambda = theta, log = TRUE))\n",
        "  log_pprior <- dexp(theta, rate = 1, log = TRUE)\n",
        "  exp(log_pdata + log_pprior - log(const))\n",
        "}"
      ],
      "id": "15d40285-d8a2-4af5-a933-5c38e8ad90a6"
    },
    {
      "cell_type": "markdown",
      "metadata": {},
      "source": [
        "Let’s try plotting this function to help us determine what we should be\n",
        "maximizing over."
      ],
      "id": "c9ac34bf-38c8-40f6-8c5c-d19f1b618636"
    },
    {
      "cell_type": "code",
      "execution_count": null,
      "metadata": {},
      "outputs": [],
      "source": [
        "# plot dpost to determine what to maximize over\n",
        "x <- seq(0.001, 10, len = 1000)\n",
        "plot(x, dpost(theta = x, y = y), type = \"l\", )"
      ],
      "id": "6f0f87cf-2b5b-4802-a261-8fac8d17936b"
    },
    {
      "cell_type": "markdown",
      "metadata": {},
      "source": [
        "We’re getting weird results because `dpost` is trying to evaluate\n",
        "`dpois` with a vector `y` and a vector `theta` whose dimensions are\n",
        "incompatible.\n",
        "\n",
        "We want to evaluate `dpois(y, ...)` for *each* value of `theta`.\n",
        "\n",
        "We can use the `Vectorize` function to vectorize a function with respect\n",
        "to a certain argument."
      ],
      "id": "9d0560bc-452a-4c2d-a03f-686763a70c95"
    },
    {
      "cell_type": "code",
      "execution_count": null,
      "metadata": {},
      "outputs": [],
      "source": [
        "vdpost <- Vectorize(dpost, vectorize.args = \"theta\")"
      ],
      "id": "997abec8-1a15-497a-9d98-09335e3d60f6"
    },
    {
      "cell_type": "markdown",
      "metadata": {},
      "source": [
        "Now, we try our plot again."
      ],
      "id": "c917a792-cd8c-47a4-95bf-ccae2b1ee516"
    },
    {
      "cell_type": "code",
      "execution_count": null,
      "metadata": {},
      "outputs": [],
      "source": [
        "# plot vectorized dpost to determine what to maximize over\n",
        "plot(x, vdpost(theta = x, y = y), type = \"l\",\n",
        "     ylab = \"unnormalized density\")"
      ],
      "id": "d2fdcfad-1bcf-4d26-a4d0-1a3f87e8f016"
    },
    {
      "cell_type": "markdown",
      "metadata": {},
      "source": [
        "We can determine $\\hat{\\theta}_{\\text{MAP}}$ over the interval $[0, 2]$."
      ],
      "id": "43fd34b2-507d-4c06-9f3d-0db79a36409e"
    },
    {
      "cell_type": "code",
      "execution_count": null,
      "metadata": {},
      "outputs": [],
      "source": [
        "# determine MAP\n",
        "(map <- optimize(vdpost, interval = c(0, 2), y = y, maximum = TRUE)$maximum)"
      ],
      "id": "97bd5250-3bbd-4d86-ae88-0feef3517d05"
    },
    {
      "cell_type": "markdown",
      "metadata": {},
      "source": [
        "$\\hat{\\theta}_{MAP}\\approx 0.18$. Thus, our posterior approximation is\n",
        "$N(0.18, 0.18^2/\\sum y_i)$.\n",
        "\n",
        "Let’s plot the “truth” versus the approximation. In order to do that, we\n",
        "need to figure out the “true” distribution. We do this to illustrate the\n",
        "effectiveness of the approximation. We wouldn’t normally do this.\n",
        "\n",
        "We find our normalizing constant."
      ],
      "id": "9182878e-2a93-4665-89f3-bd3ea94aaee0"
    },
    {
      "cell_type": "code",
      "execution_count": null,
      "metadata": {},
      "outputs": [],
      "source": [
        "# determine normalizing constant\n",
        "(nconst <- integrate(f = vdpost, lower = 0, upper = 10, y = y)$value)"
      ],
      "id": "e1b7c92d-f90a-435c-a83d-618080bc0c0a"
    },
    {
      "cell_type": "markdown",
      "metadata": {},
      "source": [
        "We double-check that the posterior is proper!"
      ],
      "id": "0d5339bc-70ed-4329-aeca-3774ddf5f990"
    },
    {
      "cell_type": "code",
      "execution_count": null,
      "metadata": {},
      "outputs": [],
      "source": [
        "integrate(vdpost, lower = 0, upper = 10, y = y, const = nconst)"
      ],
      "id": "7734db98-4d83-46b9-9f65-95e7296a4bdc"
    },
    {
      "cell_type": "markdown",
      "metadata": {},
      "source": [
        "We define a function to evaluate our approximate posterior distribution."
      ],
      "id": "d134a903-9e16-4b8f-b052-7a407073dd60"
    },
    {
      "cell_type": "code",
      "execution_count": null,
      "metadata": {},
      "outputs": [],
      "source": [
        "# normal approximation posterior\n",
        "dpapprox <- function(theta, y, thetahat) {\n",
        "  dnorm(theta, mean = thetahat, sd = sqrt(thetahat^2 / sum(y)))\n",
        "}"
      ],
      "id": "07e345f6-16f0-4d2d-966a-8a38ccb99e7e"
    },
    {
      "cell_type": "markdown",
      "metadata": {},
      "source": [
        "Now, we plot the “true” posterior density versus the approximate\n",
        "posterior density."
      ],
      "id": "b8bafa8d-0571-4dff-a0de-d48c4a6489ba"
    },
    {
      "cell_type": "code",
      "execution_count": null,
      "metadata": {},
      "outputs": [],
      "source": [
        "# range of theta values\n",
        "theta <- seq(0, 2, length = 1000)\n",
        "# plot true density\n",
        "plot(theta, vdpost(theta, y, nconst),\n",
        "     ylab = \"density\", type = \"l\", col = \"orange\")\n",
        "# plot normal approximation\n",
        "lines(theta, dpapprox(theta, y, thetahat = map),\n",
        "      col = \"blue\")\n",
        "legend(\"topright\",\n",
        "  legend = c(\"truth\", \"approximation\"),\n",
        "  col = c(\"orange\", \"blue\"), lty = 1\n",
        ")"
      ],
      "id": "290d3452-ec67-4be4-bc77-9683e5817207"
    },
    {
      "cell_type": "markdown",
      "metadata": {},
      "source": [
        "Our approximation isn’t great because our sample size is small. Let’s\n",
        "perform the same approximation with a larger sample size.\n",
        "\n",
        "We generate 100 i.i.d. observations from a Poisson(0.5) distribution."
      ],
      "id": "dee6dcf2-ccbe-4e56-83b7-9c59b3a49251"
    },
    {
      "cell_type": "code",
      "execution_count": null,
      "metadata": {},
      "outputs": [],
      "source": [
        "set.seed(3) # for reproducibility\n",
        "y100 <- rpois(100, lambda = 0.5)"
      ],
      "id": "be54752f-69c4-42c3-8922-99982c739fae"
    },
    {
      "cell_type": "markdown",
      "metadata": {},
      "source": [
        "We once again plot the unnormalized posterior to determine the range of\n",
        "`theta` to optimize over."
      ],
      "id": "c7709c14-13a0-496a-8327-c29ad7be76f0"
    },
    {
      "cell_type": "code",
      "execution_count": null,
      "metadata": {},
      "outputs": [],
      "source": [
        "plot(x, vdpost(theta = x, y = y100),\n",
        "  type = \"l\",\n",
        "  xlab = \"theta\", ylab = \"unnormalized density\"\n",
        ")"
      ],
      "id": "c73e8ce2-105f-48e9-aa8e-8d7064b42b83"
    },
    {
      "cell_type": "markdown",
      "metadata": {},
      "source": [
        "We determine $\\hat{\\theta}_{\\text{MAP}}$."
      ],
      "id": "70d59f72-20d3-45c8-9fbf-8703ce2379bf"
    },
    {
      "cell_type": "code",
      "execution_count": null,
      "metadata": {},
      "outputs": [],
      "source": [
        "(map100 <- optimize(vdpost, interval = c(0, 2),\n",
        "                    y = y100, maximum = TRUE)$maximum)"
      ],
      "id": "0885f342-8855-439e-8907-e54d8a8f3727"
    },
    {
      "cell_type": "markdown",
      "metadata": {},
      "source": [
        "$\\hat{\\theta}_{\\text{MAP}}\\approx 0.42$. Thus, our posterior\n",
        "approximation is $N(0.42, 0.42^2/\\sum y_i)$.\n",
        "\n",
        "Let’s plot the “truth” versus the approximation.\n",
        "\n",
        "We compute the normalizing constant for our posterior."
      ],
      "id": "b9eb6c5d-d8fd-4d7c-8f42-cd5f5aaf8d61"
    },
    {
      "cell_type": "code",
      "execution_count": null,
      "metadata": {},
      "outputs": [],
      "source": [
        "# determine normalizing constant\n",
        "(nconst100 <- integrate(f = vdpost, lower = 0, upper = 10, y = y100)$value)"
      ],
      "id": "12f3142a-3c7b-4576-88c3-b2a81f8eff48"
    },
    {
      "cell_type": "markdown",
      "metadata": {},
      "source": [
        "We double-check that posterior is proper."
      ],
      "id": "f09d05ff-7065-4d51-ba37-03bebbfced40"
    },
    {
      "cell_type": "code",
      "execution_count": null,
      "metadata": {},
      "outputs": [],
      "source": [
        "integrate(vdpost, lower = 0, upper = 10, y = y100, const = nconst100)"
      ],
      "id": "eb8606f2-be5d-4764-9612-4140e73eec5b"
    },
    {
      "cell_type": "markdown",
      "metadata": {},
      "source": [
        "We have a big issue! Our (numerical) integral is no longer integrating\n",
        "to 1. Why? Computational underflow!\n",
        "\n",
        "When we evaluate our unnormalized posterior, all of the values are close\n",
        "to zero.\n",
        "\n",
        "We need to shift the unnormalized posterior vertically so that some of\n",
        "the values are higher. I choose to make the largest value 1 by using the\n",
        "trick below.\n",
        "\n",
        "-   Evaluate the log unnormalized density over the range of the\n",
        "    $\\theta$.\n",
        "-   Subtract the LARGEST number you get from the log unnormalized\n",
        "    density.\n",
        "-   Convert back to the original scale using $\\exp$."
      ],
      "id": "da15ef3c-52e2-4d59-8e5a-b47873c3b1c8"
    },
    {
      "cell_type": "code",
      "execution_count": null,
      "metadata": {},
      "outputs": [],
      "source": [
        "lqpost <- function(theta, y) {\n",
        "  log_pdata <- sum(dpois(y, lambda = theta, log = TRUE))\n",
        "  log_pprior <- dexp(theta, rate = 1, log = TRUE)\n",
        "  log_pdata + log_pprior\n",
        "}\n",
        "vlqpost <- Vectorize(lqpost, vectorize.args = \"theta\")\n",
        "range(vlqpost(x, y = y100))"
      ],
      "id": "988e2e65-dd43-4151-9f43-faefe814333f"
    },
    {
      "cell_type": "markdown",
      "metadata": {},
      "source": [
        "We create a “robust” version of the unnormalized density."
      ],
      "id": "208335f3-f850-483b-b2e5-34e4cbe83aa8"
    },
    {
      "cell_type": "code",
      "execution_count": null,
      "metadata": {},
      "outputs": [],
      "source": [
        "qpost_robust <- function(theta, y) {\n",
        "  log_pdata <- sum(dpois(y, lambda = theta, log = TRUE))\n",
        "  log_pprior <- dexp(theta, rate = 1, log = TRUE)\n",
        "  exp(log_pdata + log_pprior + 84.11288)\n",
        "}\n",
        "# vectorize\n",
        "vqpost_robust <- Vectorize(qpost_robust,\n",
        "  vectorize.args = \"theta\"\n",
        ")"
      ],
      "id": "77f3b03d-fdf3-4efe-9794-858fa9bf5364"
    },
    {
      "cell_type": "markdown",
      "metadata": {},
      "source": [
        "The new unnormalized density has a maximum of 1."
      ],
      "id": "fe0fd69d-2517-44f0-b7ce-74932fefae4e"
    },
    {
      "cell_type": "code",
      "execution_count": null,
      "metadata": {},
      "outputs": [],
      "source": [
        "plot(x, vqpost_robust(x, y = y100),\n",
        "  xlab = \"theta\", ylab = \"unnormalized density\",\n",
        "  type = \"l\"\n",
        ")"
      ],
      "id": "8c5ff9e7-079b-4977-8b00-5ae9f45f6d20"
    },
    {
      "cell_type": "markdown",
      "metadata": {},
      "source": [
        "Now, we determine the normalizing constant of our robust unnormalized\n",
        "density."
      ],
      "id": "4676e9d7-1fc6-415c-94ec-0371cbe188eb"
    },
    {
      "cell_type": "code",
      "execution_count": null,
      "metadata": {},
      "outputs": [],
      "source": [
        "# determine normalizing constant\n",
        "(nconst100 <- integrate(f = vqpost_robust, lower = 0, upper = 10, y = y100)$value)"
      ],
      "id": "7b496992-da3a-4e3b-9043-0402a7da1847"
    },
    {
      "cell_type": "markdown",
      "metadata": {},
      "source": [
        "We now create a robust version of our posterior density."
      ],
      "id": "a8db7336-acb6-4137-8b37-65c9992d8c18"
    },
    {
      "cell_type": "code",
      "execution_count": null,
      "metadata": {},
      "outputs": [],
      "source": [
        "# posterior density function\n",
        "dpost_robust <- function(theta, y, const) {\n",
        "  qpost_robust(theta, y) / const\n",
        "}\n",
        "# vectorized version of dpost_robust for integrate function\n",
        "vdpost_robust <- Vectorize(dpost_robust,\n",
        "  vectorize.args = \"theta\"\n",
        ")"
      ],
      "id": "249225d6-d6b6-4f3c-ab92-e1d83e26d39d"
    },
    {
      "cell_type": "markdown",
      "metadata": {},
      "source": [
        "We double-check that our robust posterior density is proper."
      ],
      "id": "4c1e4637-92e7-4ee8-bf35-592584316a42"
    },
    {
      "cell_type": "code",
      "execution_count": null,
      "metadata": {},
      "outputs": [],
      "source": [
        "integrate(vdpost_robust,\n",
        "  lower = 0, upper = 10,\n",
        "  y = y100, const = nconst100\n",
        ")"
      ],
      "id": "23ab1db0-19a2-427d-be59-b08f9c37e9e0"
    },
    {
      "cell_type": "markdown",
      "metadata": {},
      "source": [
        "Finally, we create a plots to compare our true density versus our normal\n",
        "approximation."
      ],
      "id": "9b113496-7489-40a0-9ec0-c821d9b468d0"
    },
    {
      "cell_type": "code",
      "execution_count": null,
      "metadata": {},
      "outputs": [],
      "source": [
        "# plot true density\n",
        "plot(theta, vdpost_robust(theta, y100, nconst100),\n",
        "     ylab = \"density\", type = \"l\", col = \"orange\")\n",
        "# plot normal approximation\n",
        "lines(theta, dpapprox(theta, y100, thetahat = map100), col = \"blue\")\n",
        "legend(\"topright\",\n",
        "  legend = c(\"truth\", \"approximation\"),\n",
        "  col = c(\"orange\", \"blue\"), lty = 1\n",
        ")"
      ],
      "id": "6afaa041-b31f-47a5-bb4c-6026158d4012"
    },
    {
      "cell_type": "markdown",
      "metadata": {},
      "source": [
        "**Bayesian CLT Example (Two parameter)**\n",
        "\n",
        "*Data distribution*\n",
        "\n",
        "$y_1, y_2, \\ldots, y_n | \\mu, \\sigma^2 \\stackrel{i.i.d.}{\\sim} N(\\mu, \\sigma^2)$\n",
        "\n",
        "*Prior distribution*\n",
        "\n",
        "$\\mu \\sim U(10, 15)$,\n",
        "$p(\\sigma^2) \\propto N(0.5, 0.5^2) I_{(0, \\infty)}(\\sigma^2)$\n",
        "\n",
        "*Posterior distribution (Bayesian CLT)*\n",
        "\n",
        "Assuming $n$ is large, $\\theta = (\\mu, \\sigma^2)$, and\n",
        "$\\hat{\\theta} = \\hat{\\theta}_{MAP}$,\n",
        "$\\theta | y \\sim N(\\hat{\\theta}, I(\\hat{\\theta})^{-1}).$\n",
        "\n",
        "Let’s determine $I(\\hat{\\theta})^{-1}$.\n",
        "\n",
        "</br>  \n",
        "</br>  \n",
        "</br>  \n",
        "</br>  \n",
        "</br>  \n",
        "</br>  \n",
        "</br>  \n",
        "</br>  \n",
        "</br>  \n",
        "</br>  \n",
        "</br>  \n",
        "</br>  \n",
        "</br>  \n",
        "</br>  \n",
        "</br>  \n",
        "</br>  \n",
        "</br>  \n",
        "</br>  \n",
        "</br>  \n",
        "</br>  \n",
        "</br>\n",
        "\n",
        "Let’s generate some data."
      ],
      "id": "cc6abf6b-585b-42f4-a1eb-f458c5f24bc7"
    },
    {
      "cell_type": "code",
      "execution_count": null,
      "metadata": {},
      "outputs": [],
      "source": [
        "# Generate some synthetic data\n",
        "# in practice, we just have some data\n",
        "set.seed(7)\n",
        "y <- rnorm(100, mean = 11, sd = 0.47)"
      ],
      "id": "dcdd00af-c88f-4cee-8afe-2a105fefa514"
    },
    {
      "cell_type": "markdown",
      "metadata": {},
      "source": [
        "Now we create functions related to the true posterior density. This\n",
        "wouldn’t normally be needed, but we want to assess how good our\n",
        "approximation is.\n",
        "\n",
        "We create a density function with a built-in correction to address the\n",
        "numerical underflow issue. The function takes:\n",
        "\n",
        "-   `theta`: a vector parameterized as $\\theta = (\\mu, \\sigma^2)$.\n",
        "-   `y`: data vector.\n",
        "-   `const`: the normalizing constant, which we don’t yet know. We use\n",
        "    1."
      ],
      "id": "58b24fc3-a42c-40cf-84f5-033b86901d5a"
    },
    {
      "cell_type": "code",
      "execution_count": null,
      "metadata": {},
      "outputs": [],
      "source": [
        "dpost <- function(theta, y, const = 1) {\n",
        "  mu <- theta[1]\n",
        "  sigma <- sqrt(theta[2])\n",
        "  log_pdata <- sum(dnorm(y, mean = mu, sd = sigma, log = TRUE))\n",
        "  log_pmu <- dunif(mu, 10, 15, log = TRUE)\n",
        "  log_psigmasq <- dnorm(sigma^2, mean = 0.5, sd = 0.5, log = TRUE)\n",
        "  log_qtheta <- log_pdata + log_pmu + log_psigmasq\n",
        "  exp(log_qtheta + 70)/const\n",
        "}"
      ],
      "id": "5204f672-a46b-4dd2-950d-1d6691f10cf3"
    },
    {
      "cell_type": "markdown",
      "metadata": {},
      "source": [
        "We determine the normalizing constant over the interval\n",
        "$\\mu \\in [10, 15]$ and $\\sigma^2\\in[0, 2]$."
      ],
      "id": "14e2a7f4-7900-4a40-a432-f059ad06202b"
    },
    {
      "cell_type": "code",
      "execution_count": null,
      "metadata": {},
      "outputs": [],
      "source": [
        "(const <- cubintegrate(\n",
        "  f = dpost,\n",
        "  lower = c(10, 0),\n",
        "  upper = c(15, 2),\n",
        "  y = y\n",
        ")$integral)"
      ],
      "id": "1dee8cc3-5ba8-4e74-ad93-8be8021f8ce7"
    },
    {
      "cell_type": "markdown",
      "metadata": {},
      "source": [
        "Now, let’s determine our MAP estimate.\n",
        "\n",
        "We first define a function to evaluate the log unnormalized posterior."
      ],
      "id": "f2255ebe-cb88-4baf-9d54-40d9a7034faa"
    },
    {
      "cell_type": "code",
      "execution_count": null,
      "metadata": {},
      "outputs": [],
      "source": [
        "log_qtheta <- function(theta, y) {\n",
        "  mu <- theta[1]\n",
        "  sigma <- sqrt(theta[2])\n",
        "  log_pdata <- sum(dnorm(y, mean = mu, sd = sigma, log = TRUE))\n",
        "  log_pmu <- dunif(mu, 10, 15, log = TRUE)\n",
        "  log_psigmasq <- dnorm(sigma^2, mean = 0.5, sd = 0.5, log = TRUE)\n",
        "  log_pdata + log_pmu + log_psigmasq\n",
        "}"
      ],
      "id": "7048444f-e587-4930-a72d-c0e5731ca19f"
    },
    {
      "cell_type": "markdown",
      "metadata": {},
      "source": [
        "We now use the `optim` function to maximize the objective function.\n",
        "\n",
        "-   We use `fnscale = -1` to make `optim` perform maximization instead\n",
        "    of minimization"
      ],
      "id": "1e77bb52-2a76-419c-949f-a96e75fd5df6"
    },
    {
      "cell_type": "code",
      "execution_count": null,
      "metadata": {},
      "outputs": [],
      "source": [
        "(map <- optim(\n",
        "  par = c(12.5, 1),\n",
        "  f = log_qtheta,\n",
        "  lower = c(10.0001, 0.05),\n",
        "  upper = c(14.9999, 2),\n",
        "  method = \"L-BFGS-B\",\n",
        "  y = y,\n",
        "  control = list(fnscale = -1)\n",
        "))"
      ],
      "id": "c4f82410-e90b-48be-ae94-1cc7392d70c3"
    },
    {
      "cell_type": "markdown",
      "metadata": {},
      "source": [
        "Now, we build a function that returns the inverse of the observation\n",
        "information matrix."
      ],
      "id": "744d384e-4fb4-4da2-8d4c-e73a53fff9ea"
    },
    {
      "cell_type": "code",
      "execution_count": null,
      "metadata": {},
      "outputs": [],
      "source": [
        "# return the observed information matrix\n",
        "inv_ihat <- function(thetahat, n) {\n",
        "  mu <- thetahat[1]\n",
        "  sigma <- sqrt(thetahat[2])\n",
        "  # 2nd derivative of log likelihood w/r to mu\n",
        "  d2dmu2 <- -n / sigma^2\n",
        "  # derivative of log likelihood w/r to mu and sigmasq\n",
        "  d2dmudsigmasq <- -sum((y - mu)) / sigma^4\n",
        "  # 2nd derivative of log likelihood w/r to sigmasq\n",
        "  d2dsigmasq2 <- n / (2 * sigma^4) - 1 / sigma^6 * sum((y - mu)^2)\n",
        "  #\n",
        "  H <- cbind(c(d2dmu2, d2dmudsigmasq), c(d2dmudsigmasq, d2dsigmasq2))\n",
        "  solve(-H)\n",
        "}"
      ],
      "id": "b6af71bf-65b3-4a08-8dbd-7560c1fa12b6"
    },
    {
      "cell_type": "markdown",
      "metadata": {},
      "source": [
        "Now, we create a function that evaluates the bivariate normal\n",
        "approximation of the true density with respect to $\\theta$."
      ],
      "id": "fd254fcc-7f0b-4878-846f-04403cc62fcf"
    },
    {
      "cell_type": "code",
      "execution_count": null,
      "metadata": {},
      "outputs": [],
      "source": [
        "# posterior approximation\n",
        "dpapprox <- function(theta, thetahat, vhat) {\n",
        "  mvtnorm::dmvnorm(x = theta, mean = thetahat, sigma = vhat)\n",
        "}"
      ],
      "id": "d4472aee-9da4-4093-933d-06e89cbc933b"
    },
    {
      "cell_type": "markdown",
      "metadata": {},
      "source": [
        "Finally, we visually compare the results."
      ],
      "id": "a6b8fb52-c5ca-4185-ab21-5feb2cefbbbb"
    },
    {
      "cell_type": "code",
      "execution_count": null,
      "metadata": {},
      "outputs": [],
      "source": [
        "# create sequence of values for mu and sigmasq\n",
        "mymu <- seq(10.95, 11.2, length = 200)\n",
        "mysigmasq <- seq(0.14, 0.29, length = 200)\n",
        "# create grid\n",
        "mytheta <- expand.grid(mymu, mysigmasq)\n",
        "\n",
        "# for each row of mytheta, plug it into dpost function\n",
        "z <- apply(mytheta, 1, function(theta) {\n",
        "  dpost(theta, y = y, const = const)\n",
        "})\n",
        "\n",
        "# convert z to matrix for plotting\n",
        "zmat <- matrix(z, nrow = length(mymu))\n",
        "\n",
        "# compute observed Information outside of loop\n",
        "vhat <- inv_ihat(map$par, length(y))\n",
        "zhat <- mvtnorm::dmvnorm(\n",
        "  x = mytheta,\n",
        "  mean = map$par,\n",
        "  sigma = vhat\n",
        ")\n",
        "# convert z to matrix for plotting\n",
        "zhatmat <- matrix(zhat, nrow = length(mymu))\n",
        "\n",
        "# side-by-side results\n",
        "par(mfrow = c(1, 2))\n",
        "\n",
        "# create heat map of objective surface\n",
        "image(mymu, mysigmasq, zmat,\n",
        "  col = hcl.colors(64, rev = TRUE),\n",
        "  xlab = expression(mu),\n",
        "  ylab = expression(sigma^2),\n",
        "  zlim = range(c(z, zhat))\n",
        ")\n",
        "# add contours\n",
        "contour(mymu, mysigmasq, zmat,\n",
        "  add = TRUE\n",
        ")\n",
        "title(\"true posterior\")\n",
        "\n",
        "# create heat map of approximation surface\n",
        "image(mymu, mysigmasq, zhatmat,\n",
        "  col = hcl.colors(64, rev = TRUE),\n",
        "  xlab = expression(mu),\n",
        "  ylab = expression(sigma^2),\n",
        "  zlim = c(range(c(z, zhat)))\n",
        ")\n",
        "# add contours\n",
        "contour(mymu, mysigmasq, zhatmat, add = TRUE)\n",
        "title(\"normal approximation\")\n",
        "par(mfrow = c(1, 1))"
      ],
      "id": "d74e0351-73b9-4e4a-b119-97a391adb712"
    }
  ],
  "nbformat": 4,
  "nbformat_minor": 5,
  "metadata": {
    "kernelspec": {
      "name": "ir",
      "display_name": "R",
      "language": "R"
    }
  }
}