{
  "cells": [
    {
      "cell_type": "markdown",
      "id": "9b466afa-eb05-4453-912e-523681545eef",
      "metadata": {},
      "source": [
        "# Computational methods for Bayesian inference\n",
        "\n",
        "Joshua French\n",
        "\n",
        "To open this information in an interactive Colab notebook, click the\n",
        "Open in Colab graphic below.\n",
        "\n",
        "<a href=\"https://colab.research.google.com/github/jfrench/BayesianStatistics/blob/master/lectures/Math7393-03b-Computational-methods-for-Bayesian-inference-Deterministic.ipynb\">\n",
        "<img src=\"https://colab.research.google.com/assets/colab-badge.svg\">\n",
        "</a>\n",
        "\n",
        "------------------------------------------------------------------------"
      ]
    },
    {
      "cell_type": "code",
      "execution_count": null,
      "id": "9e0db200-4bda-48f9-bc93-c198ba715532",
      "metadata": {
        "vscode": {
          "languageId": "r"
        }
      },
      "outputs": [],
      "source": [
        "# check to see if necessary packages are installed\n",
        "if(!require(mvtnorm, quietly = TRUE)) {\n",
        "  # install and load packages if necessary\n",
        "  install.packages(\"mvtnorm\", repos = \"https://cran.rstudio.com/\")\n",
        "  library(mvtnorm)\n",
        "}\n",
        "if(!require(cubature, quietly = TRUE)) {\n",
        "  install.packages(\"cubature\", repos = \"https://cran.rstudio.com/\")\n",
        "  library(cubature)\n",
        "}"
      ]
    },
    {
      "cell_type": "markdown",
      "id": "bee783c3-184a-43e5-a3ba-29537a7afe29",
      "metadata": {},
      "source": [
        "# Deterministic methods\n",
        "\n",
        "## MAP estimation\n",
        "\n",
        "The *maximum a posteriori* estimator, $\\hat{\\theta}_{\\textrm{MAP}}$,\n",
        "summarizes the posterior with the parameter values that maximize the\n",
        "posterior distribution, i.e.,\n",
        "$$\\hat{\\theta}_{\\textrm{MAP}} = \\text{argmax}_{\\theta} \\ln p(\\theta | y) = \\text{argmax}_{\\theta} \\ln p(y | \\theta ) + \\ln p(\\theta).$$\n",
        "\n",
        "**MAP Example 1**\n",
        "\n",
        "*Data distribution*\n",
        "\n",
        "$y_1, \\ldots, y_n \\mid \\theta \\stackrel{i.i.d.}{\\sim} \\text{Poisson}(\\theta)$\n",
        "\n",
        "pdf:\n",
        "\n",
        "<br>  \n",
        "<br>\n",
        "\n",
        "*Prior distribution*\n",
        "\n",
        "$\\theta \\sim \\text{Exp}(1)$\n",
        "\n",
        "pdf:\n",
        "\n",
        "<br>  \n",
        "<br>\n",
        "\n",
        "*Posterior distribution*\n",
        "\n",
        "pdf:\n",
        "\n",
        "<br>  \n",
        "<br>\n",
        "\n",
        "$\\ln p(\\theta \\mid y) \\propto \\text{const} - (n - 1) \\theta + \\sum y_i \\ln(\\theta)$\n",
        "\n",
        "Let’s start by generating some data."
      ]
    },
    {
      "cell_type": "code",
      "execution_count": null,
      "id": "1893d216-86cf-4d8b-842b-20a31d23aa48",
      "metadata": {
        "vscode": {
          "languageId": "r"
        }
      },
      "outputs": [],
      "source": [
        "# Generate some synthetic data from a Poisson(0.5)\n",
        "set.seed(8)\n",
        "y <- rpois(10, lambda = 0.5)"
      ]
    },
    {
      "cell_type": "markdown",
      "id": "2d65f3a3-11c9-4281-a4a8-45032705b3a0",
      "metadata": {},
      "source": [
        "Now, we create a function to compute the log of the unnormalized\n",
        "posterior."
      ]
    },
    {
      "cell_type": "code",
      "execution_count": null,
      "id": "b42cc46a-8934-4461-a42f-8af51077227e",
      "metadata": {
        "vscode": {
          "languageId": "r"
        }
      },
      "outputs": [],
      "source": [
        "# create function for log unnormalized posterior\n",
        "# theta = estimand\n",
        "# sumy = sum(y)\n",
        "# n = sample size\n",
        "lup <- function(theta, sumy, n) {\n",
        "  -(n + 1) * theta + sumy * log(theta)\n",
        "}"
      ]
    },
    {
      "cell_type": "markdown",
      "id": "5d82882f-f0de-4855-af8b-4378f5979eca",
      "metadata": {},
      "source": [
        "We now use the `optimize` function to optimize the objective function,\n",
        "`lup`, between 0 and 1.\n",
        "\n",
        "-   We start our search `interval` just above 0 to avoid numerical\n",
        "    issues.\n",
        "-   We set `maximum` to `TRUE` to find the parameter that maximizes the\n",
        "    objection function, `lup`."
      ]
    },
    {
      "cell_type": "code",
      "execution_count": null,
      "id": "8200b7ad-c925-426a-b03e-41d95fe076ed",
      "metadata": {
        "vscode": {
          "languageId": "r"
        }
      },
      "outputs": [],
      "source": [
        "(map <- optimize(\n",
        "  f = lup, interval = c(0.0001, 10),\n",
        "  maximum = TRUE,\n",
        "  sumy = sum(y), n = length(y)\n",
        "))\n",
        "# maximum occurs at theta = 0.64"
      ]
    },
    {
      "cell_type": "markdown",
      "id": "353ddcc9-bac8-43aa-bfdd-f45707832180",
      "metadata": {},
      "source": [
        "We plot our results to double-check accuracy."
      ]
    },
    {
      "cell_type": "code",
      "execution_count": null,
      "id": "33932933-673e-4473-be61-a009d868afa9",
      "metadata": {
        "vscode": {
          "languageId": "r"
        }
      },
      "outputs": [],
      "source": [
        "# domain of plot\n",
        "mytheta <- seq(0.0001, 1, length = 1000)\n",
        "# plot function\n",
        "plot(mytheta, lup(mytheta, sumy = sum(y), n = length(y)),\n",
        "  type = \"l\",\n",
        "  xlab = \"theta\", ylab = \"propto log posterior\"\n",
        ")\n",
        "# show maximum\n",
        "abline(v = map$maximum)"
      ]
    },
    {
      "cell_type": "markdown",
      "id": "c7266777-879e-4ba3-a9fa-5fc64a7d4d24",
      "metadata": {},
      "source": [
        "We now use a different approach that doesn’t simplify ahead of time.\n",
        "Note that\n",
        "\n",
        "$$\n",
        "\\begin{aligned}\n",
        "\\ln [p(y\\mid \\theta)p(\\theta)] &= \\ln p(y\\mid \\theta) + \\ln p(\\theta) \\\\\n",
        "&= \\ln \\left(\\prod_{i=1}^n p(y_i\\mid\\theta)\\right) + \\ln p(\\theta) \\\\\n",
        "&= \\sum_{i=1}^n \\ln p(y_i\\mid\\theta) + \\ln p(\\theta).\n",
        "\\end{aligned}\n",
        "$$"
      ]
    },
    {
      "cell_type": "code",
      "execution_count": null,
      "id": "e7de818d-b9c1-43ef-b10f-0c1d4bbc8345",
      "metadata": {
        "vscode": {
          "languageId": "r"
        }
      },
      "outputs": [],
      "source": [
        "# second version of log unnormalized posterior\n",
        "lup2 <- function(theta, y) {\n",
        "  sum(dpois(y, lambda = theta, log = TRUE)) +\n",
        "    dexp(theta, rate = 1, log = TRUE)\n",
        "}\n",
        "\n",
        "# same results!\n",
        "optimize(\n",
        "  f = lup2, interval = c(0.0001, 10), maximum = TRUE,\n",
        "  y = y\n",
        ")"
      ]
    },
    {
      "cell_type": "markdown",
      "id": "b3f83e9e-b675-4ad5-9e95-98755936dcbe",
      "metadata": {},
      "source": [
        "**MAP Example 2 (2 parameter)**\n",
        "\n",
        "*Data distribution*\n",
        "\n",
        "$y_1, ..., y_n \\mid \\mu, \\sigma^2 \\stackrel{i.i.d.}{\\sim} N(\\mu, \\sigma^2)$\n",
        "\n",
        "pdf:\n",
        "\n",
        "<br>  \n",
        "<br>\n",
        "\n",
        "*Prior distribution*\n",
        "\n",
        "$\\mu \\sim U(10, 15)$\n",
        "\n",
        "pdf:\n",
        "\n",
        "<br>  \n",
        "<br>\n",
        "\n",
        "$p(\\sigma^2) \\propto N(0.5, 0.5^2) I_{(0,\\infty)}(\\sigma^2)$\n",
        "\n",
        "pdf:\n",
        "\n",
        "<br>  \n",
        "<br>\n",
        "\n",
        "This is essentially a truncated normal with a different scaling\n",
        "constant.\n",
        "\n",
        "We start by generating some fake data."
      ]
    },
    {
      "cell_type": "code",
      "execution_count": null,
      "id": "0c35a0a5-c713-436d-9e28-32ff21b39e8e",
      "metadata": {
        "vscode": {
          "languageId": "r"
        }
      },
      "outputs": [],
      "source": [
        "# Generate some synthetic data\n",
        "# Normal with mean 11 and sd = 0.47\n",
        "set.seed(7)\n",
        "y <- rnorm(10, mean = 11, sd = 0.47)"
      ]
    },
    {
      "cell_type": "markdown",
      "id": "aad49e67-b9ab-41dc-9b19-7c34cb89f6c1",
      "metadata": {},
      "source": [
        "We program the negative log of the unnormalized posterior density.\n",
        "\n",
        "-   The function takes $\\theta = (\\mu, \\sigma^2)$.\n",
        "-   We *don’t* constrain $\\mu$ to be between 10 and 15 and $\\sigma^2$ to\n",
        "    be positive only because we will do this constraint in our\n",
        "    optimization.\n",
        "-   We multiply the log posterior by -1 so that instead of trying to\n",
        "    maximize the log unnormalized posterior, we minimize the negative\n",
        "    log unnormalized posterior."
      ]
    },
    {
      "cell_type": "code",
      "execution_count": null,
      "id": "c76b5283-0aa4-4da7-9f2b-f1e783708704",
      "metadata": {
        "vscode": {
          "languageId": "r"
        }
      },
      "outputs": [],
      "source": [
        "nlup <- function(theta, y) {\n",
        "  mu <- theta[1]\n",
        "  sigma <- sqrt(theta[2])\n",
        "  obj <- sum(dnorm(y, mean = mu, sd = sigma, log = TRUE)) +\n",
        "    dunif(mu, 10, 15, log = TRUE) +\n",
        "    dnorm(sigma^2, mean = 0.5, sd = 0.5, log = TRUE)\n",
        "  -obj\n",
        "}"
      ]
    },
    {
      "cell_type": "markdown",
      "id": "6c1bee05-6d6d-46fe-b3cc-95b7ae0668e9",
      "metadata": {},
      "source": [
        "We now use the `optim` function to perform multi-dimensional\n",
        "optimization.\n",
        "\n",
        "-   `par`: vector of starting values\n",
        "-   `f`: function to MINIMIZE. The first argument must be the argument\n",
        "    you want to optimize over.\n",
        "-   `lower`: the constraints on the lower bound\n",
        "-   `upper`: the constraints on the upper bound\n",
        "-   `method`: the optimization method. `\"L-BFGS-B\"` allows use to\n",
        "    specify constraints.\n",
        "-   `control`: list of optional tuning parameters.\n",
        "-   The remaining arguments are the arguments that must be supplied to\n",
        "    `f`."
      ]
    },
    {
      "cell_type": "code",
      "execution_count": null,
      "id": "3655ba6e-bf16-4d11-8b5a-d296f6624573",
      "metadata": {
        "vscode": {
          "languageId": "r"
        }
      },
      "outputs": [],
      "source": [
        "optim(\n",
        "  par = c(12.5, 1),\n",
        "  f = nlup,\n",
        "  lower = c(10.0001, 0.05),\n",
        "  upper = c(14.9999, 2),\n",
        "  method = \"L-BFGS-B\",\n",
        "  y = y\n",
        ")"
      ]
    },
    {
      "cell_type": "markdown",
      "id": "d862c171-0be3-4cc0-9c72-a2e50430efc8",
      "metadata": {},
      "source": [
        "`nlminb` is an alternative optimizer that is more robust (from my\n",
        "personal experience.)\n",
        "\n",
        "-   The arguments are self-explanatory."
      ]
    },
    {
      "cell_type": "code",
      "execution_count": null,
      "id": "69de5183-8e9c-4e3b-99a9-f423542b0c3a",
      "metadata": {
        "vscode": {
          "languageId": "r"
        }
      },
      "outputs": [],
      "source": [
        "(map <- nlminb(\n",
        "  start = c(12.5, 1),\n",
        "  objective = nlup,\n",
        "  lower = c(10.0001, 0.0001),\n",
        "  upper = c(14.9999, 2),\n",
        "  y = y\n",
        "))"
      ]
    },
    {
      "cell_type": "markdown",
      "id": "b95c5b4b-3ea3-44b1-9cc5-9262f49177b9",
      "metadata": {},
      "source": [
        "Let’s plot our results."
      ]
    },
    {
      "cell_type": "code",
      "execution_count": null,
      "id": "46410cfa-4a6f-4024-bcc4-82baa626755f",
      "metadata": {
        "vscode": {
          "languageId": "r"
        }
      },
      "outputs": [],
      "source": [
        "# create sequence of values for mu and sigmasq\n",
        "mymu <- seq(10.8, 11.2, length = 200)\n",
        "mysigmasq <- seq(0.15, 0.45, length = 200)\n",
        "# create grid\n",
        "mytheta <- expand.grid(mymu, mysigmasq)\n",
        "# for each row of mytheta, plug it into nlup function\n",
        "z <- apply(mytheta, 1, function(theta) {\n",
        "  nlup(theta, y = y)\n",
        "})\n",
        "# convert z to matrix for plotting\n",
        "zmat <- matrix(z, nrow = length(mymu))\n",
        "# create heat map of objective surface\n",
        "image(mymu, mysigmasq, zmat,\n",
        "  col = hcl.colors(64, rev = TRUE),\n",
        "  xlab = expression(mu), ylab = expression(sigma^2)\n",
        ")\n",
        "# add contours\n",
        "contour(mymu, mysigmasq, zmat, add = TRUE)\n",
        "# place point for posterior mode\n",
        "points(map$par[1], map$par[2], pch = 20)\n",
        "title(\"log posterior density (unnormalized)\")"
      ]
    },
    {
      "cell_type": "markdown",
      "id": "159c90b0-4962-4ec7-8828-fdc0ab1fe524",
      "metadata": {},
      "source": [
        "## Cubature methods\n",
        "\n",
        "Cubature methods approximate an integral by evaluating a function at a\n",
        "finite number of points and aggregating the results. (We won’t discuss\n",
        "specifics.)\n",
        "\n",
        "**Cubature method example (Beta-Binomial)**\n",
        "\n",
        "*Data distribution*\n",
        "\n",
        "$y \\mid \\theta \\sim \\text{Bin}(n, \\theta)$.\n",
        "\n",
        "Let’s assume $n=980$ and $y=437$.\n",
        "\n",
        "*Prior distribution*\n",
        "\n",
        "$\\theta \\sim \\text{Beta}(\\alpha, \\beta)$.\n",
        "\n",
        "Let’s assume $\\alpha=\\beta=1$.\n",
        "\n",
        "*Posterior distribution*\n",
        "\n",
        "$\\theta \\mid y \\sim \\text{Beta}(y + \\alpha, n - y + \\beta)$.\n",
        "\n",
        "This has posterior mean $\\frac{y + \\alpha}{n + \\alpha + \\beta}$.\n",
        "\n",
        "Based on our assumptions above,\n",
        "$\\theta \\mid y \\sim \\text{Beta}(438, 544)$.\n",
        "\n",
        "*Posterior predictive distribution*\n",
        "\n",
        "$P(\\tilde{y} = 1 \\mid y) = \\frac{y + \\alpha}{n + \\alpha + \\beta}$.\n",
        "\n",
        "Based on previous assumptions,\n",
        "$P(\\tilde{y} = 1 \\mid y) = 448/(438 + 544) \\approx 0.446$.\n",
        "\n",
        "Let’s use the cubature method to approximate some of these.\n",
        "\n",
        "We start by defining the posterior density with a generic normalizing\n",
        "constant."
      ]
    },
    {
      "cell_type": "code",
      "execution_count": null,
      "id": "7c5c4d5b-e43d-4b79-b698-24f8be455efe",
      "metadata": {
        "vscode": {
          "languageId": "r"
        }
      },
      "outputs": [],
      "source": [
        "# unnormalized posterior\n",
        "dpost <- function(theta, const = 1) {\n",
        "  dbinom(x = 437, size = 980, prob = theta) *\n",
        "    dbeta(theta, shape1 = 1, shape2 = 1) /\n",
        "    const\n",
        "}"
      ]
    },
    {
      "cell_type": "markdown",
      "id": "7a547e86-ecf4-4ff6-8ea9-f8b7a6b743e6",
      "metadata": {},
      "source": [
        "We determine the normalizing constant."
      ]
    },
    {
      "cell_type": "code",
      "execution_count": null,
      "id": "7b8ef29c-abf4-4b4b-b937-62395aa6df73",
      "metadata": {
        "vscode": {
          "languageId": "r"
        }
      },
      "outputs": [],
      "source": [
        "(nconst <- integrate(dpost, lower = 0, upper = 1)$value)"
      ]
    },
    {
      "cell_type": "markdown",
      "id": "62bd4691-a959-4686-849c-885c7013052f",
      "metadata": {},
      "source": [
        "Now, we define the function $\\theta p(\\theta \\mid y)$."
      ]
    },
    {
      "cell_type": "code",
      "execution_count": null,
      "id": "820400a2-c886-4d42-8700-8cf4c6d925f1",
      "metadata": {
        "vscode": {
          "languageId": "r"
        }
      },
      "outputs": [],
      "source": [
        "# theta * posterior\n",
        "mean_target <- function(theta, const) {\n",
        "  theta * dpost(theta, const)\n",
        "}"
      ]
    },
    {
      "cell_type": "markdown",
      "id": "0078b23d-5614-4b2c-a5c0-e07846a1f4cb",
      "metadata": {},
      "source": [
        "We integrate $\\theta p(\\theta \\mid y)$ for $\\theta \\in [0, 1]$."
      ]
    },
    {
      "cell_type": "code",
      "execution_count": null,
      "id": "6d4c23d3-000e-4ed9-b8d2-7305bd6e9954",
      "metadata": {
        "vscode": {
          "languageId": "r"
        }
      },
      "outputs": [],
      "source": [
        "# compute posterior mean using cubature\n",
        "integrate(mean_target, lower = 0, upper = 1, const = nconst)"
      ]
    },
    {
      "cell_type": "markdown",
      "id": "5ac3e1b6-93b5-4080-8de2-bd0299ee5a94",
      "metadata": {},
      "source": [
        "Next, we define the function that evaluates\n",
        "$P(\\tilde{y} = 1 \\mid \\theta) p(\\theta \\mid y)$."
      ]
    },
    {
      "cell_type": "code",
      "execution_count": null,
      "id": "0aa859a2-f397-4b95-9970-d9e9186cf1ab",
      "metadata": {
        "vscode": {
          "languageId": "r"
        }
      },
      "outputs": [],
      "source": [
        "# pytilde * ptarget\n",
        "pytilde_target <- function(theta, const) {\n",
        "  dbinom(x = 1, size = 1, prob = theta) *\n",
        "    dpost(theta, const)\n",
        "}"
      ]
    },
    {
      "cell_type": "markdown",
      "id": "df179ad0-ecd9-41ca-b0e4-0ebf523e6219",
      "metadata": {},
      "source": [
        "Lastly, we integrate that function to compute\n",
        "$P(\\tilde{y} = 1 \\mid \\theta)$."
      ]
    },
    {
      "cell_type": "code",
      "execution_count": null,
      "id": "67f015e2-eb3a-413d-9208-4ac7a37fdb52",
      "metadata": {
        "vscode": {
          "languageId": "r"
        }
      },
      "outputs": [],
      "source": [
        "# posterior predictive probability\n",
        "integrate(pytilde_target, lower = 0, upper = 1, const = nconst)"
      ]
    },
    {
      "cell_type": "markdown",
      "id": "3f9b31e2-ce20-41a6-bd6d-e48e627dfbbd",
      "metadata": {},
      "source": [
        "## Bayesian CLT for $N(\\mu,\\sigma^2)$\n",
        "\n",
        "**Example 1**\n",
        "\n",
        "*Data distribution*\n",
        "\n",
        "$y_1, ..., y_n \\mid \\theta \\stackrel{i.i.d}{\\sim} \\text{Poisson}(\\theta)$\n",
        "\n",
        "*Prior distribution*\n",
        "\n",
        "$\\theta \\sim \\text{Exp}(1)$\n",
        "\n",
        "*Negative Hessian,* $-H(\\theta)$\n",
        "\n",
        "$-\\frac{d^2}{d\\theta^2} \\ln p(y \\mid \\theta) = \\frac{\\sum y_i}{\\theta^2}$.\n",
        "\n",
        "*Approximate posterior distribution*\n",
        "\n",
        "For a large sample of data,\n",
        "$p(\\theta \\mid y) \\approx N(\\hat{\\theta}, \\hat{\\theta}^2/\\sum y_i)$.\n",
        "\n",
        "We start be generating a small data set."
      ]
    },
    {
      "cell_type": "code",
      "execution_count": null,
      "id": "f3944fed-fcfc-4b46-ab88-a47c74ad01f8",
      "metadata": {
        "vscode": {
          "languageId": "r"
        }
      },
      "outputs": [],
      "source": [
        "# Generate some synthetic data\n",
        "# Poisson with mean of 0.5\n",
        "set.seed(3) # for reproducibility\n",
        "y <- rpois(10, lambda = 0.5)"
      ]
    },
    {
      "cell_type": "markdown",
      "id": "cd038ba7-d980-41c6-900b-fd85bcd8aea4",
      "metadata": {},
      "source": [
        "We now define the posterior density with a generic normalizing constant."
      ]
    },
    {
      "cell_type": "code",
      "execution_count": null,
      "id": "f00172b4-bf08-4e2f-b307-6960bc108658",
      "metadata": {
        "vscode": {
          "languageId": "r"
        }
      },
      "outputs": [],
      "source": [
        "dpost <- function(theta, y, const = 1) {\n",
        "  log_pdata <- sum(dpois(y, lambda = theta, log = TRUE))\n",
        "  log_pprior <- dexp(theta, rate = 1, log = TRUE)\n",
        "  exp(log_pdata + log_pprior - log(const))\n",
        "}"
      ]
    },
    {
      "cell_type": "markdown",
      "id": "16357f78-6730-4475-b29c-8d58dcb8f30b",
      "metadata": {},
      "source": [
        "Let’s try plotting this function to help us determine what we should be\n",
        "maximizing over."
      ]
    },
    {
      "cell_type": "code",
      "execution_count": null,
      "id": "b1ff8317-6e1d-4b97-abf2-602b8d8417f6",
      "metadata": {
        "vscode": {
          "languageId": "r"
        }
      },
      "outputs": [],
      "source": [
        "# plot dpost to determine what to maximize over\n",
        "x <- seq(0.001, 10, len = 1000)\n",
        "plot(x, dpost(theta = x, y = y), type = \"l\", )"
      ]
    },
    {
      "cell_type": "markdown",
      "id": "80fcae49-a0fb-4334-b591-f821eef4c68a",
      "metadata": {},
      "source": [
        "We’re getting weird results because `dpost` is trying to evaluate\n",
        "`dpois` with a vector `y` and a vector `theta` whose dimensions are\n",
        "incompatible.\n",
        "\n",
        "We want to evaluate `dpois(y, ...)` for *each* value of `theta`.\n",
        "\n",
        "We can use the `Vectorize` function to vectorize a function with respect\n",
        "to a certain argument."
      ]
    },
    {
      "cell_type": "code",
      "execution_count": null,
      "id": "f11cb2f6-1782-44ca-800d-5eee460b6b61",
      "metadata": {
        "vscode": {
          "languageId": "r"
        }
      },
      "outputs": [],
      "source": [
        "vdpost <- Vectorize(dpost, vectorize.args = \"theta\")"
      ]
    },
    {
      "cell_type": "markdown",
      "id": "c51c25d3-381b-4f16-84e0-b567e8d2f2b9",
      "metadata": {},
      "source": [
        "Now, we try our plot again."
      ]
    },
    {
      "cell_type": "code",
      "execution_count": null,
      "id": "3fc84729-7c2c-46f1-a98f-3b5959654eac",
      "metadata": {
        "vscode": {
          "languageId": "r"
        }
      },
      "outputs": [],
      "source": [
        "# plot vectorized dpost to determine what to maximize over\n",
        "plot(x, vdpost(theta = x, y = y), type = \"l\",\n",
        "     ylab = \"unnormalized density\")"
      ]
    },
    {
      "cell_type": "markdown",
      "id": "a00ac3e9-4247-498d-b8ab-c62b92d7993b",
      "metadata": {},
      "source": [
        "We can determine $\\hat{\\theta}_{\\text{MAP}}$ over the interval $[0, 2]$."
      ]
    },
    {
      "cell_type": "code",
      "execution_count": null,
      "id": "47f02bb5-f87e-43a9-b689-9c553cfe3b69",
      "metadata": {
        "vscode": {
          "languageId": "r"
        }
      },
      "outputs": [],
      "source": [
        "# determine MAP\n",
        "(map <- optimize(vdpost, interval = c(0, 2), y = y, maximum = TRUE)$maximum)"
      ]
    },
    {
      "cell_type": "markdown",
      "id": "84942e3f-4bf4-4f64-9a18-7714ec525c87",
      "metadata": {},
      "source": [
        "$\\hat{\\theta}_{MAP}\\approx 0.18$. Thus, our posterior approximation is\n",
        "$N(0.18, 0.18^2/\\sum y_i)$.\n",
        "\n",
        "Let’s plot the “truth” versus the approximation. In order to do that, we\n",
        "need to figure out the “true” distribution. We do this to illustrate the\n",
        "effectiveness of the approximation. We wouldn’t normally do this.\n",
        "\n",
        "We find our normalizing constant."
      ]
    },
    {
      "cell_type": "code",
      "execution_count": null,
      "id": "b1406f24-1573-4b73-8e9b-bfae2ee4c382",
      "metadata": {
        "vscode": {
          "languageId": "r"
        }
      },
      "outputs": [],
      "source": [
        "# determine normalizing constant\n",
        "(nconst <- integrate(f = vdpost, lower = 0, upper = 10, y = y)$value)"
      ]
    },
    {
      "cell_type": "markdown",
      "id": "771dc0d4-c808-4281-8c9d-f27abf3e0aa7",
      "metadata": {},
      "source": [
        "We double-check that the posterior is proper!"
      ]
    },
    {
      "cell_type": "code",
      "execution_count": null,
      "id": "e17b89d1-3e5d-4773-9b24-5026462af4ff",
      "metadata": {
        "vscode": {
          "languageId": "r"
        }
      },
      "outputs": [],
      "source": [
        "integrate(vdpost, lower = 0, upper = 10, y = y, const = nconst)"
      ]
    },
    {
      "cell_type": "markdown",
      "id": "8d437012-b41b-4c22-8159-0d12a0307729",
      "metadata": {},
      "source": [
        "We define a function to evaluate our approximate posterior distribution."
      ]
    },
    {
      "cell_type": "code",
      "execution_count": null,
      "id": "cfff8b2a-937d-45d9-9a49-c878efa41e0f",
      "metadata": {
        "vscode": {
          "languageId": "r"
        }
      },
      "outputs": [],
      "source": [
        "# normal approximation posterior\n",
        "dpapprox <- function(theta, y, thetahat) {\n",
        "  dnorm(theta, mean = thetahat, sd = sqrt(thetahat^2 / sum(y)))\n",
        "}"
      ]
    },
    {
      "cell_type": "markdown",
      "id": "0e9e303e-b0b1-4a64-9d05-d2922ee39892",
      "metadata": {},
      "source": [
        "Now, we plot the “true” posterior density versus the approximate\n",
        "posterior density."
      ]
    },
    {
      "cell_type": "code",
      "execution_count": null,
      "id": "dad38086-16a8-4d74-a6de-633820ceba20",
      "metadata": {
        "vscode": {
          "languageId": "r"
        }
      },
      "outputs": [],
      "source": [
        "# range of theta values\n",
        "theta <- seq(0, 2, length = 1000)\n",
        "# plot true density\n",
        "plot(theta, vdpost(theta, y, nconst),\n",
        "     ylab = \"density\", type = \"l\", col = \"orange\")\n",
        "# plot normal approximation\n",
        "lines(theta, dpapprox(theta, y, thetahat = map),\n",
        "      col = \"blue\")\n",
        "legend(\"topright\",\n",
        "  legend = c(\"truth\", \"approximation\"),\n",
        "  col = c(\"orange\", \"blue\"), lty = 1\n",
        ")"
      ]
    },
    {
      "cell_type": "markdown",
      "id": "25f9b69c-4b16-457a-b036-da8a0dc9f418",
      "metadata": {},
      "source": [
        "Our approximation isn’t great because our sample size is small. Let’s\n",
        "perform the same approximation with a larger sample size.\n",
        "\n",
        "We generate 100 i.i.d. observations from a Poisson(0.5) distribution."
      ]
    },
    {
      "cell_type": "code",
      "execution_count": null,
      "id": "d9c78e60-ed5c-4448-84b0-4246109dd880",
      "metadata": {
        "vscode": {
          "languageId": "r"
        }
      },
      "outputs": [],
      "source": [
        "set.seed(3) # for reproducibility\n",
        "y100 <- rpois(100, lambda = 0.5)"
      ]
    },
    {
      "cell_type": "markdown",
      "id": "994cbc43-bbb8-408b-9c56-5dc26128c06f",
      "metadata": {},
      "source": [
        "We once again plot the unnormalized posterior to determine the range of\n",
        "`theta` to optimize over."
      ]
    },
    {
      "cell_type": "code",
      "execution_count": null,
      "id": "98e4cca4-d496-4f54-b3c0-91131cd3576a",
      "metadata": {
        "vscode": {
          "languageId": "r"
        }
      },
      "outputs": [],
      "source": [
        "plot(x, vdpost(theta = x, y = y100),\n",
        "  type = \"l\",\n",
        "  xlab = \"theta\", ylab = \"unnormalized density\"\n",
        ")"
      ]
    },
    {
      "cell_type": "markdown",
      "id": "a4e5d444-31d2-4bb9-8ff8-212a00c2f8de",
      "metadata": {},
      "source": [
        "We determine $\\hat{\\theta}_{\\text{MAP}}$."
      ]
    },
    {
      "cell_type": "code",
      "execution_count": null,
      "id": "d7b7d3a2-6269-4ec3-bd43-b8ac051ab249",
      "metadata": {
        "vscode": {
          "languageId": "r"
        }
      },
      "outputs": [],
      "source": [
        "(map100 <- optimize(vdpost, interval = c(0, 2),\n",
        "                    y = y100, maximum = TRUE)$maximum)"
      ]
    },
    {
      "cell_type": "markdown",
      "id": "6d2c72f8-4fb0-4f31-89ba-4f7098ba36fe",
      "metadata": {},
      "source": [
        "$\\hat{\\theta}_{\\text{MAP}}\\approx 0.42$. Thus, our posterior\n",
        "approximation is $N(0.42, 0.42^2/\\sum y_i)$.\n",
        "\n",
        "Let’s plot the “truth” versus the approximation.\n",
        "\n",
        "We compute the normalizing constant for our posterior."
      ]
    },
    {
      "cell_type": "code",
      "execution_count": null,
      "id": "08d1f6d8-6df2-4290-b511-1b1ff247e9e0",
      "metadata": {
        "vscode": {
          "languageId": "r"
        }
      },
      "outputs": [],
      "source": [
        "# determine normalizing constant\n",
        "(nconst100 <- integrate(f = vdpost, lower = 0, upper = 10, y = y100)$value)"
      ]
    },
    {
      "cell_type": "markdown",
      "id": "2d9a246c-01be-4678-9821-8ff6426f416c",
      "metadata": {},
      "source": [
        "We double-check that posterior is proper."
      ]
    },
    {
      "cell_type": "code",
      "execution_count": null,
      "id": "d6907eed-a100-4b46-9a09-587cddac9a34",
      "metadata": {
        "vscode": {
          "languageId": "r"
        }
      },
      "outputs": [],
      "source": [
        "integrate(vdpost, lower = 0, upper = 10, y = y100, const = nconst100)"
      ]
    },
    {
      "cell_type": "markdown",
      "id": "c365a743-bb99-4bcb-91a5-791fdd0f41b0",
      "metadata": {},
      "source": [
        "We have a big issue! Our (numerical) integral is no longer integrating\n",
        "to 1. Why? Computational underflow!\n",
        "\n",
        "When we evaluate our unnormalized posterior, all of the values are close\n",
        "to zero.\n",
        "\n",
        "We need to shift the unnormalized posterior vertically so that some of\n",
        "the values are higher. I choose to make the largest value 1 by using the\n",
        "trick below.\n",
        "\n",
        "-   Evaluate the log unnormalized density over the range of the\n",
        "    $\\theta$.\n",
        "-   Subtract the LARGEST number you get from the log unnormalized\n",
        "    density.\n",
        "-   Convert back to the original scale using $\\exp$."
      ]
    },
    {
      "cell_type": "code",
      "execution_count": null,
      "id": "751ae930-2f53-4479-9124-99cf1899dbbf",
      "metadata": {
        "vscode": {
          "languageId": "r"
        }
      },
      "outputs": [],
      "source": [
        "lqpost <- function(theta, y) {\n",
        "  log_pdata <- sum(dpois(y, lambda = theta, log = TRUE))\n",
        "  log_pprior <- dexp(theta, rate = 1, log = TRUE)\n",
        "  log_pdata + log_pprior\n",
        "}\n",
        "vlqpost <- Vectorize(lqpost, vectorize.args = \"theta\")\n",
        "range(vlqpost(x, y = y100))"
      ]
    },
    {
      "cell_type": "markdown",
      "id": "f20df66c-06ea-493b-a468-6a5275cc34d1",
      "metadata": {},
      "source": [
        "We create a “robust” version of the unnormalized density."
      ]
    },
    {
      "cell_type": "code",
      "execution_count": null,
      "id": "3803b650-057b-4644-aede-e4fd1fcf62bc",
      "metadata": {
        "vscode": {
          "languageId": "r"
        }
      },
      "outputs": [],
      "source": [
        "qpost_robust <- function(theta, y) {\n",
        "  log_pdata <- sum(dpois(y, lambda = theta, log = TRUE))\n",
        "  log_pprior <- dexp(theta, rate = 1, log = TRUE)\n",
        "  exp(log_pdata + log_pprior + 84.11288)\n",
        "}\n",
        "# vectorize\n",
        "vqpost_robust <- Vectorize(qpost_robust,\n",
        "  vectorize.args = \"theta\"\n",
        ")"
      ]
    },
    {
      "cell_type": "markdown",
      "id": "f77db72d-f126-470c-b356-151ac2af4de0",
      "metadata": {},
      "source": [
        "The new unnormalized density has a maximum of 1."
      ]
    },
    {
      "cell_type": "code",
      "execution_count": null,
      "id": "7cfa495b-2378-4121-b93e-29933829bf57",
      "metadata": {
        "vscode": {
          "languageId": "r"
        }
      },
      "outputs": [],
      "source": [
        "plot(x, vqpost_robust(x, y = y100),\n",
        "  xlab = \"theta\", ylab = \"unnormalized density\",\n",
        "  type = \"l\"\n",
        ")"
      ]
    },
    {
      "cell_type": "markdown",
      "id": "3e289c7c-a811-4074-a824-06dab39aac7c",
      "metadata": {},
      "source": [
        "Now, we determine the normalizing constant of our robust unnormalized\n",
        "density."
      ]
    },
    {
      "cell_type": "code",
      "execution_count": null,
      "id": "cdef77ab-3b58-4379-a6bf-330e2b5c3d3e",
      "metadata": {
        "vscode": {
          "languageId": "r"
        }
      },
      "outputs": [],
      "source": [
        "# determine normalizing constant\n",
        "(nconst100 <- integrate(f = vqpost_robust, lower = 0, upper = 10, y = y100)$value)"
      ]
    },
    {
      "cell_type": "markdown",
      "id": "c91762f9-6514-4241-9ab4-21358b05f56c",
      "metadata": {},
      "source": [
        "We now create a robust version of our posterior density."
      ]
    },
    {
      "cell_type": "code",
      "execution_count": null,
      "id": "585f99f2-fefc-4767-8938-6f388253952b",
      "metadata": {
        "vscode": {
          "languageId": "r"
        }
      },
      "outputs": [],
      "source": [
        "# posterior density function\n",
        "dpost_robust <- function(theta, y, const) {\n",
        "  qpost_robust(theta, y) / const\n",
        "}\n",
        "# vectorized version of dpost_robust for integrate function\n",
        "vdpost_robust <- Vectorize(dpost_robust,\n",
        "  vectorize.args = \"theta\"\n",
        ")"
      ]
    },
    {
      "cell_type": "markdown",
      "id": "d8d30142-6590-46ce-aad9-8b9285aed502",
      "metadata": {},
      "source": [
        "We double-check that our robust posterior density is proper."
      ]
    },
    {
      "cell_type": "code",
      "execution_count": null,
      "id": "1eea041e-8a43-49d2-a6d1-22709ecaec95",
      "metadata": {
        "vscode": {
          "languageId": "r"
        }
      },
      "outputs": [],
      "source": [
        "integrate(vdpost_robust,\n",
        "  lower = 0, upper = 10,\n",
        "  y = y100, const = nconst100\n",
        ")"
      ]
    },
    {
      "cell_type": "markdown",
      "id": "b49d7f55-1d2a-419c-b4f1-57bfbc44257b",
      "metadata": {},
      "source": [
        "Finally, we create a plots to compare our true density versus our normal\n",
        "approximation."
      ]
    },
    {
      "cell_type": "code",
      "execution_count": null,
      "id": "648d93e1-8700-409a-9f8a-6d4cedb4444a",
      "metadata": {
        "vscode": {
          "languageId": "r"
        }
      },
      "outputs": [],
      "source": [
        "# plot true density\n",
        "plot(theta, vdpost_robust(theta, y100, nconst100),\n",
        "     ylab = \"density\", type = \"l\", col = \"orange\")\n",
        "# plot normal approximation\n",
        "lines(theta, dpapprox(theta, y100, thetahat = map100), col = \"blue\")\n",
        "legend(\"topright\",\n",
        "  legend = c(\"truth\", \"approximation\"),\n",
        "  col = c(\"orange\", \"blue\"), lty = 1\n",
        ")"
      ]
    },
    {
      "cell_type": "markdown",
      "id": "fc710cdf-d443-4f6e-802b-ef0f45646747",
      "metadata": {},
      "source": [
        "**Bayesian CLT Example (Two parameter)**\n",
        "\n",
        "*Data distribution*\n",
        "\n",
        "$y_1, y_2, \\ldots, y_n | \\mu, \\sigma^2 \\stackrel{i.i.d.}{\\sim} N(\\mu, \\sigma^2)$\n",
        "\n",
        "*Prior distribution*\n",
        "\n",
        "$\\mu \\sim U(10, 15)$,\n",
        "$p(\\sigma^2) \\propto N(0.5, 0.5^2) I_{(0, \\infty)}(\\sigma^2)$\n",
        "\n",
        "*Posterior distribution (Bayesian CLT)*\n",
        "\n",
        "Assuming $n$ is large, $\\theta = (\\mu, \\sigma^2)$, and\n",
        "$\\hat{\\theta} = \\hat{\\theta}_{MAP}$,\n",
        "$\\theta | y \\sim N(\\hat{\\theta}, I(\\hat{\\theta})^{-1}).$\n",
        "\n",
        "Let’s determine $I(\\hat{\\theta})^{-1}$.\n",
        "\n",
        "</br>  \n",
        "</br>  \n",
        "</br>  \n",
        "</br>  \n",
        "</br>  \n",
        "</br>  \n",
        "</br>  \n",
        "</br>  \n",
        "</br>  \n",
        "</br>  \n",
        "</br>  \n",
        "</br>  \n",
        "</br>  \n",
        "</br>  \n",
        "</br>  \n",
        "</br>  \n",
        "</br>  \n",
        "</br>  \n",
        "</br>  \n",
        "</br>  \n",
        "</br>\n",
        "\n",
        "Let’s generate some data."
      ]
    },
    {
      "cell_type": "code",
      "execution_count": null,
      "id": "177b4221-7e14-45f5-b612-96c46451f9db",
      "metadata": {
        "vscode": {
          "languageId": "r"
        }
      },
      "outputs": [],
      "source": [
        "# Generate some synthetic data\n",
        "# in practice, we just have some data\n",
        "set.seed(7)\n",
        "y <- rnorm(100, mean = 11, sd = 0.47)"
      ]
    },
    {
      "cell_type": "markdown",
      "id": "b9cfef7c-4c5a-48f6-89e8-5af7108e490d",
      "metadata": {},
      "source": [
        "Now we create functions related to the true posterior density. This\n",
        "wouldn’t normally be needed, but we want to assess how good our\n",
        "approximation is.\n",
        "\n",
        "We create a density function with a built-in correction to address the\n",
        "numerical underflow issue. The function takes:\n",
        "\n",
        "-   `theta`: a vector parameterized as $\\theta = (\\mu, \\sigma^2)$.\n",
        "-   `y`: data vector.\n",
        "-   `const`: the normalizing constant, which we don’t yet know. We use\n",
        "    1."
      ]
    },
    {
      "cell_type": "code",
      "execution_count": null,
      "id": "957d7288-eb75-4040-a0cb-da7f26296b7f",
      "metadata": {
        "vscode": {
          "languageId": "r"
        }
      },
      "outputs": [],
      "source": [
        "dpost <- function(theta, y, const = 1) {\n",
        "  mu <- theta[1]\n",
        "  sigma <- sqrt(theta[2])\n",
        "  log_pdata <- sum(dnorm(y, mean = mu, sd = sigma, log = TRUE))\n",
        "  log_pmu <- dunif(mu, 10, 15, log = TRUE)\n",
        "  log_psigmasq <- dnorm(sigma^2, mean = 0.5, sd = 0.5, log = TRUE)\n",
        "  log_qtheta <- log_pdata + log_pmu + log_psigmasq\n",
        "  exp(log_qtheta + 70)/const\n",
        "}"
      ]
    },
    {
      "cell_type": "markdown",
      "id": "7acd30cd-cc52-4045-aaca-3107eeedd92d",
      "metadata": {},
      "source": [
        "We determine the normalizing constant over the interval\n",
        "$\\mu \\in [10, 15]$ and $\\sigma^2\\in[0, 2]$."
      ]
    },
    {
      "cell_type": "code",
      "execution_count": null,
      "id": "88632af5-1eac-48d7-8a08-9a7c459498fa",
      "metadata": {
        "vscode": {
          "languageId": "r"
        }
      },
      "outputs": [],
      "source": [
        "(const <- cubintegrate(\n",
        "  f = dpost,\n",
        "  lower = c(10, 0),\n",
        "  upper = c(15, 2),\n",
        "  y = y\n",
        ")$integral)"
      ]
    },
    {
      "cell_type": "markdown",
      "id": "a85300a9-8127-4c1f-9213-215274e03b4f",
      "metadata": {},
      "source": [
        "Now, let’s determine our MAP estimate.\n",
        "\n",
        "We first define a function to evaluate the log unnormalized posterior."
      ]
    },
    {
      "cell_type": "code",
      "execution_count": null,
      "id": "8ab5c9a3-febb-4118-a50a-fafc8d832dea",
      "metadata": {
        "vscode": {
          "languageId": "r"
        }
      },
      "outputs": [],
      "source": [
        "log_qtheta <- function(theta, y) {\n",
        "  mu <- theta[1]\n",
        "  sigma <- sqrt(theta[2])\n",
        "  log_pdata <- sum(dnorm(y, mean = mu, sd = sigma, log = TRUE))\n",
        "  log_pmu <- dunif(mu, 10, 15, log = TRUE)\n",
        "  log_psigmasq <- dnorm(sigma^2, mean = 0.5, sd = 0.5, log = TRUE)\n",
        "  log_pdata + log_pmu + log_psigmasq\n",
        "}"
      ]
    },
    {
      "cell_type": "markdown",
      "id": "ab8d3fd5-6a87-436f-b94a-df17adb93a6b",
      "metadata": {},
      "source": [
        "We now use the `optim` function to maximize the objective function.\n",
        "\n",
        "-   We use `fnscale = -1` to make `optim` perform maximization instead\n",
        "    of minimization"
      ]
    },
    {
      "cell_type": "code",
      "execution_count": null,
      "id": "583fbbba-5818-4f85-b480-7bb156de8d52",
      "metadata": {
        "vscode": {
          "languageId": "r"
        }
      },
      "outputs": [],
      "source": [
        "(map <- optim(\n",
        "  par = c(12.5, 1),\n",
        "  f = log_qtheta,\n",
        "  lower = c(10.0001, 0.05),\n",
        "  upper = c(14.9999, 2),\n",
        "  method = \"L-BFGS-B\",\n",
        "  y = y,\n",
        "  control = list(fnscale = -1)\n",
        "))"
      ]
    },
    {
      "cell_type": "markdown",
      "id": "63146e8a-c42b-400d-854a-bc5d8fac93ba",
      "metadata": {},
      "source": [
        "Now, we build a function that returns the inverse of the observation\n",
        "information matrix."
      ]
    },
    {
      "cell_type": "code",
      "execution_count": null,
      "id": "d47af885-de72-46e0-ad48-640003788ec4",
      "metadata": {
        "vscode": {
          "languageId": "r"
        }
      },
      "outputs": [],
      "source": [
        "# return the observed information matrix\n",
        "inv_ihat <- function(thetahat, n) {\n",
        "  mu <- thetahat[1]\n",
        "  sigma <- sqrt(thetahat[2])\n",
        "  # 2nd derivative of log likelihood w/r to mu\n",
        "  d2dmu2 <- -n / sigma^2\n",
        "  # derivative of log likelihood w/r to mu and sigmasq\n",
        "  d2dmudsigmasq <- -sum((y - mu)) / sigma^4\n",
        "  # 2nd derivative of log likelihood w/r to sigmasq\n",
        "  d2dsigmasq2 <- n / (2 * sigma^4) - 1 / sigma^6 * sum((y - mu)^2)\n",
        "  #\n",
        "  H <- cbind(c(d2dmu2, d2dmudsigmasq), c(d2dmudsigmasq, d2dsigmasq2))\n",
        "  solve(-H)\n",
        "}"
      ]
    },
    {
      "cell_type": "markdown",
      "id": "14536a16-0c8f-40d2-a9b8-85cf39ba17a6",
      "metadata": {},
      "source": [
        "Now, we create a function that evaluates the bivariate normal\n",
        "approximation of the true density with respect to $\\theta$."
      ]
    },
    {
      "cell_type": "code",
      "execution_count": null,
      "id": "f95e8a29-646a-4891-83be-df9153717c83",
      "metadata": {
        "vscode": {
          "languageId": "r"
        }
      },
      "outputs": [],
      "source": [
        "# posterior approximation\n",
        "dpapprox <- function(theta, thetahat, vhat) {\n",
        "  mvtnorm::dmvnorm(x = theta, mean = thetahat, sigma = vhat)\n",
        "}"
      ]
    },
    {
      "cell_type": "markdown",
      "id": "74477237-2409-4a51-8af7-e409107f0d67",
      "metadata": {},
      "source": [
        "Finally, we visually compare the results."
      ]
    },
    {
      "cell_type": "code",
      "execution_count": null,
      "id": "52d65745-98da-431d-a03e-40d93353f67f",
      "metadata": {
        "vscode": {
          "languageId": "r"
        }
      },
      "outputs": [],
      "source": [
        "# create sequence of values for mu and sigmasq\n",
        "mymu <- seq(10.95, 11.2, length = 200)\n",
        "mysigmasq <- seq(0.14, 0.29, length = 200)\n",
        "# create grid\n",
        "mytheta <- expand.grid(mymu, mysigmasq)\n",
        "\n",
        "# for each row of mytheta, plug it into dpost function\n",
        "z <- apply(mytheta, 1, function(theta) {\n",
        "  dpost(theta, y = y, const = const)\n",
        "})\n",
        "\n",
        "# convert z to matrix for plotting\n",
        "zmat <- matrix(z, nrow = length(mymu))\n",
        "\n",
        "# compute observed Information outside of loop\n",
        "vhat <- inv_ihat(map$par, length(y))\n",
        "zhat <- mvtnorm::dmvnorm(\n",
        "  x = mytheta,\n",
        "  mean = map$par,\n",
        "  sigma = vhat\n",
        ")\n",
        "# convert z to matrix for plotting\n",
        "zhatmat <- matrix(zhat, nrow = length(mymu))\n",
        "\n",
        "# side-by-side results\n",
        "par(mfrow = c(1, 2))\n",
        "\n",
        "# create heat map of objective surface\n",
        "image(mymu, mysigmasq, zmat,\n",
        "  col = hcl.colors(64, rev = TRUE),\n",
        "  xlab = expression(mu),\n",
        "  ylab = expression(sigma^2),\n",
        "  zlim = range(c(z, zhat))\n",
        ")\n",
        "# add contours\n",
        "contour(mymu, mysigmasq, zmat,\n",
        "  add = TRUE\n",
        ")\n",
        "title(\"true posterior\")\n",
        "\n",
        "# create heat map of approximation surface\n",
        "image(mymu, mysigmasq, zhatmat,\n",
        "  col = hcl.colors(64, rev = TRUE),\n",
        "  xlab = expression(mu),\n",
        "  ylab = expression(sigma^2),\n",
        "  zlim = c(range(c(z, zhat)))\n",
        ")\n",
        "# add contours\n",
        "contour(mymu, mysigmasq, zhatmat, add = TRUE)\n",
        "title(\"normal approximation\")\n",
        "par(mfrow = c(1, 1))"
      ]
    }
  ],
  "metadata": {
    "kernelspec": {
      "display_name": "R",
      "language": "R",
      "name": "ir"
    },
    "language_info": {
      "name": "R"
    }
  },
  "nbformat": 4,
  "nbformat_minor": 5
}
