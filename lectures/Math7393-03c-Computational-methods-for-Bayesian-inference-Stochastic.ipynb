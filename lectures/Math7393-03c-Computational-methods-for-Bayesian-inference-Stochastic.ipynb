{
  "cells": [
    {
      "cell_type": "markdown",
      "metadata": {},
      "source": [
        "# Computational methods for Bayesian inference\n",
        "\n",
        "Joshua French\n",
        "\n",
        "To open this information in an interactive Colab notebook, click the\n",
        "Open in Colab graphic below.\n",
        "\n",
        "<a href=\"https://colab.research.google.com/github/jfrench/BayesianStatistics/blob/master/lectures/Math7393-03c-Computational-methods-for-Bayesian-inference-Stochastic.ipynb\">\n",
        "<img src=\"https://colab.research.google.com/assets/colab-badge.svg\">\n",
        "</a>\n",
        "\n",
        "------------------------------------------------------------------------\n",
        "\n",
        "# Stochastic methods\n",
        "\n",
        "## Rejection sampling\n",
        "\n",
        "Rejection sampling can be used to draw samples from a target density\n",
        "$p(\\theta | y)$ or its unnormalized version $q(\\theta | y)$.\n",
        "\n",
        "Rejection sampling assumes there exists a *proposal distribution* $G$\n",
        "with density function $g(\\theta)$ such that:\n",
        "\n",
        "-   We can easily draw a realization from $G$, i.e., the distribution\n",
        "    $g$ defines.\n",
        "-   If $p(\\theta = \\theta^{*} \\mid y) > 0$, then\n",
        "    $g(\\theta = \\theta^{*}) > 0$.\n",
        "-   The *importance ratio* $p(\\theta \\mid y) / g(\\theta)$ must have a\n",
        "    known bound.\n",
        "    -   i.e., there exists $M$ such that for all $\\theta$,\n",
        "        $p(\\theta \\mid y) / g(\\theta) \\leq M$.\n",
        "\n",
        "Rejection sampling draws $B$ samples from $p(\\theta \\mid y)$ using the\n",
        "following algorithm:\n",
        "\n",
        "1.  Sample $\\theta^{*}$ from the distribution defined by $g(\\theta)$.\n",
        "2.  Accept $\\theta^{*}$ as a sample from $p(\\theta | y)$ with\n",
        "    probability $p(\\theta^{*} | y) / (M g(\\theta^{*}))$.\n",
        "    -   If $\\theta^{*}$ is accepted, continue to step 3.\n",
        "    -   Otherwise, return to step 1.\n",
        "3.  Return to step 1 until $B$ draws from $g(\\theta)$ have been\n",
        "    accepted.\n",
        "\n",
        "Comments about rejection sampling:\n",
        "\n",
        "-   The unnormalized density, $q(\\theta | y)$, is almost always used\n",
        "    instead of the true density, $p(\\theta | y)$\n",
        "-   $p(\\theta | y) \\leq M g(\\theta | y)$ ensures the acceptance\n",
        "    probability is no larger than 1.\n",
        "-   $M$ should be chosen so that $M g(\\theta | y)$ is as close as\n",
        "    possible to $p(\\theta | y)$.\n",
        "-   Conceptually, we retain a sample $\\theta^{*}$ from $g(\\theta)$ by\n",
        "    drawing a value $u$ from a $U(0, M g(\\theta^{*}))$ distribution and\n",
        "    keeping $\\theta^{*}$ if $u \\leq p(\\theta^{*} | y)$.\n",
        "\n",
        "## Rejection sampling example 1\n",
        "\n",
        "-   Suppose the (unnormalized) target density is\n",
        "    $q(\\theta | y) = \\theta(1-\\theta)I_{(0,1)}(\\theta).$\n",
        "-   The $U(0, 1)$ density, i.e., $g(\\theta)=I_{(0,1)}(\\theta)$, bounds\n",
        "    $q(\\theta | y)$.\n",
        "-   $\\text{argmax}_{\\theta}q(\\theta | y) = 0.5$ with\n",
        "    $q(0.5 | y) = 0.25.$\n",
        "-   Pick $M = 0.25$.\n",
        "\n",
        "Let’s define an unnormalized target density."
      ],
      "id": "bbe7f3bf-b6ae-4696-ae71-8c6217b23617"
    },
    {
      "cell_type": "code",
      "execution_count": null,
      "metadata": {},
      "outputs": [],
      "source": [
        "qtarget = function(theta) {\n",
        "  theta * (1 - theta)\n",
        "}"
      ],
      "id": "5f0b08f7-eecf-4161-a05f-172c458cc8fb"
    },
    {
      "cell_type": "markdown",
      "metadata": {},
      "source": [
        "Let’s define a bounding function, $g(\\theta)M$."
      ],
      "id": "198a39a1-d552-49b1-83b6-17ec2cf56e8d"
    },
    {
      "cell_type": "code",
      "execution_count": null,
      "metadata": {},
      "outputs": [],
      "source": [
        "# define bounding function\n",
        "gM = function(theta) {\n",
        "  rep(.25, length(theta))\n",
        "}"
      ],
      "id": "583c7b53-3080-46a5-8341-57b383cb1394"
    },
    {
      "cell_type": "markdown",
      "metadata": {},
      "source": [
        "Let’s plot the target density and bounding function."
      ],
      "id": "d6c8ba27-3d08-4315-b548-c58f5fcd6df7"
    },
    {
      "cell_type": "code",
      "execution_count": null,
      "metadata": {},
      "outputs": [],
      "source": [
        "theta = seq(0, 1, len = 1000)\n",
        "par(mar = c(4, 4, 0.4, 0.4))\n",
        "plot(theta, qtarget(theta), type = \"l\", xlab = expression(theta),\n",
        "     ylab = expression(q(theta*\"|\"*y)))\n",
        "lines(theta, gM(theta), col = \"blue\")"
      ],
      "id": "078f9835-d36f-42e8-851a-5a46cc805650"
    },
    {
      "cell_type": "markdown",
      "metadata": {},
      "source": [
        "Consider drawing a sample from $p(\\theta | y)$:\n",
        "\n",
        "-   We draw a value $\\theta^*$ from the $U(0,1)$ distribution.\n",
        "    -   Suppose this value is $\\theta^*=0.6$.\n",
        "-   We need to decide whether we keep $\\theta^*$.\n",
        "    -   Note that $M g(\\theta)$ evaluated at $0.6$ is\n",
        "        $0.25 \\times 1 = 0.25$.\n",
        "    -   Note that $q(0.6 | y) = 0.6(1-0.6) = 0.24$.\n",
        "-   Draw $u$ from $U(0, 0.25)$.\n",
        "    -   Let’s say $u^* = 0.066$.\n",
        "    -   Since $u^*<q(\\theta\\mid y) = 0.24$, we accept it as a sample\n",
        "        from $q(\\theta\\mid y)$.\n",
        "\n",
        "Consider drawing another sample from $p(\\theta \\mid y)$:\n",
        "\n",
        "-   We draw a value $\\theta^*$ from the $U(0,1)$ distribution.\n",
        "    -   Suppose this value is $\\theta^*=0.185$.\n",
        "-   We draw $u=0.176$ from\n",
        "    $U(0, Mg(\\theta^*))=U(0, 0.25g(0.185))=U(0, 0.25)$.\n",
        "-   $u=0.176 > 0.151 = q(\\theta^*|y) = q(0.185|y)$, so we reject the\n",
        "    proposed value of $\\theta^*$.\n",
        "\n",
        "Let’s run a rejection sampling algorithim to draw samples from the\n",
        "target distribution. We plot closed circles for each $(\\theta^*, u^*)$\n",
        "that’s accepted and a closed circle for each $(\\theta^*, u^*)$ that’s\n",
        "rejected."
      ],
      "id": "abc4d57b-8d77-4250-a0ba-d98aee9b5937"
    },
    {
      "cell_type": "code",
      "execution_count": null,
      "metadata": {},
      "outputs": [],
      "source": [
        "# plot target density and bounding function\n",
        "theta = seq(0, 1, len = 1000)\n",
        "plot(theta, qtarget(theta), type = \"l\", xlab = expression(theta),\n",
        "     ylab = expression(q(theta*\"|\"*y)))\n",
        "lines(theta, gM(theta), col = \"blue\")\n",
        "# plot some earlier results\n",
        "thetastar1 = 0.6\n",
        "thetastar2 = 0.185\n",
        "u1 = 0.066\n",
        "u2 = 0.176\n",
        "accept1 = TRUE\n",
        "accept2 = FALSE\n",
        "points(thetastar1, u1, pch = ifelse(accept1, 20, 1))\n",
        "points(thetastar2, u2, pch = ifelse(accept2, 20, 1))\n",
        "for(i in 1:98) {\n",
        "  thetastar = runif(1)\n",
        "  u = runif(1, 0, gM(thetastar))\n",
        "  accept = (u <= qtarget(thetastar))\n",
        "  points(thetastar, u, pch = ifelse(accept, 20, 1))\n",
        "}\n",
        "title(\"Accepted (black dot) vs Rejected (open circle) comparison\")"
      ],
      "id": "5777b2a1-2a13-4744-b825-adea0671d4eb"
    },
    {
      "cell_type": "markdown",
      "metadata": {},
      "source": [
        "## Rejection sampling example 2\n",
        "\n",
        "We illustrate rejection sampling by drawing from an unnormalized Beta(3,\n",
        "3).\n",
        "\n",
        "We will compare our rejection sampling results with the truth.\n",
        "\n",
        "*Target density*\n",
        "\n",
        "$p(\\theta | y) \\propto \\theta^2 (1 - \\theta)^2 = q(\\theta).$\n",
        "\n",
        "*Proposal distribution*\n",
        "\n",
        "Since $q(\\theta)$ has finite support, our proposal distribution can be\n",
        "$G\\sim U(0,1)$.\n",
        "\n",
        "We simply need to choose an appropriate bounding constant $M$ for our\n",
        "bounding function.\n",
        "\n",
        "Taking the derivative of $q(\\theta)$ with respect to $\\theta$, we can\n",
        "determine that the function has a maximum at $\\theta = 1/2$.\n",
        "\n",
        "The maximum is $q(1/2) = 0.0625$.\n",
        "\n",
        "Thus, $q(\\theta) <= g(\\theta)M$ with $M = 0.0625$.\n",
        "\n",
        "We define the unnormalized target density."
      ],
      "id": "e9205e3f-d8ab-4cec-ad10-a0eb4bfe8610"
    },
    {
      "cell_type": "code",
      "execution_count": null,
      "metadata": {},
      "outputs": [],
      "source": [
        "qtarget = function(theta) {\n",
        "    theta^2*(1 - theta)^2\n",
        "}"
      ],
      "id": "882051d0-070d-43cf-acb4-409d8c28ff1c"
    },
    {
      "cell_type": "markdown",
      "metadata": {},
      "source": [
        "We define the bounding function."
      ],
      "id": "d758236c-96c7-47ed-b9fb-29da1123fff6"
    },
    {
      "cell_type": "code",
      "execution_count": null,
      "metadata": {},
      "outputs": [],
      "source": [
        "gM = function(theta) {\n",
        "    rep(.0625, length(theta))\n",
        "}"
      ],
      "id": "91130dcd-f1a4-4ba9-a935-aa6bc575d6a4"
    },
    {
      "cell_type": "markdown",
      "metadata": {},
      "source": [
        "We compare the target density and bounding function."
      ],
      "id": "37f3b7fc-d113-4b9a-8266-69ab52e65f58"
    },
    {
      "cell_type": "code",
      "execution_count": null,
      "metadata": {},
      "outputs": [],
      "source": [
        "theta = seq(0, 1, len = 1000)\n",
        "plot(theta, qtarget(theta), type = \"l\", xlab = expression(theta),\n",
        "     ylab = expression(q(theta)))\n",
        "lines(theta, gM(theta), col = \"blue\")\n",
        "abline(v = 1/2)"
      ],
      "id": "b84c80c3-4ccc-487c-afcd-b09240a6e755"
    },
    {
      "cell_type": "markdown",
      "metadata": {},
      "source": [
        "We now implement our rejection sampling algorithm."
      ],
      "id": "e3120dfd-51b3-4b8a-8b56-d300235cec2a"
    },
    {
      "cell_type": "code",
      "execution_count": null,
      "metadata": {},
      "outputs": [],
      "source": [
        "B = 1000 # number of samples to keep\n",
        "mytheta = numeric(B) # vector to store kept samples\n",
        "\n",
        "i = 0 # the samples accepted\n",
        "while (i < B) {\n",
        "  x = runif(1) # sample from g distribution\n",
        "\n",
        "  # accept x with probability q(x)/gM(x)\n",
        "    if (runif(1) <= qtarget(x)/gM(x)) {\n",
        "        i = i + 1\n",
        "        mytheta[i] = x\n",
        "    }\n",
        "}"
      ],
      "id": "0936ed65-fff7-4ab1-a4bc-4c5f973c21e0"
    },
    {
      "cell_type": "markdown",
      "metadata": {},
      "source": [
        "Lastly, we compare our empirical density to the true density."
      ],
      "id": "2f82a16f-0f34-4ae4-bf0d-733cb04bacb5"
    },
    {
      "cell_type": "code",
      "execution_count": null,
      "metadata": {},
      "outputs": [],
      "source": [
        "dmytheta = density(mytheta)\n",
        "dtruth = dbeta(theta, 3, 3)\n",
        "\n",
        "plot(dmytheta, xlab = expression(theta), ylab = \"density\", main = \"\")\n",
        "lines(theta, dtruth, col = \"orange\")\n",
        "legend(\"topleft\", legend = c(\"approximation\", \"truth\"),\n",
        "       col = c(\"black\", \"orange\"), lwd = c(1, 1))"
      ],
      "id": "b3566865-f17c-48c3-a3d5-8291db9df8cc"
    },
    {
      "cell_type": "markdown",
      "metadata": {},
      "source": [
        "## Rejection sampling example 3\n",
        "\n",
        "We repeat the previous example with a more efficient proposal\n",
        "distribution.\n",
        "\n",
        "Since we know that our target density is symmetric around 0.5, we choose\n",
        "to bound it by a normal distribution centered around 0.5.\n",
        "\n",
        "*Proposal distribution*\n",
        "\n",
        "$G\\sim N(0.5, 0.25^2)$.\n",
        "\n",
        "We choose $M=0.04$ for our bounding function (chosen by trial and\n",
        "error).\n",
        "\n",
        "We define bounding function."
      ],
      "id": "4470151c-ea19-4bd6-84f4-e524913a7a4e"
    },
    {
      "cell_type": "code",
      "execution_count": null,
      "metadata": {},
      "outputs": [],
      "source": [
        "gM = function(theta) {\n",
        "    0.04 * dnorm(theta, mean = 0.5, sd = 0.25)\n",
        "}"
      ],
      "id": "39eac04d-4870-48a4-a066-160279ece964"
    },
    {
      "cell_type": "markdown",
      "metadata": {},
      "source": [
        "We compare the target density to the bounding function."
      ],
      "id": "3a9fca97-222a-43af-9ddb-3dbfacf16934"
    },
    {
      "cell_type": "code",
      "execution_count": null,
      "metadata": {},
      "outputs": [],
      "source": [
        "theta = seq(0, 1, len = 1000)\n",
        "plot(theta, qtarget(theta), type = \"l\", xlab = expression(theta),\n",
        "     ylab = expression(q(theta)))\n",
        "lines(theta, gM(theta), col = \"blue\")\n",
        "abline(v = 1/2)"
      ],
      "id": "13790185-4b43-41d6-bf12-2d6c153c5488"
    },
    {
      "cell_type": "markdown",
      "metadata": {},
      "source": [
        "We now implement our rejection sampling algorithm."
      ],
      "id": "d9477f74-6b3e-4d7e-bdb9-db68bad08191"
    },
    {
      "cell_type": "code",
      "execution_count": null,
      "metadata": {},
      "outputs": [],
      "source": [
        "B = 100000\n",
        "mytheta = numeric(B)\n",
        "\n",
        "i = 0 # the samples accepted\n",
        "while (i < B) {\n",
        "  x = rnorm(1, mean = 0.5, sd = 0.25) # sample from g distribution\n",
        "\n",
        "  # accept x with probability q(x)/gM(x)\n",
        "    if (runif(1) <= qtarget(x)/gM(x)) {\n",
        "        i = i + 1\n",
        "        mytheta[i] = x\n",
        "    }\n",
        "}"
      ],
      "id": "df775904-fb7d-4d98-8318-972e87decec4"
    },
    {
      "cell_type": "markdown",
      "metadata": {},
      "source": [
        "Lastly, we compare our empirical density to the true density."
      ],
      "id": "25d59a42-5622-486a-baaa-217014e5a032"
    },
    {
      "cell_type": "code",
      "execution_count": null,
      "metadata": {},
      "outputs": [],
      "source": [
        "dmytheta = density(mytheta)\n",
        "dtruth = dbeta(theta, 3, 3)\n",
        "\n",
        "plot(theta, dtruth, col = \"orange\", type = \"l\")\n",
        "lines(dmytheta)\n",
        "legend(\"topleft\", legend = c(\"approximation\", \"truth\"),\n",
        "       col = c(\"black\", \"orange\"), lwd = c(1, 1))"
      ],
      "id": "9068b049-e06f-4dca-b4a0-4166206fa0e5"
    },
    {
      "cell_type": "markdown",
      "metadata": {},
      "source": [
        "## Rejection sampling example 4\n",
        "\n",
        "We want to sample from a folded $N(0,1)$ distribution.\n",
        "\n",
        "-   If $y\\sim N(0,1)$, then $|y|$ is a folded $N(0,1)$ distribution.\n",
        "\n",
        "*Target density*\n",
        "\n",
        "$q(\\theta) = \\exp(-\\theta^2/2)I_{[0,\\infty)}(\\theta)$.\n",
        "\n",
        "*Proposal distribution*\n",
        "\n",
        "$G\\sim \\mathrm{Exp}(1)$.\n",
        "\n",
        "How do we choose a bounding constant?\n",
        "\n",
        "The optimal solution is find a single intersecting point between the\n",
        "folded normal and our envelope (at the inflection point of the folded\n",
        "normal), which is at $\\theta = 1$.\n",
        "\n",
        "$\\frac{dq(\\theta)}{d\\theta} = -\\exp(-\\theta^2/2)\\theta$.\n",
        "\n",
        "$\\frac{d^2q(\\theta)}{d\\theta^2} = \\exp(-\\theta^2/2)(\\theta^2-1)$.\n",
        "\n",
        "Setting $g(\\theta)M = q(\\theta)$ and solving for $M$ when $\\theta = 1$\n",
        "results in the solution $M = \\exp(1/2)$.\n",
        "\n",
        "We define the target density."
      ],
      "id": "08e9fe61-4b33-4926-8509-3faaaae1b03e"
    },
    {
      "cell_type": "code",
      "execution_count": null,
      "metadata": {},
      "outputs": [],
      "source": [
        "qtarget = function(theta) {\n",
        "    exp(-theta^2/2)\n",
        "}"
      ],
      "id": "6ec78007-51fe-4d89-82c0-b7fb83736e59"
    },
    {
      "cell_type": "markdown",
      "metadata": {},
      "source": [
        "We define the bounding function."
      ],
      "id": "9be8e5d5-f1a8-4600-9efc-ceb710d73914"
    },
    {
      "cell_type": "code",
      "execution_count": null,
      "metadata": {},
      "outputs": [],
      "source": [
        "gM = function(theta) {\n",
        "    dexp(theta)*exp(1/2)\n",
        "}"
      ],
      "id": "25a050c2-7730-4b14-844f-b8037e2cc96c"
    },
    {
      "cell_type": "markdown",
      "metadata": {},
      "source": [
        "We compare the target density to the bounding function."
      ],
      "id": "c1a3bd16-2c08-4540-8c4f-2abdf38c5a1b"
    },
    {
      "cell_type": "code",
      "execution_count": null,
      "metadata": {},
      "outputs": [],
      "source": [
        "theta = seq(0, 5, len = 1000)\n",
        "plot(theta, qtarget(theta), ylim = c(0, qtarget(0.001)),\n",
        "     type = \"l\",\n",
        "     ylab = \"qtarget\", xlab = expression(theta))\n",
        "lines(theta, gM(theta), type = \"l\", col = \"blue\")\n",
        "legend(\"topright\", legend = c(\"qtarget\", \"gM\"),\n",
        "       lty = 1, col = c(\"black\", \"blue\"))"
      ],
      "id": "8e87a386-15d7-4a3c-ae6f-9777b2e0e365"
    },
    {
      "cell_type": "markdown",
      "metadata": {},
      "source": [
        "We now implement our rejection sampling algorithm."
      ],
      "id": "0660a529-ee46-44fb-b2af-4702cb21a2a3"
    },
    {
      "cell_type": "code",
      "execution_count": null,
      "metadata": {},
      "outputs": [],
      "source": [
        "B = 10000 # number of retained samples desired\n",
        "mytheta = numeric(B) # vector to store samples\n",
        "i = 0 # number of retained samples\n",
        "while (i < B) {\n",
        "    x = rexp(1) # draw a value from proposal distribution\n",
        "    # accept the value with probability based on the importance\n",
        "    # ratio\n",
        "    if (runif(1) <= qtarget(x)/gM(x)) {\n",
        "        i = i + 1 # increment i if sample retained\n",
        "        mytheta[i] = x # store sample\n",
        "    }\n",
        "}"
      ],
      "id": "62b24387-8062-4a3d-8fa1-18c8a92dd4b8"
    },
    {
      "cell_type": "markdown",
      "metadata": {},
      "source": [
        "Lastly, we compare our empirical density to the true density."
      ],
      "id": "6304e52b-5d7f-422d-b759-26cb95ffed6d"
    },
    {
      "cell_type": "code",
      "execution_count": null,
      "metadata": {},
      "outputs": [],
      "source": [
        "#The true density\n",
        "dens = function(theta) {\n",
        "    sqrt(2/pi)*exp(-theta^2/2)\n",
        "}\n",
        "\n",
        "dmytheta = density(mytheta, from = 0, to = 5, cut = 0)\n",
        "plot(dmytheta, xlab = \"theta\", ylab = \"density\", main = \"\")\n",
        "lines(theta, dens(theta), col = \"blue\")\n",
        "legend(\"topright\", legend = c(\"approximation\", \"truth\"),\n",
        "    lwd = c(1, 1), col = c(\"black\", \"blue\"))"
      ],
      "id": "3f442095-3e3e-40c4-b20b-118c41b4987c"
    },
    {
      "cell_type": "markdown",
      "metadata": {},
      "source": [
        "Why didn’t that work properly?\n",
        "\n",
        "Let’s try a different approach."
      ],
      "id": "44f22f02-6975-4154-9e91-c662dd3bc1fd"
    },
    {
      "cell_type": "code",
      "execution_count": null,
      "metadata": {},
      "outputs": [],
      "source": [
        "# plot with a probability histogram instead to get a better comparison\n",
        "hist(mytheta, freq = FALSE, breaks = 100)\n",
        "lines(theta, dens(theta), col = \"blue\")\n",
        "legend(\"topright\", legend = c(\"approximation\", \"truth\"),\n",
        "    lwd = c(1, 1), col = c(\"black\", \"blue\"))"
      ],
      "id": "e9ec7d4f-9955-4e4e-a1a9-8da71dffb6b1"
    },
    {
      "cell_type": "markdown",
      "metadata": {},
      "source": [
        "## Rejection sampling example 5\n",
        "\n",
        "The last example chose a proposal distribution analytically. We\n",
        "probability wouldn’t do that unless we were forced to. Let’s try\n",
        "something more realistic.\n",
        "\n",
        "*Proposal distribution*\n",
        "\n",
        "$G\\sim \\chi^2_2$ with bounding constant $M=2.4$ (chosen by trial and\n",
        "error).\n",
        "\n",
        "We create the bounding function."
      ],
      "id": "a0643c53-b7b9-41b2-8f10-22337d5ce761"
    },
    {
      "cell_type": "code",
      "execution_count": null,
      "metadata": {},
      "outputs": [],
      "source": [
        "gM = function(theta) {\n",
        "    2.4 * dchisq(theta, df = 2)\n",
        "}"
      ],
      "id": "9fb81007-860d-4693-825c-6354323d0e33"
    },
    {
      "cell_type": "markdown",
      "metadata": {},
      "source": [
        "We compare the target density and bounding function."
      ],
      "id": "a2a2320c-0dfb-4971-9a89-9b3c09f617c9"
    },
    {
      "cell_type": "code",
      "execution_count": null,
      "metadata": {},
      "outputs": [],
      "source": [
        "theta = seq(0, 5, len = 1000)\n",
        "plot(theta, gM(theta), type = \"l\", col = \"blue\",\n",
        "     xlab = expression(theta), ylab = \"\", ylim = c(0, 1.25))\n",
        "lines(theta, qtarget(theta))\n",
        "legend(\"topright\", legend = c(\"q\", \"gM\"), lty = 1,\n",
        "       col = c(\"black\", \"blue\"))"
      ],
      "id": "25dcf207-69d7-4245-abec-e7c310172b08"
    },
    {
      "cell_type": "markdown",
      "metadata": {},
      "source": [
        "We implement our rejection sampling algorithm."
      ],
      "id": "b33b4ae9-92ef-4d56-ad9e-97f8a6d59b24"
    },
    {
      "cell_type": "code",
      "execution_count": null,
      "metadata": {},
      "outputs": [],
      "source": [
        "B = 10000\n",
        "mytheta = numeric(B)\n",
        "i = 0\n",
        "while (i < B) {\n",
        "    x = rchisq(1, df = 2)\n",
        "    if (runif(1) <= qtarget(x)/gM(x)) {\n",
        "        i = i + 1\n",
        "        mytheta[i] = x\n",
        "    }\n",
        "}"
      ],
      "id": "b74117de-d815-4d81-a89c-066167d45351"
    },
    {
      "cell_type": "markdown",
      "metadata": {},
      "source": [
        "Lastly, we compare our empirical density to the true density."
      ],
      "id": "6a86817a-6c4f-4ad8-b5eb-01423f23a670"
    },
    {
      "cell_type": "code",
      "execution_count": null,
      "metadata": {},
      "outputs": [],
      "source": [
        "hist(mytheta, freq = FALSE, breaks = 100)\n",
        "lines(theta, dens(theta), col = \"blue\")\n",
        "legend(\"topright\", legend = c(\"approximation\", \"truth\"),\n",
        "       lwd = c(1, 1), col = c(\"black\", \"blue\"))"
      ],
      "id": "adbcb202-041b-413d-96da-1d5d320fd67f"
    }
  ],
  "nbformat": 4,
  "nbformat_minor": 5,
  "metadata": {
    "kernelspec": {
      "name": "ir",
      "display_name": "R",
      "language": "R"
    }
  }
}