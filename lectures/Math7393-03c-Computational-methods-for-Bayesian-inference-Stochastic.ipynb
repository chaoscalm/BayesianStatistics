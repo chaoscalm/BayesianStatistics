{
  "cells": [
    {
      "cell_type": "markdown",
      "metadata": {},
      "source": [
        "# Computational methods for Bayesian inference\n",
        "\n",
        "Joshua French\n",
        "\n",
        "To open this information in an interactive Colab notebook, click the\n",
        "Open in Colab graphic below.\n",
        "\n",
        "<a href=\"https://colab.research.google.com/github/jfrench/BayesianStatistics/blob/master/lectures/Math7393-03c-Computational-methods-for-Bayesian-inference-Stochastic.ipynb\">\n",
        "<img src=\"https://colab.research.google.com/assets/colab-badge.svg\">\n",
        "</a>\n",
        "\n",
        "------------------------------------------------------------------------\n",
        "\n",
        "# Stochastic methods\n",
        "\n",
        "## Rejection sampling\n",
        "\n",
        "Rejection sampling can be used to samples from a target density\n",
        "$p(\\theta | y)$ or its unnormalized version $q(\\theta | y)$.\n",
        "\n",
        "Rejection sampling assumes there exists a *proposal distribution* $G$\n",
        "with density function $g(\\theta)$ such that:\n",
        "\n",
        "-   We can easily draw a realization from $G$, i.e., the distribution\n",
        "    $g$ defines.\n",
        "-   If $p(\\theta = \\theta^*| y) > 0$, then $g(\\theta = \\theta^*) > 0$.\n",
        "-   The *importance ratio* $p(\\theta | y) / g(\\theta)$ must have a known\n",
        "    bound.\n",
        "    -   i.e., there exists $M$ such that for all $\\theta$,\n",
        "        $p(\\theta | y) / g(\\theta) \\leq M$.\n",
        "\n",
        "Rejection sampling draws $B$ samples from $p(\\theta |y)$ using the\n",
        "following algorithm:\n",
        "\n",
        "1.  Sample $\\theta^*$ from the distribution defined by $g(\\theta)$.\n",
        "2.  Accept $\\theta^*$ as a sample from $p(\\theta | y)$ with probability\n",
        "    $p(\\theta^* | y) / (M g(\\theta^*))$.\n",
        "    -   If $\\theta^*$ is accepted, continue to step 3.\n",
        "    -   Otherwise, return to step 1.\n",
        "3.  Return to step 1 until $B$ draws from $g(\\theta)$ have been\n",
        "    accepted.\n",
        "\n",
        "Comments about rejection sampling:\n",
        "\n",
        "-   The unnormalized density, $q(\\theta | y)$, is almost always used\n",
        "    instead of the true density, $p(\\theta | y)$\n",
        "-   $p(\\theta | y) \\leq M g(\\theta | y)$ ensures the acceptance\n",
        "    probability is no larger than 1.\n",
        "-   $M$ should be chosen so that $M g(\\theta | y)$ is as close as\n",
        "    possible to $p(\\theta | y)$.\n",
        "-   Conceptually, we retain a sample $\\theta^*$ from $g(\\theta)$ by\n",
        "    drawing a value $u$ from a $U(0, M g(\\theta^*))$ distribution and\n",
        "    keeping $\\theta^*$ if $u \\leq p(\\theta^* | y)$.\n",
        "\n",
        "## Rejection sampling example 1\n",
        "\n",
        "-   Suppose the (unnormalized) target density is\n",
        "    $q(\\theta | y) = \\theta(1-\\theta)I_{(0,1)}(\\theta).$\n",
        "-   The $U(0, 1)$ density, i.e., $g(\\theta)=I_{(0,1)}(\\theta)$, bounds\n",
        "    $q(\\theta | y)$.\n",
        "-   $\\text{argmax}_{\\theta}q(\\theta | y) = 0.5$ with\n",
        "    $q(0.5 | y) = 0.25.$\n",
        "-   Pick $M = 0.25$.\n",
        "\n",
        "Let’s define an unnormalized target density."
      ],
      "id": "ea4ff9b3-123e-4c4c-89ad-de42cb25d67b"
    },
    {
      "cell_type": "code",
      "execution_count": null,
      "metadata": {},
      "outputs": [],
      "source": [
        "qtarget = function(theta) {\n",
        "  theta * (1 - theta)\n",
        "}"
      ],
      "id": "d18efb20-621e-46c6-a9d5-ab271d2ff4f5"
    },
    {
      "cell_type": "markdown",
      "metadata": {},
      "source": [
        "Let’s define a bounding function, $g(\\theta)M$."
      ],
      "id": "2179f660-5cef-40ac-8f7a-579ec3819dee"
    },
    {
      "cell_type": "code",
      "execution_count": null,
      "metadata": {},
      "outputs": [],
      "source": [
        "# define bounding function\n",
        "gM = function(theta) {\n",
        "  rep(.25, length(theta))\n",
        "}"
      ],
      "id": "ff71dc91-e4ec-4897-8c02-f8832a929b45"
    },
    {
      "cell_type": "markdown",
      "metadata": {},
      "source": [
        "Let’s plot the target density and bounding function."
      ],
      "id": "48d9cfed-6103-4923-ab68-d507da32ab84"
    },
    {
      "cell_type": "code",
      "execution_count": null,
      "metadata": {},
      "outputs": [],
      "source": [
        "theta = seq(0, 1, len = 1000)\n",
        "par(mar = c(4, 4, 0.4, 0.4))\n",
        "plot(theta, qtarget(theta), type = \"l\", xlab = expression(theta),\n",
        "     ylab = expression(q(theta*\"|\"*y)))\n",
        "lines(theta, gM(theta), col = \"blue\")"
      ],
      "id": "e3d19a03-c0ab-411a-88e4-57a1e9c5c704"
    },
    {
      "cell_type": "markdown",
      "metadata": {},
      "source": [
        "Consider drawing a sample from $p(\\theta | y)$:\n",
        "\n",
        "-   We draw a value $\\theta^*$ from the $U(0,1)$ distribution.\n",
        "    -   Suppose this value is $\\theta^*=0.6$.\n",
        "-   We need to decide whether we keep $\\theta^*$.\n",
        "    -   Note that $M g(\\theta)$ evaluated at $0.6$ is\n",
        "        $0.25 \\times 1 = 0.25$.\n",
        "    -   Note that $q(0.6 | y) = 0.6(1-0.6) = 0.24$.\n",
        "-   Draw $u$ from $U(0, 0.25)$.\n",
        "    -   We accept $\\theta^* = 0.6$ as a sample from $p(\\theta | y)$ if\n",
        "        $u\\leq 0.24$.\n",
        "    -   If we don’t accept, then we draw a new value of $\\theta^*$ from\n",
        "        $g(\\theta)$ and repeat the process until we accept a $\\theta^*$.\n",
        "\n",
        "Consider drawing another sample from $p(\\theta \\mid y)$:\n",
        "\n",
        "-   We draw a value $\\theta^*$ from the $U(0,1)$ distribution.\n",
        "    -   Suppose this value is $\\theta^*=0.185$.\n",
        "-   We draw $u=0.176$ from\n",
        "    $U(0, Mg(\\theta^*))=U(0, 0.25g(0.185))=U(0, 0.25)$.\n",
        "-   $u=0.176 > 0.151 = q(\\theta^*|y) = q(0.185|y)$, so we reject the\n",
        "    proposed value of $\\theta^*$.\n",
        "\n",
        "Let’s run a rejection sampling algorithim to draw samples from the\n",
        "target distribution. We plot closed circles for each $(\\theta^*, u^*)$\n",
        "that’s accepted and a closed circle for each $(\\theta^*, u^*)$ that’s\n",
        "rejected."
      ],
      "id": "14bc87af-b972-4d19-9ac5-c7bc93379b30"
    },
    {
      "cell_type": "code",
      "execution_count": null,
      "metadata": {},
      "outputs": [],
      "source": [
        "# plot target density and bounding function\n",
        "theta = seq(0, 1, len = 1000)\n",
        "plot(theta, qtarget(theta), type = \"l\", xlab = expression(theta),\n",
        "     ylab = expression(q(theta*\"|\"*y)))\n",
        "lines(theta, gM(theta), col = \"blue\")\n",
        "# plot some earlier results\n",
        "thetastar1 = 0.6\n",
        "thetastar2 = 0.185\n",
        "u1 = 0.066\n",
        "u2 = 0.176\n",
        "points(thetastar1, u1, pch = ifelse(accept1, 20, 1))\n",
        "points(thetastar2, u2, pch = ifelse(accept2, 20, 1))\n",
        "for(i in 1:98) {\n",
        "  thetastar = runif(1)\n",
        "  u = runif(1, 0, gM(thetastar))\n",
        "  accept = (u <= qtarget(thetastar))\n",
        "  points(thetastar, u, pch = ifelse(accept, 20, 1))\n",
        "}\n",
        "title(\"Accepted (black dot) vs Rejected (open circle) comparison\")"
      ],
      "id": "e34b60db-6478-44c8-bf8e-38f7d058f98e"
    },
    {
      "cell_type": "markdown",
      "metadata": {},
      "source": [
        "## Rejection sampling example 2\n",
        "\n",
        "We illustrate rejection sampling by drawing from an unnormalized Beta(3,\n",
        "3).\n",
        "\n",
        "We will compare our rejection sampling results with the truth.\n",
        "\n",
        "*Target density*\n",
        "\n",
        "$p(\\theta | y) \\propto \\theta^2 * (1 - \\theta)^2 = q(\\theta).$\n",
        "\n",
        "*Proposal distribution*\n",
        "\n",
        "Since $q(\\theta)$ has finite support, our proposal distribution can be\n",
        "$G\\sim U(0,1)$.\n",
        "\n",
        "We simply need to choose an appropriate bounding constant $M$ for our\n",
        "bounding function.\n",
        "\n",
        "Taking the derivative of $q(theta)$ with respect to $\\theta$, we can\n",
        "determine that the function has a maximum at $\\theta = 1/2$.\n",
        "\n",
        "The maximum is $q(1/2) = 0.0625$.\n",
        "\n",
        "Thus, $q(\\theta) <= g(\\theta)M$ with $M = 0.0625$.\n",
        "\n",
        "We define the unnormalized target density."
      ],
      "id": "b44f8593-1f3a-47d3-b907-801e7ab14425"
    },
    {
      "cell_type": "code",
      "execution_count": null,
      "metadata": {},
      "outputs": [],
      "source": [
        "qtarget = function(theta) {\n",
        "    theta^2*(1 - theta)^2\n",
        "}"
      ],
      "id": "7589581e-8bc5-4438-8d95-847caa12ecde"
    },
    {
      "cell_type": "markdown",
      "metadata": {},
      "source": [
        "We define the bounding function."
      ],
      "id": "f6c92583-9235-4cd8-b8e5-229ff5cd78b4"
    },
    {
      "cell_type": "code",
      "execution_count": null,
      "metadata": {},
      "outputs": [],
      "source": [
        "gM = function(theta) {\n",
        "    rep(.0625, length(theta))\n",
        "}"
      ],
      "id": "f8790ca7-b765-4399-9d1f-dd86a9591340"
    },
    {
      "cell_type": "markdown",
      "metadata": {},
      "source": [
        "We compare the target density and bounding function."
      ],
      "id": "9b8cd13a-7313-4c65-8091-9d9d9f979f95"
    },
    {
      "cell_type": "code",
      "execution_count": null,
      "metadata": {},
      "outputs": [],
      "source": [
        "theta = seq(0, 1, len = 1000)\n",
        "plot(theta, qtarget(theta), type = \"l\", xlab = expression(theta),\n",
        "     ylab = expression(q(theta)))\n",
        "lines(theta, gM(theta), col = \"blue\")\n",
        "abline(v = 1/2)"
      ],
      "id": "ad6343b5-050f-494e-9b50-e53390d36607"
    },
    {
      "cell_type": "markdown",
      "metadata": {},
      "source": [
        "We now implement our rejection sampling algorithm."
      ],
      "id": "64406750-3d97-455a-9940-8cf6858564f0"
    },
    {
      "cell_type": "code",
      "execution_count": null,
      "metadata": {},
      "outputs": [],
      "source": [
        "B = 1000 # number of samples to keep\n",
        "mytheta = numeric(B) # vector to store kept samples\n",
        "\n",
        "i = 0 # the samples accepted\n",
        "while (i < B) {\n",
        "  x = runif(1) # sample from g distribution\n",
        "\n",
        "  # accept x with probability q(x)/gM(x)\n",
        "    if (runif(1) <= qtarget(x)/gM(x)) {\n",
        "        i = i + 1\n",
        "        mytheta[i] = x\n",
        "    }\n",
        "}"
      ],
      "id": "a9e4a2f8-d961-41ae-a5ff-5cd71520dbf1"
    },
    {
      "cell_type": "markdown",
      "metadata": {},
      "source": [
        "Lastly, we compare our empirical density to the true density."
      ],
      "id": "e8f12066-8a1a-4053-b00b-ae78bd85c2e0"
    },
    {
      "cell_type": "code",
      "execution_count": null,
      "metadata": {},
      "outputs": [],
      "source": [
        "dmytheta = density(mytheta)\n",
        "dtruth = dbeta(theta, 3, 3)\n",
        "\n",
        "plot(dmytheta, xlab = expression(theta), ylab = \"density\", main = \"\")\n",
        "lines(theta, dtruth, col = \"orange\")\n",
        "legend(\"topleft\", legend = c(\"approximation\", \"truth\"),\n",
        "       col = c(\"black\", \"orange\"), lwd = c(1, 1))"
      ],
      "id": "5516dfa9-ae16-4a59-a1fe-085a27c5d2d4"
    },
    {
      "cell_type": "markdown",
      "metadata": {},
      "source": [
        "## Rejection sampling example 3\n",
        "\n",
        "We repeat the previous example with a more efficient proposal\n",
        "distribution.\n",
        "\n",
        "Since we know that our target density is symmetric around 0.5, we choose\n",
        "to bound it by a normal distribution centered around 0.5.\n",
        "\n",
        "*Proposal distribution*\n",
        "\n",
        "$G\\sim N(0.5, 0.25^2)$.\n",
        "\n",
        "We choose $M=0.04$ for our bounding function (chosen by trial and\n",
        "error).\n",
        "\n",
        "We define bounding function."
      ],
      "id": "89d03268-237e-4e05-a48b-69a4d9ff3984"
    },
    {
      "cell_type": "code",
      "execution_count": null,
      "metadata": {},
      "outputs": [],
      "source": [
        "gM = function(theta) {\n",
        "    0.04 * dnorm(theta, mean = 0.5, sd = 0.25)\n",
        "}"
      ],
      "id": "6f4dbc3c-0564-4c15-b7ca-51ff9effd2c3"
    },
    {
      "cell_type": "markdown",
      "metadata": {},
      "source": [
        "We compare the target density to the bounding function."
      ],
      "id": "4dea23d8-c640-42ee-9fe6-affe62637154"
    },
    {
      "cell_type": "code",
      "execution_count": null,
      "metadata": {},
      "outputs": [],
      "source": [
        "theta = seq(0, 1, len = 1000)\n",
        "plot(theta, qtarget(theta), type = \"l\", xlab = expression(theta),\n",
        "     ylab = expression(q(theta)))\n",
        "lines(theta, gM(theta), col = \"blue\")\n",
        "abline(v = 1/2)"
      ],
      "id": "4d587877-e632-4e35-aebb-80a27409e835"
    },
    {
      "cell_type": "markdown",
      "metadata": {},
      "source": [
        "We now implement our rejection sampling algorithm."
      ],
      "id": "3cf0ad17-a8cf-4e35-8c36-7393c3a548d7"
    },
    {
      "cell_type": "code",
      "execution_count": null,
      "metadata": {},
      "outputs": [],
      "source": [
        "B = 100000\n",
        "mytheta = numeric(B)\n",
        "\n",
        "i = 0 # the samples accepted\n",
        "while (i < B) {\n",
        "  x = rnorm(1, mean = 0.5, sd = 0.25) # sample from g distribution\n",
        "\n",
        "  # accept x with probability q(x)/gM(x)\n",
        "    if (runif(1) <= qtarget(x)/gM(x)) {\n",
        "        i = i + 1\n",
        "        mytheta[i] = x\n",
        "    }\n",
        "}"
      ],
      "id": "9c5a5c31-66ec-4b96-a2e6-c3e9e7cc08d7"
    },
    {
      "cell_type": "markdown",
      "metadata": {},
      "source": [
        "Lastly, we compare our empirical density to the true density."
      ],
      "id": "ecd7ecd4-8e0e-494d-a6cf-bd120ce84411"
    },
    {
      "cell_type": "code",
      "execution_count": null,
      "metadata": {},
      "outputs": [],
      "source": [
        "dmytheta = density(mytheta)\n",
        "dtruth = dbeta(theta, 3, 3)\n",
        "\n",
        "plot(theta, dtruth, col = \"orange\", type = \"l\")\n",
        "lines(dmytheta)\n",
        "legend(\"topleft\", legend = c(\"approximation\", \"truth\"),\n",
        "       col = c(\"black\", \"orange\"), lwd = c(1, 1))"
      ],
      "id": "8b0c1012-9313-4a49-94fd-d218362b8be4"
    },
    {
      "cell_type": "markdown",
      "metadata": {},
      "source": [
        "## Rejection sampling example 4\n",
        "\n",
        "We want to sample from a folded $N(0,1)$ distribution.\n",
        "\n",
        "-   If $y\\sim N(0,1)$, then $|y|$ is a folded $N(0,1)$ distribution.\n",
        "\n",
        "*Target density*\n",
        "\n",
        "$q(\\theta) = exp(-\\theta^2/2)I_{[0,\\infty)}(\\theta)$.\n",
        "\n",
        "*Proposal distribution*\n",
        "\n",
        "$G\\sim \\mathrm{Exp}(1)$.\n",
        "\n",
        "How do we choose a bounding constant?\n",
        "\n",
        "The optimal solution is find a single intersecting point between the\n",
        "folded normal and our envelope (at the inflection point of the folded\n",
        "normal), which is at $\\theta = 1$.\n",
        "\n",
        "$\\frac{dq(\\theta)}{d\\theta} = -\\exp(-\\theta^2/2)\\theta$.\n",
        "\n",
        "$\\frac{d^2q(\\theta)}{d\\theta^2} = \\exp(-\\theta^2/2)(\\theta^2-1)$.\n",
        "\n",
        "Setting $g(\\theta)M = q(\\theta)$ and solving for $M$ when $\\theta = 1$\n",
        "results in the solution $M = \\exp(1/2)$.\n",
        "\n",
        "We define the target density."
      ],
      "id": "d173cdec-f687-4f55-ae3b-f5a6bc6ca762"
    },
    {
      "cell_type": "code",
      "execution_count": null,
      "metadata": {},
      "outputs": [],
      "source": [
        "qtarget = function(theta) {\n",
        "    exp(-theta^2/2)\n",
        "}"
      ],
      "id": "de004e19-49af-4c4a-b955-bce95dc2d8c8"
    },
    {
      "cell_type": "markdown",
      "metadata": {},
      "source": [
        "We define the bounding function."
      ],
      "id": "d1b57a4c-3c72-4ced-85b7-8e4e0ce0c5f7"
    },
    {
      "cell_type": "code",
      "execution_count": null,
      "metadata": {},
      "outputs": [],
      "source": [
        "gM = function(theta) {\n",
        "    dexp(theta)*exp(1/2)\n",
        "}"
      ],
      "id": "4b92b120-ac47-4b68-9b6f-cabe4761bb3a"
    },
    {
      "cell_type": "markdown",
      "metadata": {},
      "source": [
        "We compare the target density to the bounding function."
      ],
      "id": "f0c756cc-cb84-4af4-bfbf-0c15fcc1ac14"
    },
    {
      "cell_type": "code",
      "execution_count": null,
      "metadata": {},
      "outputs": [],
      "source": [
        "theta = seq(0, 5, len = 1000)\n",
        "plot(theta, qtarget(theta), ylim = c(0, qtarget(0.001)),\n",
        "     type = \"l\",\n",
        "     ylab = \"qtarget\", xlab = expression(theta))\n",
        "lines(theta, gM(theta), type = \"l\", col = \"blue\")\n",
        "legend(\"topright\", legend = c(\"qtarget\", \"gM\"),\n",
        "       lty = 1, col = c(\"black\", \"blue\"))"
      ],
      "id": "2f72fd67-3916-4df9-a367-36dad21fb9d8"
    },
    {
      "cell_type": "markdown",
      "metadata": {},
      "source": [
        "We now implement our rejection sampling algorithm."
      ],
      "id": "48145c87-6b83-4aef-b092-c420542137b9"
    },
    {
      "cell_type": "code",
      "execution_count": null,
      "metadata": {},
      "outputs": [],
      "source": [
        "B = 10000 # number of retained samples desired\n",
        "mytheta = numeric(B) # vector to store samples\n",
        "i = 0 # number of retained samples\n",
        "while (i < B) {\n",
        "    x = rexp(1) # draw a value from proposal distribution\n",
        "    # accept the value with probability based on the importance\n",
        "    # ratio\n",
        "    if (runif(1) <= qtarget(x)/gM(x)) {\n",
        "        i = i + 1 # increment i if sample retained\n",
        "        mytheta[i] = x # store sample\n",
        "    }\n",
        "}"
      ],
      "id": "5483ea99-a450-488a-91b5-66ea7fb196ce"
    },
    {
      "cell_type": "markdown",
      "metadata": {},
      "source": [
        "Lastly, we compare our empirical density to the true density."
      ],
      "id": "9f3431ef-a6f5-4b51-b5c7-5a8892363088"
    },
    {
      "cell_type": "code",
      "execution_count": null,
      "metadata": {},
      "outputs": [],
      "source": [
        "#The true density\n",
        "dens = function(theta) {\n",
        "    sqrt(2/pi)*exp(-theta^2/2)\n",
        "}\n",
        "\n",
        "dmytheta = density(mytheta, from = 0, to = 5, cut = 0)\n",
        "plot(dmytheta, xlab = \"theta\", ylab = \"density\", main = \"\")\n",
        "lines(theta, dens(theta), col = \"blue\")\n",
        "legend(\"topright\", legend = c(\"approximation\", \"truth\"),\n",
        "    lwd = c(1, 1), col = c(\"black\", \"blue\"))"
      ],
      "id": "19c48936-8778-41c5-bf94-a5aafc322950"
    },
    {
      "cell_type": "markdown",
      "metadata": {},
      "source": [
        "Why didn’t that work properly?\n",
        "\n",
        "Let’s try a different approach."
      ],
      "id": "1b9efe18-d1ab-4011-a401-d0d8a038621a"
    },
    {
      "cell_type": "code",
      "execution_count": null,
      "metadata": {},
      "outputs": [],
      "source": [
        "# plot with a probability histogram instead to get a better comparison\n",
        "hist(mytheta, freq = FALSE, breaks = 100)\n",
        "lines(theta, dens(theta), col = \"blue\")\n",
        "legend(\"topright\", legend = c(\"approximation\", \"truth\"),\n",
        "    lwd = c(1, 1), col = c(\"black\", \"blue\"))"
      ],
      "id": "8afe16a7-7b0c-41e1-9955-3b541b4b038d"
    },
    {
      "cell_type": "markdown",
      "metadata": {},
      "source": [
        "## Rejection sampling example 5\n",
        "\n",
        "The last example chose a proposal distribution analytically. We\n",
        "probability wouldn’t do that unless we were forced to. Let’s try\n",
        "something more realistic.\n",
        "\n",
        "*Proposal distribution*\n",
        "\n",
        "$G\\sim \\chi^2_2$ with bounding constant $M=2.4$ (chosen by trial and\n",
        "error).\n",
        "\n",
        "We create the bounding function."
      ],
      "id": "2dec9b1b-94aa-4b20-b2ab-739cbfb5488b"
    },
    {
      "cell_type": "code",
      "execution_count": null,
      "metadata": {},
      "outputs": [],
      "source": [
        "gM = function(theta) {\n",
        "    2.4 * dchisq(theta, df = 2)\n",
        "}"
      ],
      "id": "61d6179d-154e-41f9-9b88-891db7b5c571"
    },
    {
      "cell_type": "markdown",
      "metadata": {},
      "source": [
        "We compare the target density and bounding function."
      ],
      "id": "3007b043-6b2d-49b3-a1bc-f1824105290a"
    },
    {
      "cell_type": "code",
      "execution_count": null,
      "metadata": {},
      "outputs": [],
      "source": [
        "theta = seq(0, 5, len = 1000)\n",
        "plot(theta, gM(theta), type = \"l\", col = \"blue\",\n",
        "     xlab = expression(theta), ylab = \"\", ylim = c(0, 1.25))\n",
        "lines(theta, qtarget(theta))\n",
        "legend(\"topright\", legend = c(\"q\", \"gM\"), lty = 1,\n",
        "       col = c(\"black\", \"blue\"))"
      ],
      "id": "74b9f1e6-b7e5-41a0-993d-5b0970b47088"
    },
    {
      "cell_type": "markdown",
      "metadata": {},
      "source": [
        "We implement our rejection sampling algorithm."
      ],
      "id": "dd7fa268-414b-4455-81ba-1e0f9d4b2cc2"
    },
    {
      "cell_type": "code",
      "execution_count": null,
      "metadata": {},
      "outputs": [],
      "source": [
        "B = 10000\n",
        "mytheta = numeric(B)\n",
        "i = 0\n",
        "while (i < B) {\n",
        "    x = rchisq(1, df = 2)\n",
        "    if (runif(1) <= qtarget(x)/gM(x)) {\n",
        "        i = i + 1\n",
        "        mytheta[i] = x\n",
        "    }\n",
        "}"
      ],
      "id": "b2f2380d-eaf6-4c9f-85a0-41fddbbc3a1e"
    },
    {
      "cell_type": "markdown",
      "metadata": {},
      "source": [
        "Lastly, we compare our empirical density to the true density."
      ],
      "id": "05a61d19-d72d-4c82-9e0a-357d0fbe3f18"
    },
    {
      "cell_type": "code",
      "execution_count": null,
      "metadata": {},
      "outputs": [],
      "source": [
        "hist(mytheta, freq = FALSE, breaks = 100)\n",
        "lines(theta, dens(theta), col = \"blue\")\n",
        "legend(\"topright\", legend = c(\"approximation\", \"truth\"),\n",
        "       lwd = c(1, 1), col = c(\"black\", \"blue\"))"
      ],
      "id": "2139b64f-01d7-47a0-8bd2-b85c41ed59d2"
    }
  ],
  "nbformat": 4,
  "nbformat_minor": 5,
  "metadata": {
    "kernelspec": {
      "name": "ir",
      "display_name": "R",
      "language": "R"
    }
  }
}