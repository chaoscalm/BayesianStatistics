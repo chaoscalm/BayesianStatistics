{
  "cells": [
    {
      "cell_type": "markdown",
      "metadata": {},
      "source": [
        "# Computational methods for Bayesian inference\n",
        "\n",
        "Joshua French\n",
        "\n",
        "To open this information in an interactive Colab notebook, click the\n",
        "Open in Colab graphic below.\n",
        "\n",
        "<a href=\"https://colab.research.google.com/github/jfrench/BayesianStatistics/blob/master/lectures/Math7393-03c-Computational-methods-for-Bayesian-inference-Stochastic.ipynb\">\n",
        "<img src=\"https://colab.research.google.com/assets/colab-badge.svg\">\n",
        "</a>\n",
        "\n",
        "------------------------------------------------------------------------\n",
        "\n",
        "# Stochastic methods\n",
        "\n",
        "## Rejection sampling\n",
        "\n",
        "Rejection sampling can be used to draw samples from a target density\n",
        "$p(\\theta | y)$ or its unnormalized version $q(\\theta | y)$.\n",
        "\n",
        "Rejection sampling assumes there exists a *proposal distribution* $G$\n",
        "with density function $g(\\theta)$ such that:\n",
        "\n",
        "-   We can easily draw a realization from $G$, i.e., the distribution\n",
        "    $g$ defines.\n",
        "-   If $p(\\theta = \\theta^*| y) > 0$, then $g(\\theta = \\theta^*) > 0$.\n",
        "-   The *importance ratio* $p(\\theta | y) / g(\\theta)$ must have a known\n",
        "    bound.\n",
        "    -   i.e., there exists $M$ such that for all $\\theta$,\n",
        "        $p(\\theta | y) / g(\\theta) \\leq M$.\n",
        "\n",
        "Rejection sampling draws $B$ samples from $p(\\theta |y)$ using the\n",
        "following algorithm:\n",
        "\n",
        "1.  Sample $\\theta^*$ from the distribution defined by $g(\\theta)$.\n",
        "2.  Accept $\\theta^*$ as a sample from $p(\\theta | y)$ with probability\n",
        "    $p(\\theta^* | y) / (M g(\\theta^*))$.\n",
        "    -   If $\\theta^*$ is accepted, continue to step 3.\n",
        "    -   Otherwise, return to step 1.\n",
        "3.  Return to step 1 until $B$ draws from $g(\\theta)$ have been\n",
        "    accepted.\n",
        "\n",
        "Comments about rejection sampling:\n",
        "\n",
        "-   The unnormalized density, $q(\\theta | y)$, is almost always used\n",
        "    instead of the true density, $p(\\theta | y)$\n",
        "-   $p(\\theta | y) \\leq M g(\\theta | y)$ ensures the acceptance\n",
        "    probability is no larger than 1.\n",
        "-   $M$ should be chosen so that $M g(\\theta | y)$ is as close as\n",
        "    possible to $p(\\theta | y)$.\n",
        "-   Conceptually, we retain a sample $\\theta^*$ from $g(\\theta)$ by\n",
        "    drawing a value $u$ from a $U(0, M g(\\theta^*))$ distribution and\n",
        "    keeping $\\theta^*$ if $u \\leq p(\\theta^* | y)$.\n",
        "\n",
        "## Rejection sampling example 1\n",
        "\n",
        "-   Suppose the (unnormalized) target density is\n",
        "    $q(\\theta | y) = \\theta(1-\\theta)I_{(0,1)}(\\theta).$\n",
        "-   The $U(0, 1)$ density, i.e., $g(\\theta)=I_{(0,1)}(\\theta)$, bounds\n",
        "    $q(\\theta | y)$.\n",
        "-   $\\text{argmax}_{\\theta}q(\\theta | y) = 0.5$ with\n",
        "    $q(0.5 | y) = 0.25.$\n",
        "-   Pick $M = 0.25$.\n",
        "\n",
        "Let’s define an unnormalized target density."
      ],
      "id": "f850c8cc-5f40-4847-a476-5aa8322724ea"
    },
    {
      "cell_type": "code",
      "execution_count": null,
      "metadata": {},
      "outputs": [],
      "source": [
        "qtarget = function(theta) {\n",
        "  theta * (1 - theta)\n",
        "}"
      ],
      "id": "e5bdffc8-4237-43b3-838e-2694bed9b066"
    },
    {
      "cell_type": "markdown",
      "metadata": {},
      "source": [
        "Let’s define a bounding function, $g(\\theta)M$."
      ],
      "id": "8f195840-e7e4-432a-9dce-a45d8743dcf8"
    },
    {
      "cell_type": "code",
      "execution_count": null,
      "metadata": {},
      "outputs": [],
      "source": [
        "# define bounding function\n",
        "gM = function(theta) {\n",
        "  rep(.25, length(theta))\n",
        "}"
      ],
      "id": "afd53dc5-0b0a-4c59-9ec6-6a3cfcb13b57"
    },
    {
      "cell_type": "markdown",
      "metadata": {},
      "source": [
        "Let’s plot the target density and bounding function."
      ],
      "id": "361860e2-1d63-42e3-8a4e-006ab1667ed1"
    },
    {
      "cell_type": "code",
      "execution_count": null,
      "metadata": {},
      "outputs": [],
      "source": [
        "theta = seq(0, 1, len = 1000)\n",
        "par(mar = c(4, 4, 0.4, 0.4))\n",
        "plot(theta, qtarget(theta), type = \"l\", xlab = expression(theta),\n",
        "     ylab = expression(q(theta*\"|\"*y)))\n",
        "lines(theta, gM(theta), col = \"blue\")"
      ],
      "id": "d1c18708-c9dc-4803-8ede-a3cd8baf879c"
    },
    {
      "cell_type": "markdown",
      "metadata": {},
      "source": [
        "Consider drawing a sample from $p(\\theta | y)$:\n",
        "\n",
        "-   We draw a value $\\theta^*$ from the $U(0,1)$ distribution.\n",
        "    -   Suppose this value is $\\theta^*=0.6$.\n",
        "-   We need to decide whether we keep $\\theta^*$.\n",
        "    -   Note that $M g(\\theta)$ evaluated at $0.6$ is\n",
        "        $0.25 \\times 1 = 0.25$.\n",
        "    -   Note that $q(0.6 | y) = 0.6(1-0.6) = 0.24$.\n",
        "-   Draw $u$ from $U(0, 0.25)$.\n",
        "    -   Let’s say $u^* = 0.066$.\n",
        "    -   Since $u^*<q(\\theta\\mid y) = 0.24$, we accept it as a sample\n",
        "        from $q(\\theta\\mid y)$.\n",
        "\n",
        "Consider drawing another sample from $p(\\theta \\mid y)$:\n",
        "\n",
        "-   We draw a value $\\theta^*$ from the $U(0,1)$ distribution.\n",
        "    -   Suppose this value is $\\theta^*=0.185$.\n",
        "-   We draw $u=0.176$ from\n",
        "    $U(0, Mg(\\theta^*))=U(0, 0.25g(0.185))=U(0, 0.25)$.\n",
        "-   $u=0.176 > 0.151 = q(\\theta^*|y) = q(0.185|y)$, so we reject the\n",
        "    proposed value of $\\theta^*$.\n",
        "\n",
        "Let’s run a rejection sampling algorithim to draw samples from the\n",
        "target distribution. We plot closed circles for each $(\\theta^*, u^*)$\n",
        "that’s accepted and a closed circle for each $(\\theta^*, u^*)$ that’s\n",
        "rejected."
      ],
      "id": "05ac6f25-923c-4f93-b24e-30be7447c70c"
    },
    {
      "cell_type": "code",
      "execution_count": null,
      "metadata": {},
      "outputs": [],
      "source": [
        "# plot target density and bounding function\n",
        "theta = seq(0, 1, len = 1000)\n",
        "plot(theta, qtarget(theta), type = \"l\", xlab = expression(theta),\n",
        "     ylab = expression(q(theta*\"|\"*y)))\n",
        "lines(theta, gM(theta), col = \"blue\")\n",
        "# plot some earlier results\n",
        "thetastar1 = 0.6\n",
        "thetastar2 = 0.185\n",
        "u1 = 0.066\n",
        "u2 = 0.176\n",
        "accept1 = TRUE\n",
        "accept2 = FALSE\n",
        "points(thetastar1, u1, pch = ifelse(accept1, 20, 1))\n",
        "points(thetastar2, u2, pch = ifelse(accept2, 20, 1))\n",
        "for(i in 1:98) {\n",
        "  thetastar = runif(1)\n",
        "  u = runif(1, 0, gM(thetastar))\n",
        "  accept = (u <= qtarget(thetastar))\n",
        "  points(thetastar, u, pch = ifelse(accept, 20, 1))\n",
        "}\n",
        "title(\"Accepted (black dot) vs Rejected (open circle) comparison\")"
      ],
      "id": "fc460649-8644-42f5-aa76-5404dbb47dee"
    },
    {
      "cell_type": "markdown",
      "metadata": {},
      "source": [
        "## Rejection sampling example 2\n",
        "\n",
        "We illustrate rejection sampling by drawing from an unnormalized Beta(3,\n",
        "3).\n",
        "\n",
        "We will compare our rejection sampling results with the truth.\n",
        "\n",
        "*Target density*\n",
        "\n",
        "$p(\\theta | y) \\propto \\theta^2 * (1 - \\theta)^2 = q(\\theta).$\n",
        "\n",
        "*Proposal distribution*\n",
        "\n",
        "Since $q(\\theta)$ has finite support, our proposal distribution can be\n",
        "$G\\sim U(0,1)$.\n",
        "\n",
        "We simply need to choose an appropriate bounding constant $M$ for our\n",
        "bounding function.\n",
        "\n",
        "Taking the derivative of $q(\\theta)$ with respect to $\\theta$, we can\n",
        "determine that the function has a maximum at $\\theta = 1/2$.\n",
        "\n",
        "The maximum is $q(1/2) = 0.0625$.\n",
        "\n",
        "Thus, $q(\\theta) <= g(\\theta)M$ with $M = 0.0625$.\n",
        "\n",
        "We define the unnormalized target density."
      ],
      "id": "2173dad1-08df-4d39-9bcf-abe3458ec489"
    },
    {
      "cell_type": "code",
      "execution_count": null,
      "metadata": {},
      "outputs": [],
      "source": [
        "qtarget = function(theta) {\n",
        "    theta^2*(1 - theta)^2\n",
        "}"
      ],
      "id": "3fb6350c-07b5-4cc8-9ffe-47862c2f600e"
    },
    {
      "cell_type": "markdown",
      "metadata": {},
      "source": [
        "We define the bounding function."
      ],
      "id": "972c749c-9437-44c5-8081-198aa870ff8c"
    },
    {
      "cell_type": "code",
      "execution_count": null,
      "metadata": {},
      "outputs": [],
      "source": [
        "gM = function(theta) {\n",
        "    rep(.0625, length(theta))\n",
        "}"
      ],
      "id": "f24bcbcf-6c9f-43ad-8770-e6db15e1684b"
    },
    {
      "cell_type": "markdown",
      "metadata": {},
      "source": [
        "We compare the target density and bounding function."
      ],
      "id": "448a1224-7470-4cee-9469-f876a201a14a"
    },
    {
      "cell_type": "code",
      "execution_count": null,
      "metadata": {},
      "outputs": [],
      "source": [
        "theta = seq(0, 1, len = 1000)\n",
        "plot(theta, qtarget(theta), type = \"l\", xlab = expression(theta),\n",
        "     ylab = expression(q(theta)))\n",
        "lines(theta, gM(theta), col = \"blue\")\n",
        "abline(v = 1/2)"
      ],
      "id": "792dec2a-cf57-4b61-86e1-1de84e52feaa"
    },
    {
      "cell_type": "markdown",
      "metadata": {},
      "source": [
        "We now implement our rejection sampling algorithm."
      ],
      "id": "1f41bf15-9090-4b37-85e1-3fca3c9b38f9"
    },
    {
      "cell_type": "code",
      "execution_count": null,
      "metadata": {},
      "outputs": [],
      "source": [
        "B = 1000 # number of samples to keep\n",
        "mytheta = numeric(B) # vector to store kept samples\n",
        "\n",
        "i = 0 # the samples accepted\n",
        "while (i < B) {\n",
        "  x = runif(1) # sample from g distribution\n",
        "\n",
        "  # accept x with probability q(x)/gM(x)\n",
        "    if (runif(1) <= qtarget(x)/gM(x)) {\n",
        "        i = i + 1\n",
        "        mytheta[i] = x\n",
        "    }\n",
        "}"
      ],
      "id": "0b2e6585-03e6-4e41-984c-82c13e68b91f"
    },
    {
      "cell_type": "markdown",
      "metadata": {},
      "source": [
        "Lastly, we compare our empirical density to the true density."
      ],
      "id": "00ff6029-275d-448e-8a26-a6f639d5e595"
    },
    {
      "cell_type": "code",
      "execution_count": null,
      "metadata": {},
      "outputs": [],
      "source": [
        "dmytheta = density(mytheta)\n",
        "dtruth = dbeta(theta, 3, 3)\n",
        "\n",
        "plot(dmytheta, xlab = expression(theta), ylab = \"density\", main = \"\")\n",
        "lines(theta, dtruth, col = \"orange\")\n",
        "legend(\"topleft\", legend = c(\"approximation\", \"truth\"),\n",
        "       col = c(\"black\", \"orange\"), lwd = c(1, 1))"
      ],
      "id": "ba2eb927-919c-4a51-a539-c6cdb7bf7af8"
    },
    {
      "cell_type": "markdown",
      "metadata": {},
      "source": [
        "## Rejection sampling example 3\n",
        "\n",
        "We repeat the previous example with a more efficient proposal\n",
        "distribution.\n",
        "\n",
        "Since we know that our target density is symmetric around 0.5, we choose\n",
        "to bound it by a normal distribution centered around 0.5.\n",
        "\n",
        "*Proposal distribution*\n",
        "\n",
        "$G\\sim N(0.5, 0.25^2)$.\n",
        "\n",
        "We choose $M=0.04$ for our bounding function (chosen by trial and\n",
        "error).\n",
        "\n",
        "We define bounding function."
      ],
      "id": "53c4335b-cf46-478e-9775-602668415673"
    },
    {
      "cell_type": "code",
      "execution_count": null,
      "metadata": {},
      "outputs": [],
      "source": [
        "gM = function(theta) {\n",
        "    0.04 * dnorm(theta, mean = 0.5, sd = 0.25)\n",
        "}"
      ],
      "id": "bd6f3c98-dca6-4335-892b-dff81cd22a49"
    },
    {
      "cell_type": "markdown",
      "metadata": {},
      "source": [
        "We compare the target density to the bounding function."
      ],
      "id": "3bedeb2e-7f73-4958-8f7a-c631344011a2"
    },
    {
      "cell_type": "code",
      "execution_count": null,
      "metadata": {},
      "outputs": [],
      "source": [
        "theta = seq(0, 1, len = 1000)\n",
        "plot(theta, qtarget(theta), type = \"l\", xlab = expression(theta),\n",
        "     ylab = expression(q(theta)))\n",
        "lines(theta, gM(theta), col = \"blue\")\n",
        "abline(v = 1/2)"
      ],
      "id": "409520e8-c0d8-4ce1-8ff8-1650b8579d6f"
    },
    {
      "cell_type": "markdown",
      "metadata": {},
      "source": [
        "We now implement our rejection sampling algorithm."
      ],
      "id": "7b99a5ca-a1c5-48fd-a9e6-1dc983d74476"
    },
    {
      "cell_type": "code",
      "execution_count": null,
      "metadata": {},
      "outputs": [],
      "source": [
        "B = 100000\n",
        "mytheta = numeric(B)\n",
        "\n",
        "i = 0 # the samples accepted\n",
        "while (i < B) {\n",
        "  x = rnorm(1, mean = 0.5, sd = 0.25) # sample from g distribution\n",
        "\n",
        "  # accept x with probability q(x)/gM(x)\n",
        "    if (runif(1) <= qtarget(x)/gM(x)) {\n",
        "        i = i + 1\n",
        "        mytheta[i] = x\n",
        "    }\n",
        "}"
      ],
      "id": "5643a2b6-76c7-4818-8b6d-12c73d7660cd"
    },
    {
      "cell_type": "markdown",
      "metadata": {},
      "source": [
        "Lastly, we compare our empirical density to the true density."
      ],
      "id": "8ee5dbb1-8aff-4fdf-b046-e3c6b45295f8"
    },
    {
      "cell_type": "code",
      "execution_count": null,
      "metadata": {},
      "outputs": [],
      "source": [
        "dmytheta = density(mytheta)\n",
        "dtruth = dbeta(theta, 3, 3)\n",
        "\n",
        "plot(theta, dtruth, col = \"orange\", type = \"l\")\n",
        "lines(dmytheta)\n",
        "legend(\"topleft\", legend = c(\"approximation\", \"truth\"),\n",
        "       col = c(\"black\", \"orange\"), lwd = c(1, 1))"
      ],
      "id": "31f9e94f-9f54-4b9b-bd71-90a611e7dc43"
    },
    {
      "cell_type": "markdown",
      "metadata": {},
      "source": [
        "## Rejection sampling example 4\n",
        "\n",
        "We want to sample from a folded $N(0,1)$ distribution.\n",
        "\n",
        "-   If $y\\sim N(0,1)$, then $|y|$ is a folded $N(0,1)$ distribution.\n",
        "\n",
        "*Target density*\n",
        "\n",
        "$q(\\theta) = exp(-\\theta^2/2)I_{[0,\\infty)}(\\theta)$.\n",
        "\n",
        "*Proposal distribution*\n",
        "\n",
        "$G\\sim \\mathrm{Exp}(1)$.\n",
        "\n",
        "How do we choose a bounding constant?\n",
        "\n",
        "The optimal solution is find a single intersecting point between the\n",
        "folded normal and our envelope (at the inflection point of the folded\n",
        "normal), which is at $\\theta = 1$.\n",
        "\n",
        "$\\frac{dq(\\theta)}{d\\theta} = -\\exp(-\\theta^2/2)\\theta$.\n",
        "\n",
        "$\\frac{d^2q(\\theta)}{d\\theta^2} = \\exp(-\\theta^2/2)(\\theta^2-1)$.\n",
        "\n",
        "Setting $g(\\theta)M = q(\\theta)$ and solving for $M$ when $\\theta = 1$\n",
        "results in the solution $M = \\exp(1/2)$.\n",
        "\n",
        "We define the target density."
      ],
      "id": "cd1912b7-d42d-4bc8-814c-cd9596c5d5f9"
    },
    {
      "cell_type": "code",
      "execution_count": null,
      "metadata": {},
      "outputs": [],
      "source": [
        "qtarget = function(theta) {\n",
        "    exp(-theta^2/2)\n",
        "}"
      ],
      "id": "c058659c-2a91-48bf-9b6e-3885db45ef47"
    },
    {
      "cell_type": "markdown",
      "metadata": {},
      "source": [
        "We define the bounding function."
      ],
      "id": "c841dba8-6892-4108-a9e4-370cc8668ba3"
    },
    {
      "cell_type": "code",
      "execution_count": null,
      "metadata": {},
      "outputs": [],
      "source": [
        "gM = function(theta) {\n",
        "    dexp(theta)*exp(1/2)\n",
        "}"
      ],
      "id": "2277d579-1f81-447e-a2f8-bf33adc97403"
    },
    {
      "cell_type": "markdown",
      "metadata": {},
      "source": [
        "We compare the target density to the bounding function."
      ],
      "id": "1348cade-89aa-4694-b26f-c92acbf35450"
    },
    {
      "cell_type": "code",
      "execution_count": null,
      "metadata": {},
      "outputs": [],
      "source": [
        "theta = seq(0, 5, len = 1000)\n",
        "plot(theta, qtarget(theta), ylim = c(0, qtarget(0.001)),\n",
        "     type = \"l\",\n",
        "     ylab = \"qtarget\", xlab = expression(theta))\n",
        "lines(theta, gM(theta), type = \"l\", col = \"blue\")\n",
        "legend(\"topright\", legend = c(\"qtarget\", \"gM\"),\n",
        "       lty = 1, col = c(\"black\", \"blue\"))"
      ],
      "id": "f6e6308f-9536-44cc-9e0c-a9ef93b2068d"
    },
    {
      "cell_type": "markdown",
      "metadata": {},
      "source": [
        "We now implement our rejection sampling algorithm."
      ],
      "id": "ee9b34e9-8db9-48fe-8dec-3342397826d1"
    },
    {
      "cell_type": "code",
      "execution_count": null,
      "metadata": {},
      "outputs": [],
      "source": [
        "B = 10000 # number of retained samples desired\n",
        "mytheta = numeric(B) # vector to store samples\n",
        "i = 0 # number of retained samples\n",
        "while (i < B) {\n",
        "    x = rexp(1) # draw a value from proposal distribution\n",
        "    # accept the value with probability based on the importance\n",
        "    # ratio\n",
        "    if (runif(1) <= qtarget(x)/gM(x)) {\n",
        "        i = i + 1 # increment i if sample retained\n",
        "        mytheta[i] = x # store sample\n",
        "    }\n",
        "}"
      ],
      "id": "21892f25-2942-491d-9915-565fbcf623aa"
    },
    {
      "cell_type": "markdown",
      "metadata": {},
      "source": [
        "Lastly, we compare our empirical density to the true density."
      ],
      "id": "b4368dd6-b6ab-48b3-83b9-b85ce0d9a8af"
    },
    {
      "cell_type": "code",
      "execution_count": null,
      "metadata": {},
      "outputs": [],
      "source": [
        "#The true density\n",
        "dens = function(theta) {\n",
        "    sqrt(2/pi)*exp(-theta^2/2)\n",
        "}\n",
        "\n",
        "dmytheta = density(mytheta, from = 0, to = 5, cut = 0)\n",
        "plot(dmytheta, xlab = \"theta\", ylab = \"density\", main = \"\")\n",
        "lines(theta, dens(theta), col = \"blue\")\n",
        "legend(\"topright\", legend = c(\"approximation\", \"truth\"),\n",
        "    lwd = c(1, 1), col = c(\"black\", \"blue\"))"
      ],
      "id": "d7b8539a-3ffe-4131-b63b-8e038f5991a3"
    },
    {
      "cell_type": "markdown",
      "metadata": {},
      "source": [
        "Why didn’t that work properly?\n",
        "\n",
        "Let’s try a different approach."
      ],
      "id": "33df3cab-a594-434f-8646-695eecc767a8"
    },
    {
      "cell_type": "code",
      "execution_count": null,
      "metadata": {},
      "outputs": [],
      "source": [
        "# plot with a probability histogram instead to get a better comparison\n",
        "hist(mytheta, freq = FALSE, breaks = 100)\n",
        "lines(theta, dens(theta), col = \"blue\")\n",
        "legend(\"topright\", legend = c(\"approximation\", \"truth\"),\n",
        "    lwd = c(1, 1), col = c(\"black\", \"blue\"))"
      ],
      "id": "f679f941-88a5-48fd-9734-e1de26d2cb43"
    },
    {
      "cell_type": "markdown",
      "metadata": {},
      "source": [
        "## Rejection sampling example 5\n",
        "\n",
        "The last example chose a proposal distribution analytically. We\n",
        "probability wouldn’t do that unless we were forced to. Let’s try\n",
        "something more realistic.\n",
        "\n",
        "*Proposal distribution*\n",
        "\n",
        "$G\\sim \\chi^2_2$ with bounding constant $M=2.4$ (chosen by trial and\n",
        "error).\n",
        "\n",
        "We create the bounding function."
      ],
      "id": "1f94f52f-dc35-496c-84bd-3406087be180"
    },
    {
      "cell_type": "code",
      "execution_count": null,
      "metadata": {},
      "outputs": [],
      "source": [
        "gM = function(theta) {\n",
        "    2.4 * dchisq(theta, df = 2)\n",
        "}"
      ],
      "id": "9014e87e-0050-4264-a720-be990fd8e7aa"
    },
    {
      "cell_type": "markdown",
      "metadata": {},
      "source": [
        "We compare the target density and bounding function."
      ],
      "id": "2d198485-0ec3-4eaa-9be2-5af5e83c4882"
    },
    {
      "cell_type": "code",
      "execution_count": null,
      "metadata": {},
      "outputs": [],
      "source": [
        "theta = seq(0, 5, len = 1000)\n",
        "plot(theta, gM(theta), type = \"l\", col = \"blue\",\n",
        "     xlab = expression(theta), ylab = \"\", ylim = c(0, 1.25))\n",
        "lines(theta, qtarget(theta))\n",
        "legend(\"topright\", legend = c(\"q\", \"gM\"), lty = 1,\n",
        "       col = c(\"black\", \"blue\"))"
      ],
      "id": "133c4ac1-3364-4aad-ad6b-4168a6fed48f"
    },
    {
      "cell_type": "markdown",
      "metadata": {},
      "source": [
        "We implement our rejection sampling algorithm."
      ],
      "id": "d4bfcef7-c19f-4fa4-98c7-0a34d0abcc06"
    },
    {
      "cell_type": "code",
      "execution_count": null,
      "metadata": {},
      "outputs": [],
      "source": [
        "B = 10000\n",
        "mytheta = numeric(B)\n",
        "i = 0\n",
        "while (i < B) {\n",
        "    x = rchisq(1, df = 2)\n",
        "    if (runif(1) <= qtarget(x)/gM(x)) {\n",
        "        i = i + 1\n",
        "        mytheta[i] = x\n",
        "    }\n",
        "}"
      ],
      "id": "9eea4198-4361-4980-b7ad-f83cef9a208e"
    },
    {
      "cell_type": "markdown",
      "metadata": {},
      "source": [
        "Lastly, we compare our empirical density to the true density."
      ],
      "id": "96241914-7505-4a1f-828b-812000a21fa7"
    },
    {
      "cell_type": "code",
      "execution_count": null,
      "metadata": {},
      "outputs": [],
      "source": [
        "hist(mytheta, freq = FALSE, breaks = 100)\n",
        "lines(theta, dens(theta), col = \"blue\")\n",
        "legend(\"topright\", legend = c(\"approximation\", \"truth\"),\n",
        "       lwd = c(1, 1), col = c(\"black\", \"blue\"))"
      ],
      "id": "9e52fcb3-bf30-49c5-a6f4-6d1b6296f4da"
    }
  ],
  "nbformat": 4,
  "nbformat_minor": 5,
  "metadata": {
    "kernelspec": {
      "name": "ir",
      "display_name": "R",
      "language": "R"
    }
  }
}