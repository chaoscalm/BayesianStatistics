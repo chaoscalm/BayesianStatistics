{
  "cells": [
    {
      "cell_type": "markdown",
      "metadata": {},
      "source": [
        "# Computational methods for Bayesian inference\n",
        "\n",
        "Joshua French\n",
        "\n",
        "To open this information in an interactive Colab notebook, click the\n",
        "Open in Colab graphic below.\n",
        "\n",
        "<a href=\"https://colab.research.google.com/github/jfrench/BayesianStatistics/blob/master/lectures/Math7393-03c-Computational-methods-for-Bayesian-inference-Stochastic.ipynb\">\n",
        "<img src=\"https://colab.research.google.com/assets/colab-badge.svg\">\n",
        "</a>\n",
        "\n",
        "------------------------------------------------------------------------\n",
        "\n",
        "# Stochastic methods\n",
        "\n",
        "## Rejection sampling\n",
        "\n",
        "Rejection sampling can be used to draw samples from a target density\n",
        "$p(\\theta | y)$ or its unnormalized version $q(\\theta | y)$.\n",
        "\n",
        "Rejection sampling assumes there exists a *proposal distribution* $G$\n",
        "with density function $g(\\theta)$ such that:\n",
        "\n",
        "-   We can easily draw a realization from $G$, i.e., the distribution\n",
        "    $g$ defines.\n",
        "-   If $p(\\theta = \\theta^{\\ast| y) > 0$, then\n",
        "    $g(\\theta = \\theta^{\\ast}) > 0$.\n",
        "-   The *importance ratio* $p(\\theta | y) / g(\\theta)$ must have a known\n",
        "    bound.\n",
        "    -   i.e., there exists $M$ such that for all $\\theta$,\n",
        "        $p(\\theta | y) / g(\\theta) \\leq M$.\n",
        "\n",
        "Rejection sampling draws $B$ samples from $p(\\theta |y)$ using the\n",
        "following algorithm:\n",
        "\n",
        "1.  Sample $\\theta^{\\ast$ from the distribution defined by $g(\\theta)$.\n",
        "2.  Accept $\\theta^{\\ast$ as a sample from $p(\\theta | y)$ with\n",
        "    probability $p(\\theta^* | y) / (M g(\\theta^{\\ast}))$.\n",
        "    -   If $\\theta^{\\ast$ is accepted, continue to step 3.\n",
        "    -   Otherwise, return to step 1.\n",
        "3.  Return to step 1 until $B$ draws from $g(\\theta)$ have been\n",
        "    accepted.\n",
        "\n",
        "Comments about rejection sampling:\n",
        "\n",
        "-   The unnormalized density, $q(\\theta | y)$, is almost always used\n",
        "    instead of the true density, $p(\\theta | y)$\n",
        "-   $p(\\theta | y) \\leq M g(\\theta | y)$ ensures the acceptance\n",
        "    probability is no larger than 1.\n",
        "-   $M$ should be chosen so that $M g(\\theta | y)$ is as close as\n",
        "    possible to $p(\\theta | y)$.\n",
        "-   Conceptually, we retain a sample $\\theta^{\\ast}$ from $g(\\theta)$ by\n",
        "    drawing a value $u$ from a $U(0, M g(\\theta^{\\ast}))$ distribution\n",
        "    and keeping $\\theta^{*}$ if $u \\leq p(\\theta^{\\ast} | y)$.\n",
        "\n",
        "## Rejection sampling example 1\n",
        "\n",
        "-   Suppose the (unnormalized) target density is\n",
        "    $q(\\theta | y) = \\theta(1-\\theta)I_{(0,1)}(\\theta).$\n",
        "-   The $U(0, 1)$ density, i.e., $g(\\theta)=I_{(0,1)}(\\theta)$, bounds\n",
        "    $q(\\theta | y)$.\n",
        "-   $\\text{argmax}_{\\theta}q(\\theta | y) = 0.5$ with\n",
        "    $q(0.5 | y) = 0.25.$\n",
        "-   Pick $M = 0.25$.\n",
        "\n",
        "Let’s define an unnormalized target density."
      ],
      "id": "f18102be-91fe-44f7-a7fa-dbfde618331e"
    },
    {
      "cell_type": "code",
      "execution_count": null,
      "metadata": {},
      "outputs": [],
      "source": [
        "qtarget = function(theta) {\n",
        "  theta * (1 - theta)\n",
        "}"
      ],
      "id": "673b7353-d8f7-49e7-9fad-bbf97cf96097"
    },
    {
      "cell_type": "markdown",
      "metadata": {},
      "source": [
        "Let’s define a bounding function, $g(\\theta)M$."
      ],
      "id": "64d88292-13fa-468f-b30b-11336322d769"
    },
    {
      "cell_type": "code",
      "execution_count": null,
      "metadata": {},
      "outputs": [],
      "source": [
        "# define bounding function\n",
        "gM = function(theta) {\n",
        "  rep(.25, length(theta))\n",
        "}"
      ],
      "id": "f0ef35a5-24f8-4000-9f7b-1ca694129ad9"
    },
    {
      "cell_type": "markdown",
      "metadata": {},
      "source": [
        "Let’s plot the target density and bounding function."
      ],
      "id": "33f2d40e-0417-4275-ba25-85feb1b44a79"
    },
    {
      "cell_type": "code",
      "execution_count": null,
      "metadata": {},
      "outputs": [],
      "source": [
        "theta = seq(0, 1, len = 1000)\n",
        "par(mar = c(4, 4, 0.4, 0.4))\n",
        "plot(theta, qtarget(theta), type = \"l\", xlab = expression(theta),\n",
        "     ylab = expression(q(theta*\"|\"*y)))\n",
        "lines(theta, gM(theta), col = \"blue\")"
      ],
      "id": "fc2a73b1-6e19-4c5d-bea6-50e1537b93aa"
    },
    {
      "cell_type": "markdown",
      "metadata": {},
      "source": [
        "Consider drawing a sample from $p(\\theta | y)$:\n",
        "\n",
        "-   We draw a value $\\theta^*$ from the $U(0,1)$ distribution.\n",
        "    -   Suppose this value is $\\theta^*=0.6$.\n",
        "-   We need to decide whether we keep $\\theta^*$.\n",
        "    -   Note that $M g(\\theta)$ evaluated at $0.6$ is\n",
        "        $0.25 \\times 1 = 0.25$.\n",
        "    -   Note that $q(0.6 | y) = 0.6(1-0.6) = 0.24$.\n",
        "-   Draw $u$ from $U(0, 0.25)$.\n",
        "    -   Let’s say $u^* = 0.066$.\n",
        "    -   Since $u^*<q(\\theta\\mid y) = 0.24$, we accept it as a sample\n",
        "        from $q(\\theta\\mid y)$.\n",
        "\n",
        "Consider drawing another sample from $p(\\theta \\mid y)$:\n",
        "\n",
        "-   We draw a value $\\theta^*$ from the $U(0,1)$ distribution.\n",
        "    -   Suppose this value is $\\theta^*=0.185$.\n",
        "-   We draw $u=0.176$ from\n",
        "    $U(0, Mg(\\theta^*))=U(0, 0.25g(0.185))=U(0, 0.25)$.\n",
        "-   $u=0.176 > 0.151 = q(\\theta^*|y) = q(0.185|y)$, so we reject the\n",
        "    proposed value of $\\theta^*$.\n",
        "\n",
        "Let’s run a rejection sampling algorithim to draw samples from the\n",
        "target distribution. We plot closed circles for each $(\\theta^*, u^*)$\n",
        "that’s accepted and a closed circle for each $(\\theta^*, u^*)$ that’s\n",
        "rejected."
      ],
      "id": "a6fa827a-deb1-416d-b661-76f2e3daf98c"
    },
    {
      "cell_type": "code",
      "execution_count": null,
      "metadata": {},
      "outputs": [],
      "source": [
        "# plot target density and bounding function\n",
        "theta = seq(0, 1, len = 1000)\n",
        "plot(theta, qtarget(theta), type = \"l\", xlab = expression(theta),\n",
        "     ylab = expression(q(theta*\"|\"*y)))\n",
        "lines(theta, gM(theta), col = \"blue\")\n",
        "# plot some earlier results\n",
        "thetastar1 = 0.6\n",
        "thetastar2 = 0.185\n",
        "u1 = 0.066\n",
        "u2 = 0.176\n",
        "accept1 = TRUE\n",
        "accept2 = FALSE\n",
        "points(thetastar1, u1, pch = ifelse(accept1, 20, 1))\n",
        "points(thetastar2, u2, pch = ifelse(accept2, 20, 1))\n",
        "for(i in 1:98) {\n",
        "  thetastar = runif(1)\n",
        "  u = runif(1, 0, gM(thetastar))\n",
        "  accept = (u <= qtarget(thetastar))\n",
        "  points(thetastar, u, pch = ifelse(accept, 20, 1))\n",
        "}\n",
        "title(\"Accepted (black dot) vs Rejected (open circle) comparison\")"
      ],
      "id": "e340a89f-3cb9-47d9-87f5-fcc8006a46e1"
    },
    {
      "cell_type": "markdown",
      "metadata": {},
      "source": [
        "## Rejection sampling example 2\n",
        "\n",
        "We illustrate rejection sampling by drawing from an unnormalized Beta(3,\n",
        "3).\n",
        "\n",
        "We will compare our rejection sampling results with the truth.\n",
        "\n",
        "*Target density*\n",
        "\n",
        "$p(\\theta | y) \\propto \\theta^2 (1 - \\theta)^2 = q(\\theta).$\n",
        "\n",
        "*Proposal distribution*\n",
        "\n",
        "Since $q(\\theta)$ has finite support, our proposal distribution can be\n",
        "$G\\sim U(0,1)$.\n",
        "\n",
        "We simply need to choose an appropriate bounding constant $M$ for our\n",
        "bounding function.\n",
        "\n",
        "Taking the derivative of $q(\\theta)$ with respect to $\\theta$, we can\n",
        "determine that the function has a maximum at $\\theta = 1/2$.\n",
        "\n",
        "The maximum is $q(1/2) = 0.0625$.\n",
        "\n",
        "Thus, $q(\\theta) <= g(\\theta)M$ with $M = 0.0625$.\n",
        "\n",
        "We define the unnormalized target density."
      ],
      "id": "bc8c0921-30d7-4964-a494-59ddbcd1ba07"
    },
    {
      "cell_type": "code",
      "execution_count": null,
      "metadata": {},
      "outputs": [],
      "source": [
        "qtarget = function(theta) {\n",
        "    theta^2*(1 - theta)^2\n",
        "}"
      ],
      "id": "7fbbec86-0a7d-4536-960d-017678717c1a"
    },
    {
      "cell_type": "markdown",
      "metadata": {},
      "source": [
        "We define the bounding function."
      ],
      "id": "a7555aa3-8047-4556-95ac-6e2c2b62c7e6"
    },
    {
      "cell_type": "code",
      "execution_count": null,
      "metadata": {},
      "outputs": [],
      "source": [
        "gM = function(theta) {\n",
        "    rep(.0625, length(theta))\n",
        "}"
      ],
      "id": "0556ad23-28c0-439d-9114-3915f04418c0"
    },
    {
      "cell_type": "markdown",
      "metadata": {},
      "source": [
        "We compare the target density and bounding function."
      ],
      "id": "dbafcc3a-46a0-47e4-b702-c0c00435d0a5"
    },
    {
      "cell_type": "code",
      "execution_count": null,
      "metadata": {},
      "outputs": [],
      "source": [
        "theta = seq(0, 1, len = 1000)\n",
        "plot(theta, qtarget(theta), type = \"l\", xlab = expression(theta),\n",
        "     ylab = expression(q(theta)))\n",
        "lines(theta, gM(theta), col = \"blue\")\n",
        "abline(v = 1/2)"
      ],
      "id": "c0510daf-a8f0-4545-9dea-b66169114f43"
    },
    {
      "cell_type": "markdown",
      "metadata": {},
      "source": [
        "We now implement our rejection sampling algorithm."
      ],
      "id": "59ea94e7-d59d-43fe-882d-bd49a8a65f53"
    },
    {
      "cell_type": "code",
      "execution_count": null,
      "metadata": {},
      "outputs": [],
      "source": [
        "B = 1000 # number of samples to keep\n",
        "mytheta = numeric(B) # vector to store kept samples\n",
        "\n",
        "i = 0 # the samples accepted\n",
        "while (i < B) {\n",
        "  x = runif(1) # sample from g distribution\n",
        "\n",
        "  # accept x with probability q(x)/gM(x)\n",
        "    if (runif(1) <= qtarget(x)/gM(x)) {\n",
        "        i = i + 1\n",
        "        mytheta[i] = x\n",
        "    }\n",
        "}"
      ],
      "id": "308a5335-d0d1-4d87-9bd7-89f38248ef92"
    },
    {
      "cell_type": "markdown",
      "metadata": {},
      "source": [
        "Lastly, we compare our empirical density to the true density."
      ],
      "id": "0e14e092-f3f2-4330-b094-30bed8607a31"
    },
    {
      "cell_type": "code",
      "execution_count": null,
      "metadata": {},
      "outputs": [],
      "source": [
        "dmytheta = density(mytheta)\n",
        "dtruth = dbeta(theta, 3, 3)\n",
        "\n",
        "plot(dmytheta, xlab = expression(theta), ylab = \"density\", main = \"\")\n",
        "lines(theta, dtruth, col = \"orange\")\n",
        "legend(\"topleft\", legend = c(\"approximation\", \"truth\"),\n",
        "       col = c(\"black\", \"orange\"), lwd = c(1, 1))"
      ],
      "id": "ea9c5bc2-a5a8-4b92-bc4e-9dcd17884359"
    },
    {
      "cell_type": "markdown",
      "metadata": {},
      "source": [
        "## Rejection sampling example 3\n",
        "\n",
        "We repeat the previous example with a more efficient proposal\n",
        "distribution.\n",
        "\n",
        "Since we know that our target density is symmetric around 0.5, we choose\n",
        "to bound it by a normal distribution centered around 0.5.\n",
        "\n",
        "*Proposal distribution*\n",
        "\n",
        "$G\\sim N(0.5, 0.25^2)$.\n",
        "\n",
        "We choose $M=0.04$ for our bounding function (chosen by trial and\n",
        "error).\n",
        "\n",
        "We define bounding function."
      ],
      "id": "e6fe542f-556b-4292-b3e8-fd61a7556b3b"
    },
    {
      "cell_type": "code",
      "execution_count": null,
      "metadata": {},
      "outputs": [],
      "source": [
        "gM = function(theta) {\n",
        "    0.04 * dnorm(theta, mean = 0.5, sd = 0.25)\n",
        "}"
      ],
      "id": "ab36a99f-ab4a-4680-b650-fe324385aac3"
    },
    {
      "cell_type": "markdown",
      "metadata": {},
      "source": [
        "We compare the target density to the bounding function."
      ],
      "id": "1085b081-6409-42c2-969a-3f65d9e50816"
    },
    {
      "cell_type": "code",
      "execution_count": null,
      "metadata": {},
      "outputs": [],
      "source": [
        "theta = seq(0, 1, len = 1000)\n",
        "plot(theta, qtarget(theta), type = \"l\", xlab = expression(theta),\n",
        "     ylab = expression(q(theta)))\n",
        "lines(theta, gM(theta), col = \"blue\")\n",
        "abline(v = 1/2)"
      ],
      "id": "ac157e7c-cbda-4ebe-8f5a-d2396657e400"
    },
    {
      "cell_type": "markdown",
      "metadata": {},
      "source": [
        "We now implement our rejection sampling algorithm."
      ],
      "id": "6f94313f-0e85-410a-948c-9e13f4b3c5c3"
    },
    {
      "cell_type": "code",
      "execution_count": null,
      "metadata": {},
      "outputs": [],
      "source": [
        "B = 100000\n",
        "mytheta = numeric(B)\n",
        "\n",
        "i = 0 # the samples accepted\n",
        "while (i < B) {\n",
        "  x = rnorm(1, mean = 0.5, sd = 0.25) # sample from g distribution\n",
        "\n",
        "  # accept x with probability q(x)/gM(x)\n",
        "    if (runif(1) <= qtarget(x)/gM(x)) {\n",
        "        i = i + 1\n",
        "        mytheta[i] = x\n",
        "    }\n",
        "}"
      ],
      "id": "9dac9f3b-3033-42db-a171-47a4e9f3146a"
    },
    {
      "cell_type": "markdown",
      "metadata": {},
      "source": [
        "Lastly, we compare our empirical density to the true density."
      ],
      "id": "8ef8f574-b9db-4273-858d-e652c7386519"
    },
    {
      "cell_type": "code",
      "execution_count": null,
      "metadata": {},
      "outputs": [],
      "source": [
        "dmytheta = density(mytheta)\n",
        "dtruth = dbeta(theta, 3, 3)\n",
        "\n",
        "plot(theta, dtruth, col = \"orange\", type = \"l\")\n",
        "lines(dmytheta)\n",
        "legend(\"topleft\", legend = c(\"approximation\", \"truth\"),\n",
        "       col = c(\"black\", \"orange\"), lwd = c(1, 1))"
      ],
      "id": "ab6369c8-d776-4490-9acd-1ac735b105d6"
    },
    {
      "cell_type": "markdown",
      "metadata": {},
      "source": [
        "## Rejection sampling example 4\n",
        "\n",
        "We want to sample from a folded $N(0,1)$ distribution.\n",
        "\n",
        "-   If $y\\sim N(0,1)$, then $|y|$ is a folded $N(0,1)$ distribution.\n",
        "\n",
        "*Target density*\n",
        "\n",
        "$q(\\theta) = \\exp(-\\theta^2/2)I_{[0,\\infty)}(\\theta)$.\n",
        "\n",
        "*Proposal distribution*\n",
        "\n",
        "$G\\sim \\mathrm{Exp}(1)$.\n",
        "\n",
        "How do we choose a bounding constant?\n",
        "\n",
        "The optimal solution is find a single intersecting point between the\n",
        "folded normal and our envelope (at the inflection point of the folded\n",
        "normal), which is at $\\theta = 1$.\n",
        "\n",
        "$\\frac{dq(\\theta)}{d\\theta} = -\\exp(-\\theta^2/2)\\theta$.\n",
        "\n",
        "$\\frac{d^2q(\\theta)}{d\\theta^2} = \\exp(-\\theta^2/2)(\\theta^2-1)$.\n",
        "\n",
        "Setting $g(\\theta)M = q(\\theta)$ and solving for $M$ when $\\theta = 1$\n",
        "results in the solution $M = \\exp(1/2)$.\n",
        "\n",
        "We define the target density."
      ],
      "id": "2d289a30-366c-4ea4-8daa-adca0b65bd74"
    },
    {
      "cell_type": "code",
      "execution_count": null,
      "metadata": {},
      "outputs": [],
      "source": [
        "qtarget = function(theta) {\n",
        "    exp(-theta^2/2)\n",
        "}"
      ],
      "id": "c7a06502-7022-4ff8-b1f3-3443c7ed6715"
    },
    {
      "cell_type": "markdown",
      "metadata": {},
      "source": [
        "We define the bounding function."
      ],
      "id": "e93140e0-3026-45da-966c-61da317fa4cd"
    },
    {
      "cell_type": "code",
      "execution_count": null,
      "metadata": {},
      "outputs": [],
      "source": [
        "gM = function(theta) {\n",
        "    dexp(theta)*exp(1/2)\n",
        "}"
      ],
      "id": "eab1ce46-6225-4f96-8455-ae21cf538df2"
    },
    {
      "cell_type": "markdown",
      "metadata": {},
      "source": [
        "We compare the target density to the bounding function."
      ],
      "id": "7fbe3a38-6b51-4425-93b0-0d0fec5eba15"
    },
    {
      "cell_type": "code",
      "execution_count": null,
      "metadata": {},
      "outputs": [],
      "source": [
        "theta = seq(0, 5, len = 1000)\n",
        "plot(theta, qtarget(theta), ylim = c(0, qtarget(0.001)),\n",
        "     type = \"l\",\n",
        "     ylab = \"qtarget\", xlab = expression(theta))\n",
        "lines(theta, gM(theta), type = \"l\", col = \"blue\")\n",
        "legend(\"topright\", legend = c(\"qtarget\", \"gM\"),\n",
        "       lty = 1, col = c(\"black\", \"blue\"))"
      ],
      "id": "68b8b567-969b-4e68-a0f2-523f399fb531"
    },
    {
      "cell_type": "markdown",
      "metadata": {},
      "source": [
        "We now implement our rejection sampling algorithm."
      ],
      "id": "d48fba14-5883-48d4-adb9-1421726f9159"
    },
    {
      "cell_type": "code",
      "execution_count": null,
      "metadata": {},
      "outputs": [],
      "source": [
        "B = 10000 # number of retained samples desired\n",
        "mytheta = numeric(B) # vector to store samples\n",
        "i = 0 # number of retained samples\n",
        "while (i < B) {\n",
        "    x = rexp(1) # draw a value from proposal distribution\n",
        "    # accept the value with probability based on the importance\n",
        "    # ratio\n",
        "    if (runif(1) <= qtarget(x)/gM(x)) {\n",
        "        i = i + 1 # increment i if sample retained\n",
        "        mytheta[i] = x # store sample\n",
        "    }\n",
        "}"
      ],
      "id": "2d1b6f39-9fa9-4ec3-81ca-d866530458e6"
    },
    {
      "cell_type": "markdown",
      "metadata": {},
      "source": [
        "Lastly, we compare our empirical density to the true density."
      ],
      "id": "01e6c9f0-35ed-4229-a425-b151cc3a45c6"
    },
    {
      "cell_type": "code",
      "execution_count": null,
      "metadata": {},
      "outputs": [],
      "source": [
        "#The true density\n",
        "dens = function(theta) {\n",
        "    sqrt(2/pi)*exp(-theta^2/2)\n",
        "}\n",
        "\n",
        "dmytheta = density(mytheta, from = 0, to = 5, cut = 0)\n",
        "plot(dmytheta, xlab = \"theta\", ylab = \"density\", main = \"\")\n",
        "lines(theta, dens(theta), col = \"blue\")\n",
        "legend(\"topright\", legend = c(\"approximation\", \"truth\"),\n",
        "    lwd = c(1, 1), col = c(\"black\", \"blue\"))"
      ],
      "id": "bf3a0e2f-d1b1-4d3d-af92-5a31f7a65868"
    },
    {
      "cell_type": "markdown",
      "metadata": {},
      "source": [
        "Why didn’t that work properly?\n",
        "\n",
        "Let’s try a different approach."
      ],
      "id": "33ca4ebd-6ad5-4c2a-87af-2f14f21ddb53"
    },
    {
      "cell_type": "code",
      "execution_count": null,
      "metadata": {},
      "outputs": [],
      "source": [
        "# plot with a probability histogram instead to get a better comparison\n",
        "hist(mytheta, freq = FALSE, breaks = 100)\n",
        "lines(theta, dens(theta), col = \"blue\")\n",
        "legend(\"topright\", legend = c(\"approximation\", \"truth\"),\n",
        "    lwd = c(1, 1), col = c(\"black\", \"blue\"))"
      ],
      "id": "b91b8d78-95e8-4619-9d46-7046ff1b2ce7"
    },
    {
      "cell_type": "markdown",
      "metadata": {},
      "source": [
        "## Rejection sampling example 5\n",
        "\n",
        "The last example chose a proposal distribution analytically. We\n",
        "probability wouldn’t do that unless we were forced to. Let’s try\n",
        "something more realistic.\n",
        "\n",
        "*Proposal distribution*\n",
        "\n",
        "$G\\sim \\chi^2_2$ with bounding constant $M=2.4$ (chosen by trial and\n",
        "error).\n",
        "\n",
        "We create the bounding function."
      ],
      "id": "7e625077-9e7e-4c0c-abfb-01f2b7dae3e4"
    },
    {
      "cell_type": "code",
      "execution_count": null,
      "metadata": {},
      "outputs": [],
      "source": [
        "gM = function(theta) {\n",
        "    2.4 * dchisq(theta, df = 2)\n",
        "}"
      ],
      "id": "79d2f3ba-b427-41db-a411-4193bb1745b5"
    },
    {
      "cell_type": "markdown",
      "metadata": {},
      "source": [
        "We compare the target density and bounding function."
      ],
      "id": "5baf668c-a0d7-4882-9e0c-b68f84a190e7"
    },
    {
      "cell_type": "code",
      "execution_count": null,
      "metadata": {},
      "outputs": [],
      "source": [
        "theta = seq(0, 5, len = 1000)\n",
        "plot(theta, gM(theta), type = \"l\", col = \"blue\",\n",
        "     xlab = expression(theta), ylab = \"\", ylim = c(0, 1.25))\n",
        "lines(theta, qtarget(theta))\n",
        "legend(\"topright\", legend = c(\"q\", \"gM\"), lty = 1,\n",
        "       col = c(\"black\", \"blue\"))"
      ],
      "id": "5e2d3057-1021-4f7c-aa84-c93fbd3bdff7"
    },
    {
      "cell_type": "markdown",
      "metadata": {},
      "source": [
        "We implement our rejection sampling algorithm."
      ],
      "id": "07cf0a26-718c-4622-9be0-d8f295a6d1aa"
    },
    {
      "cell_type": "code",
      "execution_count": null,
      "metadata": {},
      "outputs": [],
      "source": [
        "B = 10000\n",
        "mytheta = numeric(B)\n",
        "i = 0\n",
        "while (i < B) {\n",
        "    x = rchisq(1, df = 2)\n",
        "    if (runif(1) <= qtarget(x)/gM(x)) {\n",
        "        i = i + 1\n",
        "        mytheta[i] = x\n",
        "    }\n",
        "}"
      ],
      "id": "d40356e4-33c6-4e14-ae82-476ebec431cc"
    },
    {
      "cell_type": "markdown",
      "metadata": {},
      "source": [
        "Lastly, we compare our empirical density to the true density."
      ],
      "id": "72ee615b-bb6f-415f-9fcf-06e86315ada0"
    },
    {
      "cell_type": "code",
      "execution_count": null,
      "metadata": {},
      "outputs": [],
      "source": [
        "hist(mytheta, freq = FALSE, breaks = 100)\n",
        "lines(theta, dens(theta), col = \"blue\")\n",
        "legend(\"topright\", legend = c(\"approximation\", \"truth\"),\n",
        "       lwd = c(1, 1), col = c(\"black\", \"blue\"))"
      ],
      "id": "fe57e2fa-68ab-4621-bc92-224f9f10082a"
    }
  ],
  "nbformat": 4,
  "nbformat_minor": 5,
  "metadata": {
    "kernelspec": {
      "name": "ir",
      "display_name": "R",
      "language": "R"
    }
  }
}