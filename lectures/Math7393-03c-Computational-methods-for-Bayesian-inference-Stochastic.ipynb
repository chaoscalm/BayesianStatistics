{
  "cells": [
    {
      "cell_type": "markdown",
      "metadata": {},
      "source": [
        "# Computational methods for Bayesian inference\n",
        "\n",
        "Joshua French\n",
        "\n",
        "To open this information in an interactive Colab notebook, click the\n",
        "Open in Colab graphic below.\n",
        "\n",
        "<a href=\"https://colab.research.google.com/github/jfrench/BayesianStatistics/blob/master/lectures/Math7393-03c-Computational-methods-for-Bayesian-inference-Stochastic.ipynb\">\n",
        "<img src=\"https://colab.research.google.com/assets/colab-badge.svg\">\n",
        "</a>\n",
        "\n",
        "------------------------------------------------------------------------\n",
        "\n",
        "# Stochastic methods\n",
        "\n",
        "## Rejection sampling\n",
        "\n",
        "Rejection sampling can be used to draw samples from a target density\n",
        "$p(\\theta \\mid y)$ or its unnormalized version $q(\\theta \\mid y)$.\n",
        "\n",
        "Rejection sampling assumes there exists a *proposal distribution* $G$\n",
        "with density function $g(\\theta)$ such that:\n",
        "\n",
        "-   We can easily draw a realization from $G$, i.e., the distribution\n",
        "    defined by $g(\\theta)$.\n",
        "-   If $p(\\theta = \\theta^{*} \\mid y) > 0$, then\n",
        "    $g(\\theta = \\theta^{*} ) > 0$.\n",
        "-   The *importance ratio* $p(\\theta \\mid y) / g(\\theta)$ must have a\n",
        "    known bound.\n",
        "    -   i.e., there exists $M$ such that for all $\\theta$,\n",
        "        $p(\\theta \\mid y) / g(\\theta) \\leq M$.\n",
        "\n",
        "Rejection sampling draws $B$ samples from $p(\\theta \\mid y)$ using the\n",
        "following algorithm:\n",
        "\n",
        "1.  Sample $\\theta^{*}$ from the distribution defined by $g(\\theta)$.\n",
        "2.  Accept $\\theta^{*}$ as a sample from $p(\\theta \\mid y)$ with\n",
        "    probability\n",
        "\n",
        "$$p(\\theta^{*} \\mid y) / (M g(\\theta^{*} )).$$\n",
        "\n",
        "    -   If $\\theta^{*}$ is accepted, continue to step 3.\n",
        "    -   Otherwise, return to step 1.\n",
        "\n",
        "1.  Return to step 1 until $B$ draws from $g(\\theta)$ have been\n",
        "    accepted.\n",
        "\n",
        "An alternative approach to decide whether we accept the proposed value,\n",
        "$\\theta^{*}$, from $g(\\theta)$ is:\n",
        "\n",
        "-   Draw $u^{*}$ from a $U(0, M g(\\theta^{*} ) )$ distribution.\n",
        "-   Keep $\\theta^{*}$ if $u^{*} \\leq p(\\theta^{*} \\mid y)$.\n",
        "\n",
        "Comments about rejection sampling:\n",
        "\n",
        "-   The unnormalized density, $q(\\theta \\mid y)$, is almost always used\n",
        "    instead of the true density, $p(\\theta \\mid y)$\n",
        "-   $p(\\theta \\mid y) \\leq M g(\\theta \\mid y)$ ensures the acceptance\n",
        "    probability is no larger than 1.\n",
        "-   $M$ should be chosen so that $M g(\\theta \\mid y)$ is as close as\n",
        "    possible to $p(\\theta \\mid y)$.\n",
        "\n",
        "## Rejection sampling example 1\n",
        "\n",
        "-   Suppose the (unnormalized) target density is\n",
        "    $q(\\theta | y) = \\theta(1-\\theta)I_{(0,1)}(\\theta).$\n",
        "-   The $U(0, 1)$ density, i.e., $g(\\theta)=I_{(0,1)}(\\theta)$, bounds\n",
        "    \\$ q(y) \\$.\n",
        "-   $\\text{argmax}_{\\theta}q(\\theta \\mid y) = 0.5$ with \\$ q(0.5 y) =\n",
        "    0.25 \\$.\n",
        "-   Pick $M = 0.25$.\n",
        "\n",
        "Let’s define an unnormalized target density."
      ],
      "id": "1447ff04-34e5-49c1-87ac-39789399dee8"
    },
    {
      "cell_type": "code",
      "execution_count": 1,
      "metadata": {},
      "outputs": [],
      "source": [
        "qtarget = function(theta) {\n",
        "  theta * (1 - theta)\n",
        "}"
      ],
      "id": "fdee6b8a-dc36-410b-83fc-abe03a824764"
    },
    {
      "cell_type": "markdown",
      "metadata": {},
      "source": [
        "Let’s define a bounding function, $g(\\theta)M$."
      ],
      "id": "67a31ad0-507a-4a7e-81da-588a557b07b1"
    },
    {
      "cell_type": "code",
      "execution_count": 2,
      "metadata": {},
      "outputs": [],
      "source": [
        "# define bounding function\n",
        "gM = function(theta) {\n",
        "  rep(.25, length(theta))\n",
        "}"
      ],
      "id": "63451193-7f0d-4351-a1bd-512012013254"
    },
    {
      "cell_type": "markdown",
      "metadata": {},
      "source": [
        "Let’s plot the target density and bounding function."
      ],
      "id": "41efd3fd-0014-47f3-9290-f08a6e490c61"
    },
    {
      "cell_type": "code",
      "execution_count": 3,
      "metadata": {},
      "outputs": [],
      "source": [
        "theta = seq(0, 1, len = 1000)\n",
        "par(mar = c(4, 4, 0.4, 0.4))\n",
        "plot(theta, qtarget(theta), type = \"l\", xlab = expression(theta),\n",
        "     ylab = expression(q(theta*\"|\"*y)))\n",
        "lines(theta, gM(theta), col = \"blue\")"
      ],
      "id": "940eef60-3fc6-479c-bf73-00b192788f99"
    },
    {
      "cell_type": "markdown",
      "metadata": {},
      "source": [
        "Consider drawing a sample from $p(\\theta \\mid y)$:\n",
        "\n",
        "-   We draw a value $\\theta^*$ from the $U(0,1)$ distribution.\n",
        "    -   Suppose this value is $\\theta^*=0.6$.\n",
        "-   We need to decide whether we keep $\\theta^*$.\n",
        "    -   Note that $M g(\\theta)$ evaluated at $0.6$ is\n",
        "        $0.25 \\times 1 = 0.25$.\n",
        "    -   Note that $q(0.6 \\mid y) = 0.6(1-0.6) = 0.24$.\n",
        "-   Draw $u^{*}$ from $U(0, 0.25)$.\n",
        "    -   Let’s say $u^{*} = 0.066$.\n",
        "    -   Since $u^{*}<q(\\theta\\mid y) = 0.24$, we accept it as a sample\n",
        "        from $q(\\theta\\mid y)$.\n",
        "\n",
        "Let’s visualize this."
      ],
      "id": "457ce9a0-b713-4c17-a3d6-9ac852238b6e"
    },
    {
      "cell_type": "code",
      "execution_count": 4,
      "metadata": {},
      "outputs": [
        {
          "output_type": "display_data",
          "metadata": {},
          "data": {
            "image/png": "[encoded data removed]"
          }
        }
      ],
      "source": [],
      "id": "76d414f4-dbd1-4629-9dca-607e33df6d5e"
    },
    {
      "cell_type": "markdown",
      "metadata": {},
      "source": [
        "Consider drawing another sample from $p(\\theta \\mid y)$:\n",
        "\n",
        "-   We draw a value $\\theta^*$ from the $U(0,1)$ distribution.\n",
        "    -   Suppose this value is $\\theta^*=0.185$.\n",
        "-   We draw $u^{*}=0.176$ from\n",
        "    $U(0, Mg(\\theta^*))=U(0, 0.25g(0.185))=U(0, 0.25)$.\n",
        "-   $u^{*}=0.176 > 0.151 = q(\\theta^{*}|y) = q(0.185|y)$, so we reject\n",
        "    the proposed value of $\\theta^{*}$.\n",
        "\n",
        "Let’s visualize this."
      ],
      "id": "6d669366-8e8d-44b2-8715-6aaf3707df0c"
    },
    {
      "cell_type": "code",
      "execution_count": 5,
      "metadata": {},
      "outputs": [
        {
          "output_type": "display_data",
          "metadata": {},
          "data": {
            "image/png": "[encoded data removed]"
          }
        }
      ],
      "source": [],
      "id": "eb954f72-b486-4a76-bee1-e6fcc299ca4b"
    },
    {
      "cell_type": "markdown",
      "metadata": {},
      "source": [
        "Let’s run a rejection sampling algorithim to draw samples from the\n",
        "target distribution. We plot closed circles for each $(\\theta^*, u^*)$\n",
        "that’s accepted and a closed circle for each $(\\theta^*, u^*)$ that’s\n",
        "rejected."
      ],
      "id": "aada34a8-8952-42ea-8844-4bca186ff3d2"
    },
    {
      "cell_type": "code",
      "execution_count": 6,
      "metadata": {},
      "outputs": [],
      "source": [
        "# plot target density and bounding function\n",
        "theta = seq(0, 1, len = 1000)\n",
        "plot(theta, qtarget(theta), type = \"l\", xlab = expression(theta),\n",
        "     ylab = expression(q(theta*\"|\"*y)))\n",
        "lines(theta, gM(theta), col = \"blue\")\n",
        "# plot some earlier results\n",
        "thetastar1 = 0.6\n",
        "thetastar2 = 0.185\n",
        "u1 = 0.066\n",
        "u2 = 0.176\n",
        "accept1 = TRUE\n",
        "accept2 = FALSE\n",
        "points(thetastar1, u1, pch = ifelse(accept1, 20, 1))\n",
        "points(thetastar2, u2, pch = ifelse(accept2, 20, 1))\n",
        "for(i in 1:98) {\n",
        "  thetastar = runif(1)\n",
        "  u = runif(1, 0, gM(thetastar))\n",
        "  accept = (u <= qtarget(thetastar))\n",
        "  points(thetastar, u, pch = ifelse(accept, 20, 1))\n",
        "}\n",
        "title(\"Accepted (black dot) vs Rejected (open circle) comparison\")"
      ],
      "id": "a5a885c1-705c-40ec-9019-0e3b98744b3e"
    },
    {
      "cell_type": "markdown",
      "metadata": {},
      "source": [
        "## Rejection sampling example 2\n",
        "\n",
        "We illustrate rejection sampling by drawing from an unnormalized Beta(3,\n",
        "3).\n",
        "\n",
        "We will compare our rejection sampling results with the truth.\n",
        "\n",
        "*Target density*\n",
        "\n",
        "$p(\\theta | y) \\propto \\theta^2 (1 - \\theta)^2 = q(\\theta).$\n",
        "\n",
        "*Proposal distribution*\n",
        "\n",
        "Since $q(\\theta)$ has finite support, our proposal distribution can be\n",
        "$G\\sim U(0,1)$.\n",
        "\n",
        "We simply need to choose an appropriate bounding constant $M$ for our\n",
        "bounding function.\n",
        "\n",
        "Taking the derivative of $q(\\theta)$ with respect to $\\theta$, we can\n",
        "determine that the function has a maximum at $\\theta = 1/2$.\n",
        "\n",
        "The maximum is $q(1/2) = 0.0625$.\n",
        "\n",
        "Thus, $q(\\theta) <= g(\\theta)M$ with $M = 0.0625$.\n",
        "\n",
        "We define the unnormalized target density."
      ],
      "id": "1bdc0e7c-ee6e-4243-9a8e-ecfdb566432b"
    },
    {
      "cell_type": "code",
      "execution_count": 7,
      "metadata": {},
      "outputs": [],
      "source": [
        "qtarget = function(theta) {\n",
        "    theta^2*(1 - theta)^2\n",
        "}"
      ],
      "id": "73930627-41ff-45c7-adf3-5c4fd14a470b"
    },
    {
      "cell_type": "markdown",
      "metadata": {},
      "source": [
        "We define the bounding function."
      ],
      "id": "50eb20d4-7f72-42a4-8ade-b587ddc2b8c8"
    },
    {
      "cell_type": "code",
      "execution_count": 8,
      "metadata": {},
      "outputs": [],
      "source": [
        "gM = function(theta) {\n",
        "    rep(.0625, length(theta))\n",
        "}"
      ],
      "id": "1f3f511a-3a7e-453f-99a0-c4e53f47ca62"
    },
    {
      "cell_type": "markdown",
      "metadata": {},
      "source": [
        "We compare the target density and bounding function."
      ],
      "id": "23158a85-1929-4f1c-836d-5ef4597e89eb"
    },
    {
      "cell_type": "code",
      "execution_count": 9,
      "metadata": {},
      "outputs": [],
      "source": [
        "theta = seq(0, 1, len = 1000)\n",
        "plot(theta, qtarget(theta), type = \"l\", xlab = expression(theta),\n",
        "     ylab = expression(q(theta)))\n",
        "lines(theta, gM(theta), col = \"blue\")\n",
        "abline(v = 1/2)"
      ],
      "id": "ba2e6e28-2ea6-4eea-b31e-a20609576bff"
    },
    {
      "cell_type": "markdown",
      "metadata": {},
      "source": [
        "We now implement our rejection sampling algorithm."
      ],
      "id": "5d9f0aea-6dd7-4189-95b8-bed72ba99828"
    },
    {
      "cell_type": "code",
      "execution_count": 10,
      "metadata": {},
      "outputs": [],
      "source": [
        "B = 1000 # number of samples to keep\n",
        "mytheta = numeric(B) # vector to store kept samples\n",
        "\n",
        "i = 0 # the samples accepted\n",
        "while (i < B) {\n",
        "  x = runif(1) # sample from g distribution\n",
        "\n",
        "  # accept x with probability q(x)/gM(x)\n",
        "    if (runif(1) <= qtarget(x)/gM(x)) {\n",
        "        i = i + 1\n",
        "        mytheta[i] = x\n",
        "    }\n",
        "}"
      ],
      "id": "d0bb9b7f-54ba-4511-bf82-d71c1e7b20c7"
    },
    {
      "cell_type": "markdown",
      "metadata": {},
      "source": [
        "Lastly, we compare our empirical density to the true density."
      ],
      "id": "0c7d3608-dd0e-48b1-b7d1-99f285c869c8"
    },
    {
      "cell_type": "code",
      "execution_count": 11,
      "metadata": {},
      "outputs": [],
      "source": [
        "dmytheta = density(mytheta)\n",
        "dtruth = dbeta(theta, 3, 3)\n",
        "\n",
        "plot(dmytheta, xlab = expression(theta), ylab = \"density\", main = \"\")\n",
        "lines(theta, dtruth, col = \"orange\")\n",
        "legend(\"topleft\", legend = c(\"approximation\", \"truth\"),\n",
        "       col = c(\"black\", \"orange\"), lwd = c(1, 1))"
      ],
      "id": "d4242691-c382-456f-808b-ef789149c42f"
    },
    {
      "cell_type": "markdown",
      "metadata": {},
      "source": [
        "## Rejection sampling example 3\n",
        "\n",
        "We repeat the previous example with a more efficient proposal\n",
        "distribution.\n",
        "\n",
        "Since we know that our target density is symmetric around 0.5, we choose\n",
        "to bound it by a normal distribution centered around 0.5.\n",
        "\n",
        "*Proposal distribution*\n",
        "\n",
        "$G\\sim N(0.5, 0.25^2)$.\n",
        "\n",
        "We choose $M=0.04$ for our bounding function (chosen by trial and\n",
        "error).\n",
        "\n",
        "We define bounding function."
      ],
      "id": "a36990ea-bd97-40a1-9475-1dcda1c264d4"
    },
    {
      "cell_type": "code",
      "execution_count": 12,
      "metadata": {},
      "outputs": [],
      "source": [
        "gM = function(theta) {\n",
        "    0.04 * dnorm(theta, mean = 0.5, sd = 0.25)\n",
        "}"
      ],
      "id": "fa9f5682-3f12-46ea-81b8-750407e148f8"
    },
    {
      "cell_type": "markdown",
      "metadata": {},
      "source": [
        "We compare the target density to the bounding function."
      ],
      "id": "6f110afc-859b-4b26-92f7-0be5d087d8a7"
    },
    {
      "cell_type": "code",
      "execution_count": 13,
      "metadata": {},
      "outputs": [],
      "source": [
        "theta = seq(0, 1, len = 1000)\n",
        "plot(theta, qtarget(theta), type = \"l\", xlab = expression(theta),\n",
        "     ylab = expression(q(theta)))\n",
        "lines(theta, gM(theta), col = \"blue\")\n",
        "abline(v = 1/2)"
      ],
      "id": "dfbf6afc-7ab5-4d51-8261-1bb34e39bc77"
    },
    {
      "cell_type": "markdown",
      "metadata": {},
      "source": [
        "We now implement our rejection sampling algorithm."
      ],
      "id": "07e73bb6-ef23-4e4c-bbec-0706c600cf9e"
    },
    {
      "cell_type": "code",
      "execution_count": 14,
      "metadata": {},
      "outputs": [],
      "source": [
        "B = 100000\n",
        "mytheta = numeric(B)\n",
        "\n",
        "i = 0 # the samples accepted\n",
        "while (i < B) {\n",
        "  x = rnorm(1, mean = 0.5, sd = 0.25) # sample from g distribution\n",
        "\n",
        "  # accept x with probability q(x)/gM(x)\n",
        "    if (runif(1) <= qtarget(x)/gM(x)) {\n",
        "        i = i + 1\n",
        "        mytheta[i] = x\n",
        "    }\n",
        "}"
      ],
      "id": "b51d2aa2-da7e-4b28-a8e7-6d5c9f8e12ff"
    },
    {
      "cell_type": "markdown",
      "metadata": {},
      "source": [
        "Lastly, we compare our empirical density to the true density."
      ],
      "id": "429caa33-9464-4691-9dba-ef5289d0f630"
    },
    {
      "cell_type": "code",
      "execution_count": 15,
      "metadata": {},
      "outputs": [],
      "source": [
        "dmytheta = density(mytheta)\n",
        "dtruth = dbeta(theta, 3, 3)\n",
        "\n",
        "plot(theta, dtruth, col = \"orange\", type = \"l\")\n",
        "lines(dmytheta)\n",
        "legend(\"topleft\", legend = c(\"approximation\", \"truth\"),\n",
        "       col = c(\"black\", \"orange\"), lwd = c(1, 1))"
      ],
      "id": "5dca4faa-9302-4e84-8c2f-c221056b0437"
    },
    {
      "cell_type": "markdown",
      "metadata": {},
      "source": [
        "## Rejection sampling example 4\n",
        "\n",
        "We want to sample from a folded $N(0,1)$ distribution.\n",
        "\n",
        "-   If $y\\sim N(0,1)$, then $|y|$ is a folded $N(0,1)$ distribution.\n",
        "\n",
        "*Target density*\n",
        "\n",
        "$q(\\theta) = \\exp(-\\theta^2/2)I_{[0,\\infty)}(\\theta)$.\n",
        "\n",
        "*Proposal distribution*\n",
        "\n",
        "$G\\sim \\mathrm{Exp}(1)$.\n",
        "\n",
        "How do we choose a bounding constant?\n",
        "\n",
        "The optimal solution is find a single intersecting point between the\n",
        "folded normal and our envelope (at the inflection point of the folded\n",
        "normal), which is at $\\theta = 1$.\n",
        "\n",
        "$\\frac{dq(\\theta)}{d\\theta} = -\\exp(-\\theta^2/2)\\theta$.\n",
        "\n",
        "$\\frac{d^2q(\\theta)}{d\\theta^2} = \\exp(-\\theta^2/2)(\\theta^2-1)$.\n",
        "\n",
        "Setting $g(\\theta)M = q(\\theta)$ and solving for $M$ when $\\theta = 1$\n",
        "results in the solution $M = \\exp(1/2)$.\n",
        "\n",
        "We define the target density."
      ],
      "id": "11845ad5-d7e4-4759-a465-4f371e6cf9a6"
    },
    {
      "cell_type": "code",
      "execution_count": 16,
      "metadata": {},
      "outputs": [],
      "source": [
        "qtarget = function(theta) {\n",
        "    exp(-theta^2/2)\n",
        "}"
      ],
      "id": "721dfda7-52ea-4d62-b02c-5a2ed8619f27"
    },
    {
      "cell_type": "markdown",
      "metadata": {},
      "source": [
        "We define the bounding function."
      ],
      "id": "219e36bd-fc56-4542-a172-f5a7c0cd7775"
    },
    {
      "cell_type": "code",
      "execution_count": 17,
      "metadata": {},
      "outputs": [],
      "source": [
        "gM = function(theta) {\n",
        "    dexp(theta)*exp(1/2)\n",
        "}"
      ],
      "id": "1b838305-e878-4a06-9563-345af82dfbda"
    },
    {
      "cell_type": "markdown",
      "metadata": {},
      "source": [
        "We compare the target density to the bounding function."
      ],
      "id": "9f4d79a8-c1ce-451c-bb98-12a51b090f77"
    },
    {
      "cell_type": "code",
      "execution_count": 18,
      "metadata": {},
      "outputs": [],
      "source": [
        "theta = seq(0, 5, len = 1000)\n",
        "plot(theta, qtarget(theta), ylim = c(0, qtarget(0.001)),\n",
        "     type = \"l\",\n",
        "     ylab = \"qtarget\", xlab = expression(theta))\n",
        "lines(theta, gM(theta), type = \"l\", col = \"blue\")\n",
        "legend(\"topright\", legend = c(\"qtarget\", \"gM\"),\n",
        "       lty = 1, col = c(\"black\", \"blue\"))"
      ],
      "id": "1920c592-1f93-4a54-87b2-c935f2abad20"
    },
    {
      "cell_type": "markdown",
      "metadata": {},
      "source": [
        "We now implement our rejection sampling algorithm."
      ],
      "id": "b99b4b2e-7711-433d-850c-8ad65a49f435"
    },
    {
      "cell_type": "code",
      "execution_count": 19,
      "metadata": {},
      "outputs": [],
      "source": [
        "B = 10000 # number of retained samples desired\n",
        "mytheta = numeric(B) # vector to store samples\n",
        "i = 0 # number of retained samples\n",
        "while (i < B) {\n",
        "    x = rexp(1) # draw a value from proposal distribution\n",
        "    # accept the value with probability based on the importance\n",
        "    # ratio\n",
        "    if (runif(1) <= qtarget(x)/gM(x)) {\n",
        "        i = i + 1 # increment i if sample retained\n",
        "        mytheta[i] = x # store sample\n",
        "    }\n",
        "}"
      ],
      "id": "34f0953c-18ac-4147-80cc-400ac0acf0cd"
    },
    {
      "cell_type": "markdown",
      "metadata": {},
      "source": [
        "Lastly, we compare our empirical density to the true density."
      ],
      "id": "4a4733aa-bc97-4937-960c-8c8b2d5e896e"
    },
    {
      "cell_type": "code",
      "execution_count": 20,
      "metadata": {},
      "outputs": [],
      "source": [
        "#The true density\n",
        "dens = function(theta) {\n",
        "    sqrt(2/pi)*exp(-theta^2/2)\n",
        "}\n",
        "\n",
        "dmytheta = density(mytheta, from = 0, to = 5, cut = 0)\n",
        "plot(dmytheta, xlab = \"theta\", ylab = \"density\", main = \"\")\n",
        "lines(theta, dens(theta), col = \"blue\")\n",
        "legend(\"topright\", legend = c(\"approximation\", \"truth\"),\n",
        "    lwd = c(1, 1), col = c(\"black\", \"blue\"))"
      ],
      "id": "109d8764-1a17-432c-9a92-1ea858758888"
    },
    {
      "cell_type": "markdown",
      "metadata": {},
      "source": [
        "Why didn’t that work properly?\n",
        "\n",
        "Let’s try a different approach."
      ],
      "id": "9ae3c26e-37ae-46ac-b046-a989f9e1f8a2"
    },
    {
      "cell_type": "code",
      "execution_count": 21,
      "metadata": {},
      "outputs": [],
      "source": [
        "# plot with a probability histogram instead to get a better comparison\n",
        "hist(mytheta, freq = FALSE, breaks = 100)\n",
        "lines(theta, dens(theta), col = \"blue\")\n",
        "legend(\"topright\", legend = c(\"approximation\", \"truth\"),\n",
        "    lwd = c(1, 1), col = c(\"black\", \"blue\"))"
      ],
      "id": "9383f827-6e8e-4bb0-8cf5-215376fe31d0"
    },
    {
      "cell_type": "markdown",
      "metadata": {},
      "source": [
        "## Rejection sampling example 5\n",
        "\n",
        "The last example chose a proposal distribution analytically. We\n",
        "probability wouldn’t do that unless we were forced to. Let’s try\n",
        "something more realistic.\n",
        "\n",
        "*Proposal distribution*\n",
        "\n",
        "$G\\sim \\chi^2_2$ with bounding constant $M=2.4$ (chosen by trial and\n",
        "error).\n",
        "\n",
        "We create the bounding function."
      ],
      "id": "0aa31977-8301-449c-9e35-ef0027e73d51"
    },
    {
      "cell_type": "code",
      "execution_count": 22,
      "metadata": {},
      "outputs": [],
      "source": [
        "gM = function(theta) {\n",
        "    2.4 * dchisq(theta, df = 2)\n",
        "}"
      ],
      "id": "e0279d44-360d-43c4-9f02-1193b4117f22"
    },
    {
      "cell_type": "markdown",
      "metadata": {},
      "source": [
        "We compare the target density and bounding function."
      ],
      "id": "c494f902-6157-4082-8c36-b54b4d86b4ee"
    },
    {
      "cell_type": "code",
      "execution_count": 23,
      "metadata": {},
      "outputs": [],
      "source": [
        "theta = seq(0, 5, len = 1000)\n",
        "plot(theta, gM(theta), type = \"l\", col = \"blue\",\n",
        "     xlab = expression(theta), ylab = \"\", ylim = c(0, 1.25))\n",
        "lines(theta, qtarget(theta))\n",
        "legend(\"topright\", legend = c(\"q\", \"gM\"), lty = 1,\n",
        "       col = c(\"black\", \"blue\"))"
      ],
      "id": "4c2ea29d-193d-44a3-812c-2b545102cf7a"
    },
    {
      "cell_type": "markdown",
      "metadata": {},
      "source": [
        "We implement our rejection sampling algorithm."
      ],
      "id": "9f738f0a-e5e0-482b-afa6-a924b0dce69f"
    },
    {
      "cell_type": "code",
      "execution_count": 24,
      "metadata": {},
      "outputs": [],
      "source": [
        "B = 10000\n",
        "mytheta = numeric(B)\n",
        "i = 0\n",
        "while (i < B) {\n",
        "    x = rchisq(1, df = 2)\n",
        "    if (runif(1) <= qtarget(x)/gM(x)) {\n",
        "        i = i + 1\n",
        "        mytheta[i] = x\n",
        "    }\n",
        "}"
      ],
      "id": "42d44a69-563e-4c5b-8c1d-6e0808bf6e05"
    },
    {
      "cell_type": "markdown",
      "metadata": {},
      "source": [
        "Lastly, we compare our empirical density to the true density."
      ],
      "id": "2e735c70-891f-42e0-a292-8d9fc043041e"
    },
    {
      "cell_type": "code",
      "execution_count": 25,
      "metadata": {},
      "outputs": [],
      "source": [
        "hist(mytheta, freq = FALSE, breaks = 100)\n",
        "lines(theta, dens(theta), col = \"blue\")\n",
        "legend(\"topright\", legend = c(\"approximation\", \"truth\"),\n",
        "       lwd = c(1, 1), col = c(\"black\", \"blue\"))"
      ],
      "id": "4e3963ef-3ada-4ea0-b559-a4ee9d31a611"
    }
  ],
  "nbformat": 4,
  "nbformat_minor": 5,
  "metadata": {
    "kernelspec": {
      "name": "ir",
      "display_name": "R",
      "language": "R"
    },
    "language_info": {
      "name": "R",
      "codemirror_mode": "r",
      "file_extension": ".r",
      "mimetype": "text/x-r-source",
      "pygments_lexer": "r",
      "version": "4.2.2"
    }
  }
}