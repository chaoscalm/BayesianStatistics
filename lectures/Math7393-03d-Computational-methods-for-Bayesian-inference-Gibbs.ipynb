{
  "cells": [
    {
      "cell_type": "markdown",
      "metadata": {},
      "source": [
        "# Computational methods for Bayesian inference\n",
        "\n",
        "Joshua French\n",
        "\n",
        "To open this information in an interactive Colab notebook, click the Open in Colab graphic below.\n",
        "\n",
        "<a href=\"https://colab.research.google.com/github/jfrench/BayesianStatistics/blob/master/lectures/Math7393-03d-Computational-methods-for-Bayesian-inference-Gibbs.ipynb\"> <img src=\"https://colab.research.google.com/assets/colab-badge.svg\"> </a>\n",
        "\n",
        "We will need certain packages to be available for this notebook. The code below will check if they are installed and install them if necessary."
      ],
      "id": "34d95e32-8399-460c-b59c-00bc7c2cd17a"
    },
    {
      "cell_type": "code",
      "execution_count": 1,
      "metadata": {},
      "outputs": [],
      "source": [
        "# see if remotes package is available\n",
        "if (!require(\"remotes\", quietly = TRUE)) {\n",
        "  # if not, then install package\n",
        "  install.packages(\n",
        "    \"remotes\",\n",
        "    repos = \"https://cran.rstudio.com/\"\n",
        "    )\n",
        "}"
      ],
      "id": "90922327-f3f5-4c9d-81c4-ec9cd1109476"
    },
    {
      "cell_type": "code",
      "execution_count": 2,
      "metadata": {},
      "outputs": [],
      "source": [
        "# see if bayesutils package is available\n",
        "if (!require(\"bayesutils\", quietly = TRUE)) {\n",
        "  # if not, then install package\n",
        "  remotes::install_github(\"jfrench/bayesutils\")\n",
        "  library(bayesutils)\n",
        "}"
      ],
      "id": "ed453132-8802-4b1f-abda-11611fbc7d98"
    },
    {
      "cell_type": "code",
      "execution_count": 3,
      "metadata": {},
      "outputs": [],
      "source": [
        "# see if autoimage package is available\n",
        "if (!require(\"autoimage\", quietly = TRUE)) {\n",
        "  # if not, then install package\n",
        "  install.packages(\"autoimage\")\n",
        "  library(autoimage,\n",
        "          repos = \"https://cran.rstudio.com/\",\n",
        "          quietly = TRUE)\n",
        "}"
      ],
      "id": "608cbb45-5508-446a-bc43-8f4ba43455ef"
    },
    {
      "cell_type": "markdown",
      "metadata": {},
      "source": [
        "# Introduction to MCMC Methods\n",
        "\n",
        "-   A *stochastic process* is a family of random variables $\\{\\theta^{(t)}\\}_{t\\in T}$, where $T$ is a subset of $[0, \\infty)$.\n",
        "    -   $\\theta^{(t)}$ denotes the stochastic process at time $t$.\n",
        "    -   The value $\\theta^{(t)}$ takes at time $t$ is known as the *state* of the process at time $t$.\n",
        "    -   We only consider discrete-time stochastic processes with $T=\\{0,1,2,…\\}$.\n",
        "-   The *state space* of a stochastic process is the set of all possible values the process takes.\n",
        "-   A *Markov chain* is a stochastic process $\\{\\theta^{(0)}, \\theta^{(1)}, \\ldots, \\theta^{(B)}\\}$ such that $$p(\\theta^{(t+1)} | \\theta^{(t)}, \\theta^{(t-1)}, \\ldots, \\theta^{(0)}) = p(\\theta^{(t+1)} | \\theta^{(t)}).$$\n",
        "    -   $p(\\theta^{(t+1)} | \\theta^{(t)})$ is often called the *transition distribution*.\n",
        "-   Markov chain Monte Carlo (MCMC) methods attempt to draw samples from a target distribution when sampling directly from the target distribution is impossible or computationally expensive.\n",
        "    -   The samples form a Markov chain.\n",
        "-   MCMC methods are constructed so that the (limiting) distribution of the Markov chain converges to the target distribution.\n",
        "    -   The distribution producing the samples at each step of the Markov chain becomes more like the target distribution at each step of the chain.\n",
        "-   A Markov chain converges to a *stationary distribution* when the Markov chain is irreducible, aperiodic, and positive recurrent.\n",
        "    -   In layman’s terms, for any state $i$ and $j$, we can travel from $i$ to $j$ in a finite number of steps with probability 1, and then we will travel back to $i$, but not in a specific pattern or number of steps.\n",
        "    -   This ensures that we adequately explore the entire support of our target distribution\n",
        "\n",
        "An effective MCMC method has two main properties:\n",
        "\n",
        "1.  It must be easy to draw from the $p(\\theta^{(t+1)}|\\theta^{(t)})$.\n",
        "2.  The stationary distribution of the Markov chain must match our target distribution.\n",
        "\n",
        "To construct a Markov chain using an MCMC algorithm:\n",
        "\n",
        "-   Specify an initial value, $\\theta^{(0)}$, for the chain.\n",
        "    -   Often this is a “likely” value of $\\theta$.\n",
        "-   For $t = 1,2, \\ldots, B$, draw samples from $p(\\theta^{(t+1)}|\\theta^{(t)})$ until $B$ is large enough that the stationary distribution is reached.\n",
        "-   After the chain has been implemented, check the convergence of the simulated sequence (or at least verify that there isn’t clear evidence that the chain hasn’t converged).\n",
        "    -   This is VERY important.\n",
        "\n",
        "Concluding thoughts:\n",
        "\n",
        "-   The *Gibbs* and *Metropolis-Hastings* algorithms are the most well-known MCMC algorithms.\n",
        "    -   They are designed so that the stationary distribution matches the target distribution.\n",
        "-   MCMC methods are most popularly used in Bayesian statistics.\n",
        "    -   In Bayesian statistics, the target distribution is generally the posterior distribution, $p(\\theta | y)$.\n",
        "\n",
        "# Gibbs sampling\n",
        "\n",
        "-   The *Gibbs sampling* algorithm (or *Gibbs sampler*) is the most popular Markov chain Monte Carlo (MCMC) method.\n",
        "-   The goal of the Gibbs sampler is to draw samples from a target distribution.\n",
        "-   The Gibbs sampling algorithm produces samples from the target distribution by successively drawing samples from the full conditional distributions of the target distribution.\n",
        "    -   The *full conditional distribution* of a random vector is the distribution of the random vector conditional on all the other random variables in the joint (i.e., target) distribution.\n",
        "\n",
        "Some notation and terminology:\n",
        "\n",
        "-   Let $\\theta$ be the vector of random variables comprising all variables of the target distribution, $p(\\theta | y)$.\n",
        "-   Partition $\\theta$ into $d$ components, i.e., $\\theta = (\\theta_1, \\theta_2, \\ldots, \\theta_d)$.\n",
        "    -   Each component could be a (single) random variable or a random vector.\n",
        "-   $\\theta_{-j}$ denotes the vector containing all components in $\\theta$ except $\\theta_j$, i.e., $$\\theta_{-j} = (\\theta_1, \\theta_2, \\ldots, \\theta_{j-1}, \\theta_{j+1}, \\ldots, \\theta_d).$$\n",
        "-   The *full conditional distribution* of $\\theta_j$, denoted $p(\\theta_j | \\theta_{-j}, y)$, is the distribution of component $\\theta_j$ conditional on knowing the value of all other components, $\\theta_{-j}$, and the data, $y$.\n",
        "-   After we have drawn samples from the full conditional distribution of each component (i.e., drawn samples from $p(\\theta_{j} | \\theta_{-j}^{(t-1)}, y)$ for $j=1,2,\\ldots,d$) we have completed a *cycle*.\n",
        "\n",
        "More notation:\n",
        "\n",
        "-   $\\theta_j^{(t)}$ denotes the sampled value of $\\theta_j$ in cycle $t$ and $\\theta^{(t)}$ the vector of all values sampled in cycle $t$.\n",
        "-   $\\theta_{-j}^{(t-1)}$ denotes the most current value of all $d$ components of $\\theta$ **except** $\\theta_j$, i.e., $$\\theta_{-j}^{(t-1)} = (\\theta_1^{(t)}, \\theta_2^{(t)}, \\ldots, \\theta_{j-1}^{(t)}, \\theta_{j+1}^{(t-1)}, \\ldots, \\theta_{d}^{(t-1)}).$$\n",
        "-   $p(\\theta_j | \\theta_{-j}^{(t-1)}, y)$ denotes the full conditional distribution of $\\theta_j$ conditional on $\\theta_{-j}$ being fixed at $\\theta_{-j}^{(t-1)}$ and the data being fixed at $y$.\n",
        "\n",
        "The basic Gibbs sampling algorithm is:\n",
        "\n",
        "1.  Choose starting values for all of your components, i.e., $\\theta^{(0)} = (\\theta^{(0)}_1, \\theta^{(0)}_2, \\ldots, \\theta^{(0)}_d)$.\n",
        "2.  Set $t = 1$.\n",
        "3.  Draw $\\theta_j^{(t)}$ from the full conditional distribution $p(\\theta_j | \\theta_{-j}^{(t-1)}, y)$ for $j = 1, 2, \\ldots, d$.\n",
        "4.  Increment $t$.\n",
        "5.  Repeat steps 3 and 4 until convergence.\n",
        "\n",
        "# Example: Gibbs sampler (bivariate normal)\n",
        "\n",
        "This example appears in Bayesian Data Analysis, 3rd edition, by Gelman et al. (2013).\n",
        "\n",
        "*Data distribution*\n",
        "\n",
        "$y | \\theta \\sim N(\\theta, \\Sigma)$ is a bivariate normal distribution with unknown mean $\\theta = (\\theta_1, \\theta_2)$ and known covariance matrix\n",
        "\n",
        "$$\n",
        "\\Sigma =\n",
        "\\begin{bmatrix}\n",
        " 1 & \\rho \\\\\n",
        "\\rho & 1\n",
        "\\end{bmatrix}.\n",
        "$$\n",
        "\n",
        "*Prior distribution*\n",
        "\n",
        "The prior for $\\theta$ is an improper uniform over the real line, i.e., $p(\\theta_1,\\theta_2)\\propto1$.\n",
        "\n",
        "(Why? Because it makes the example easier!)\n",
        "\n",
        "*Posterior distribution*\n",
        "\n",
        "Assuming we observe a single observation $y=(y_1,y_2)$, $$\\theta | y \\sim N(y, \\Sigma).$$\n",
        "\n",
        "Let’s derive the full conditional distributions for $\\theta_1$ and $\\theta_2$.\n",
        "\n",
        "<br>  \n",
        "<br>  \n",
        "<br>  \n",
        "<br>  \n",
        "<br>  \n",
        "<br>  \n",
        "<br>  \n",
        "<br>  \n",
        "<br>  \n",
        "<br>  \n",
        "<br>  \n",
        "<br>  \n",
        "<br>  \n",
        "<br>  \n",
        "<br>  \n",
        "<br>\n",
        "\n",
        "*Full conditional distributions*\n",
        "\n",
        "$\\theta_1 | \\theta_2, y \\sim N(y_1 + \\rho(\\theta_2-y_2),1-\\rho^2)$\n",
        "\n",
        "$\\theta_2 | \\theta_1, y \\sim N(y_2 + \\rho(\\theta_1-y_1), 1-\\rho^2)$\n",
        "\n",
        "Let’s sample from the posterior distribution using a Gibbs sampler assuming $y=(0,0)$ and $\\rho=0.8$.\n",
        "\n",
        "First, we set some of the needed parameters."
      ],
      "id": "752ada59-063b-4e42-83b1-fdade429a43e"
    },
    {
      "cell_type": "code",
      "execution_count": 4,
      "metadata": {},
      "outputs": [],
      "source": [
        "# set parameters\n",
        "rho = .8\n",
        "sigma = sqrt(1 - rho^2)\n",
        "#observed data\n",
        "y1 = 0\n",
        "y2 = 0"
      ],
      "id": "78327143-b5ba-46dc-aed8-e62bbcb0ee71"
    },
    {
      "cell_type": "markdown",
      "metadata": {},
      "source": [
        "Let’s create a function, `gibbs`, to do the sampling. The function takes:\n",
        "\n",
        "-   `B`: the number of cycles to run.\n",
        "-   `theta`: the vector of initial values."
      ],
      "id": "1605026c-4a37-46bb-a32a-5b9692c92618"
    },
    {
      "cell_type": "code",
      "execution_count": 5,
      "metadata": {},
      "outputs": [],
      "source": [
        "gibbs = function(B, theta) {\n",
        "  #create matrix to store samples\n",
        "  theta_sims = matrix(0, nrow = B + 1, ncol = 2)\n",
        "  theta_sims[1,] = theta\n",
        "  # run gibbs sampler for B cycles\n",
        "  for (i in 2:(B+1)) {\n",
        "    # determine full conditional mean for theta1\n",
        "    m1 = y1 + rho * (theta[2] - y2)\n",
        "    # simulate from full conditional distribution for theta1\n",
        "    theta[1] = rnorm(1, m1, sigma)\n",
        "    # determine full conditional mean for theta2\n",
        "    m2 = y2 + rho * (theta[1] - y1)\n",
        "    # simulate from full conditional distribution for theta1\n",
        "    theta[2] = rnorm(1, m2, sigma)\n",
        "    # save sample\n",
        "    theta_sims[i, ] = theta\n",
        "  }\n",
        "  return(theta_sims)\n",
        "}"
      ],
      "id": "74eb946e-ae7a-4a70-8927-e953a9b4b485"
    },
    {
      "cell_type": "markdown",
      "metadata": {},
      "source": [
        "Let’s run an initial chain of 1000 cycles with a starting value $\\theta=(-2.5, -2.5)$."
      ],
      "id": "ffc45421-53ef-45d9-8692-9a3b0c9779ca"
    },
    {
      "cell_type": "code",
      "execution_count": 6,
      "metadata": {},
      "outputs": [],
      "source": [
        "# run initial chain\n",
        "chain1 = gibbs(B = 1000, theta = c(-2.5, -2.5))"
      ],
      "id": "cadafb9e-5e1b-45d4-be6a-c2338932c331"
    },
    {
      "cell_type": "markdown",
      "metadata": {},
      "source": [
        "Let’s draw a “sand” plot of our first chain."
      ],
      "id": "cdaafa20-9faf-4dd4-aff5-c97cd41a3679"
    },
    {
      "cell_type": "code",
      "execution_count": 7,
      "metadata": {},
      "outputs": [],
      "source": [
        "plot(chain1, pch = \".\",\n",
        "     xlab = expression(theta[1]),\n",
        "     ylab = expression(theta[2]))\n",
        "title(\"Samples from Gibbs sampler\")"
      ],
      "id": "24ef54bb-4726-4ae8-8282-05b1dc026c18"
    },
    {
      "cell_type": "markdown",
      "metadata": {},
      "source": [
        "We now run 3 more chains with different starting values."
      ],
      "id": "179b8f65-3cad-43a7-aeb2-740ea76c63bd"
    },
    {
      "cell_type": "code",
      "execution_count": 8,
      "metadata": {},
      "outputs": [],
      "source": [
        "chain2 = gibbs(B = 1000, c(-2.5, 2.5))\n",
        "chain3 = gibbs(B = 1000, c(2.5, -2.5))\n",
        "chain4 = gibbs(B = 1000, c(2.5, 2.5))"
      ],
      "id": "2f83d3d6-1f95-4c47-b82a-87c73bc1e074"
    },
    {
      "cell_type": "markdown",
      "metadata": {},
      "source": [
        "We now plot the samples from all 4 chains in one graphic."
      ],
      "id": "89de8d65-7da2-44e1-bf85-08d7b447d145"
    },
    {
      "cell_type": "code",
      "execution_count": 9,
      "metadata": {},
      "outputs": [],
      "source": [
        "# chain 1\n",
        "plot(chain1, pch = \".\",\n",
        "     xlab = expression(theta[1]),\n",
        "     ylab = expression(theta[2]))\n",
        "# chains 2-4\n",
        "points(chain2, pch = \".\", col = \"orange\")\n",
        "points(chain3, pch = \".\", col = \"blue\")\n",
        "points(chain4, pch = \".\", col = \"grey\")\n",
        "# add legend\n",
        "legend(\"topleft\", pch = 20,\n",
        "       col = c(\"black\", \"orange\", \"blue\", \"grey\"),\n",
        "       legend = c(\"Chain 1\", \"Chain 2\", \"Chain 3\", \"Chain 4\"))\n",
        "title(\"Samples from Gibbs sampler\")"
      ],
      "id": "7f27bbbd-74c8-44cb-be81-49937817f1f4"
    },
    {
      "cell_type": "markdown",
      "metadata": {},
      "source": [
        "We now plot the first 10 cycles of the 4 chains using the `plot_mcmc_path` function from the **bayesutils** package.\n",
        "\n",
        "`plot_mcmc_path` takes:\n",
        "\n",
        "-   `x`: a matrix with 2 columns or a list of 2 column matrices.\n",
        "-   `ncycles`: the number of cycles to plot."
      ],
      "id": "26dd11a2-4ac8-4530-bee5-6d9921be62e5"
    },
    {
      "cell_type": "code",
      "execution_count": 10,
      "metadata": {},
      "outputs": [],
      "source": [
        "plot_mcmc_path(\n",
        "  list(chain1, chain2, chain3, chain4),\n",
        "  ncycles = 10,\n",
        "  xlim = c(-2.5, 2.5),\n",
        "  ylim = c(-2.5, 2.5),\n",
        "  xlab = expression(theta[1]),\n",
        "  ylab = expression(theta[2]),\n",
        "  main = \"First 10 cycles of each chain\"\n",
        ")"
      ],
      "id": "4bc5ca65-d51a-4b95-81f4-e5ad8263017c"
    },
    {
      "cell_type": "markdown",
      "metadata": {},
      "source": [
        "# Example: Normal distribution with $\\mu$ and $\\sigma^2$ unknown and conjugate prior\n",
        "\n",
        "*Data distribution*\n",
        "\n",
        "$y_1,\\ldots,y_n \\mid \\mu,\\sigma^2 \\stackrel{i.i.d.}{\\sim} N(\\mu,\\sigma^2)$.\n",
        "\n",
        "*Prior distribution*\n",
        "\n",
        "$\\mu \\mid \\sigma^2 \\sim N(\\mu_0, \\sigma^2/\\kappa_0)$\n",
        "\n",
        "$\\sigma^2 \\sim \\text{Inv-}\\chi^2_{\\nu_0}(\\sigma_0^2)$\n",
        "\n",
        "where\n",
        "\n",
        "$p(\\sigma^2) \\propto (\\sigma^2)^{-\\left(\\frac{\\nu_0}{2} + 1\\right)} \\exp\\left(-\\frac{\\nu_0 \\sigma_0^2}{2\\sigma^2}\\right)$.\n",
        "\n",
        "*Data density*\n",
        "\n",
        "$p(y \\mid \\mu,\\sigma^2) \\propto$\n",
        "\n",
        "<br>  \n",
        "<br>  \n",
        "<br>  \n",
        "<br>\n",
        "\n",
        "$p(\\mu,\\sigma^2\\mid y) \\propto$\n",
        "\n",
        "<br>  \n",
        "<br>  \n",
        "<br>  \n",
        "<br>  \n",
        "<br>  \n",
        "<br>  \n",
        "<br>  \n",
        "<br>\n",
        "\n",
        "Derive the full conditional distributions\n",
        "\n",
        "<br>  \n",
        "<br>  \n",
        "<br>  \n",
        "<br>  \n",
        "<br>  \n",
        "<br>  \n",
        "<br>  \n",
        "<br>  \n",
        "<br>  \n",
        "<br>  \n",
        "<br>  \n",
        "<br>  \n",
        "<br>  \n",
        "<br>  \n",
        "<br>  \n",
        "<br>\n",
        "\n",
        "*Full conditional distributions*\n",
        "\n",
        "$\\mu \\mid \\sigma^2, y \\sim N(\\mu_n, \\tau_n^2)$ with\n",
        "\n",
        "$$\n",
        "\\mu_n = \\frac{\\kappa_0}\n",
        "{\\sigma^2}\\mu_0 + \\frac{n}{\\sigma^2}\\bar{y}\n",
        "$$\n",
        "\n",
        "and\n",
        "\n",
        "$$\n",
        "\\tau_n^2=\\frac{1}{\\frac{\\kappa_0}{\\sigma^2}+\\frac{n}{\\sigma^2}}=\\frac{\\sigma^2}{\\kappa_0+n}.\n",
        "$$ $\\sigma^2 \\mid \\mu, y \\sim \\text{Inv-}\\chi^2_{\\nu_n}(s_n^2)$\n",
        "\n",
        "with\n",
        "\n",
        "$$\n",
        "\\nu_n = \\nu_0 + n + 1\n",
        "$$\n",
        "\n",
        "and\n",
        "\n",
        "$$\n",
        "s_n^2=\\frac{\\mu_0 \\sigma_0^2+\\kappa_0 (\\mu-\\mu_0 )^2+(n-1) s^2+n(\\bar{y}-\\mu)^2}{\\nu_n}.\n",
        "$$\n",
        "\n",
        "**Example: Midge Data**\n",
        "\n",
        "------------------------------------------------------------------------\n",
        "\n",
        "Grogan and Wirth (1981) provide data on the wing length in millimeters of nine members of a species of midge (small, two-winged flies). From these nine measurements, we wish to make inference on the population mean $\\mu$ and population variance $\\sigma^2$. Create a Gibbs sampler for the parameters $\\mu$ and $\\sigma^2$.\n",
        "\n",
        "Studies of other populations suggest that the true mean should be around 1.9 mm with a standard deviation of 0.1. However, this population may be different from the others, so we choose $\\kappa_0 = \\nu_0 = 1$ so that the prior distributions are only weakly centered around these estimates from other populations.\n",
        "\n",
        "*Data distribution*\n",
        "\n",
        "$y_1,\\ldots,y_n \\mid \\mu, \\sigma^2 \\stackrel{i.i.d.}{\\sim} N(\\mu,\\sigma^2)$\n",
        "\n",
        "*Prior distributions*\n",
        "\n",
        "$\\mu \\mid \\sigma^2 N(\\mu_0, \\sigma^2/\\kappa_0)$ with $\\mu_0=1.9$ and $\\kappa_0=1$.\n",
        "\n",
        "$\\sigma^2 \\sim \\text{Inv-}\\chi^2_{\\nu_0}(\\sigma_0^2)$ with $\\nu_0=1$ and $\\sigma_0^2=(0.1)^2$.\n",
        "\n",
        "We set our seed for reproducible results"
      ],
      "id": "67f13443-34f6-4a7c-bb1c-3c000b472260"
    },
    {
      "cell_type": "code",
      "execution_count": 11,
      "metadata": {},
      "outputs": [],
      "source": [
        "set.seed(90)"
      ],
      "id": "5a4f9ab4-ba1d-4a92-88e5-72e337a18af9"
    },
    {
      "cell_type": "markdown",
      "metadata": {},
      "source": [
        "We set the parameters of our prior distributions"
      ],
      "id": "bf73751b-d445-42ec-97a0-0495c5a57ad7"
    },
    {
      "cell_type": "code",
      "execution_count": 12,
      "metadata": {},
      "outputs": [],
      "source": [
        "mu0 = 1.9\n",
        "k0 = 1 #kappa0\n",
        "nu0 = 1\n",
        "sigma0 = 0.1"
      ],
      "id": "bc373e34-7ee1-4d38-9580-0dcf02eef359"
    },
    {
      "cell_type": "markdown",
      "metadata": {},
      "source": [
        "We define the number of cycles, the data, the sample size, the sample mean, and the sample standard deviation"
      ],
      "id": "34dcfbf0-ee36-44a1-8dbe-9d43b9f9014f"
    },
    {
      "cell_type": "code",
      "execution_count": 13,
      "metadata": {},
      "outputs": [],
      "source": [
        "B = 500000 # number of cycles\n",
        "# data\n",
        "y = c(1.64, 1.70, 1.72, 1.74, 1.82, 1.82, 1.82, 1.90, 2.08)\n",
        "# number of observations\n",
        "n = length(y)\n",
        "# sample mean\n",
        "ybar = mean(y)\n",
        "# sample standard deviation\n",
        "s = sd(y)"
      ],
      "id": "84191205-386a-47e1-b132-f732f7c7896d"
    },
    {
      "cell_type": "markdown",
      "metadata": {},
      "source": [
        "We use the sample mean and standard deviation for our initial values."
      ],
      "id": "7cc2efa4-e8b2-404d-a6d3-e0ba6177f5c9"
    },
    {
      "cell_type": "code",
      "execution_count": 14,
      "metadata": {},
      "outputs": [],
      "source": [
        "#Initial value for mu\n",
        "mu = mean(y)\n",
        "#Initial value for sigma\n",
        "sigma = sd(y)"
      ],
      "id": "6327b861-f001-4dd8-b231-bca9c127ba7e"
    },
    {
      "cell_type": "markdown",
      "metadata": {},
      "source": [
        "We compute the parameters of our full conditional distributions."
      ],
      "id": "357c597c-b229-40ee-86cd-65901618c45f"
    },
    {
      "cell_type": "code",
      "execution_count": 15,
      "metadata": {},
      "outputs": [],
      "source": [
        "kn = k0 + n\n",
        "mun = (k0 * mu0 + n * ybar) / kn\n",
        "nun = nu0 + n + 1"
      ],
      "id": "9e4b73ba-e81f-454a-874d-932c8458342f"
    },
    {
      "cell_type": "markdown",
      "metadata": {},
      "source": [
        "We now implement our Gibbs sampler."
      ],
      "id": "3f9ee7ee-7365-44b2-83f4-05f4e52d4dd9"
    },
    {
      "cell_type": "code",
      "execution_count": 16,
      "metadata": {},
      "outputs": [],
      "source": [
        "sigmasqpost = numeric(B)\n",
        "mupost = numeric(B)\n",
        "for (i in 1:B) {\n",
        "    mu = rnorm(1, mun, sigma/sqrt(kn))\n",
        "\n",
        "    #parameter for full conditional posterior of sigma^2\n",
        "    ssqn = (nu0 * sigma0^2 + k0 * (mu - mu0)^2 + (n - 1) * s^2 + n * (ybar - mu)^2)/nun\n",
        "\n",
        "    # draw from full conditional of sigmasq\n",
        "    sigmasq = rinvchisq(1, df = nun, scale = ssqn)\n",
        "    sigma = sqrt(sigmasq)\n",
        "\n",
        "    # draw from full conditional of mu\n",
        "    mupost[i] = mu\n",
        "    sigmasqpost[i] = sigmasq\n",
        "}"
      ],
      "id": "05b52f48-0ad9-462c-8d3f-11a6b9c8f191"
    },
    {
      "cell_type": "markdown",
      "metadata": {},
      "source": [
        "In *Bayesian Data Analysis, 3rd edition*, Gelman et al. provide the exact marginal posterior distributions for $\\mu$ and $\\sigma^2$:\n",
        "\n",
        "$\\mu \\mid y \\sim t_{\\nu_n}(\\mu_n, \\tau^2_n/\\kappa_n)$\n",
        "\n",
        "and\n",
        "\n",
        "$\\sigma^2\\mid y \\sim \\text{Inv-}\\chi^2_{\\nu_n}(\\tau_n^2)$,\n",
        "\n",
        "where\n",
        "\n",
        "$\\nu_n = \\nu_0 + n$\n",
        "\n",
        "and\n",
        "\n",
        "$\\tau_n^2 = (\\nu_0\\sigma_0^2 + (n - 1)s^2 + \\kappa_0 n/\\kappa_n (\\bar{y} - \\mu_0)^2)/\\nu_n$.\n",
        "\n",
        "Note that this $\\nu_n$ and $\\tau_n^2$ differ from the $\\nu_n$ and $\\tau_n^2$ defined for the full conditional distributions.\n",
        "\n",
        "Let’s compare the results from our Gibbs sampler with the true marginal posterior distributions.\n",
        "\n",
        "We plot the true and approximate marginal posterior density of $\\mu$."
      ],
      "id": "682118d6-fa3d-4c81-9129-5145532db4cf"
    },
    {
      "cell_type": "code",
      "execution_count": 17,
      "metadata": {},
      "outputs": [],
      "source": [
        "# define nun and taunsq\n",
        "vn = nu0 + n\n",
        "taunsq = (nu0*sigma0^2 + (n - 1) * s^2 + k0 * n/kn * (ybar - mu0)^2)/vn\n",
        "\n",
        "# plot approximate posterior density for mu\n",
        "plot(density(mupost), main = \"\",\n",
        "     xlab = \"mu\", xlim = c(1.6, 2))\n",
        "# plot true posterior density for mu\n",
        "x = seq(-1, 3, len = 1001)\n",
        "lines(x, dst(x, df = nun, mean = mun, sigma = sqrt(taunsq/kn)),\n",
        "      col = \"orange\")\n",
        "title(\"Posterior Density for mu\")\n",
        "legend(\"topright\", legend = c(\"Gibbs\", \"true\"), col = c(\"black\", \"orange\"),\n",
        "    lwd = 1)"
      ],
      "id": "62bda11c-0e5e-461a-abb9-32c1801c8eec"
    },
    {
      "cell_type": "markdown",
      "metadata": {},
      "source": [
        "We plot the true and approximate marginal posterior density of $\\sigma^2$."
      ],
      "id": "9aaf3590-7645-4184-9ee9-7f723d184b08"
    },
    {
      "cell_type": "code",
      "execution_count": 18,
      "metadata": {},
      "outputs": [],
      "source": [
        "# plot marginal posterior for sigmasq\n",
        "plot(density(sigmasqpost), main = \"\",\n",
        "     xlab = \"sigmasq\", xlim = c(0, 0.1))\n",
        "x = seq(0, 0.1, len = 1001)\n",
        "lines(x, dinvchisq(x, df = vn, scale = taunsq), col = \"orange\")\n",
        "title(\"Posterior Density for sigmasq\")\n",
        "legend(\"topright\",\n",
        "       legend = c(\"Gibbs\", \"True\"),\n",
        "       col = c(\"black\", \"orange\"),\n",
        "       lwd = 1)"
      ],
      "id": "0d6d23be-78a8-44a7-a496-d6190c74184d"
    },
    {
      "cell_type": "markdown",
      "metadata": {},
      "source": [
        "We compute the empirical posterior quantiles for $\\mu$."
      ],
      "id": "e35eba98-2c43-4080-b2f6-1e4a16c61e2d"
    },
    {
      "cell_type": "code",
      "execution_count": 19,
      "metadata": {},
      "outputs": [],
      "source": [
        "#posterior quantiles for mu\n",
        "p = c(0.01, 0.10, 0.25, 0.5, 0.75, 0.90, 0.99)\n",
        "quantile(mupost, prob = p)"
      ],
      "id": "f8d78484-7eb8-4bd1-a632-3f9316ea6b94"
    },
    {
      "cell_type": "markdown",
      "metadata": {},
      "source": [
        "We compute the true posterior quantiles for $\\mu$."
      ],
      "id": "f1fee2ff-e778-4d13-91b6-c381b35c0e40"
    },
    {
      "cell_type": "code",
      "execution_count": 20,
      "metadata": {},
      "outputs": [],
      "source": [
        "qst(p, df = nun, mean = mun, sigma = sqrt(taunsq/kn))"
      ],
      "id": "d27dacad-7528-4ef0-b2d0-e1d7b7a22156"
    },
    {
      "cell_type": "markdown",
      "metadata": {},
      "source": [
        "We compute the empirical posterior quantiles for $\\sigma^2$."
      ],
      "id": "7d923cfc-5375-4218-95e3-fc511bc2f924"
    },
    {
      "cell_type": "code",
      "execution_count": 21,
      "metadata": {},
      "outputs": [],
      "source": [
        "quantile(sigmasqpost, prob = p)"
      ],
      "id": "7b32d18f-bcbf-4453-95f7-6483e44abc05"
    },
    {
      "cell_type": "markdown",
      "metadata": {},
      "source": [
        "We compute the true posterior quantiles for $\\sigma^2$."
      ],
      "id": "454bc9f3-9084-4982-883c-cc2a4de9c769"
    },
    {
      "cell_type": "code",
      "execution_count": 22,
      "metadata": {},
      "outputs": [],
      "source": [
        "qinvchisq(p, df = vn, scale = taunsq)"
      ],
      "id": "0d6cad5e-b827-4d80-a06c-cef0016e9f8b"
    },
    {
      "cell_type": "markdown",
      "metadata": {},
      "source": [
        "We compute the empirical 95% central posterior interval for $\\mu$."
      ],
      "id": "8feb65db-1390-4a47-a427-fd1c1085659e"
    },
    {
      "cell_type": "code",
      "execution_count": 23,
      "metadata": {},
      "outputs": [],
      "source": [
        "quantile(mupost, c(.025, .975))"
      ],
      "id": "4cc637cb-f136-48b5-af3f-83bade46f6ac"
    },
    {
      "cell_type": "markdown",
      "metadata": {},
      "source": [
        "We compute the true 95% central posterior interval for $\\mu$."
      ],
      "id": "7a0f5ba4-1e24-4b75-b365-1bd7ce054487"
    },
    {
      "cell_type": "code",
      "execution_count": 24,
      "metadata": {},
      "outputs": [],
      "source": [
        "qst(c(0.025, 0.975), df = nun, mean = mun,\n",
        "    sigma = sqrt(taunsq/kn))"
      ],
      "id": "99ac698f-d80b-4822-84d5-a8ed9b9eab15"
    },
    {
      "cell_type": "markdown",
      "metadata": {},
      "source": [
        "We compute the empirical 95% central posterior interval for $\\sigma^2$."
      ],
      "id": "58a39970-8c7c-4de3-aafc-b4d5e440caaf"
    },
    {
      "cell_type": "code",
      "execution_count": 25,
      "metadata": {},
      "outputs": [],
      "source": [
        "quantile(sigmasqpost, c(.025, .975))"
      ],
      "id": "c80d88fd-f040-419f-8cee-b04348c0e15a"
    },
    {
      "cell_type": "markdown",
      "metadata": {},
      "source": [
        "We compute the true 95% central posterior interval for $\\sigma^2$."
      ],
      "id": "3abe45b6-bb60-4e72-9719-c2f3c7861fa1"
    },
    {
      "cell_type": "code",
      "execution_count": 26,
      "metadata": {},
      "outputs": [],
      "source": [
        "qinvchisq(c(0.025, 0.975), df = vn, scale = taunsq)"
      ],
      "id": "4c91994b-72b9-4f44-b81d-e86cca06c76a"
    },
    {
      "cell_type": "markdown",
      "metadata": {},
      "source": [
        "Lastly, we plot the first 100 cycles of our Gibbs sampler."
      ],
      "id": "f5991755-3dfe-4baf-b2c3-9c743c2a38d2"
    },
    {
      "cell_type": "code",
      "execution_count": 27,
      "metadata": {},
      "outputs": [],
      "source": [
        "plot_mcmc_path(cbind(mupost, sigmasqpost), ncycles = 100,\n",
        "               xlab = expression(mu), ylab = expression(sigma^2))"
      ],
      "id": "ff27f2ab-9ee1-4b8b-998a-5b1cc737d9e8"
    },
    {
      "cell_type": "code",
      "execution_count": 28,
      "metadata": {},
      "outputs": [],
      "source": [
        "#plot cycles of gibbs sampler for 100 iterations\n",
        "plot_mcmc_path(cbind(mupost, sigmasqpost),\n",
        "               ncycles = 100, type = \"cycle\",\n",
        "               xlab = expression(mu), ylab = expression(sigma^2))"
      ],
      "id": "924dfb45-f792-4e8e-9e61-15a0eb30c37c"
    },
    {
      "cell_type": "markdown",
      "metadata": {},
      "source": [
        "# Example: Multivariate normal with semi-conjugate prior\n",
        "\n",
        "*Data distribution*\n",
        "\n",
        "$\\mathbf{y}_1,\\mathbf{y}_2,…,\\mathbf{y}_n \\mid \\boldsymbol{\\mu},\\boldsymbol{\\Sigma} \\stackrel{i.i.d.}{\\sim} N(\\boldsymbol{\\mu},\\boldsymbol{\\Sigma})$ with each vector having length $d$.\n",
        "\n",
        "*Prior distributions*\n",
        "\n",
        "$\\boldsymbol{\\mu} \\sim N(\\boldsymbol{\\mu}_0, \\boldsymbol{\\Lambda}_0)$.\n",
        "\n",
        "$\\boldsymbol{\\Sigma} \\sim \\text{Inv-Wishart}_{\\nu_0} ( \\mathbf{Κ}_0^{-1})$.\n",
        "\n",
        "$p(\\boldsymbol{\\Sigma}) \\propto |\\boldsymbol{\\Sigma}|^{-(\\nu_0+d+1)/2} \\exp\\left(-\\frac{1}{2} \\text{tr}(\\mathbf{K}_0 \\boldsymbol{\\Sigma}^{-1})\\right).$\n",
        "\n",
        "$p(\\boldsymbol{\\mu}, \\boldsymbol{\\Sigma} \\mid y) \\propto$\n",
        "\n",
        "<br>  \n",
        "<br>  \n",
        "<br>  \n",
        "<br>  \n",
        "<br>  \n",
        "<br>  \n",
        "<br>  \n",
        "<br>  \n",
        "<br>  \n",
        "<br>\n",
        "\n",
        "Derive the full conditional distributions:\n",
        "\n",
        "<br>  \n",
        "<br>  \n",
        "<br>  \n",
        "<br>  \n",
        "<br>  \n",
        "<br>  \n",
        "<br>  \n",
        "<br>  \n",
        "<br>  \n",
        "<br>  \n",
        "<br>  \n",
        "<br>  \n",
        "<br>  \n",
        "<br>  \n",
        "<br>  \n",
        "<br>\n",
        "\n",
        "*Full conditional distributions*\n",
        "\n",
        "$\\boldsymbol{\\mu} \\mid \\boldsymbol{\\Sigma}, y \\sim N(\\boldsymbol{\\mu}_n,\\boldsymbol{\\Lambda}_n)$, where\n",
        "\n",
        "$$\\boldsymbol{\\mu}_n=\\boldsymbol{\\Lambda_n} (\\boldsymbol{\\Lambda}_0^{-1} \\boldsymbol{\\mu}_0+n \\boldsymbol{\\Sigma}^{-1} \\bar{y})$$\n",
        "\n",
        "and\n",
        "\n",
        "$$\\boldsymbol{\\Lambda}_n^{-1}=\\boldsymbol{\\Lambda}_0^{-1}+n\\boldsymbol{\\Sigma}^{-1}.$$\n",
        "\n",
        "$\\boldsymbol{\\Sigma}\\mid \\boldsymbol{\\mu},y \\sim \\text{Inv-Wishart}_{\\nu_n} (\\mathbf{K}_n^{-1 })$, where\n",
        "\n",
        "$$\\nu_n=\\mu_0+n,$$\n",
        "\n",
        "$$\\mathbf{K}_n=\\mathbf{K}_0+\\mathbf{S}_\\mu,$$\n",
        "\n",
        "and\n",
        "\n",
        "$$\n",
        "\\mathbf{S}_\\mu=\\sum_{i=1}^n (\\mathbf{y}_i-\\boldsymbol{\\mu}) (\\mathbf{y}_i-\\boldsymbol{\\mu})^T.\n",
        "$$\n",
        "\n",
        "A result from linear algebra says that\n",
        "\n",
        "$$\\sum_{i=1}^n (\\mathbf{y}_i-\\boldsymbol{\\mu})\\boldsymbol{\\Sigma}^{-1} (\\mathbf{y}_i-\\boldsymbol{\\mu})^T = \\text{tr}(\\mathbf{S}_\\mu \\boldsymbol{\\Sigma^{-1}})$$\n",
        "\n",
        "where\n",
        "\n",
        "$$\\mathbf{S}_\\mu=\\sum_{i=1}^n (\\mathbf{y}_i-\\boldsymbol{\\mu}) (\\mathbf{y}_i-\\boldsymbol{\\mu})^T.$$\n",
        "\n",
        "$\\mathbf{S}_\\mu$ is the residual sum of squares matrix for the vectors $\\mathbf{y}_1,\\mathbf{y}_2,\\ldots,\\mathbf{y}_n$ if the population mean is presumed to be $\\boldsymbol{\\mu}$.\n",
        "\n",
        "**Example: Reading Scores**\n",
        "\n",
        "------------------------------------------------------------------------\n",
        "\n",
        "A sample of 22 children are given reading comprehension tests before and after receiving a particular instructional method. Each student will then have two scores denoting the pre- and post-instructional scores.\n",
        "\n",
        "Each row of the data set is a two-dimensional vector representing a single case, distributed $N(\\boldsymbol{\\mu},\\boldsymbol{\\Sigma})$.\n",
        "\n",
        "The exam was designed to give an average score around 50 out of 100, so set $\\boldsymbol{μ}_0=(50,50)$.\n",
        "\n",
        "Since the true mean cannot be below 0 or above 100, we want the prior variances to keep $\\boldsymbol{\\mu}$ inside this range $[0, 100]^2$ with high probability.\n",
        "\n",
        "We can use\n",
        "\n",
        "$$\n",
        "\\boldsymbol{\\Sigma} =\n",
        "\\begin{bmatrix}\n",
        " 625 & 312.5 \\\\\n",
        "312.5 & 625\n",
        "\\end{bmatrix},\n",
        "$$\n",
        "\n",
        "which would mean that the prior probability that the marginal mean is outside $[0, 100]^2$ is only 0.05.\n",
        "\n",
        "This also accounts for the fact that the two exams measure similar things, so we think the correlation between the means is around 0.5.\n",
        "\n",
        "Since $E(\\text{Inv-Wishart}_{\\nu_0} (\\mathbf{K}_0^{-1}))=\\mathbf{K}_0/(\\nu_0-d-1)$, $\\nu_0=4$ will loosely center $\\mathbf{\\Sigma}$ around $\\mathbf{K}_0$.\n",
        "\n",
        "What is the probability that the post-instruction mean is greater than the pre-instruction mean?\n",
        "\n",
        "What is the probability that the post-instruction test score is greater than the pre-instruction test score for a new student?\n",
        "\n",
        "Construct a Gibbs sampler to sample from the posterior distribution for $\\boldsymbol{\\mu}$ and $\\boldsymbol{\\Sigma}$.\n",
        "\n",
        "*Data distribution*\n",
        "\n",
        "$y \\mid \\boldsymbol{\\mu},\\boldsymbol{\\Sigma}\\stackrel{i.i.d.}{\\sim} N(\\boldsymbol{\\mu},\\boldsymbol{\\Sigma})$.\n",
        "\n",
        "*Prior distributions*\n",
        "\n",
        "$\\boldsymbol{\\mu}\\sim N(\\boldsymbol{\\mu}_0,\\boldsymbol{\\Lambda}_0)$ with\n",
        "\n",
        "$\\boldsymbol{\\mu}_0=(50,50)$\n",
        "\n",
        "and\n",
        "\n",
        "$$\n",
        "\\boldsymbol{\\Lambda}_0 =\n",
        "\\begin{bmatrix}\n",
        " 625 & 312.5 \\\\\n",
        "312.5 & 625\n",
        "\\end{bmatrix}.\n",
        "$$\n",
        "\n",
        "$\\boldsymbol{\\Sigma} \\sim \\text{Inv-Wishart}_{\\nu_0} (\\mathbf{K}_0^{-1})$ with\n",
        "\n",
        "$\\nu_0=4$\n",
        "\n",
        "and\n",
        "\n",
        "$$\\mathbf{K}_0=\n",
        "\\begin{bmatrix}\n",
        " 625 & 312.5 \\\\\n",
        "312.5 & 625\n",
        "\\end{bmatrix}.$$\n",
        "\n",
        "We begin by loading the data."
      ],
      "id": "fb0b0cc8-4ad0-4cbc-98c8-ff90e1a2b443"
    },
    {
      "cell_type": "code",
      "execution_count": 29,
      "metadata": {},
      "outputs": [],
      "source": [
        "# load data\n",
        "y = matrix(c(\n",
        "59, 77, 43, 39, 34, 46, 32, 26, 42, 38, 38, 43, 55, 68,\n",
        "67, 86, 64, 77, 45, 60, 49, 50, 72, 59, 34, 38, 70, 48,\n",
        "34, 55, 50, 58, 41, 54, 52, 60, 60, 75, 34, 47, 28, 48,\n",
        "35, 33), ncol = 2, byrow = TRUE)\n",
        "# reformat\n",
        "y = data.frame(pretest = y[,1], posttest = y[,2])"
      ],
      "id": "d41924b7-54be-4a1b-8173-a0b4fd837e39"
    },
    {
      "cell_type": "markdown",
      "metadata": {},
      "source": [
        "We set some generic parameters."
      ],
      "id": "bcc58d1e-f09b-47e0-b8ea-99952311fda1"
    },
    {
      "cell_type": "code",
      "execution_count": 30,
      "metadata": {},
      "outputs": [],
      "source": [
        "n = nrow(y)\n",
        "d = ncol(y)"
      ],
      "id": "b108d5f7-f97b-4bde-b1d0-a5fd84c78d65"
    },
    {
      "cell_type": "markdown",
      "metadata": {},
      "source": [
        "We set the prior parameters."
      ],
      "id": "e183c820-fa50-45bf-af37-797d8fa2b70d"
    },
    {
      "cell_type": "code",
      "execution_count": 31,
      "metadata": {},
      "outputs": [],
      "source": [
        "mu0 = c(50, 50)\n",
        "nu0 = 4\n",
        "L0 = K0 = 25^2 * matrix(c(1, .5, .5, 1), nrow = 2)"
      ],
      "id": "42379f57-4a9d-436f-a5bd-c7185f4fd2b4"
    },
    {
      "cell_type": "markdown",
      "metadata": {},
      "source": [
        "We calculate necessary summary quantities"
      ],
      "id": "a8cb988d-6362-4897-b9ca-bd06afb16fb0"
    },
    {
      "cell_type": "code",
      "execution_count": 32,
      "metadata": {},
      "outputs": [],
      "source": [
        "ybar = colMeans(y)"
      ],
      "id": "d1ac79c8-b441-4e13-9e34-56784b04adfd"
    },
    {
      "cell_type": "markdown",
      "metadata": {},
      "source": [
        "We determine some posterior parameters"
      ],
      "id": "82de994e-fdb3-4f4f-9d39-3c17340fcdb0"
    },
    {
      "cell_type": "code",
      "execution_count": 33,
      "metadata": {},
      "outputs": [],
      "source": [
        "nun = nu0 + n"
      ],
      "id": "9e5a082f-e0dc-4e45-a404-2508afafaafd"
    },
    {
      "cell_type": "markdown",
      "metadata": {},
      "source": [
        "We set the number of cycles."
      ],
      "id": "7b4d76c1-0646-4f1f-a86e-9b314b695ac6"
    },
    {
      "cell_type": "code",
      "execution_count": 34,
      "metadata": {},
      "outputs": [],
      "source": [
        "B = 10000"
      ],
      "id": "66c391ee-a829-495b-b846-90df18afdad0"
    },
    {
      "cell_type": "markdown",
      "metadata": {},
      "source": [
        "We create initial guesses for $\\boldsymbol{\\mu}$, $\\boldsymbol{\\Sigma}$, and $\\mathbf{S}_\\mu$."
      ],
      "id": "b5040f0d-d107-44cd-826d-bbb2e37bb926"
    },
    {
      "cell_type": "code",
      "execution_count": 35,
      "metadata": {},
      "outputs": [],
      "source": [
        "mu = ybar\n",
        "Sigma = cov(y)\n",
        "# initial guess for Smu\n",
        "Smu = (n - 1) * var(y)"
      ],
      "id": "3202d393-f617-4e60-a834-ff13d4180b43"
    },
    {
      "cell_type": "markdown",
      "metadata": {},
      "source": [
        "We create some matrices/arrays to store our results."
      ],
      "id": "35eec958-2f53-41d4-9c04-b200e68bb452"
    },
    {
      "cell_type": "code",
      "execution_count": 36,
      "metadata": {},
      "outputs": [],
      "source": [
        "mupost = matrix(0, nrow = B, ncol = d)\n",
        "Sigmapost = array(0, dim = c(d, d, B))\n",
        "ytildepost = matrix(0, nrow = B, ncol = d)"
      ],
      "id": "4c3658d4-b267-451d-8609-30e88d662b67"
    },
    {
      "cell_type": "markdown",
      "metadata": {},
      "source": [
        "Finally, we execute our Gibbs sampler."
      ],
      "id": "d577bed0-fcfa-41c4-a177-45a342983644"
    },
    {
      "cell_type": "code",
      "execution_count": 37,
      "metadata": {},
      "outputs": [],
      "source": [
        "for (i in 1:B) {\n",
        "    #determine full conditional distribution of mean,\n",
        "    #simulate from distribution\n",
        "    Ln = solve(solve(L0) + n * solve(Sigma))\n",
        "    mun = Ln %*% (solve(L0) %*% mu0 + n * solve(Sigma) %*% ybar)\n",
        "    mu = c((rmvnorm(1, mu = mun, v = Ln)))\n",
        "\n",
        "    #determine full conditional distribution of Sigma,\n",
        "    #simulate from distribution\n",
        "    Smu = (t(y) - mu) %*% t(t(y) - mu)\n",
        "    Kn = K0 + Smu\n",
        "\n",
        "    Sigma = rinvwish(1, df = nun, v = Kn)[,,1]\n",
        "\n",
        "    mupost[i, ] = mu\n",
        "    Sigmapost[,,i] = Sigma\n",
        "\n",
        "    ytildepost[i, ] = rmvnorm(1, mu = mu, v = Sigma)\n",
        "}"
      ],
      "id": "e7b7f839-838a-401d-b3ba-01cbd231cade"
    },
    {
      "cell_type": "markdown",
      "metadata": {},
      "source": [
        "We estimate the posterior mean of $\\boldsymbol{\\mu}$."
      ],
      "id": "59821fd0-19af-4045-ba62-9b380a494520"
    },
    {
      "cell_type": "code",
      "execution_count": 38,
      "metadata": {},
      "outputs": [],
      "source": [
        "(mean.mupost = apply(mupost, 2, mean))"
      ],
      "id": "2d9ef9b2-b20d-46aa-8a36-e5c763334533"
    },
    {
      "cell_type": "markdown",
      "metadata": {},
      "source": [
        "We estimate the posterior variance of $\\boldsymbol{\\mu}$."
      ],
      "id": "63d2fe7e-566a-48d3-93ea-700cd1eca566"
    },
    {
      "cell_type": "code",
      "execution_count": 39,
      "metadata": {},
      "outputs": [],
      "source": [
        "(var.mupost = apply(mupost, 2, var))"
      ],
      "id": "075b92ae-d7c1-433b-a3d2-0e368f4cf3e9"
    },
    {
      "cell_type": "markdown",
      "metadata": {},
      "source": [
        "We estimate the posterior mean of $\\boldsymbol{\\Sigma}$."
      ],
      "id": "24130586-435c-42f7-b668-253335210003"
    },
    {
      "cell_type": "code",
      "execution_count": 40,
      "metadata": {},
      "outputs": [],
      "source": [
        "(mean.Sigmapost = apply(Sigmapost, c(1, 2), mean))"
      ],
      "id": "989198d0-8340-4265-8432-37d77cce63dd"
    },
    {
      "cell_type": "markdown",
      "metadata": {},
      "source": [
        "We estimate the posterior variance of $\\boldsymbol{\\Sigma}$."
      ],
      "id": "bc021ba6-e64c-4688-ab52-25a0a7f9577b"
    },
    {
      "cell_type": "code",
      "execution_count": 41,
      "metadata": {},
      "outputs": [],
      "source": [
        "(var.Sigmapost = apply(Sigmapost, c(1, 2), var))"
      ],
      "id": "26ef8369-69ac-4a6b-b2a0-43fc180c8076"
    },
    {
      "cell_type": "markdown",
      "metadata": {},
      "source": [
        "We compute some posterior quantiles for $\\boldsymbol{\\mu}$."
      ],
      "id": "be18733f-61df-4511-a598-98327b3206b7"
    },
    {
      "cell_type": "code",
      "execution_count": 42,
      "metadata": {},
      "outputs": [],
      "source": [
        "apply(mupost, 2, quantile, prob = c(.01, .25, .5, .75, .99))"
      ],
      "id": "3387d9e2-822e-44f7-a388-f5d9e0becb31"
    },
    {
      "cell_type": "markdown",
      "metadata": {},
      "source": [
        "We plot the posterior densities of the pre- and post-test means."
      ],
      "id": "fefdc33c-47e7-403a-a7ea-1faafa833030"
    },
    {
      "cell_type": "code",
      "execution_count": 43,
      "metadata": {},
      "outputs": [],
      "source": [
        "dpretest = density(mupost[,1])\n",
        "dposttest = density(mupost[,2])\n",
        "plot(dpretest, type = \"l\", xlim = range(c(dpretest$x, dposttest$x)),\n",
        "    ylim = range(c(dpretest$y, dposttest$y)), main = \"\")\n",
        "lines(dposttest, col = \"orange\")\n",
        "legend(\"topleft\", legend = c(\"mu pretest\", \"mu postest\"),\n",
        "    col = c(\"black\", \"orange\"), lwd = c(1, 1))"
      ],
      "id": "659e9b39-a574-40a6-bfe6-5c72c1682f38"
    },
    {
      "cell_type": "markdown",
      "metadata": {},
      "source": [
        "We estimate $P(\\mu_{\\text{post}} > \\mu_{\\text{pre}})$."
      ],
      "id": "64d53b50-9cd2-400f-a771-e3efc451c22f"
    },
    {
      "cell_type": "code",
      "execution_count": 44,
      "metadata": {},
      "outputs": [],
      "source": [
        "mean(mupost[,2] > mupost[,1])"
      ],
      "id": "64e115f3-c3a3-457c-9daf-3a38a3fbaa38"
    },
    {
      "cell_type": "markdown",
      "metadata": {},
      "source": [
        "We estimate $P(\\tilde{y}_{\\text{post}} > \\tilde{y}_{\\text{pre}})$."
      ],
      "id": "b4859047-2f89-400c-9703-2afd39c0ea9e"
    },
    {
      "cell_type": "code",
      "execution_count": 45,
      "metadata": {},
      "outputs": [],
      "source": [
        "mean(ytildepost[,2] > ytildepost[,1])"
      ],
      "id": "5b122545-168a-44d7-beb1-24b624b77058"
    },
    {
      "cell_type": "markdown",
      "metadata": {},
      "source": [
        "We visualize the joint posterior density of $\\boldsymbol{\\mu}$."
      ],
      "id": "555dfbaf-d54b-402e-8b58-c9961240d3d4"
    },
    {
      "cell_type": "code",
      "execution_count": 46,
      "metadata": {},
      "outputs": [],
      "source": [
        "# estimate bivariate density\n",
        "d2d = MASS::kde2d(mupost[,1], mupost[,2], n = 50)\n",
        "# plot results\n",
        "autoimage::pimage(d2d, col = hcl.colors(64),\n",
        "                  xlab = \"mu pretest\", ylab = \"mu posttest\")\n",
        "contour(d2d, add = TRUE)\n",
        "points(mupost[1:100,], pch = 20)"
      ],
      "id": "06f113a1-0bbb-44f9-865c-243ec86ae1e1"
    },
    {
      "cell_type": "markdown",
      "metadata": {},
      "source": [
        "------------------------------------------------------------------------\n",
        "\n",
        "jupyter: kernelspec: display_name: R language: R name: ir language_info: codemirror_mode: r file_extension: .r mimetype: text/x-r-source name: R pygments_lexer: r version: 4.2.2\n",
        "\n",
        "------------------------------------------------------------------------"
      ],
      "id": "af2f0955-dcd5-4457-a9d1-2db37f96d7e5"
    }
  ],
  "nbformat": 4,
  "nbformat_minor": 5,
  "metadata": {
    "kernelspec": {
      "name": "ir",
      "display_name": "R",
      "language": "R"
    }
  }
}