{
  "cells": [
    {
      "cell_type": "markdown",
      "metadata": {},
      "source": [
        "# Computational methods for Bayesian inference\n",
        "\n",
        "Joshua French\n",
        "\n",
        "To open this information in an interactive Colab notebook, click the Open in Colab graphic below.\n",
        "\n",
        "<a href=\"https://colab.research.google.com/github/jfrench/BayesianStatistics/blob/master/lectures/Math7393-03d-Computational-methods-for-Bayesian-inference-Gibbs.ipynb\"> <img src=\"https://colab.research.google.com/assets/colab-badge.svg\"> </a>\n",
        "\n",
        "We will need certain packages to be available for this notebook. The code below will check if they are installed and install them if necessary.\n",
        "\n",
        "We now plot the sample paths of our chains for the first ten cycles. We use a function, `plot_mcmc_path` from the **bayesutils** package on GitHub."
      ],
      "id": "b6f74503-8e65-4e02-a88a-b88bf2b0a695"
    },
    {
      "cell_type": "code",
      "execution_count": 1,
      "metadata": {},
      "outputs": [],
      "source": [
        "# see if remotes package is available\n",
        "if (!require(\"remotes\", quietly = TRUE)) {\n",
        "  # if not, then install package\n",
        "  install.packages(\n",
        "    \"remotes\",\n",
        "    repos = \"https://cran.rstudio.com/\"\n",
        "    )\n",
        "}\n",
        "# see if bayesutils package is available\n",
        "if (!require(\"bayesutils\", quietly = TRUE)) {\n",
        "  # if not, then install package\n",
        "  remotes::install_github(\"jfrench/bayesutils\")\n",
        "  library(bayesutils)\n",
        "}\n",
        "# see if autoimage package is available\n",
        "if (!require(\"autoimage\", quietly = TRUE)) {\n",
        "  # if not, then install package\n",
        "  install.package(\"autoimage\")\n",
        "  library(autoimage)\n",
        "}"
      ],
      "id": "20c8c7af-9621-4ae4-b0f0-830254ccc8d8"
    },
    {
      "cell_type": "markdown",
      "metadata": {},
      "source": [
        "# Introduction to MCMC Methods\n",
        "\n",
        "-   A *stochastic process* is a family of random variables $\\{\\theta^{(t)}\\}_{t\\in T}$, where $T$ is a subset of $[0, \\infty)$.\n",
        "    -   $\\theta^{(t)}$ denotes the stochastic process at time $t$.\n",
        "    -   The value $\\theta^{(t)}$ takes at time $t$ is known as the *state* of the process at time $t$.\n",
        "    -   We only consider discrete-time stochastic processes with $T=\\{0,1,2,…\\}$.\n",
        "-   The *state space* of a stochastic process is the set of all possible values the process takes.\n",
        "-   A *Markov chain* is a stochastic process $\\{\\theta^{(0)}, \\theta^{(1)}, \\ldots, \\theta^{(B)}\\}$ such that $$p(\\theta^{(t+1)} | \\theta^{(t)}, \\theta^{(t-1)}, \\ldots, \\theta^{(0)}) = p(\\theta^{(t+1)} | \\theta^{(t)}).$$\n",
        "    -   $p(\\theta^{(t+1)} | \\theta^{(t)})$ is often called the *transition distribution*.\n",
        "-   Markov chain Monte Carlo (MCMC) methods attempt to draw samples from a target distribution when sampling directly from the target distribution is impossible or computationally expensive.\n",
        "    -   The samples form a Markov chain.\n",
        "-   MCMC methods are constructed so that the (limiting) distribution of the Markov chain converges to the target distribution.\n",
        "    -   The distribution producing the samples at each step of the Markov chain becomes more like the target distribution at each step of the chain.\n",
        "-   A Markov chain converges to a *stationary distribution* when the Markov chain is irreducible, aperiodic, and positive recurrent.\n",
        "    -   In layman’s terms, for any state $i$ and $j$, we can travel from $i$ to $j$ in a finite number of steps with probability 1, and then we will travel back to $i$, but not in a specific pattern or number of steps.\n",
        "    -   This ensures that we adequately explore the entire support of our target distribution\n",
        "\n",
        "An effective MCMC method has two main properties:\n",
        "\n",
        "1.  It must be easy to draw from the $p(\\theta^{(t+1)}|\\theta^{(t)})$.\n",
        "2.  The stationary distribution of the Markov chain must match our target distribution.\n",
        "\n",
        "To construct a Markov chain using an MCMC algorithm:\n",
        "\n",
        "-   Specify an initial value, $\\theta^{(0)}$, for the chain.\n",
        "    -   Often this is a “likely” value of $\\theta$.\n",
        "-   For $t = 1,2, \\ldots, B$, draw samples from $p(\\theta^{(t+1)}|\\theta^{(t)})$ until $B$ is large enough that the stationary distribution is reached.\n",
        "-   After the chain has been implemented, check the convergence of the simulated sequence (or at least verify that there isn’t clear evidence that the chain hasn’t converged).\n",
        "    -   This is VERY important.\n",
        "\n",
        "Concluding thoughts:\n",
        "\n",
        "-   The *Gibbs* and *Metropolis-Hastings* algorithms are the most well-known MCMC algorithms.\n",
        "    -   They are designed so that the stationary distribution matches the target distribution.\n",
        "-   MCMC methods are most popularly used in Bayesian statistics.\n",
        "    -   In Bayesian statistics, the target distribution is generally the posterior distribution, $p(\\theta | y)$.\n",
        "\n",
        "# Gibbs sampling\n",
        "\n",
        "-   The *Gibbs sampling* algorithm (or *Gibbs sampler*) is the most popular Markov chain Monte Carlo (MCMC) method.\n",
        "-   The goal of the Gibbs sampler is to draw samples from a target distribution.\n",
        "-   The Gibbs sampling algorithm produces samples from the target distribution by successively drawing samples from the full conditional distributions of the target distribution.\n",
        "    -   The *full conditional distribution* of a random vector is the distribution of the random vector conditional on all the other random variables in the joint (i.e., target) distribution.\n",
        "\n",
        "Some notation and terminology:\n",
        "\n",
        "-   Let $\\theta$ be the vector of random variables comprising all variables of the target distribution, $p(\\theta | y)$.\n",
        "-   Partition $\\theta$ into $d$ components, i.e., $\\theta = (\\theta_1, \\theta_2, \\ldots, \\theta_d)$.\n",
        "    -   Each component could be a (single) random variable or a random vector.\n",
        "-   $\\theta_{-j}$ denotes the vector containing all components in $\\theta$ except $\\theta_j$, i.e., $$\\theta_{-j} = (\\theta_1, \\theta_2, \\ldots, \\theta_{j-1}, \\theta_{j+1}, \\ldots, \\theta_d).$$\n",
        "-   The *full conditional distribution* of $\\theta_j$, denoted $p(\\theta_j | \\theta_{-j}, y)$, is the distribution of component $\\theta_j$ conditional on knowing the value of all other components, $\\theta_{-j}$, and the data, $y$.\n",
        "-   After we have drawn samples from the full conditional distribution of each component (i.e., drawn samples from $p(\\theta_{j} | \\theta_{-j}^{(t-1)}, y)$ for $j=1,2,\\ldots,d$) we have completed a *cycle*.\n",
        "\n",
        "More notation:\n",
        "\n",
        "-   $\\theta_j^{(t)}$ denotes the sampled value of $\\theta_j$ in cycle $t$ and $\\theta^{(t)}$ the vector of all values sampled in cycle $t$.\n",
        "-   $\\theta_{-j}^{(t-1)}$ denotes the most current value of all $d$ components of $\\theta$ **except** $\\theta_j$, i.e., $$\\theta_{-j}^{(t-1)} = (\\theta_1^{(t)}, \\theta_2^{(t)}, \\ldots, \\theta_{j-1}^{(t)}, \\theta_{j+1}^{(t-1)}, \\ldots, \\theta_{d}^{(t-1)}).$$\n",
        "-   $p(\\theta_j | \\theta_{-j}^{(t-1)}, y)$ denotes the full conditional distribution of $\\theta_j$ conditional on $\\theta_{-j}$ being fixed at $\\theta_{-j}^{(t-1)}$ and the data being fixed at $y$.\n",
        "\n",
        "The basic Gibbs sampling algorithm is:\n",
        "\n",
        "1.  Choose starting values for all of your components, i.e., $\\theta^{(0)} = (\\theta^{(0)}_1, \\theta^{(0)}_2, \\ldots, \\theta^{(0)}_d)$.\n",
        "2.  Set $t = 1$.\n",
        "3.  Draw $\\theta_j^{(t)}$ from the full conditional distribution $p(\\theta_j | \\theta_{-j}^{(t-1)}, y)$ for $j = 1, 2, \\ldots, d$.\n",
        "4.  Increment $t$.\n",
        "5.  Repeat steps 3 and 4 until convergence.\n",
        "\n",
        "# Example: Gibbs sampler (bivariate normal)\n",
        "\n",
        "This example appears in Bayesian Data Analysis, 3rd edition, by Gelman et al. (2013).\n",
        "\n",
        "*Data distribution*\n",
        "\n",
        "$y | \\theta \\sim N(\\theta, \\Sigma)$ is a bivariate normal distribution with unknown mean $\\theta = (\\theta_1, \\theta_2)$ and known covariance matrix\n",
        "\n",
        "$$\n",
        "\\Sigma =\n",
        "\\begin{bmatrix}\n",
        " 1 & \\rho \\\\\n",
        "\\rho & 1\n",
        "\\end{bmatrix}.\n",
        "$$\n",
        "\n",
        "*Prior distribution*\n",
        "\n",
        "The prior for $\\theta$ is an improper uniform over the real line, i.e., $p(\\theta_1,\\theta_2)\\propto1$.\n",
        "\n",
        "(Why? Because it makes the example easier!)\n",
        "\n",
        "*Posterior distribution*\n",
        "\n",
        "Assuming we observe a single observation $y=(y_1,y_2)$, $$\\theta | y \\sim N(y, \\Sigma).$$\n",
        "\n",
        "Let’s derive the full conditional distributions for $\\theta_1$ and $\\theta_2$.\n",
        "\n",
        "<br>  \n",
        "<br>  \n",
        "<br>  \n",
        "<br>  \n",
        "<br>  \n",
        "<br>  \n",
        "<br>  \n",
        "<br>  \n",
        "<br>  \n",
        "<br>  \n",
        "<br>  \n",
        "<br>  \n",
        "<br>  \n",
        "<br>  \n",
        "<br>  \n",
        "<br>\n",
        "\n",
        "*Full conditional distributions*\n",
        "\n",
        "$\\theta_1 | \\theta_2, y \\sim N(y_1 + \\rho(\\theta_2-y_2),1-\\rho^2)$\n",
        "\n",
        "$\\theta_2 | \\theta_1, y \\sim N(y_2 + \\rho(\\theta_1-y_1), 1-\\rho^2)$\n",
        "\n",
        "Let’s sample from the posterior distribution using a Gibbs sampler assuming $y=(0,0)$ and $\\rho=0.8$.\n",
        "\n",
        "First, we set some of the needed parameters."
      ],
      "id": "e540ceda-bd6a-4a4c-b3ec-4df9d749ff1d"
    },
    {
      "cell_type": "code",
      "execution_count": 2,
      "metadata": {},
      "outputs": [],
      "source": [
        "# set parameters\n",
        "rho = .8\n",
        "sigma = sqrt(1 - rho^2)\n",
        "#observed data\n",
        "y1 = 0\n",
        "y2 = 0"
      ],
      "id": "76e83823-d16b-422c-ab40-d97211db5cf2"
    },
    {
      "cell_type": "markdown",
      "metadata": {},
      "source": [
        "Let’s create a function, `gibbs`, to do the sampling. The function takes:\n",
        "\n",
        "-   `B`: the number of cycles to run.\n",
        "-   `theta`: the vector of initial values."
      ],
      "id": "4b40327e-1dd6-4ec1-9c2e-6a23af888a3f"
    },
    {
      "cell_type": "code",
      "execution_count": 3,
      "metadata": {},
      "outputs": [],
      "source": [
        "gibbs = function(B, theta) {\n",
        "  #create matrix to store samples\n",
        "  theta_sims = matrix(0, nrow = B + 1, ncol = 2)\n",
        "  theta_sims[1,] = theta\n",
        "  # run gibbs sampler for B cycles\n",
        "  for (i in 2:(B+1)) {\n",
        "    # determine full conditional mean for theta1\n",
        "    m1 = y1 + rho * (theta[2] - y2)\n",
        "    # simulate from full conditional distribution for theta1\n",
        "    theta[1] = rnorm(1, m1, sigma)\n",
        "    # determine full conditional mean for theta2\n",
        "    m2 = y2 + rho * (theta[1] - y1)\n",
        "    # simulate from full conditional distribution for theta1\n",
        "    theta[2] = rnorm(1, m2, sigma)\n",
        "    # save sample\n",
        "    theta_sims[i, ] = theta\n",
        "  }\n",
        "  return(theta_sims)\n",
        "}"
      ],
      "id": "b6bdec3b-2f4a-4ad0-938d-9dc6672d2750"
    },
    {
      "cell_type": "markdown",
      "metadata": {},
      "source": [
        "Let’s run an initial chain of 1000 cycles with a starting value $\\theta=(-2.5, -2.5)$."
      ],
      "id": "80c85b47-efb1-43bd-abfd-4f97bc713849"
    },
    {
      "cell_type": "code",
      "execution_count": 4,
      "metadata": {},
      "outputs": [],
      "source": [
        "# run initial chain\n",
        "chain1 = gibbs(B = 1000, theta = c(-2.5, -2.5))"
      ],
      "id": "77f60bc7-06e4-4a10-8d3c-6559ff1ab5c6"
    },
    {
      "cell_type": "markdown",
      "metadata": {},
      "source": [
        "Let’s draw a “sand” plot of our first chain."
      ],
      "id": "75279125-fe0f-4f0a-81eb-298c58a61628"
    },
    {
      "cell_type": "code",
      "execution_count": 5,
      "metadata": {},
      "outputs": [],
      "source": [
        "plot(chain1, pch = \".\",\n",
        "     xlab = expression(theta[1]),\n",
        "     ylab = expression(theta[2]))\n",
        "title(\"Samples from Gibbs sampler\")"
      ],
      "id": "28ff5b11-1b8d-4a6d-af8f-b35ce8293ae4"
    },
    {
      "cell_type": "markdown",
      "metadata": {},
      "source": [
        "We now run 3 more chains with different starting values."
      ],
      "id": "d3d17f8e-7db9-43a4-9930-b4b14ec9b64c"
    },
    {
      "cell_type": "code",
      "execution_count": 6,
      "metadata": {},
      "outputs": [],
      "source": [
        "chain2 = gibbs(B = 1000, c(-2.5, -2.5))\n",
        "chain3 = gibbs(B = 1000, c(2.5, -2.5))\n",
        "chain4 = gibbs(B = 1000, c(2.5, 2.5))"
      ],
      "id": "63eaaaaa-acce-464e-8d32-d9088b2635cb"
    },
    {
      "cell_type": "markdown",
      "metadata": {},
      "source": [
        "We now plot the samples from all 4 chains in one graphic."
      ],
      "id": "ebf3de11-90ef-494b-be8d-dc95857eb4a1"
    },
    {
      "cell_type": "code",
      "execution_count": 7,
      "metadata": {},
      "outputs": [],
      "source": [
        "# chain 1\n",
        "plot(chain1, pch = \".\",\n",
        "     xlab = expression(theta[1]),\n",
        "     ylab = expression(theta[2]))\n",
        "# chains 2-4\n",
        "points(chain2, pch = \".\", col = \"orange\")\n",
        "points(chain3, pch = \".\", col = \"blue\")\n",
        "points(chain4, pch = \".\", col = \"grey\")\n",
        "# add legend\n",
        "legend(\"topleft\", pch = 20,\n",
        "       col = c(\"black\", \"orange\", \"blue\", \"grey\"),\n",
        "       legend = c(\"Chain 1\", \"Chain 2\", \"Chain 3\", \"Chain 4\"))\n",
        "title(\"Samples from Gibbs sampler\")"
      ],
      "id": "723dbfa7-541f-4c82-bb1a-708b89143b8b"
    },
    {
      "cell_type": "markdown",
      "metadata": {},
      "source": [
        "We now plot the first 10 cycles of the 4 chains using the `plot_mcmc_path` function from the **bayesutils** package.\n",
        "\n",
        "`plot_mcmc_path` takes:\n",
        "\n",
        "-   `x`: a matrix with 2 columns or a list of 2 column matrices.\n",
        "-   `ncycles`: the number of cycles to plot."
      ],
      "id": "adb464a6-c32f-4395-b96f-b9fae2be735b"
    },
    {
      "cell_type": "code",
      "execution_count": 8,
      "metadata": {},
      "outputs": [],
      "source": [
        "plot_mcmc_path(\n",
        "  list(chain1, chain2, chain3, chain4),\n",
        "  ncycles = 10,\n",
        "  xlim = c(-2.5, 2.5),\n",
        "  ylim = c(-2.5, 2.5),\n",
        "  xlab = expression(theta[1]),\n",
        "  ylab = expression(theta[2]),\n",
        "  main = \"First 10 cycles of each chain\"\n",
        ")"
      ],
      "id": "22042e3a-5dcb-4dcb-9815-800222bc7c6c"
    },
    {
      "cell_type": "markdown",
      "metadata": {},
      "source": [
        "# Example: Normal distribution with $\\mu$ and $\\sigma^2$ unknown and conjugate prior\n",
        "\n",
        "*Data distribution*\n",
        "\n",
        "$y_1,\\ldots,y_n \\mid \\mu,\\sigma^2 \\stackrel{i.i.d.}{\\sim} N(\\mu,\\sigma^2)$.\n",
        "\n",
        "*Prior distribution*\n",
        "\n",
        "$\\mu \\mid \\sigma^2 \\sim N(\\mu_0, \\sigma^2/\\kappa_0)$\n",
        "\n",
        "$\\sigma^2 \\sim \\text{Inv-}\\chi^2_{\\nu_0}(\\sigma_0^2)$\n",
        "\n",
        "where\n",
        "\n",
        "$p(\\sigma^2) \\propto (\\sigma^2)^{-\\left(\\frac{\\nu_0}{2} + 1\\right)} \\exp\\left(-\\frac{\\nu_0 \\sigma_0^2}{2\\sigma^2}\\right)$.\n",
        "\n",
        "*Data density*\n",
        "\n",
        "$p(y \\mid \\mu,\\sigma^2) \\propto$\n",
        "\n",
        "<br>  \n",
        "<br>  \n",
        "<br>  \n",
        "<br>\n",
        "\n",
        "$p(\\mu,\\sigma^2\\mid y) \\propto$\n",
        "\n",
        "<br>  \n",
        "<br>  \n",
        "<br>  \n",
        "<br>  \n",
        "<br>  \n",
        "<br>  \n",
        "<br>  \n",
        "<br>\n",
        "\n",
        "Derive the full conditional distributions\n",
        "\n",
        "<br>  \n",
        "<br>  \n",
        "<br>  \n",
        "<br>  \n",
        "<br>  \n",
        "<br>  \n",
        "<br>  \n",
        "<br>  \n",
        "<br>  \n",
        "<br>  \n",
        "<br>  \n",
        "<br>  \n",
        "<br>  \n",
        "<br>  \n",
        "<br>  \n",
        "<br>\n",
        "\n",
        "*Full conditional distributions*\n",
        "\n",
        "$\\mu \\mid \\sigma^2, y \\sim N(\\mu_n, \\tau_n^2)$ with\n",
        "\n",
        "$$\n",
        "\\mu_n = \\frac{\\kappa_0}\n",
        "{\\sigma^2}\\mu_0 + \\frac{n}{\\sigma^2}\\bar{y}\n",
        "$$\n",
        "\n",
        "and\n",
        "\n",
        "$$\n",
        "\\tau_n^2=\\frac{1}{\\frac{\\kappa_0}{\\sigma^2}+\\frac{n}{\\sigma^2}}=\\frac{\\sigma^2}{\\kappa_0+n}.\n",
        "$$ $\\sigma^2 \\mid \\mu, y \\sim \\text{Inv-}\\chi^2_{\\nu_n}(s_n^2)$\n",
        "\n",
        "with\n",
        "\n",
        "$$\n",
        "\\nu_n = \\nu_0 + n + 1\n",
        "$$\n",
        "\n",
        "and\n",
        "\n",
        "$$\n",
        "s_n^2=\\frac{\\mu_0 \\sigma_0^2+\\kappa_0 (\\mu-\\mu_0 )^2+(n-1) s^2+n(\\bar{y}-\\mu)^2}{\\nu_n}.\n",
        "$$\n",
        "\n",
        "**Example: Midge Data**\n",
        "\n",
        "------------------------------------------------------------------------\n",
        "\n",
        "Grogan and Wirth (1981) provide data on the wing length in millimeters of nine members of a species of midge (small, two-winged flies). From these nine measurements, we wish to make inference on the population mean $\\mu$ and population variance $\\sigma^2$. Create a Gibbs sampler for the parameters $\\mu$ and $\\sigma^2$.\n",
        "\n",
        "Studies of other populations suggest that the true mean should be around 1.9 mm with a standard deviation of 0.1. However, this population may be different from the others, so we choose $\\kappa_0 = \\nu_0 = 1$ so that the prior distributions are only weakly centered around these estimates from other populations.\n",
        "\n",
        "*Data distribution*\n",
        "\n",
        "$y_1,\\ldots,y_n \\mid \\mu, \\sigma^2 \\stackrel{i.i.d.}{\\sim} N(\\mu,\\sigma^2)$\n",
        "\n",
        "*Prior distributions*\n",
        "\n",
        "$\\mu \\mid \\sigma^2 N(\\mu_0, \\sigma^2/\\kappa_0)$ with $\\mu_0=1.9$ and $\\kappa_0=1$.\n",
        "\n",
        "$\\sigma^2 \\sim \\text{Inv-}\\chi^2_{\\nu_0}(\\sigma_0^2)$ with $\\nu_0=1$ and $\\sigma_0^2=(0.1)^2$.\n",
        "\n",
        "We set our seed for reproducible results"
      ],
      "id": "1b04e708-04bd-4f20-ba2d-c480c1586105"
    },
    {
      "cell_type": "code",
      "execution_count": 9,
      "metadata": {},
      "outputs": [],
      "source": [
        "set.seed(90)"
      ],
      "id": "98b73b93-c32c-4c9d-96dd-7cb05d68e6ca"
    },
    {
      "cell_type": "markdown",
      "metadata": {},
      "source": [
        "We set the parameters of our prior distributions"
      ],
      "id": "7572d2e6-f40d-488a-8fdc-99a85318c714"
    },
    {
      "cell_type": "code",
      "execution_count": 10,
      "metadata": {},
      "outputs": [],
      "source": [
        "mu0 = 1.9\n",
        "k0 = 1 #kappa0\n",
        "nu0 = 1\n",
        "sigma0 = 0.1"
      ],
      "id": "77263678-cbc5-4bf5-b0b9-3c0a2239a153"
    },
    {
      "cell_type": "markdown",
      "metadata": {},
      "source": [
        "We define the number of cycles, the data, the sample size, the sample mean, and the sample standard deviation"
      ],
      "id": "87c14118-e115-4c71-97ba-bb141bbb72d3"
    },
    {
      "cell_type": "code",
      "execution_count": 11,
      "metadata": {},
      "outputs": [],
      "source": [
        "B = 500000 # number of cycles\n",
        "# data\n",
        "y = c(1.64, 1.70, 1.72, 1.74, 1.82, 1.82, 1.82, 1.90, 2.08)\n",
        "# number of observations\n",
        "n = length(y)\n",
        "# sample mean\n",
        "ybar = mean(y)\n",
        "# sample standard deviation\n",
        "s = sd(y)"
      ],
      "id": "36744ce9-2541-440e-9df4-0c37d167352a"
    },
    {
      "cell_type": "markdown",
      "metadata": {},
      "source": [
        "We use the sample mean and standard deviation for our initial values."
      ],
      "id": "8c4d5d9d-ccdd-4821-a721-bc483e7c4db1"
    },
    {
      "cell_type": "code",
      "execution_count": 12,
      "metadata": {},
      "outputs": [],
      "source": [
        "#Initial value for mu\n",
        "mu = mean(y)\n",
        "#Initial value for sigma\n",
        "sigma = sd(y)"
      ],
      "id": "c75c192c-c7c2-4a16-b909-2c349617f0b4"
    },
    {
      "cell_type": "markdown",
      "metadata": {},
      "source": [
        "We compute the parameters of our full conditional distributions."
      ],
      "id": "a3bfb825-3118-4055-a7e9-867e39e03164"
    },
    {
      "cell_type": "code",
      "execution_count": 13,
      "metadata": {},
      "outputs": [],
      "source": [
        "kn = k0 + n\n",
        "mun = (k0 * mu0 + n * ybar) / kn\n",
        "nun = nu0 + n + 1"
      ],
      "id": "c5084110-a03f-4bd6-b1d4-50382346e3f2"
    },
    {
      "cell_type": "markdown",
      "metadata": {},
      "source": [
        "We now implement our Gibbs sampler."
      ],
      "id": "1a2a2921-2c31-4ab6-847e-52a8d923d1d2"
    },
    {
      "cell_type": "code",
      "execution_count": 14,
      "metadata": {},
      "outputs": [],
      "source": [
        "sigmasqpost = numeric(B)\n",
        "mupost = numeric(B)\n",
        "for (i in 1:B) {\n",
        "    mu = rnorm(1, mun, sigma/sqrt(kn))\n",
        "\n",
        "    #parameter for full conditional posterior of sigma^2\n",
        "    ssqn = (nu0 * sigma0^2 + k0 * (mu - mu0)^2 + (n - 1) * s^2 + n * (ybar - mu)^2)/nun\n",
        "\n",
        "    # draw from full conditional of sigmasq\n",
        "    sigmasq = rinvchisq(1, df = nun, scale = ssqn)\n",
        "    sigma = sqrt(sigmasq)\n",
        "\n",
        "    # draw from full conditional of mu\n",
        "    mupost[i] = mu\n",
        "    sigmasqpost[i] = sigmasq\n",
        "}"
      ],
      "id": "5f5b1855-69fc-41f4-84a3-7bf480316fb2"
    },
    {
      "cell_type": "markdown",
      "metadata": {},
      "source": [
        "In *Bayesian Data Analysis, 3rd edition*, Gelman et al. provide the exact marginal posterior distributions for $\\mu$ and $\\sigma^2$:\n",
        "\n",
        "$\\mu \\mid y \\sim t_{\\nu_n}(\\mu_n, \\tau^2_n/\\kappa_n)$\n",
        "\n",
        "and\n",
        "\n",
        "$\\sigma^2\\mid y \\sim \\text{Inv-}\\chi^2_{\\nu_n}(\\tau_n^2)$,\n",
        "\n",
        "where\n",
        "\n",
        "$\\nu_n = \\nu_0 + n$\n",
        "\n",
        "and\n",
        "\n",
        "$\\tau_n^2 = (\\nu_0\\sigma_0^2 + (n - 1)s^2 + \\kappa_0 n/\\kappa_n (\\bar{y} - \\mu_0)^2)/\\nu_n$.\n",
        "\n",
        "Note that this $\\nu_n$ and $\\tau_n^2$ differ from the $\\nu_n$ and $\\tau_n^2$ defined for the full conditional distributions.\n",
        "\n",
        "Let’s compare the results from our Gibbs sampler with the true marginal posterior distributions.\n",
        "\n",
        "We plot the true and approximate marginal posterior density of $\\mu$."
      ],
      "id": "f002b71a-85cf-4af7-911c-daeec29c395e"
    },
    {
      "cell_type": "code",
      "execution_count": 15,
      "metadata": {},
      "outputs": [],
      "source": [
        "# define nun and taunsq\n",
        "vn = nu0 + n\n",
        "taunsq = (nu0*sigma0^2 + (n - 1) * s^2 + k0 * n/kn * (ybar - mu0)^2)/vn\n",
        "\n",
        "# plot approximate posterior density for mu\n",
        "plot(density(mupost), main = \"\",\n",
        "     xlab = \"mu\", xlim = c(1.6, 2))\n",
        "# plot true posterior density for mu\n",
        "x = seq(-1, 3, len = 1001)\n",
        "lines(x, dst(x, df = nun, mean = mun, sigma = sqrt(taunsq/kn)),\n",
        "      col = \"orange\")\n",
        "title(\"Posterior Density for mu\")\n",
        "legend(\"topright\", legend = c(\"Gibbs\", \"true\"), col = c(\"black\", \"orange\"),\n",
        "    lwd = 1)"
      ],
      "id": "6ce6747c-8209-4275-87a8-1c4f3f115211"
    },
    {
      "cell_type": "markdown",
      "metadata": {},
      "source": [
        "We plot the true and approximate marginal posterior density of $\\sigma^2$."
      ],
      "id": "4104d3f1-b846-46e0-ab6d-839f3601c3c2"
    },
    {
      "cell_type": "code",
      "execution_count": 16,
      "metadata": {},
      "outputs": [],
      "source": [
        "# plot marginal posterior for sigmasq\n",
        "plot(density(sigmasqpost), main = \"\",\n",
        "     xlab = \"sigmasq\", xlim = c(0, 0.1))\n",
        "x = seq(0, 0.1, len = 1001)\n",
        "lines(x, dinvchisq(x, df = vn, scale = taunsq), col = \"orange\")\n",
        "title(\"Posterior Density for sigmasq\")\n",
        "legend(\"topright\",\n",
        "       legend = c(\"Gibbs\", \"True\"),\n",
        "       col = c(\"black\", \"orange\"),\n",
        "       lwd = 1)"
      ],
      "id": "95cdf9ee-1c98-452b-a4f7-55362fd262e9"
    },
    {
      "cell_type": "markdown",
      "metadata": {},
      "source": [
        "We compute the empirical posterior quantiles for $\\mu$."
      ],
      "id": "e3c0b9c7-dded-415e-a734-b013b0cda955"
    },
    {
      "cell_type": "code",
      "execution_count": 17,
      "metadata": {},
      "outputs": [],
      "source": [
        "#posterior quantiles for mu\n",
        "p = c(0.01, 0.10, 0.25, 0.5, 0.75, 0.90, 0.99)\n",
        "quantile(mupost, prob = p)"
      ],
      "id": "112c1185-0957-4d03-89d4-0d727007cb7d"
    },
    {
      "cell_type": "markdown",
      "metadata": {},
      "source": [
        "We compute the true posterior quantiles for $\\mu$."
      ],
      "id": "c75bc1c6-cbab-4940-9d48-39a08fdddb6f"
    },
    {
      "cell_type": "code",
      "execution_count": 18,
      "metadata": {},
      "outputs": [],
      "source": [
        "qst(p, df = nun, mean = mun, sigma = sqrt(taunsq/kn))"
      ],
      "id": "62d6f62a-34a4-4c7e-b83a-6970d8ff1b05"
    },
    {
      "cell_type": "markdown",
      "metadata": {},
      "source": [
        "We compute the empirical posterior quantiles for $\\sigma^2$."
      ],
      "id": "7117e04c-ae36-460d-ab51-e09a5893bf3b"
    },
    {
      "cell_type": "code",
      "execution_count": 19,
      "metadata": {},
      "outputs": [],
      "source": [
        "quantile(sigmasqpost, prob = p)"
      ],
      "id": "82574ed1-94ba-44d3-b394-9202704457ee"
    },
    {
      "cell_type": "markdown",
      "metadata": {},
      "source": [
        "We compute the true posterior quantiles for $\\sigma^2$."
      ],
      "id": "19c80780-8d8f-45b5-b0c6-21e4ed4838c4"
    },
    {
      "cell_type": "code",
      "execution_count": 20,
      "metadata": {},
      "outputs": [],
      "source": [
        "qinvchisq(p, df = vn, scale = taunsq)"
      ],
      "id": "5a7fdc38-ed3b-4933-87c8-4e6a5a54ba85"
    },
    {
      "cell_type": "markdown",
      "metadata": {},
      "source": [
        "We compute the empirical 95% central posterior interval for $\\mu$."
      ],
      "id": "b0da3e09-a449-44ef-ae71-9ba29ef14220"
    },
    {
      "cell_type": "code",
      "execution_count": 21,
      "metadata": {},
      "outputs": [],
      "source": [
        "quantile(mupost, c(.025, .975))"
      ],
      "id": "18a477de-daf9-4b43-98e4-42f40fca8933"
    },
    {
      "cell_type": "markdown",
      "metadata": {},
      "source": [
        "We compute the true 95% central posterior interval for $\\mu$."
      ],
      "id": "88c18117-7c3a-464e-98f2-4b8db0e0e8e5"
    },
    {
      "cell_type": "code",
      "execution_count": 22,
      "metadata": {},
      "outputs": [],
      "source": [
        "qst(c(0.025, 0.975), df = nun, mean = mun,\n",
        "    sigma = sqrt(taunsq/kn))"
      ],
      "id": "e795c535-fe38-4cb0-8291-fe203de9b23f"
    },
    {
      "cell_type": "markdown",
      "metadata": {},
      "source": [
        "We compute the empirical 95% central posterior interval for $\\sigma^2$."
      ],
      "id": "59c52b95-d1f8-4d76-a539-60ee14f93dfe"
    },
    {
      "cell_type": "code",
      "execution_count": 23,
      "metadata": {},
      "outputs": [],
      "source": [
        "quantile(sigmasqpost, c(.025, .975))"
      ],
      "id": "4a9298e3-e9fb-48e3-8f14-0e98fae5de5f"
    },
    {
      "cell_type": "markdown",
      "metadata": {},
      "source": [
        "We compute the true 95% central posterior interval for $\\sigma^2$."
      ],
      "id": "4a6109d9-97a3-4dda-89b8-fa3b2e273255"
    },
    {
      "cell_type": "code",
      "execution_count": 24,
      "metadata": {},
      "outputs": [],
      "source": [
        "qinvchisq(c(0.025, 0.975), df = vn, scale = taunsq)"
      ],
      "id": "4d9d58ee-b4f3-40a8-8004-182aae1a06bb"
    },
    {
      "cell_type": "markdown",
      "metadata": {},
      "source": [
        "Lastly, we plot the first 100 cycles of our Gibbs sampler."
      ],
      "id": "c0f2dcf8-458a-4d1e-b251-c8d54263b4fa"
    },
    {
      "cell_type": "code",
      "execution_count": 25,
      "metadata": {},
      "outputs": [],
      "source": [
        "plot_mcmc_path(cbind(mupost, sigmasqpost), ncycles = 100,\n",
        "               xlab = expression(mu), ylab = expression(sigma^2))"
      ],
      "id": "900369ae-a738-4137-a16a-6e185874a3e1"
    },
    {
      "cell_type": "code",
      "execution_count": 26,
      "metadata": {},
      "outputs": [],
      "source": [
        "#plot cycles of gibbs sampler for 100 iterations\n",
        "plot_mcmc_path(cbind(mupost, sigmasqpost),\n",
        "               ncycles = 100, type = \"cycle\",\n",
        "               xlab = expression(mu), ylab = expression(sigma^2))"
      ],
      "id": "4515d866-010b-4abe-9ea8-859a452c522f"
    },
    {
      "cell_type": "markdown",
      "metadata": {},
      "source": [
        "# Example: Multivariate normal with semi-conjugate prior\n",
        "\n",
        "*Data distribution*\n",
        "\n",
        "$\\mathbf{y}_1,\\mathbf{y}_2,…,\\mathbf{y}_n \\mid \\boldsymbol{\\mu},\\boldsymbol{\\Sigma} \\stackrel{i.i.d.}{\\sim} N(\\boldsymbol{\\mu},\\boldsymbol{\\Sigma})$ with each vector having length $d$.\n",
        "\n",
        "*Prior distributions*\n",
        "\n",
        "$\\boldsymbol{\\mu} \\sim N(\\boldsymbol{\\mu}_0, \\boldsymbol{\\Lambda}_0)$.\n",
        "\n",
        "$\\boldsymbol{\\Sigma} \\sim \\text{Inv-Wishart}_{\\nu_0} ( \\mathbf{Κ}_0^{-1})$.\n",
        "\n",
        "$p(\\boldsymbol{\\Sigma}) \\propto |\\boldsymbol{\\Sigma}|^{-(\\nu_0+d+1)/2} \\exp\\left(-\\frac{1}{2} \\text{tr}(\\mathbf{K}_0 \\boldsymbol{\\Sigma}^{-1})\\right).$\n",
        "\n",
        "$p(\\boldsymbol{\\mu}, \\boldsymbol{\\Sigma} \\mid y) \\propto$\n",
        "\n",
        "<br>  \n",
        "<br>  \n",
        "<br>  \n",
        "<br>  \n",
        "<br>  \n",
        "<br>  \n",
        "<br>  \n",
        "<br>  \n",
        "<br>  \n",
        "<br>\n",
        "\n",
        "Derive the full conditional distributions:\n",
        "\n",
        "<br>  \n",
        "<br>  \n",
        "<br>  \n",
        "<br>  \n",
        "<br>  \n",
        "<br>  \n",
        "<br>  \n",
        "<br>  \n",
        "<br>  \n",
        "<br>  \n",
        "<br>  \n",
        "<br>  \n",
        "<br>  \n",
        "<br>  \n",
        "<br>  \n",
        "<br>\n",
        "\n",
        "*Full conditional distributions*\n",
        "\n",
        "$\\boldsymbol{\\mu} \\mid \\boldsymbol{\\Sigma}, y \\sim N(\\boldsymbol{\\mu}_n,\\boldsymbol{\\Lambda}_n)$, where\n",
        "\n",
        "$$\\boldsymbol{\\mu}_n=\\boldsymbol{\\Lambda_n} (\\boldsymbol{\\Lambda}_0^{-1} \\boldsymbol{\\mu}_0+n \\boldsymbol{\\Sigma}^{-1} \\bar{y})$$\n",
        "\n",
        "and\n",
        "\n",
        "$$\\boldsymbol{\\Lambda}_n^{-1}=\\boldsymbol{\\Lambda}_0^{-1}+n\\boldsymbol{\\Sigma}^{-1}.$$\n",
        "\n",
        "$\\boldsymbol{\\Sigma}\\mid \\boldsymbol{\\mu},y \\sim \\text{Inv-Wishart}_{\\nu_n} (\\mathbf{K}_n^{-1 })$, where\n",
        "\n",
        "$$\\nu_n=\\mu_0+n,$$\n",
        "\n",
        "$$\\mathbf{K}_n=\\mathbf{K}_0+\\mathbf{S}_\\mu,$$\n",
        "\n",
        "and\n",
        "\n",
        "$$\n",
        "\\mathbf{S}_\\mu=\\sum_{i=1}^n (\\mathbf{y}_i-\\boldsymbol{\\mu}) (\\mathbf{y}_i-\\boldsymbol{\\mu})^T.\n",
        "$$\n",
        "\n",
        "A result from linear algebra says that\n",
        "\n",
        "$$\\sum_{i=1}^n (\\mathbf{y}_i-\\boldsymbol{\\mu})\\boldsymbol{\\Sigma}^{-1} (\\mathbf{y}_i-\\boldsymbol{\\mu})^T = \\text{tr}(\\mathbf{S}_\\mu \\boldsymbol{\\Sigma^{-1}})$$\n",
        "\n",
        "where\n",
        "\n",
        "$$\\mathbf{S}_\\mu=\\sum_{i=1}^n (\\mathbf{y}_i-\\boldsymbol{\\mu}) (\\mathbf{y}_i-\\boldsymbol{\\mu})^T.$$\n",
        "\n",
        "$\\mathbf{S}_\\mu$ is the residual sum of squares matrix for the vectors $\\mathbf{y}_1,\\mathbf{y}_2,\\ldots,\\mathbf{y}_n$ if the population mean is presumed to be $\\boldsymbol{\\mu}$.\n",
        "\n",
        "**Example: Reading Scores**\n",
        "\n",
        "------------------------------------------------------------------------\n",
        "\n",
        "A sample of 22 children are given reading comprehension tests before and after receiving a particular instructional method. Each student will then have two scores denoting the pre- and post-instructional scores.\n",
        "\n",
        "Each row of the data set is a two-dimensional vector representing a single case, distributed $N(\\boldsymbol{\\mu},\\boldsymbol{\\Sigma})$.\n",
        "\n",
        "The exam was designed to give an average score around 50 out of 100, so set $\\boldsymbol{μ}_0=(50,50)$.\n",
        "\n",
        "Since the true mean cannot be below 0 or above 100, we want the prior variances to keep $\\boldsymbol{\\mu}$ inside this range $[0, 100]^2$ with high probability.\n",
        "\n",
        "We can use\n",
        "\n",
        "$$\n",
        "\\boldsymbol{\\Sigma} =\n",
        "\\begin{bmatrix}\n",
        " 625 & 312.5 \\\\\n",
        "312.5 & 625\n",
        "\\end{bmatrix},\n",
        "$$\n",
        "\n",
        "which would mean that the prior probability that the marginal mean is outside $[0, 100]^2$ is only 0.05.\n",
        "\n",
        "This also accounts for the fact that the two exams measure similar things, so we think the correlation between the means is around 0.5.\n",
        "\n",
        "Since $E(\\text{Inv-Wishart}_{\\nu_0} (\\mathbf{K}_0^{-1}))=\\mathbf{K}_0/(\\nu_0-d-1)$, $\\nu_0=4$ will loosely center $\\mathbf{\\Sigma}$ around $\\mathbf{K}_0$.\n",
        "\n",
        "What is the probability that the post-instruction mean is greater than the pre-instruction mean?\n",
        "\n",
        "What is the probability that the post-instruction test score is greater than the pre-instruction test score for a new student?\n",
        "\n",
        "Construct a Gibbs sampler to sample from the posterior distribution for $\\boldsymbol{\\mu}$ and $\\boldsymbol{\\Sigma}$.\n",
        "\n",
        "*Data distribution*\n",
        "\n",
        "$y \\mid \\boldsymbol{\\mu},\\boldsymbol{\\Sigma}\\stackrel{i.i.d.}{\\sim} N(\\boldsymbol{\\mu},\\boldsymbol{\\Sigma})$.\n",
        "\n",
        "*Prior distributions*\n",
        "\n",
        "$\\boldsymbol{\\mu}\\sim N(\\boldsymbol{\\mu}_0,\\boldsymbol{\\Lambda}_0)$ with\n",
        "\n",
        "$\\boldsymbol{\\mu}_0=(50,50)$\n",
        "\n",
        "and\n",
        "\n",
        "$$\n",
        "\\boldsymbol{\\Lambda}_0 =\n",
        "\\begin{bmatrix}\n",
        " 625 & 312.5 \\\\\n",
        "312.5 & 625\n",
        "\\end{bmatrix}.\n",
        "$$\n",
        "\n",
        "$\\boldsymbol{\\Sigma} \\sim \\text{Inv-Wishart}_{\\nu_0} (\\mathbf{K}_0^{-1})$ with\n",
        "\n",
        "$\\nu_0=4$\n",
        "\n",
        "and\n",
        "\n",
        "$$\\mathbf{K}_0=\n",
        "\\begin{bmatrix}\n",
        " 625 & 312.5 \\\\\n",
        "312.5 & 625\n",
        "\\end{bmatrix}.$$\n",
        "\n",
        "We begin by loading the data."
      ],
      "id": "9dde1503-0c42-4a4d-a4ac-a160fc267db8"
    },
    {
      "cell_type": "code",
      "execution_count": 27,
      "metadata": {},
      "outputs": [],
      "source": [
        "# load data\n",
        "y = matrix(c(\n",
        "59, 77, 43, 39, 34, 46, 32, 26, 42, 38, 38, 43, 55, 68,\n",
        "67, 86, 64, 77, 45, 60, 49, 50, 72, 59, 34, 38, 70, 48,\n",
        "34, 55, 50, 58, 41, 54, 52, 60, 60, 75, 34, 47, 28, 48,\n",
        "35, 33), ncol = 2, byrow = TRUE)\n",
        "# reformat\n",
        "y = data.frame(pretest = y[,1], posttest = y[,2])"
      ],
      "id": "a1ef1632-f8d7-42c4-8314-dc29e3e349bb"
    },
    {
      "cell_type": "markdown",
      "metadata": {},
      "source": [
        "We set some generic parameters."
      ],
      "id": "0116d63f-a8a5-446a-946a-f90c0a0db97a"
    },
    {
      "cell_type": "code",
      "execution_count": 28,
      "metadata": {},
      "outputs": [],
      "source": [
        "n = nrow(y)\n",
        "d = ncol(y)"
      ],
      "id": "7fd6b5cc-63be-44fe-b96e-6072b217fdbf"
    },
    {
      "cell_type": "markdown",
      "metadata": {},
      "source": [
        "We set the prior parameters."
      ],
      "id": "fde91fba-c308-4db4-8a39-16d5831bf9ea"
    },
    {
      "cell_type": "code",
      "execution_count": 29,
      "metadata": {},
      "outputs": [],
      "source": [
        "mu0 = c(50, 50)\n",
        "nu0 = 4\n",
        "L0 = K0 = 25^2 * matrix(c(1, .5, .5, 1), nrow = 2)"
      ],
      "id": "94c11f2f-81fb-4cfe-b11d-cfda20a635b3"
    },
    {
      "cell_type": "markdown",
      "metadata": {},
      "source": [
        "We calculate necessary summary quantities"
      ],
      "id": "8e50435f-4258-4606-bd1d-fc8979737e5c"
    },
    {
      "cell_type": "code",
      "execution_count": 30,
      "metadata": {},
      "outputs": [],
      "source": [
        "ybar = colMeans(y)"
      ],
      "id": "e34e96aa-3bd8-4b22-86be-13148b5a4688"
    },
    {
      "cell_type": "markdown",
      "metadata": {},
      "source": [
        "We determine some posterior parameters"
      ],
      "id": "047493d6-a38a-4d7e-8f10-25682a4f5866"
    },
    {
      "cell_type": "code",
      "execution_count": 31,
      "metadata": {},
      "outputs": [],
      "source": [
        "nun = nu0 + n"
      ],
      "id": "4b924dc8-c878-4d55-b8c5-d0c32ea3118d"
    },
    {
      "cell_type": "markdown",
      "metadata": {},
      "source": [
        "We set the number of cycles."
      ],
      "id": "2b5e558b-8af9-4442-862c-20d27632726a"
    },
    {
      "cell_type": "code",
      "execution_count": 32,
      "metadata": {},
      "outputs": [],
      "source": [
        "B = 10000"
      ],
      "id": "48b30082-39c6-4143-ab23-5df4446f5043"
    },
    {
      "cell_type": "markdown",
      "metadata": {},
      "source": [
        "We create initial guesses for $\\boldsymbol{\\mu}$, $\\boldsymbol{\\Sigma}$, and $\\mathbf{S}_\\mu$."
      ],
      "id": "1dae52ef-aecf-452b-a930-78b92aaf7d5c"
    },
    {
      "cell_type": "code",
      "execution_count": 33,
      "metadata": {},
      "outputs": [],
      "source": [
        "mu = ybar\n",
        "Sigma = cov(y)\n",
        "# initial guess for Smu\n",
        "Smu = (n - 1) * var(y)"
      ],
      "id": "e8ea94b5-0d6b-426f-9536-04059b909bb5"
    },
    {
      "cell_type": "markdown",
      "metadata": {},
      "source": [
        "We create some matrices/arrays to store our results."
      ],
      "id": "edbece24-1600-4f0a-9d7a-94e79903ff2a"
    },
    {
      "cell_type": "code",
      "execution_count": 34,
      "metadata": {},
      "outputs": [],
      "source": [
        "mupost = matrix(0, nrow = B, ncol = d)\n",
        "Sigmapost = array(0, dim = c(d, d, B))\n",
        "ytildepost = matrix(0, nrow = B, ncol = d)"
      ],
      "id": "b04bd4dc-5f7e-4c72-8cac-1753753c3c75"
    },
    {
      "cell_type": "markdown",
      "metadata": {},
      "source": [
        "Finally, we execute our Gibbs sampler."
      ],
      "id": "14645aca-a772-42c1-b801-2131d57dca97"
    },
    {
      "cell_type": "code",
      "execution_count": 35,
      "metadata": {},
      "outputs": [],
      "source": [
        "for (i in 1:B) {\n",
        "    #determine full conditional distribution of mean,\n",
        "    #simulate from distribution\n",
        "    Ln = solve(solve(L0) + n * solve(Sigma))\n",
        "    mun = Ln %*% (solve(L0) %*% mu0 + n * solve(Sigma) %*% ybar)\n",
        "    mu = c((rmvnorm(1, mu = mun, v = Ln)))\n",
        "\n",
        "    #determine full conditional distribution of Sigma,\n",
        "    #simulate from distribution\n",
        "    Smu = (t(y) - mu) %*% t(t(y) - mu)\n",
        "    Kn = K0 + Smu\n",
        "\n",
        "    Sigma = rinvwish(1, df = nun, v = Kn)[,,1]\n",
        "\n",
        "    mupost[i, ] = mu\n",
        "    Sigmapost[,,i] = Sigma\n",
        "\n",
        "    ytildepost[i, ] = rmvnorm(1, mu = mu, v = Sigma)\n",
        "}"
      ],
      "id": "bf2566db-d299-4d63-a4d1-379a08a7d74d"
    },
    {
      "cell_type": "markdown",
      "metadata": {},
      "source": [
        "We estimate the posterior mean of $\\boldsymbol{\\mu}$."
      ],
      "id": "a55e5ce2-cbd1-4336-9a31-f3dc554f219d"
    },
    {
      "cell_type": "code",
      "execution_count": 36,
      "metadata": {},
      "outputs": [],
      "source": [
        "(mean.mupost = apply(mupost, 2, mean))"
      ],
      "id": "f25498d4-5f58-45f2-800d-dad57688bf1b"
    },
    {
      "cell_type": "markdown",
      "metadata": {},
      "source": [
        "We estimate the posterior variance of $\\boldsymbol{\\mu}$."
      ],
      "id": "a96760ac-0444-4e68-ba09-97cb2ff4015d"
    },
    {
      "cell_type": "code",
      "execution_count": 37,
      "metadata": {},
      "outputs": [],
      "source": [
        "(var.mupost = apply(mupost, 2, var))"
      ],
      "id": "5aa1392d-fe8c-4183-aa57-279a2e75bb63"
    },
    {
      "cell_type": "markdown",
      "metadata": {},
      "source": [
        "We estimate the posterior mean of $\\boldsymbol{\\Sigma}$."
      ],
      "id": "af97e932-6c5e-4a9d-822f-184bafa379ba"
    },
    {
      "cell_type": "code",
      "execution_count": 38,
      "metadata": {},
      "outputs": [],
      "source": [
        "(mean.Sigmapost = apply(Sigmapost, c(1, 2), mean))"
      ],
      "id": "3420b0a3-268d-436c-b415-c89a880fbf83"
    },
    {
      "cell_type": "markdown",
      "metadata": {},
      "source": [
        "We estimate the posterior variance of $\\boldsymbol{\\Sigma}$."
      ],
      "id": "a1bedf4a-6011-4241-8625-76b77daf3209"
    },
    {
      "cell_type": "code",
      "execution_count": 39,
      "metadata": {},
      "outputs": [],
      "source": [
        "(var.Sigmapost = apply(Sigmapost, c(1, 2), var))"
      ],
      "id": "98cb7d9b-fd4e-4509-a95e-09bc8ca1a8c0"
    },
    {
      "cell_type": "markdown",
      "metadata": {},
      "source": [
        "We compute some posterior quantiles for $\\boldsymbol{\\mu}$."
      ],
      "id": "d20b39fa-eb46-4950-9314-d3bdfd863425"
    },
    {
      "cell_type": "code",
      "execution_count": 40,
      "metadata": {},
      "outputs": [],
      "source": [
        "apply(mupost, 2, quantile, prob = c(.01, .25, .5, .75, .99))"
      ],
      "id": "defb4969-85b4-44f1-910f-a61686ce4dfb"
    },
    {
      "cell_type": "markdown",
      "metadata": {},
      "source": [
        "We plot the posterior densities of the pre- and post-test means."
      ],
      "id": "40563685-facb-40cc-80a7-0cfa5e7e284a"
    },
    {
      "cell_type": "code",
      "execution_count": 41,
      "metadata": {},
      "outputs": [],
      "source": [
        "dpretest = density(mupost[,1])\n",
        "dposttest = density(mupost[,2])\n",
        "plot(dpretest, type = \"l\", xlim = range(c(dpretest$x, dposttest$x)),\n",
        "    ylim = range(c(dpretest$y, dposttest$y)), main = \"\")\n",
        "lines(dposttest, col = \"orange\")\n",
        "legend(\"topleft\", legend = c(\"mu pretest\", \"mu postest\"),\n",
        "    col = c(\"black\", \"orange\"), lwd = c(1, 1))"
      ],
      "id": "5f1043bf-f9d1-45d2-84ee-f8a097872883"
    },
    {
      "cell_type": "markdown",
      "metadata": {},
      "source": [
        "We estimate $P(\\mu_{\\text{post}} > \\mu_{\\text{pre}})$."
      ],
      "id": "46040518-2fc4-4d6b-a3dd-39d91824a91a"
    },
    {
      "cell_type": "code",
      "execution_count": 42,
      "metadata": {},
      "outputs": [],
      "source": [
        "mean(mupost[,2] > mupost[,1])"
      ],
      "id": "c28267fe-54c1-444f-8e27-dc64823718a9"
    },
    {
      "cell_type": "markdown",
      "metadata": {},
      "source": [
        "We estimate $P(\\tilde{y}_{\\text{post}} > \\tilde{y}_{\\text{pre}})$."
      ],
      "id": "e9dab1c8-98dd-4220-9b9d-af5b910452cc"
    },
    {
      "cell_type": "code",
      "execution_count": 43,
      "metadata": {},
      "outputs": [],
      "source": [
        "mean(ytildepost[,2] > ytildepost[,1])"
      ],
      "id": "cf48b375-e6a4-4862-bbb4-7a601636feba"
    },
    {
      "cell_type": "markdown",
      "metadata": {},
      "source": [
        "We visualize the joint posterior density of $\\boldsymbol{\\mu}$."
      ],
      "id": "bb7723f2-b52d-4caa-86f6-0b43ec031b8a"
    },
    {
      "cell_type": "code",
      "execution_count": 44,
      "metadata": {},
      "outputs": [],
      "source": [
        "# estimate bivariate density\n",
        "d2d = MASS::kde2d(mupost[,1], mupost[,2], n = 50)\n",
        "# plot results\n",
        "autoimage::pimage(d2d, col = hcl.colors(64),\n",
        "                  xlab = \"mu pretest\", ylab = \"mu posttest\")\n",
        "contour(d2d, add = TRUE)\n",
        "points(mupost[1:100,], pch = 20)"
      ],
      "id": "5f586249-dda5-4c04-8d78-0450baee1628"
    },
    {
      "cell_type": "markdown",
      "metadata": {},
      "source": [
        "------------------------------------------------------------------------\n",
        "\n",
        "jupyter: kernelspec: display_name: R language: R name: ir language_info: codemirror_mode: r file_extension: .r mimetype: text/x-r-source name: R pygments_lexer: r version: 4.2.2\n",
        "\n",
        "------------------------------------------------------------------------"
      ],
      "id": "bdc4cafd-1ecf-4271-9054-c1df4042f128"
    }
  ],
  "nbformat": 4,
  "nbformat_minor": 5,
  "metadata": {
    "kernelspec": {
      "display_name": "Python 3",
      "language": "python",
      "name": "python3"
    }
  }
}