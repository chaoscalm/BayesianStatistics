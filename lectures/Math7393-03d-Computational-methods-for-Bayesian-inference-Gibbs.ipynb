{
  "cells": [
    {
      "cell_type": "markdown",
      "metadata": {},
      "source": [
        "# Computational methods for Bayesian inference\n",
        "\n",
        "Joshua French\n",
        "\n",
        "To open this information in an interactive Colab notebook, click the Open in Colab graphic below.\n",
        "\n",
        "<a href=\"https://colab.research.google.com/github/jfrench/BayesianStatistics/blob/master/lectures/Math7393-03d-Computational-methods-for-Bayesian-inference-Gibbs.ipynb\"> <img src=\"https://colab.research.google.com/assets/colab-badge.svg\"> </a>\n",
        "\n",
        "We will need certain packages to be available for this notebook. The code below will check if they are installed and install them if necessary."
      ],
      "id": "e571919a-ce47-4846-844a-08a990aef880"
    },
    {
      "cell_type": "code",
      "execution_count": 1,
      "metadata": {},
      "outputs": [],
      "source": [
        "# see if remotes package is available\n",
        "if (!require(\"remotes\", quietly = TRUE)) {\n",
        "  # if not, then install package\n",
        "  install.packages(\n",
        "    \"remotes\",\n",
        "    repos = \"https://cran.rstudio.com/\"\n",
        "    )\n",
        "}"
      ],
      "id": "e6f3c92d-3782-4816-982f-6e7a785d8d03"
    },
    {
      "cell_type": "code",
      "execution_count": 2,
      "metadata": {},
      "outputs": [],
      "source": [
        "# see if bayesutils package is available\n",
        "if (!require(\"bayesutils\", quietly = TRUE)) {\n",
        "  # if not, then install package\n",
        "  remotes::install_github(\"jfrench/bayesutils\")\n",
        "  library(bayesutils)\n",
        "}"
      ],
      "id": "cf0d84b2-749f-4d76-a8ad-205e5c01296b"
    },
    {
      "cell_type": "code",
      "execution_count": 3,
      "metadata": {},
      "outputs": [],
      "source": [
        "# see if autoimage package is available\n",
        "if (!require(\"autoimage\", quietly = TRUE)) {\n",
        "  # if not, then install package\n",
        "  install.packages(\"autoimage\")\n",
        "  library(autoimage,\n",
        "          repos = \"https://cran.rstudio.com/\",\n",
        "          quietly = TRUE)\n",
        "}"
      ],
      "id": "10f04752-7f4a-47bf-a053-44dc116f2a99"
    },
    {
      "cell_type": "markdown",
      "metadata": {},
      "source": [
        "# Introduction to MCMC Methods\n",
        "\n",
        "-   A *stochastic process* is a family of random variables $\\{\\theta^{(t)}\\}_{t\\in T}$, where $T$ is a subset of $[0, \\infty)$.\n",
        "    -   $\\theta^{(t)}$ denotes the stochastic process at time $t$.\n",
        "    -   The value $\\theta^{(t)}$ takes at time $t$ is known as the *state* of the process at time $t$.\n",
        "    -   We only consider discrete-time stochastic processes with $T=\\{0,1,2,…\\}$.\n",
        "-   The *state space* of a stochastic process is the set of all possible values the process takes.\n",
        "-   A *Markov chain* is a stochastic process $\\{\\theta^{(0)}, \\theta^{(1)}, \\ldots, \\theta^{(B)}\\}$ such that $$p(\\theta^{(t+1)} | \\theta^{(t)}, \\theta^{(t-1)}, \\ldots, \\theta^{(0)}) = p(\\theta^{(t+1)} | \\theta^{(t)}).$$\n",
        "    -   $p(\\theta^{(t+1)} | \\theta^{(t)})$ is often called the *transition distribution*.\n",
        "-   Markov chain Monte Carlo (MCMC) methods attempt to draw samples from a target distribution when sampling directly from the target distribution is impossible or computationally expensive.\n",
        "    -   The samples form a Markov chain.\n",
        "-   MCMC methods are constructed so that the (limiting) distribution of the Markov chain converges to the target distribution.\n",
        "    -   The distribution producing the samples at each step of the Markov chain becomes more like the target distribution at each step of the chain.\n",
        "-   A Markov chain converges to a *stationary distribution* when the Markov chain is irreducible, aperiodic, and positive recurrent.\n",
        "    -   In layman’s terms, for any state $i$ and $j$, we can travel from $i$ to $j$ in a finite number of steps with probability 1, and then we will travel back to $i$, but not in a specific pattern or number of steps.\n",
        "    -   This ensures that we adequately explore the entire support of our target distribution\n",
        "\n",
        "An effective MCMC method has two main properties:\n",
        "\n",
        "1.  It must be easy to draw from the $p(\\theta^{(t+1)}|\\theta^{(t)})$.\n",
        "2.  The stationary distribution of the Markov chain must match our target distribution.\n",
        "\n",
        "To construct a Markov chain using an MCMC algorithm:\n",
        "\n",
        "-   Specify an initial value, $\\theta^{(0)}$, for the chain.\n",
        "    -   Often this is a “likely” value of $\\theta$.\n",
        "-   For $t = 1,2, \\ldots, B$, draw samples from $p(\\theta^{(t+1)}|\\theta^{(t)})$ until $B$ is large enough that the stationary distribution is reached.\n",
        "-   After the chain has been implemented, check the convergence of the simulated sequence (or at least verify that there isn’t clear evidence that the chain hasn’t converged).\n",
        "    -   This is VERY important.\n",
        "\n",
        "Concluding thoughts:\n",
        "\n",
        "-   The *Gibbs* and *Metropolis-Hastings* algorithms are the most well-known MCMC algorithms.\n",
        "    -   They are designed so that the stationary distribution matches the target distribution.\n",
        "-   MCMC methods are most popularly used in Bayesian statistics.\n",
        "    -   In Bayesian statistics, the target distribution is generally the posterior distribution, $p(\\theta | y)$.\n",
        "\n",
        "# Gibbs sampling\n",
        "\n",
        "-   The *Gibbs sampling* algorithm (or *Gibbs sampler*) is the most popular Markov chain Monte Carlo (MCMC) method.\n",
        "-   The goal of the Gibbs sampler is to draw samples from a target distribution.\n",
        "-   The Gibbs sampling algorithm produces samples from the target distribution by successively drawing samples from the full conditional distributions of the target distribution.\n",
        "    -   The *full conditional distribution* of a random vector is the distribution of the random vector conditional on all the other random variables in the joint (i.e., target) distribution.\n",
        "\n",
        "Some notation and terminology:\n",
        "\n",
        "-   Let $\\theta$ be the vector of random variables comprising all variables of the target distribution, $p(\\theta | y)$.\n",
        "-   Partition $\\theta$ into $d$ components, i.e., $\\theta = (\\theta_1, \\theta_2, \\ldots, \\theta_d)$.\n",
        "    -   Each component could be a (single) random variable or a random vector.\n",
        "-   $\\theta_{-j}$ denotes the vector containing all components in $\\theta$ except $\\theta_j$, i.e., $$\\theta_{-j} = (\\theta_1, \\theta_2, \\ldots, \\theta_{j-1}, \\theta_{j+1}, \\ldots, \\theta_d).$$\n",
        "-   The *full conditional distribution* of $\\theta_j$, denoted $p(\\theta_j | \\theta_{-j}, y)$, is the distribution of component $\\theta_j$ conditional on knowing the value of all other components, $\\theta_{-j}$, and the data, $y$.\n",
        "-   After we have drawn samples from the full conditional distribution of each component (i.e., drawn samples from $p(\\theta_{j} | \\theta_{-j}^{(t-1)}, y)$ for $j=1,2,\\ldots,d$) we have completed a *cycle*.\n",
        "\n",
        "More notation:\n",
        "\n",
        "-   $\\theta_j^{(t)}$ denotes the sampled value of $\\theta_j$ in cycle $t$ and $\\theta^{(t)}$ the vector of all values sampled in cycle $t$.\n",
        "-   $\\theta_{-j}^{(t-1)}$ denotes the most current value of all $d$ components of $\\theta$ **except** $\\theta_j$, i.e., $$\\theta_{-j}^{(t-1)} = (\\theta_1^{(t)}, \\theta_2^{(t)}, \\ldots, \\theta_{j-1}^{(t)}, \\theta_{j+1}^{(t-1)}, \\ldots, \\theta_{d}^{(t-1)}).$$\n",
        "-   $p(\\theta_j | \\theta_{-j}^{(t-1)}, y)$ denotes the full conditional distribution of $\\theta_j$ conditional on $\\theta_{-j}$ being fixed at $\\theta_{-j}^{(t-1)}$ and the data being fixed at $y$.\n",
        "\n",
        "The basic Gibbs sampling algorithm is:\n",
        "\n",
        "1.  Choose starting values for all of your components, i.e., $\\theta^{(0)} = (\\theta^{(0)}_1, \\theta^{(0)}_2, \\ldots, \\theta^{(0)}_d)$.\n",
        "2.  Set $t = 1$.\n",
        "3.  Draw $\\theta_j^{(t)}$ from the full conditional distribution $p(\\theta_j | \\theta_{-j}^{(t-1)}, y)$ for $j = 1, 2, \\ldots, d$.\n",
        "4.  Increment $t$.\n",
        "5.  Repeat steps 3 and 4 until convergence.\n",
        "\n",
        "# Example: Gibbs sampler (bivariate normal)\n",
        "\n",
        "This example appears in Bayesian Data Analysis, 3rd edition, by Gelman et al. (2013).\n",
        "\n",
        "*Data distribution*\n",
        "\n",
        "$y | \\theta \\sim N(\\theta, \\Sigma)$ is a bivariate normal distribution with unknown mean $\\theta = (\\theta_1, \\theta_2)$ and known covariance matrix\n",
        "\n",
        "$$\n",
        "\\Sigma =\n",
        "\\begin{bmatrix}\n",
        " 1 & \\rho \\\\\n",
        "\\rho & 1\n",
        "\\end{bmatrix}.\n",
        "$$\n",
        "\n",
        "*Prior distribution*\n",
        "\n",
        "The prior for $\\theta$ is an improper uniform over the real line, i.e., $p(\\theta_1,\\theta_2)\\propto1$.\n",
        "\n",
        "(Why? Because it makes the example easier!)\n",
        "\n",
        "*Posterior distribution*\n",
        "\n",
        "Assuming we observe a single observation $y=(y_1,y_2)$, $$\\theta | y \\sim N(y, \\Sigma).$$\n",
        "\n",
        "Let’s derive the full conditional distributions for $\\theta_1$ and $\\theta_2$.\n",
        "\n",
        "<br>  \n",
        "<br>  \n",
        "<br>  \n",
        "<br>  \n",
        "<br>  \n",
        "<br>  \n",
        "<br>  \n",
        "<br>  \n",
        "<br>  \n",
        "<br>  \n",
        "<br>  \n",
        "<br>  \n",
        "<br>  \n",
        "<br>  \n",
        "<br>  \n",
        "<br>\n",
        "\n",
        "*Full conditional distributions*\n",
        "\n",
        "$\\theta_1 | \\theta_2, y \\sim N(y_1 + \\rho(\\theta_2-y_2),1-\\rho^2)$\n",
        "\n",
        "$\\theta_2 | \\theta_1, y \\sim N(y_2 + \\rho(\\theta_1-y_1), 1-\\rho^2)$\n",
        "\n",
        "Let’s sample from the posterior distribution using a Gibbs sampler assuming $y=(0,0)$ and $\\rho=0.8$.\n",
        "\n",
        "First, we set some of the needed parameters."
      ],
      "id": "c6321014-891b-4705-b7d9-d17203f1ede8"
    },
    {
      "cell_type": "code",
      "execution_count": 4,
      "metadata": {},
      "outputs": [],
      "source": [
        "# set parameters\n",
        "rho = .8\n",
        "sigma = sqrt(1 - rho^2)\n",
        "#observed data\n",
        "y1 = 0\n",
        "y2 = 0"
      ],
      "id": "3a91bac8-6a0b-4b81-9150-6bb22a2ed23a"
    },
    {
      "cell_type": "markdown",
      "metadata": {},
      "source": [
        "Let’s create a function, `gibbs`, to do the sampling. The function takes:\n",
        "\n",
        "-   `B`: the number of cycles to run.\n",
        "-   `theta`: the vector of initial values."
      ],
      "id": "b01c91a9-4d82-4850-a3d5-fdf573877277"
    },
    {
      "cell_type": "code",
      "execution_count": 5,
      "metadata": {},
      "outputs": [],
      "source": [
        "gibbs = function(B, theta) {\n",
        "  #create matrix to store samples\n",
        "  theta_sims = matrix(0, nrow = B + 1, ncol = 2)\n",
        "  theta_sims[1,] = theta\n",
        "  # run gibbs sampler for B cycles\n",
        "  for (i in 2:(B+1)) {\n",
        "    # determine full conditional mean for theta1\n",
        "    m1 = y1 + rho * (theta[2] - y2)\n",
        "    # simulate from full conditional distribution for theta1\n",
        "    theta[1] = rnorm(1, m1, sigma)\n",
        "    # determine full conditional mean for theta2\n",
        "    m2 = y2 + rho * (theta[1] - y1)\n",
        "    # simulate from full conditional distribution for theta1\n",
        "    theta[2] = rnorm(1, m2, sigma)\n",
        "    # save sample\n",
        "    theta_sims[i, ] = theta\n",
        "  }\n",
        "  return(theta_sims)\n",
        "}"
      ],
      "id": "96efe960-6f6a-467e-85ed-8ad768d5ea85"
    },
    {
      "cell_type": "markdown",
      "metadata": {},
      "source": [
        "Let’s run an initial chain of 1000 cycles with a starting value $\\theta=(-2.5, -2.5)$."
      ],
      "id": "62766bcc-1bec-44a0-bcc8-cc3cee8bcefc"
    },
    {
      "cell_type": "code",
      "execution_count": 6,
      "metadata": {},
      "outputs": [],
      "source": [
        "# run initial chain\n",
        "chain1 = gibbs(B = 1000, theta = c(-2.5, -2.5))"
      ],
      "id": "3b88bf24-97e5-41c1-abf7-a6e2c20e5cbd"
    },
    {
      "cell_type": "markdown",
      "metadata": {},
      "source": [
        "Let’s draw a “sand” plot of our first chain."
      ],
      "id": "dd5c09f5-7acc-42c7-8add-3fa749e32963"
    },
    {
      "cell_type": "code",
      "execution_count": 7,
      "metadata": {},
      "outputs": [],
      "source": [
        "plot(chain1, pch = \".\",\n",
        "     xlab = expression(theta[1]),\n",
        "     ylab = expression(theta[2]))\n",
        "title(\"Samples from Gibbs sampler\")"
      ],
      "id": "927a8892-f754-421c-bebe-b1a380fb1c4f"
    },
    {
      "cell_type": "markdown",
      "metadata": {},
      "source": [
        "We now run 3 more chains with different starting values."
      ],
      "id": "4a1a3a20-1238-4889-9878-ea7899b929ce"
    },
    {
      "cell_type": "code",
      "execution_count": 8,
      "metadata": {},
      "outputs": [],
      "source": [
        "chain2 = gibbs(B = 1000, c(-2.5, 2.5))\n",
        "chain3 = gibbs(B = 1000, c(2.5, -2.5))\n",
        "chain4 = gibbs(B = 1000, c(2.5, 2.5))"
      ],
      "id": "928d6123-c6f5-4c47-995a-83d5fb164c3d"
    },
    {
      "cell_type": "markdown",
      "metadata": {},
      "source": [
        "We now plot the samples from all 4 chains in one graphic."
      ],
      "id": "45fd8dd7-a0c1-4317-a97b-d366698b95c7"
    },
    {
      "cell_type": "code",
      "execution_count": 9,
      "metadata": {},
      "outputs": [],
      "source": [
        "# chain 1\n",
        "plot(chain1, pch = \".\",\n",
        "     xlab = expression(theta[1]),\n",
        "     ylab = expression(theta[2]))\n",
        "# chains 2-4\n",
        "points(chain2, pch = \".\", col = \"orange\")\n",
        "points(chain3, pch = \".\", col = \"blue\")\n",
        "points(chain4, pch = \".\", col = \"grey\")\n",
        "# add legend\n",
        "legend(\"topleft\", pch = 20,\n",
        "       col = c(\"black\", \"orange\", \"blue\", \"grey\"),\n",
        "       legend = c(\"Chain 1\", \"Chain 2\", \"Chain 3\", \"Chain 4\"))\n",
        "title(\"Samples from Gibbs sampler\")"
      ],
      "id": "4d876dda-5040-4a8c-8ed8-274928d90e92"
    },
    {
      "cell_type": "markdown",
      "metadata": {},
      "source": [
        "We now plot the first 10 cycles of the 4 chains using the `plot_mcmc_path` function from the **bayesutils** package.\n",
        "\n",
        "`plot_mcmc_path` takes:\n",
        "\n",
        "-   `x`: a matrix with 2 columns or a list of 2 column matrices.\n",
        "-   `ncycles`: the number of cycles to plot."
      ],
      "id": "b96af70b-0787-4a05-b275-bbd86054edae"
    },
    {
      "cell_type": "code",
      "execution_count": 10,
      "metadata": {},
      "outputs": [],
      "source": [
        "plot_mcmc_path(\n",
        "  list(chain1, chain2, chain3, chain4),\n",
        "  ncycles = 10,\n",
        "  xlim = c(-2.5, 2.5),\n",
        "  ylim = c(-2.5, 2.5),\n",
        "  xlab = expression(theta[1]),\n",
        "  ylab = expression(theta[2]),\n",
        "  main = \"First 10 cycles of each chain\"\n",
        ")"
      ],
      "id": "86ce51ad-f86d-42f4-90c0-5ab8ffd34265"
    },
    {
      "cell_type": "markdown",
      "metadata": {},
      "source": [
        "# Example: Normal distribution with $\\mu$ and $\\sigma^2$ unknown and conjugate prior\n",
        "\n",
        "*Data distribution*\n",
        "\n",
        "$y_1,\\ldots,y_n \\mid \\mu,\\sigma^2 \\stackrel{i.i.d.}{\\sim} N(\\mu,\\sigma^2)$.\n",
        "\n",
        "*Prior distribution*\n",
        "\n",
        "$\\mu \\mid \\sigma^2 \\sim N(\\mu_0, \\sigma^2/\\kappa_0)$\n",
        "\n",
        "$\\sigma^2 \\sim \\text{Inv-}\\chi^2_{\\nu_0}(\\sigma_0^2)$\n",
        "\n",
        "where\n",
        "\n",
        "$p(\\sigma^2) \\propto (\\sigma^2)^{-\\left(\\frac{\\nu_0}{2} + 1\\right)} \\exp\\left(-\\frac{\\nu_0 \\sigma_0^2}{2\\sigma^2}\\right)$.\n",
        "\n",
        "*Data density*\n",
        "\n",
        "$p(y \\mid \\mu,\\sigma^2) \\propto$\n",
        "\n",
        "<br>  \n",
        "<br>  \n",
        "<br>  \n",
        "<br>\n",
        "\n",
        "$p(\\mu,\\sigma^2\\mid y) \\propto$\n",
        "\n",
        "<br>  \n",
        "<br>  \n",
        "<br>  \n",
        "<br>  \n",
        "<br>  \n",
        "<br>  \n",
        "<br>  \n",
        "<br>\n",
        "\n",
        "Derive the full conditional distributions\n",
        "\n",
        "<br>  \n",
        "<br>  \n",
        "<br>  \n",
        "<br>  \n",
        "<br>  \n",
        "<br>  \n",
        "<br>  \n",
        "<br>  \n",
        "<br>  \n",
        "<br>  \n",
        "<br>  \n",
        "<br>  \n",
        "<br>  \n",
        "<br>  \n",
        "<br>  \n",
        "<br>\n",
        "\n",
        "*Full conditional distributions*\n",
        "\n",
        "$\\mu \\mid \\sigma^2, y \\sim N(\\mu_n, \\tau_n^2)$ with\n",
        "\n",
        "$$\n",
        "\\mu_n = \\frac{\\frac{\\kappa_0}\n",
        "{\\sigma^2}\\mu_0 + \\frac{n}{\\sigma^2}\\bar{y}}{\\frac{\\kappa_0}\n",
        "{\\sigma^2} + \\frac{n}{\\sigma^2}}\n",
        "$$\n",
        "\n",
        "and\n",
        "\n",
        "$$\n",
        "\\tau_n^2=\\frac{1}{\\frac{\\kappa_0}{\\sigma^2}+\\frac{n}{\\sigma^2}}=\\frac{\\sigma^2}{\\kappa_0+n}.\n",
        "$$ $\\sigma^2 \\mid \\mu, y \\sim \\text{Inv-}\\chi^2_{\\nu_n}(s_n^2)$\n",
        "\n",
        "with\n",
        "\n",
        "$$\n",
        "\\nu_n = \\nu_0 + n + 1\n",
        "$$\n",
        "\n",
        "and\n",
        "\n",
        "$$\n",
        "s_n^2=\\frac{\\mu_0 \\sigma_0^2+\\kappa_0 (\\mu-\\mu_0 )^2+(n-1) s^2+n(\\bar{y}-\\mu)^2}{\\nu_n}.\n",
        "$$\n",
        "\n",
        "**Example: Midge Data**\n",
        "\n",
        "------------------------------------------------------------------------\n",
        "\n",
        "Grogan and Wirth (1981) provide data on the wing length in millimeters of nine members of a species of midge (small, two-winged flies). From these nine measurements, we wish to make inference on the population mean $\\mu$ and population variance $\\sigma^2$. Create a Gibbs sampler for the parameters $\\mu$ and $\\sigma^2$.\n",
        "\n",
        "Studies of other populations suggest that the true mean should be around 1.9 mm with a standard deviation of 0.1. However, this population may be different from the others, so we choose $\\kappa_0 = \\nu_0 = 1$ so that the prior distributions are only weakly centered around these estimates from other populations.\n",
        "\n",
        "*Data distribution*\n",
        "\n",
        "$y_1,\\ldots,y_n \\mid \\mu, \\sigma^2 \\stackrel{i.i.d.}{\\sim} N(\\mu,\\sigma^2)$\n",
        "\n",
        "*Prior distributions*\n",
        "\n",
        "$\\mu \\mid \\sigma^2 \\sim N(\\mu_0, \\sigma^2/\\kappa_0)$ with $\\mu_0=1.9$ and $\\kappa_0=1$.\n",
        "\n",
        "$\\sigma^2 \\sim \\text{Inv-}\\chi^2_{\\nu_0}(\\sigma_0^2)$ with $\\nu_0=1$ and $\\sigma_0^2=(0.1)^2$.\n",
        "\n",
        "We set our seed for reproducible results"
      ],
      "id": "6fb58fd2-c8c8-47a0-a5d8-00df4afde96c"
    },
    {
      "cell_type": "code",
      "execution_count": 11,
      "metadata": {},
      "outputs": [],
      "source": [
        "set.seed(90)"
      ],
      "id": "337fc35c-a9cb-478e-b993-5289f6ae22b3"
    },
    {
      "cell_type": "markdown",
      "metadata": {},
      "source": [
        "We set the parameters of our prior distributions"
      ],
      "id": "7125cf96-1545-4f23-beec-1dbac5b0744f"
    },
    {
      "cell_type": "code",
      "execution_count": 12,
      "metadata": {},
      "outputs": [],
      "source": [
        "mu0 = 1.9\n",
        "k0 = 1 #kappa0\n",
        "nu0 = 1\n",
        "sigma0 = 0.1"
      ],
      "id": "98b66af0-cb77-4f97-a89e-931bccd4bc6b"
    },
    {
      "cell_type": "markdown",
      "metadata": {},
      "source": [
        "We define the number of cycles, the data, the sample size, the sample mean, and the sample standard deviation"
      ],
      "id": "7869d015-4961-48dc-b64f-e9d22c2fd6d6"
    },
    {
      "cell_type": "code",
      "execution_count": 13,
      "metadata": {},
      "outputs": [],
      "source": [
        "B = 500000 # number of cycles\n",
        "# data\n",
        "y = c(1.64, 1.70, 1.72, 1.74, 1.82, 1.82, 1.82, 1.90, 2.08)\n",
        "# number of observations\n",
        "n = length(y)\n",
        "# sample mean\n",
        "ybar = mean(y)\n",
        "# sample standard deviation\n",
        "s = sd(y)"
      ],
      "id": "de0bf920-991c-4088-ab52-5e4bd6365281"
    },
    {
      "cell_type": "markdown",
      "metadata": {},
      "source": [
        "We use the sample mean and standard deviation for our initial values."
      ],
      "id": "be4dae6c-c276-4cbc-aac2-4c7f439f54d0"
    },
    {
      "cell_type": "code",
      "execution_count": 14,
      "metadata": {},
      "outputs": [],
      "source": [
        "#Initial value for mu\n",
        "mu = mean(y)\n",
        "#Initial value for sigma\n",
        "sigma = sd(y)"
      ],
      "id": "9c767721-905a-453b-b360-52236b903ed9"
    },
    {
      "cell_type": "markdown",
      "metadata": {},
      "source": [
        "We compute the parameters of our full conditional distributions."
      ],
      "id": "b1f5edc1-55ee-4f06-bc1d-1204653ee515"
    },
    {
      "cell_type": "code",
      "execution_count": 15,
      "metadata": {},
      "outputs": [],
      "source": [
        "kn = k0 + n\n",
        "mun = (k0 * mu0 + n * ybar) / kn\n",
        "nun = nu0 + n + 1"
      ],
      "id": "c464c990-16d8-4434-ab2e-d8373593cfa1"
    },
    {
      "cell_type": "markdown",
      "metadata": {},
      "source": [
        "We now implement our Gibbs sampler."
      ],
      "id": "24bddb01-63fc-44ee-a079-63ebe10304f5"
    },
    {
      "cell_type": "code",
      "execution_count": 16,
      "metadata": {},
      "outputs": [],
      "source": [
        "sigmasqpost = numeric(B)\n",
        "mupost = numeric(B)\n",
        "for (i in 1:B) {\n",
        "    mu = rnorm(1, mun, sigma/sqrt(kn))\n",
        "\n",
        "    #parameter for full conditional posterior of sigma^2\n",
        "    ssqn = (nu0 * sigma0^2 + k0 * (mu - mu0)^2 + (n - 1) * s^2 + n * (ybar - mu)^2)/nun\n",
        "\n",
        "    # draw from full conditional of sigmasq\n",
        "    sigmasq = rinvchisq(1, df = nun, scale = ssqn)\n",
        "    sigma = sqrt(sigmasq)\n",
        "\n",
        "    # draw from full conditional of mu\n",
        "    mupost[i] = mu\n",
        "    sigmasqpost[i] = sigmasq\n",
        "}"
      ],
      "id": "aa2702b5-7722-4e00-8da9-338d75876d2b"
    },
    {
      "cell_type": "markdown",
      "metadata": {},
      "source": [
        "In *Bayesian Data Analysis, 3rd edition*, Gelman et al. provide the exact marginal posterior distributions for $\\mu$ and $\\sigma^2$:\n",
        "\n",
        "$\\mu \\mid y \\sim t_{\\nu_n}(\\mu_n, \\tau^2_n/\\kappa_n)$\n",
        "\n",
        "and\n",
        "\n",
        "$\\sigma^2\\mid y \\sim \\text{Inv-}\\chi^2_{\\nu_n}(\\tau_n^2)$,\n",
        "\n",
        "where\n",
        "\n",
        "$\\nu_n = \\nu_0 + n$\n",
        "\n",
        "and\n",
        "\n",
        "$\\tau_n^2 = (\\nu_0\\sigma_0^2 + (n - 1)s^2 + \\kappa_0 n/\\kappa_n (\\bar{y} - \\mu_0)^2)/\\nu_n$.\n",
        "\n",
        "Note that this $\\nu_n$ and $\\tau_n^2$ differ from the $\\nu_n$ and $\\tau_n^2$ defined for the full conditional distributions.\n",
        "\n",
        "Let’s compare the results from our Gibbs sampler with the true marginal posterior distributions.\n",
        "\n",
        "We plot the true and approximate marginal posterior density of $\\mu$."
      ],
      "id": "98562b4d-777d-4dfa-9e95-9ccf07b46d3f"
    },
    {
      "cell_type": "code",
      "execution_count": 17,
      "metadata": {},
      "outputs": [],
      "source": [
        "# define nun and taunsq\n",
        "vn = nu0 + n\n",
        "taunsq = (nu0*sigma0^2 + (n - 1) * s^2 + k0 * n/kn * (ybar - mu0)^2)/vn\n",
        "\n",
        "# plot approximate posterior density for mu\n",
        "plot(density(mupost), main = \"\",\n",
        "     xlab = \"mu\", xlim = c(1.6, 2))\n",
        "# plot true posterior density for mu\n",
        "x = seq(-1, 3, len = 1001)\n",
        "lines(x, dst(x, df = nun, mean = mun, sigma = sqrt(taunsq/kn)),\n",
        "      col = \"orange\")\n",
        "title(\"Posterior Density for mu\")\n",
        "legend(\"topright\", legend = c(\"Gibbs\", \"true\"), col = c(\"black\", \"orange\"),\n",
        "    lwd = 1)"
      ],
      "id": "17559756-dcd5-46a5-a0c3-d7ae08c20548"
    },
    {
      "cell_type": "markdown",
      "metadata": {},
      "source": [
        "We plot the true and approximate marginal posterior density of $\\sigma^2$."
      ],
      "id": "eed0cfbb-e1ea-4df0-8aa9-d06488a3d067"
    },
    {
      "cell_type": "code",
      "execution_count": 18,
      "metadata": {},
      "outputs": [],
      "source": [
        "# plot marginal posterior for sigmasq\n",
        "plot(density(sigmasqpost), main = \"\",\n",
        "     xlab = \"sigmasq\", xlim = c(0, 0.1))\n",
        "x = seq(0, 0.1, len = 1001)\n",
        "lines(x, dinvchisq(x, df = vn, scale = taunsq), col = \"orange\")\n",
        "title(\"Posterior Density for sigmasq\")\n",
        "legend(\"topright\",\n",
        "       legend = c(\"Gibbs\", \"True\"),\n",
        "       col = c(\"black\", \"orange\"),\n",
        "       lwd = 1)"
      ],
      "id": "3759cf2b-b6fc-4af5-928d-96f2fd280a15"
    },
    {
      "cell_type": "markdown",
      "metadata": {},
      "source": [
        "We compute the empirical posterior quantiles for $\\mu$."
      ],
      "id": "08077dde-dec1-4698-a9b5-0198f7800994"
    },
    {
      "cell_type": "code",
      "execution_count": 19,
      "metadata": {},
      "outputs": [],
      "source": [
        "#posterior quantiles for mu\n",
        "p = c(0.01, 0.10, 0.25, 0.5, 0.75, 0.90, 0.99)\n",
        "quantile(mupost, prob = p)"
      ],
      "id": "e47253b0-5991-445f-985a-6500ac076ab8"
    },
    {
      "cell_type": "markdown",
      "metadata": {},
      "source": [
        "We compute the true posterior quantiles for $\\mu$."
      ],
      "id": "579659a7-dcc3-42c2-ab27-fda7b3127b0d"
    },
    {
      "cell_type": "code",
      "execution_count": 20,
      "metadata": {},
      "outputs": [],
      "source": [
        "qst(p, df = nun, mean = mun, sigma = sqrt(taunsq/kn))"
      ],
      "id": "3b879bab-5505-4ef4-89f2-6413e35f4d0a"
    },
    {
      "cell_type": "markdown",
      "metadata": {},
      "source": [
        "We compute the empirical posterior quantiles for $\\sigma^2$."
      ],
      "id": "3aa1df88-ae8d-47a7-8479-4fbc1531883c"
    },
    {
      "cell_type": "code",
      "execution_count": 21,
      "metadata": {},
      "outputs": [],
      "source": [
        "quantile(sigmasqpost, prob = p)"
      ],
      "id": "f712d28a-eda2-4478-b9cf-c46e29025868"
    },
    {
      "cell_type": "markdown",
      "metadata": {},
      "source": [
        "We compute the true posterior quantiles for $\\sigma^2$."
      ],
      "id": "1525d084-f38a-4441-8d1f-1d369b11b1ed"
    },
    {
      "cell_type": "code",
      "execution_count": 22,
      "metadata": {},
      "outputs": [],
      "source": [
        "qinvchisq(p, df = vn, scale = taunsq)"
      ],
      "id": "d838d1e6-bbda-47d0-bbf0-182b685d5553"
    },
    {
      "cell_type": "markdown",
      "metadata": {},
      "source": [
        "We compute the empirical 95% central posterior interval for $\\mu$."
      ],
      "id": "22016e72-2b55-4b32-b8cc-c62a8d385579"
    },
    {
      "cell_type": "code",
      "execution_count": 23,
      "metadata": {},
      "outputs": [],
      "source": [
        "quantile(mupost, c(.025, .975))"
      ],
      "id": "21d230a6-6304-4834-886a-2cdb11e8e2cc"
    },
    {
      "cell_type": "markdown",
      "metadata": {},
      "source": [
        "We compute the true 95% central posterior interval for $\\mu$."
      ],
      "id": "20e0e6ab-ce28-488e-a711-ab2f7e092900"
    },
    {
      "cell_type": "code",
      "execution_count": 24,
      "metadata": {},
      "outputs": [],
      "source": [
        "qst(c(0.025, 0.975), df = nun, mean = mun,\n",
        "    sigma = sqrt(taunsq/kn))"
      ],
      "id": "f390c21a-68e6-410a-b968-8c729ea06661"
    },
    {
      "cell_type": "markdown",
      "metadata": {},
      "source": [
        "We compute the empirical 95% central posterior interval for $\\sigma^2$."
      ],
      "id": "a1ce77f6-9e79-4cfa-b2d7-a28fbbe3782c"
    },
    {
      "cell_type": "code",
      "execution_count": 25,
      "metadata": {},
      "outputs": [],
      "source": [
        "quantile(sigmasqpost, c(.025, .975))"
      ],
      "id": "1875d015-c7e5-49bc-9ad6-3513b1fa5fbb"
    },
    {
      "cell_type": "markdown",
      "metadata": {},
      "source": [
        "We compute the true 95% central posterior interval for $\\sigma^2$."
      ],
      "id": "deb7ae82-360e-4b95-8909-f4c4620f2a87"
    },
    {
      "cell_type": "code",
      "execution_count": 26,
      "metadata": {},
      "outputs": [],
      "source": [
        "qinvchisq(c(0.025, 0.975), df = vn, scale = taunsq)"
      ],
      "id": "7ed23c61-1b55-40f3-8f0d-6f04d863098d"
    },
    {
      "cell_type": "markdown",
      "metadata": {},
      "source": [
        "Lastly, we plot the first 100 cycles of our Gibbs sampler."
      ],
      "id": "2d247f2c-01a9-42de-9997-da0f147394dd"
    },
    {
      "cell_type": "code",
      "execution_count": 27,
      "metadata": {},
      "outputs": [],
      "source": [
        "plot_mcmc_path(cbind(mupost, sigmasqpost), ncycles = 100,\n",
        "               xlab = expression(mu), ylab = expression(sigma^2))"
      ],
      "id": "a582aa44-28d9-449c-8d3f-0ce9f4008886"
    },
    {
      "cell_type": "code",
      "execution_count": 28,
      "metadata": {},
      "outputs": [],
      "source": [
        "#plot cycles of gibbs sampler for 100 iterations\n",
        "plot_mcmc_path(cbind(mupost, sigmasqpost),\n",
        "               ncycles = 100, type = \"cycle\",\n",
        "               xlab = expression(mu), ylab = expression(sigma^2))"
      ],
      "id": "995759b7-6b12-4f8a-b02a-a9df275bf8af"
    },
    {
      "cell_type": "markdown",
      "metadata": {},
      "source": [
        "# Example: Multivariate normal with semi-conjugate prior\n",
        "\n",
        "*Data distribution*\n",
        "\n",
        "$\\mathbf{y}_1,\\mathbf{y}_2,…,\\mathbf{y}_n \\mid \\boldsymbol{\\mu},\\boldsymbol{\\Sigma} \\stackrel{i.i.d.}{\\sim} N(\\boldsymbol{\\mu},\\boldsymbol{\\Sigma})$ with each vector having length $d$.\n",
        "\n",
        "*Prior distributions*\n",
        "\n",
        "$\\boldsymbol{\\mu} \\sim N(\\boldsymbol{\\mu}_0, \\boldsymbol{\\Lambda}_0)$.\n",
        "\n",
        "$\\boldsymbol{\\Sigma} \\sim \\text{Inv-Wishart}_{\\nu_0} ( \\mathbf{Κ}_0^{-1})$.\n",
        "\n",
        "$p(\\boldsymbol{\\Sigma}) \\propto |\\boldsymbol{\\Sigma}|^{-(\\nu_0+d+1)/2} \\exp\\left(-\\frac{1}{2} \\text{tr}(\\mathbf{K}_0 \\boldsymbol{\\Sigma}^{-1})\\right).$\n",
        "\n",
        "*Data distribution density*\n",
        "\n",
        "$p(\\mathbf{y} \\mid \\boldsymbol{\\mu}, \\boldsymbol{\\Sigma}) \\propto$\n",
        "\n",
        "<br>  \n",
        "<br>  \n",
        "<br>  \n",
        "<br>  \n",
        "<br>  \n",
        "<br>  \n",
        "<br>  \n",
        "<br>  \n",
        "<br>  \n",
        "<br>\n",
        "\n",
        "*Prior density for $\\boldsymbol{\\mu}$*\n",
        "\n",
        "<br>  \n",
        "<br>  \n",
        "<br>  \n",
        "<br>  \n",
        "<br>  \n",
        "<br>  \n",
        "<br>  \n",
        "<br>  \n",
        "<br>  \n",
        "<br>\n",
        "\n",
        "$p(\\boldsymbol{\\mu}, \\boldsymbol{\\Sigma} \\mid \\mathbf{y}) \\propto$\n",
        "\n",
        "<br>  \n",
        "<br>  \n",
        "<br>  \n",
        "<br>  \n",
        "<br>  \n",
        "<br>  \n",
        "<br>  \n",
        "<br>  \n",
        "<br>  \n",
        "<br>\n",
        "\n",
        "Derive the full conditional distributions:\n",
        "\n",
        "<br>  \n",
        "<br>  \n",
        "<br>  \n",
        "<br>  \n",
        "<br>  \n",
        "<br>  \n",
        "<br>  \n",
        "<br>  \n",
        "<br>  \n",
        "<br>  \n",
        "<br>  \n",
        "<br>  \n",
        "<br>  \n",
        "<br>  \n",
        "<br>  \n",
        "<br>  \n",
        "<br>  \n",
        "<br>  \n",
        "<br>  \n",
        "<br>  \n",
        "<br>  \n",
        "<br>  \n",
        "<br>  \n",
        "<br>  \n",
        "<br>  \n",
        "<br>  \n",
        "<br>  \n",
        "<br>  \n",
        "<br>  \n",
        "<br>  \n",
        "<br>  \n",
        "<br>\n",
        "\n",
        "*Full conditional distributions*\n",
        "\n",
        "$\\boldsymbol{\\mu} \\mid \\boldsymbol{\\Sigma}, \\mathbf{y} \\sim N(\\boldsymbol{\\mu}_n,\\boldsymbol{\\Lambda}_n)$, where\n",
        "\n",
        "$$\\boldsymbol{\\mu}_n=\\boldsymbol{\\Lambda_n} (\\boldsymbol{\\Lambda}_0^{-1} \\boldsymbol{\\mu}_0+n \\boldsymbol{\\Sigma}^{-1} \\bar{\\mathbf{y}})$$\n",
        "\n",
        "and\n",
        "\n",
        "$$\\boldsymbol{\\Lambda}_n^{-1}=\\boldsymbol{\\Lambda}_0^{-1}+n\\boldsymbol{\\Sigma}^{-1}.$$\n",
        "\n",
        "$\\boldsymbol{\\Sigma}\\mid \\boldsymbol{\\mu}, \\mathbf{y} \\sim \\text{Inv-Wishart}_{\\nu_n} (\\mathbf{K}_n^{-1 })$, where\n",
        "\n",
        "$$\\nu_n=\\mu_0+n,$$\n",
        "\n",
        "$$\\mathbf{K}_n=\\mathbf{K}_0+\\mathbf{S}_\\mu,$$\n",
        "\n",
        "and\n",
        "\n",
        "$$\n",
        "\\mathbf{S}_\\mu=\\sum_{i=1}^n (\\mathbf{y}_i-\\boldsymbol{\\mu}) (\\mathbf{y}_i-\\boldsymbol{\\mu})^T.\n",
        "$$\n",
        "\n",
        "A result from linear algebra says that\n",
        "\n",
        "$$\\sum_{i=1}^n (\\mathbf{y}_i-\\boldsymbol{\\mu})\\boldsymbol{\\Sigma}^{-1} (\\mathbf{y}_i-\\boldsymbol{\\mu})^T = \\text{tr}(\\mathbf{S}_\\mu \\boldsymbol{\\Sigma^{-1}})$$\n",
        "\n",
        "where\n",
        "\n",
        "$$\\mathbf{S}_\\mu=\\sum_{i=1}^n (\\mathbf{y}_i-\\boldsymbol{\\mu}) (\\mathbf{y}_i-\\boldsymbol{\\mu})^T.$$\n",
        "\n",
        "$\\mathbf{S}_\\mu$ is the residual sum of squares matrix for the vectors $\\mathbf{y}_1,\\mathbf{y}_2,\\ldots,\\mathbf{y}_n$ if the population mean is presumed to be $\\boldsymbol{\\mu}$.\n",
        "\n",
        "**Example: Reading Scores**\n",
        "\n",
        "------------------------------------------------------------------------\n",
        "\n",
        "A sample of 22 children are given reading comprehension tests before and after receiving a particular instructional method. Each student will then have two scores denoting the pre- and post-instructional scores.\n",
        "\n",
        "Each row of the data set is a two-dimensional vector representing a single case, distributed $N(\\boldsymbol{\\mu},\\boldsymbol{\\Sigma})$.\n",
        "\n",
        "The exam was designed to give an average score around 50 out of 100, so set $\\boldsymbol{μ}_0=(50,50)$.\n",
        "\n",
        "Since the true mean cannot be below 0 or above 100, we want the prior variances to keep $\\boldsymbol{\\mu}$ inside this range $[0, 100]^2$ with high probability.\n",
        "\n",
        "We can use\n",
        "\n",
        "$$\n",
        "\\boldsymbol{\\Sigma} =\n",
        "\\begin{bmatrix}\n",
        " 625 & 312.5 \\\\\n",
        "312.5 & 625\n",
        "\\end{bmatrix},\n",
        "$$\n",
        "\n",
        "which would mean that the prior probability that the marginal mean is outside $[0, 100]^2$ is only 0.05.\n",
        "\n",
        "This also accounts for the fact that the two exams measure similar things, so we think the correlation between the means is around 0.5.\n",
        "\n",
        "Since $E(\\text{Inv-Wishart}_{\\nu_0} (\\mathbf{K}_0^{-1}))=\\mathbf{K}_0/(\\nu_0-d-1)$, $\\nu_0=4$ will loosely center $\\mathbf{\\Sigma}$ around $\\mathbf{K}_0$.\n",
        "\n",
        "What is the probability that the post-instruction mean is greater than the pre-instruction mean?\n",
        "\n",
        "What is the probability that the post-instruction test score is greater than the pre-instruction test score for a new student?\n",
        "\n",
        "Construct a Gibbs sampler to sample from the posterior distribution for $\\boldsymbol{\\mu}$ and $\\boldsymbol{\\Sigma}$.\n",
        "\n",
        "*Data distribution*\n",
        "\n",
        "$y \\mid \\boldsymbol{\\mu},\\boldsymbol{\\Sigma}\\stackrel{i.i.d.}{\\sim} N(\\boldsymbol{\\mu},\\boldsymbol{\\Sigma})$.\n",
        "\n",
        "*Prior distributions*\n",
        "\n",
        "$\\boldsymbol{\\mu}\\sim N(\\boldsymbol{\\mu}_0,\\boldsymbol{\\Lambda}_0)$ with\n",
        "\n",
        "$\\boldsymbol{\\mu}_0=(50,50)$\n",
        "\n",
        "and\n",
        "\n",
        "$$\n",
        "\\boldsymbol{\\Lambda}_0 =\n",
        "\\begin{bmatrix}\n",
        " 625 & 312.5 \\\\\n",
        "312.5 & 625\n",
        "\\end{bmatrix}.\n",
        "$$\n",
        "\n",
        "$\\boldsymbol{\\Sigma} \\sim \\text{Inv-Wishart}_{\\nu_0} (\\mathbf{K}_0^{-1})$ with\n",
        "\n",
        "$\\nu_0=4$\n",
        "\n",
        "and\n",
        "\n",
        "$$\\mathbf{K}_0=\n",
        "\\begin{bmatrix}\n",
        " 625 & 312.5 \\\\\n",
        "312.5 & 625\n",
        "\\end{bmatrix}.$$\n",
        "\n",
        "We begin by loading the data."
      ],
      "id": "484e7920-3c51-4852-a622-ecbbb0fad6a1"
    },
    {
      "cell_type": "code",
      "execution_count": 29,
      "metadata": {},
      "outputs": [],
      "source": [
        "# load data\n",
        "y = matrix(c(\n",
        "59, 77, 43, 39, 34, 46, 32, 26, 42, 38, 38, 43, 55, 68,\n",
        "67, 86, 64, 77, 45, 60, 49, 50, 72, 59, 34, 38, 70, 48,\n",
        "34, 55, 50, 58, 41, 54, 52, 60, 60, 75, 34, 47, 28, 48,\n",
        "35, 33), ncol = 2, byrow = TRUE)\n",
        "# reformat\n",
        "y = data.frame(pretest = y[,1], posttest = y[,2])"
      ],
      "id": "de88fe29-e863-40c9-b789-c1a576e96960"
    },
    {
      "cell_type": "markdown",
      "metadata": {},
      "source": [
        "We set some generic parameters."
      ],
      "id": "ce07dd66-6c50-49b5-93c0-fb2fbc4a5de5"
    },
    {
      "cell_type": "code",
      "execution_count": 30,
      "metadata": {},
      "outputs": [],
      "source": [
        "n = nrow(y)\n",
        "d = ncol(y)"
      ],
      "id": "45b154c0-864e-4c0a-834c-5450c9cc4aeb"
    },
    {
      "cell_type": "markdown",
      "metadata": {},
      "source": [
        "We set the prior parameters."
      ],
      "id": "2cc54abf-2dc4-4533-a3b0-9a3a91b8d6b9"
    },
    {
      "cell_type": "code",
      "execution_count": 31,
      "metadata": {},
      "outputs": [],
      "source": [
        "mu0 = c(50, 50)\n",
        "nu0 = 4\n",
        "L0 = K0 = 25^2 * matrix(c(1, .5, .5, 1), nrow = 2)"
      ],
      "id": "81b6fb90-3ea5-4852-adf6-6bfd37d342f7"
    },
    {
      "cell_type": "markdown",
      "metadata": {},
      "source": [
        "We calculate necessary summary quantities"
      ],
      "id": "26af4e9d-179d-4db2-ae08-b2a35fe9283a"
    },
    {
      "cell_type": "code",
      "execution_count": 32,
      "metadata": {},
      "outputs": [],
      "source": [
        "ybar = colMeans(y)"
      ],
      "id": "ed63b901-33dd-4bc0-af64-bf0f1a0d6105"
    },
    {
      "cell_type": "markdown",
      "metadata": {},
      "source": [
        "We determine some posterior parameters"
      ],
      "id": "96da9379-2ff5-4c71-9a6b-964fb74a92b2"
    },
    {
      "cell_type": "code",
      "execution_count": 33,
      "metadata": {},
      "outputs": [],
      "source": [
        "nun = nu0 + n"
      ],
      "id": "49e76e43-0fa6-4a2c-a54b-45bdbb76dadb"
    },
    {
      "cell_type": "markdown",
      "metadata": {},
      "source": [
        "We set the number of cycles."
      ],
      "id": "e74441c0-7854-41fa-9581-be2d852a6551"
    },
    {
      "cell_type": "code",
      "execution_count": 34,
      "metadata": {},
      "outputs": [],
      "source": [
        "B = 10000"
      ],
      "id": "0efc5dad-2f5a-4e54-9a35-5f82f78948c0"
    },
    {
      "cell_type": "markdown",
      "metadata": {},
      "source": [
        "We create initial guesses for $\\boldsymbol{\\mu}$, $\\boldsymbol{\\Sigma}$, and $\\mathbf{S}_\\mu$."
      ],
      "id": "1c7d598a-e918-4a88-bcf3-4ef689bce2bc"
    },
    {
      "cell_type": "code",
      "execution_count": 35,
      "metadata": {},
      "outputs": [],
      "source": [
        "mu = ybar\n",
        "Sigma = cov(y)\n",
        "# initial guess for Smu\n",
        "Smu = (n - 1) * var(y)"
      ],
      "id": "4df838fc-2771-4687-b7d1-494addb4d4a6"
    },
    {
      "cell_type": "markdown",
      "metadata": {},
      "source": [
        "We create some matrices/arrays to store our results."
      ],
      "id": "1cc6a6db-e18e-42dd-b5b4-fb314504a5a3"
    },
    {
      "cell_type": "code",
      "execution_count": 36,
      "metadata": {},
      "outputs": [],
      "source": [
        "mupost = matrix(0, nrow = B, ncol = d)\n",
        "Sigmapost = array(0, dim = c(d, d, B))\n",
        "ytildepost = matrix(0, nrow = B, ncol = d)"
      ],
      "id": "943f09ee-e70d-4d51-b551-6d6e4dad2eea"
    },
    {
      "cell_type": "markdown",
      "metadata": {},
      "source": [
        "Finally, we execute our Gibbs sampler."
      ],
      "id": "1933dbfd-9eb5-45da-b196-bee5ce4d3fe5"
    },
    {
      "cell_type": "code",
      "execution_count": 37,
      "metadata": {},
      "outputs": [],
      "source": [
        "for (i in 1:B) {\n",
        "    #determine full conditional distribution of mean,\n",
        "    #simulate from distribution\n",
        "    Ln = solve(solve(L0) + n * solve(Sigma))\n",
        "    mun = Ln %*% (solve(L0) %*% mu0 + n * solve(Sigma) %*% ybar)\n",
        "    mu = c((rmvnorm(1, mu = mun, v = Ln)))\n",
        "\n",
        "    #determine full conditional distribution of Sigma,\n",
        "    #simulate from distribution\n",
        "    Smu = (t(y) - mu) %*% t(t(y) - mu)\n",
        "    Kn = K0 + Smu\n",
        "\n",
        "    Sigma = rinvwish(1, df = nun, v = Kn)[,,1]\n",
        "\n",
        "    mupost[i, ] = mu\n",
        "    Sigmapost[,,i] = Sigma\n",
        "\n",
        "    ytildepost[i, ] = rmvnorm(1, mu = mu, v = Sigma)\n",
        "}"
      ],
      "id": "a85ce313-2df8-4cfa-8418-749e05f2f084"
    },
    {
      "cell_type": "markdown",
      "metadata": {},
      "source": [
        "We estimate the posterior mean of $\\boldsymbol{\\mu}$."
      ],
      "id": "cf6dca9a-f837-483a-a6c4-e05b264ded21"
    },
    {
      "cell_type": "code",
      "execution_count": 38,
      "metadata": {},
      "outputs": [],
      "source": [
        "(mean.mupost = apply(mupost, 2, mean))"
      ],
      "id": "0d299cfc-9039-4f23-914c-02263585058f"
    },
    {
      "cell_type": "markdown",
      "metadata": {},
      "source": [
        "We estimate the posterior variance of $\\boldsymbol{\\mu}$."
      ],
      "id": "6f4dc89e-30ea-4d3c-ba7a-46004902a87c"
    },
    {
      "cell_type": "code",
      "execution_count": 39,
      "metadata": {},
      "outputs": [],
      "source": [
        "(var.mupost = apply(mupost, 2, var))"
      ],
      "id": "8550375a-55d7-4384-93d4-5803b0c0d75f"
    },
    {
      "cell_type": "markdown",
      "metadata": {},
      "source": [
        "We estimate the posterior mean of $\\boldsymbol{\\Sigma}$."
      ],
      "id": "73ca01d0-126c-4afc-a40b-f3b32a663930"
    },
    {
      "cell_type": "code",
      "execution_count": 40,
      "metadata": {},
      "outputs": [],
      "source": [
        "(mean.Sigmapost = apply(Sigmapost, c(1, 2), mean))"
      ],
      "id": "7e3b8eed-f697-49bf-bce3-18d4d4fce874"
    },
    {
      "cell_type": "markdown",
      "metadata": {},
      "source": [
        "We estimate the posterior variance of $\\boldsymbol{\\Sigma}$."
      ],
      "id": "dada4660-c03f-47c9-879c-3f9e7b945262"
    },
    {
      "cell_type": "code",
      "execution_count": 41,
      "metadata": {},
      "outputs": [],
      "source": [
        "(var.Sigmapost = apply(Sigmapost, c(1, 2), var))"
      ],
      "id": "4ae77000-4588-435d-81c5-357f9cc6e1b5"
    },
    {
      "cell_type": "markdown",
      "metadata": {},
      "source": [
        "We compute some posterior quantiles for $\\boldsymbol{\\mu}$."
      ],
      "id": "48e9a179-d88a-48ad-82f0-dbe61037f99d"
    },
    {
      "cell_type": "code",
      "execution_count": 42,
      "metadata": {},
      "outputs": [],
      "source": [
        "apply(mupost, 2, quantile, prob = c(.01, .25, .5, .75, .99))"
      ],
      "id": "6a2fee77-24ed-4f4d-9a60-2908a1ad459b"
    },
    {
      "cell_type": "markdown",
      "metadata": {},
      "source": [
        "We plot the posterior densities of the pre- and post-test means."
      ],
      "id": "2a1d2ce7-7015-4d64-8afe-e6f9c879167d"
    },
    {
      "cell_type": "code",
      "execution_count": 43,
      "metadata": {},
      "outputs": [],
      "source": [
        "dpretest = density(mupost[,1])\n",
        "dposttest = density(mupost[,2])\n",
        "plot(dpretest, type = \"l\", xlim = range(c(dpretest$x, dposttest$x)),\n",
        "    ylim = range(c(dpretest$y, dposttest$y)), main = \"\")\n",
        "lines(dposttest, col = \"orange\")\n",
        "legend(\"topleft\", legend = c(\"mu pretest\", \"mu postest\"),\n",
        "    col = c(\"black\", \"orange\"), lwd = c(1, 1))"
      ],
      "id": "4387dbd3-c970-4bcc-b703-3ad34c33c715"
    },
    {
      "cell_type": "markdown",
      "metadata": {},
      "source": [
        "We estimate $P(\\mu_{\\text{post}} > \\mu_{\\text{pre}})$."
      ],
      "id": "b8654a6c-7503-488b-9db8-95d80afeb5a9"
    },
    {
      "cell_type": "code",
      "execution_count": 44,
      "metadata": {},
      "outputs": [],
      "source": [
        "mean(mupost[,2] > mupost[,1])"
      ],
      "id": "c32053fd-e3a8-4ad9-a685-52b5aff9cee9"
    },
    {
      "cell_type": "markdown",
      "metadata": {},
      "source": [
        "We estimate $P(\\tilde{y}_{\\text{post}} > \\tilde{y}_{\\text{pre}})$."
      ],
      "id": "c756e85a-b15a-425a-9983-d87674fbea83"
    },
    {
      "cell_type": "code",
      "execution_count": 45,
      "metadata": {},
      "outputs": [],
      "source": [
        "mean(ytildepost[,2] > ytildepost[,1])"
      ],
      "id": "0b6317a1-7a38-45a3-aeb1-4656952b19b2"
    },
    {
      "cell_type": "markdown",
      "metadata": {},
      "source": [
        "We visualize the joint posterior density of $\\boldsymbol{\\mu}$."
      ],
      "id": "0134faee-d91a-480a-ac6a-944792aa547c"
    },
    {
      "cell_type": "code",
      "execution_count": 46,
      "metadata": {},
      "outputs": [],
      "source": [
        "# estimate bivariate density\n",
        "d2d = MASS::kde2d(mupost[,1], mupost[,2], n = 50)\n",
        "# plot results\n",
        "autoimage::pimage(d2d, col = hcl.colors(64),\n",
        "                  xlab = \"mu pretest\", ylab = \"mu posttest\")\n",
        "contour(d2d, add = TRUE)\n",
        "points(mupost[1:100,], pch = 20)"
      ],
      "id": "6a88e67f-9267-4314-b258-c680f25a7cef"
    },
    {
      "cell_type": "markdown",
      "metadata": {},
      "source": [
        "------------------------------------------------------------------------\n",
        "\n",
        "jupyter: kernelspec: display_name: R language: R name: ir language_info: codemirror_mode: r file_extension: .r mimetype: text/x-r-source name: R pygments_lexer: r version: 4.2.2\n",
        "\n",
        "------------------------------------------------------------------------"
      ],
      "id": "04bf856c-b9d0-41ac-a052-f187fae73ff6"
    }
  ],
  "nbformat": 4,
  "nbformat_minor": 5,
  "metadata": {
    "kernelspec": {
      "name": "ir",
      "display_name": "R",
      "language": "R"
    }
  }
}